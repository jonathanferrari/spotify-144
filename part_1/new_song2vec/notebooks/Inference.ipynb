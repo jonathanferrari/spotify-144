{
 "cells": [
  {
   "cell_type": "markdown",
   "metadata": {},
   "source": [
    "## Inference"
   ]
  },
  {
   "cell_type": "code",
   "execution_count": 1,
   "metadata": {},
   "outputs": [],
   "source": [
    "# imports\n",
    "import numpy as np\n",
    "import pandas as pd\n",
    "import random\n",
    "import pickle"
   ]
  },
  {
   "cell_type": "code",
   "execution_count": 2,
   "metadata": {},
   "outputs": [],
   "source": [
    "experiment_name = \"test_11\" #default_hyperparams\""
   ]
  },
  {
   "cell_type": "markdown",
   "metadata": {},
   "source": [
    "### Load Tokenizer and Embeddings"
   ]
  },
  {
   "cell_type": "code",
   "execution_count": 3,
   "metadata": {},
   "outputs": [],
   "source": [
    "experiment_dir = \"../experiments/\" + experiment_name"
   ]
  },
  {
   "cell_type": "code",
   "execution_count": 8,
   "metadata": {},
   "outputs": [
    {
     "data": {
      "text/plain": [
       "['spotify:track:1mb187x5w3ouqnh6p5m28y',\n",
       " 'spotify:track:78qd8dvwea0gosb6fe6j3k',\n",
       " 'spotify:track:2b1mcbfwrz1teox1vsm4xt',\n",
       " 'spotify:track:4medno5ya2zi6imlvaprci',\n",
       " 'spotify:track:6puizlqotempubfjbwywob']"
      ]
     },
     "execution_count": 8,
     "metadata": {},
     "output_type": "execute_result"
    }
   ],
   "source": [
    "# load tokenizer\n",
    "experiment_name = \"test_10\"\n",
    "tokenizer = pickle.load(open(experiment_dir + \"/data/tokenizer.pkl\", \"rb\"))\n",
    "embedding_weights = pickle.load(open(experiment_dir + \"/embeddings.pkl\", \"rb\"))\n",
    "df = pd.read_csv('../raw_data/spotify_playlists.tsv', sep='\\t', index_col=0)\n",
    "random.sample(list(tokenizer.word_index.keys()), 5)"
   ]
  },
  {
   "cell_type": "code",
   "execution_count": 9,
   "metadata": {},
   "outputs": [],
   "source": [
    "# search for tracks / artists\n",
    "for track_name in tokenizer.word_index.keys():\n",
    "    if \"bloc party\" in track_name:\n",
    "        print(track_name)"
   ]
  },
  {
   "cell_type": "markdown",
   "metadata": {},
   "source": [
    "### Get top-n most similar tracks"
   ]
  },
  {
   "cell_type": "code",
   "execution_count": 11,
   "metadata": {},
   "outputs": [],
   "source": [
    "# function to get top-n most similar tracks\n",
    "def get_most_similar_tracks(track_name, n=10, tokenizer=tokenizer, embedding_weights=embedding_weights):\n",
    "    \n",
    "    # get track embedding\n",
    "    track_idx = tokenizer.word_index[track_name]\n",
    "    track_vector = embedding_weights[track_idx, :].reshape(1, -1)\n",
    "\n",
    "    # compute similarities against other tracks\n",
    "    similarities = np.dot(track_vector, embedding_weights.T) / (np.linalg.norm(track_vector) * np.linalg.norm(embedding_weights, axis=1))\n",
    "    similarities = similarities.reshape(-1)\n",
    "\n",
    "    # get most similar tracks' indices\n",
    "    most_similar_idxs = np.argpartition(similarities, -(n+1))[-(n+1):]\n",
    "    most_similar_idxs = most_similar_idxs[np.argsort(similarities[most_similar_idxs])][::-1][1:]\n",
    "\n",
    "    # print most similar tracks, along with their positions in training data\n",
    "    print(\"top {} tracks most similar to '{}' (pos. {}):\".format(n, track_name, track_idx))\n",
    "    for idx in most_similar_idxs:\n",
    "        print(\"- (sim. {:.3f}): '{}' (pos. {})\".format(similarities[idx], tokenizer.index_word[idx], idx))"
   ]
  },
  {
   "cell_type": "code",
   "execution_count": null,
   "metadata": {},
   "outputs": [],
   "source": []
  },
  {
   "cell_type": "code",
   "execution_count": 12,
   "metadata": {},
   "outputs": [
    {
     "name": "stdout",
     "output_type": "stream",
     "text": [
      "top 10 tracks most similar to 'spotify:track:1mb187x5w3ouqnh6p5m28y' (pos. 1825):\n",
      "- (sim. 0.965): 'spotify:track:6iagarq2wdeyzpsy2kx0hw' (pos. 4868)\n",
      "- (sim. 0.962): 'spotify:track:6nlr5kzygfaxcwuh96konw' (pos. 1850)\n",
      "- (sim. 0.961): 'spotify:track:7datplicsnwrymddh1qmpc' (pos. 7981)\n",
      "- (sim. 0.961): 'spotify:track:6rtug7pmjtxard0fttrlt0' (pos. 6159)\n",
      "- (sim. 0.961): 'spotify:track:12yagubl6uk9e7fzopf4ji' (pos. 7842)\n",
      "- (sim. 0.961): 'spotify:track:2t0rxns7lfr0e05frikoph' (pos. 5222)\n",
      "- (sim. 0.960): 'spotify:track:11zulcyy4lowvcqm4oe3vj' (pos. 6096)\n",
      "- (sim. 0.960): 'spotify:track:6pzzzuokovzip8feqkfd1o' (pos. 7012)\n",
      "- (sim. 0.960): 'spotify:track:3h8dfh94vuzeglesojplhq' (pos. 6010)\n",
      "- (sim. 0.959): 'spotify:track:58fuwmyguqkt53ypucm7cj' (pos. 3905)\n"
     ]
    }
   ],
   "source": [
    "track_name = \"spotify:track:1mb187x5w3ouqnh6p5m28y\"\n",
    "n = 10\n",
    "get_most_similar_tracks(track_name, n=n)"
   ]
  },
  {
   "cell_type": "code",
   "execution_count": null,
   "metadata": {},
   "outputs": [],
   "source": []
  }
 ],
 "metadata": {
  "kernelspec": {
   "display_name": "venv",
   "language": "python",
   "name": "python3"
  },
  "language_info": {
   "codemirror_mode": {
    "name": "ipython",
    "version": 3
   },
   "file_extension": ".py",
   "mimetype": "text/x-python",
   "name": "python",
   "nbconvert_exporter": "python",
   "pygments_lexer": "ipython3",
   "version": "3.11.2"
  }
 },
 "nbformat": 4,
 "nbformat_minor": 4
}
