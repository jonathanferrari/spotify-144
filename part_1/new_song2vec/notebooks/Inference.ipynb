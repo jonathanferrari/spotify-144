{
 "cells": [
  {
   "cell_type": "markdown",
   "metadata": {},
   "source": [
    "## Inference"
   ]
  },
  {
   "cell_type": "code",
   "execution_count": 1,
   "metadata": {},
   "outputs": [],
   "source": [
    "# imports\n",
    "import numpy as np\n",
    "import random\n",
    "import pickle"
   ]
  },
  {
   "cell_type": "code",
   "execution_count": 30,
   "metadata": {},
   "outputs": [],
   "source": [
    "experiment_name = \"test_07\" #default_hyperparams\"\n",
    "random.seed(42)"
   ]
  },
  {
   "cell_type": "markdown",
   "metadata": {},
   "source": [
    "### Load Tokenizer and Embeddings"
   ]
  },
  {
   "cell_type": "code",
   "execution_count": 31,
   "metadata": {},
   "outputs": [],
   "source": [
    "experiment_dir = \"../experiments/\" + experiment_name"
   ]
  },
  {
   "cell_type": "code",
   "execution_count": 32,
   "metadata": {},
   "outputs": [
    {
     "data": {
      "text/plain": [
       "['blaze this weed',\n",
       " 'questions',\n",
       " 'get money',\n",
       " 'come here',\n",
       " 'richard millie plain']"
      ]
     },
     "execution_count": 32,
     "metadata": {},
     "output_type": "execute_result"
    }
   ],
   "source": [
    "# load tokenizer\n",
    "tokenizer = pickle.load(open(experiment_dir + \"/data/tokenizer.pkl\", \"rb\"))\n",
    "random.sample(list(tokenizer.word_index.keys()), 5)"
   ]
  },
  {
   "cell_type": "code",
   "execution_count": 33,
   "metadata": {},
   "outputs": [],
   "source": [
    "# search for tracks / artists\n",
    "for track_name in tokenizer.word_index.keys():\n",
    "    if \"bloc party\" in track_name:\n",
    "        print(track_name)"
   ]
  },
  {
   "cell_type": "code",
   "execution_count": 34,
   "metadata": {},
   "outputs": [
    {
     "name": "stdout",
     "output_type": "stream",
     "text": [
      "embeddings shape: (4193, 100)\n"
     ]
    }
   ],
   "source": [
    "# load embeddings\n",
    "embedding_weights = pickle.load(open(experiment_dir + \"/embeddings.pkl\", \"rb\"))\n",
    "print(\"embeddings shape:\", embedding_weights.shape)"
   ]
  },
  {
   "cell_type": "markdown",
   "metadata": {},
   "source": [
    "### Get top-n most similar tracks"
   ]
  },
  {
   "cell_type": "code",
   "execution_count": 35,
   "metadata": {},
   "outputs": [],
   "source": [
    "# function to get top-n most similar tracks\n",
    "def get_most_similar_tracks(track_name, n=10, tokenizer=tokenizer, embedding_weights=embedding_weights):\n",
    "    \n",
    "    # get track embedding\n",
    "    track_idx = tokenizer.word_index[track_name]\n",
    "    track_vector = embedding_weights[track_idx, :].reshape(1, -1)\n",
    "\n",
    "    # compute similarities against other tracks\n",
    "    similarities = np.dot(track_vector, embedding_weights.T) / (np.linalg.norm(track_vector) * np.linalg.norm(embedding_weights, axis=1))\n",
    "    similarities = similarities.reshape(-1)\n",
    "\n",
    "    # get most similar tracks' indices\n",
    "    most_similar_idxs = np.argpartition(similarities, -(n+1))[-(n+1):]\n",
    "    most_similar_idxs = most_similar_idxs[np.argsort(similarities[most_similar_idxs])][::-1][1:]\n",
    "\n",
    "    # print most similar tracks, along with their positions in training data\n",
    "    print(\"top {} tracks most similar to '{}' (pos. {}):\".format(n, track_name, track_idx))\n",
    "    for idx in most_similar_idxs:\n",
    "        print(\"- (sim. {:.3f}): '{}' (pos. {})\".format(similarities[idx], tokenizer.index_word[idx], idx))"
   ]
  },
  {
   "cell_type": "markdown",
   "metadata": {},
   "source": [
    "### Try it out"
   ]
  },
  {
   "cell_type": "code",
   "execution_count": 53,
   "metadata": {},
   "outputs": [
    {
     "name": "stdout",
     "output_type": "stream",
     "text": [
      "top 10 tracks most similar to 'frosty the snowman' (pos. 54):\n",
      "- (sim. 0.963): 'my city ft. masego' (pos. 1576)\n",
      "- (sim. 0.962): 'hrs and hrs' (pos. 2911)\n",
      "- (sim. 0.959): 'body party' (pos. 1274)\n",
      "- (sim. 0.958): 'tumblr girls (feat. christoph andersson)' (pos. 1764)\n",
      "- (sim. 0.949): 'queen tings' (pos. 2758)\n",
      "- (sim. 0.941): 'off the grid (feat. khalid)' (pos. 713)\n",
      "- (sim. 0.932): 'like you' (pos. 838)\n",
      "- (sim. 0.929): 'jingle bell rock - daryl's version' (pos. 1402)\n",
      "- (sim. 0.920): 'cocaine' (pos. 3109)\n",
      "- (sim. 0.912): 'legendary (feat. j. cole)' (pos. 2188)\n"
     ]
    }
   ],
   "source": [
    "track_name = \"frosty the snowman\"\n",
    "n = 10\n",
    "get_most_similar_tracks(track_name, n=n)"
   ]
  },
  {
   "cell_type": "code",
   "execution_count": null,
   "metadata": {},
   "outputs": [],
   "source": []
  }
 ],
 "metadata": {
  "kernelspec": {
   "display_name": "venv",
   "language": "python",
   "name": "python3"
  },
  "language_info": {
   "codemirror_mode": {
    "name": "ipython",
    "version": 3
   },
   "file_extension": ".py",
   "mimetype": "text/x-python",
   "name": "python",
   "nbconvert_exporter": "python",
   "pygments_lexer": "ipython3",
   "version": "3.10.1"
  }
 },
 "nbformat": 4,
 "nbformat_minor": 4
}
