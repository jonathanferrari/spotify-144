{
 "cells": [
  {
   "cell_type": "markdown",
   "metadata": {},
   "source": [
    "## Inference"
   ]
  },
  {
   "cell_type": "code",
   "execution_count": 24,
   "metadata": {},
   "outputs": [],
   "source": [
    "# imports\n",
    "import numpy as np\n",
    "import random\n",
    "import pickle"
   ]
  },
  {
   "cell_type": "code",
   "execution_count": 25,
   "metadata": {},
   "outputs": [],
   "source": [
    "experiment_name = \"test_10\" #default_hyperparams\"\n",
    "random.seed(42)"
   ]
  },
  {
   "cell_type": "markdown",
   "metadata": {},
   "source": [
    "### Load Tokenizer and Embeddings"
   ]
  },
  {
   "cell_type": "code",
   "execution_count": 26,
   "metadata": {},
   "outputs": [],
   "source": [
    "experiment_dir = \"../experiments/\" + experiment_name"
   ]
  },
  {
   "cell_type": "code",
   "execution_count": 27,
   "metadata": {},
   "outputs": [
    {
     "data": {
      "text/plain": [
       "['spotify:track:1mb187x5w3ouqnh6p5m28y',\n",
       " 'spotify:track:78qd8dvwea0gosb6fe6j3k',\n",
       " 'spotify:track:2b1mcbfwrz1teox1vsm4xt',\n",
       " 'spotify:track:4medno5ya2zi6imlvaprci',\n",
       " 'spotify:track:6puizlqotempubfjbwywob']"
      ]
     },
     "execution_count": 27,
     "metadata": {},
     "output_type": "execute_result"
    }
   ],
   "source": [
    "# load tokenizer\n",
    "tokenizer = pickle.load(open(experiment_dir + \"/data/tokenizer.pkl\", \"rb\"))\n",
    "random.sample(list(tokenizer.word_index.keys()), 5)"
   ]
  },
  {
   "cell_type": "code",
   "execution_count": 28,
   "metadata": {},
   "outputs": [],
   "source": [
    "# search for tracks / artists\n",
    "for track_name in tokenizer.word_index.keys():\n",
    "    if \"bloc party\" in track_name:\n",
    "        print(track_name)"
   ]
  },
  {
   "cell_type": "markdown",
   "metadata": {},
   "source": [
    "### Get top-n most similar tracks"
   ]
  },
  {
   "cell_type": "code",
   "execution_count": 29,
   "metadata": {},
   "outputs": [],
   "source": [
    "# function to get top-n most similar tracks\n",
    "def get_most_similar_tracks(track_name, n=10, tokenizer=tokenizer, embedding_weights=embedding_weights):\n",
    "    \n",
    "    # get track embedding\n",
    "    track_idx = tokenizer.word_index[track_name]\n",
    "    track_vector = embedding_weights[track_idx, :].reshape(1, -1)\n",
    "\n",
    "    # compute similarities against other tracks\n",
    "    similarities = np.dot(track_vector, embedding_weights.T) / (np.linalg.norm(track_vector) * np.linalg.norm(embedding_weights, axis=1))\n",
    "    similarities = similarities.reshape(-1)\n",
    "\n",
    "    # get most similar tracks' indices\n",
    "    most_similar_idxs = np.argpartition(similarities, -(n+1))[-(n+1):]\n",
    "    most_similar_idxs = most_similar_idxs[np.argsort(similarities[most_similar_idxs])][::-1][1:]\n",
    "\n",
    "    # print most similar tracks, along with their positions in training data\n",
    "    print(\"top {} tracks most similar to '{}' (pos. {}):\".format(n, track_name, track_idx))\n",
    "    for idx in most_similar_idxs:\n",
    "        print(\"- (sim. {:.3f}): '{}' (pos. {})\".format(similarities[idx], tokenizer.index_word[idx], idx))"
   ]
  },
  {
   "cell_type": "code",
   "execution_count": 33,
   "metadata": {},
   "outputs": [
    {
     "name": "stdout",
     "output_type": "stream",
     "text": [
      "top 10 tracks most similar to 'spotify:track:1mb187x5w3ouqnh6p5m28y' (pos. 1825):\n",
      "- (sim. 0.727): 'spotify:track:7t2bfihadvhird2gn2cwjo' (pos. 1826)\n",
      "- (sim. 0.689): 'spotify:track:270alufcbx32hhbr8mqypm' (pos. 1824)\n",
      "- (sim. 0.671): 'spotify:track:0baxzjegihdejtygovvxzz' (pos. 789)\n",
      "- (sim. 0.668): 'spotify:track:40ijiulhi6renareygeids' (pos. 286)\n",
      "- (sim. 0.647): 'spotify:track:4y0chgcyyirpduqhjjndf7' (pos. 959)\n",
      "- (sim. 0.638): 'spotify:track:1psvnqxsddiktdm2jm8qkt' (pos. 1828)\n",
      "- (sim. 0.622): 'spotify:track:0tqu15cszxkono0qijk1e6' (pos. 1822)\n",
      "- (sim. 0.618): 'spotify:track:2kb0djbn3gpoxe9zjpke3u' (pos. 1827)\n",
      "- (sim. 0.597): 'spotify:track:4pm4yfnlj3ptinxozswyxf' (pos. 1821)\n",
      "- (sim. 0.593): 'spotify:track:4kykoajq5uxjcpp3lykvte' (pos. 2324)\n"
     ]
    }
   ],
   "source": [
    "track_name = \"spotify:track:1mb187x5w3ouqnh6p5m28y\"\n",
    "n = 10\n",
    "get_most_similar_tracks(track_name, n=n)"
   ]
  },
  {
   "cell_type": "code",
   "execution_count": null,
   "metadata": {},
   "outputs": [],
   "source": []
  }
 ],
 "metadata": {
  "kernelspec": {
   "display_name": "venv",
   "language": "python",
   "name": "python3"
  },
  "language_info": {
   "codemirror_mode": {
    "name": "ipython",
    "version": 3
   },
   "file_extension": ".py",
   "mimetype": "text/x-python",
   "name": "python",
   "nbconvert_exporter": "python",
   "pygments_lexer": "ipython3",
   "version": "3.10.1"
  }
 },
 "nbformat": 4,
 "nbformat_minor": 4
}
