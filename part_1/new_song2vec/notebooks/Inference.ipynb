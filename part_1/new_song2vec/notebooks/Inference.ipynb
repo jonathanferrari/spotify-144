{
 "cells": [
  {
   "cell_type": "markdown",
   "metadata": {},
   "source": [
    "## Inference"
   ]
  },
  {
   "cell_type": "code",
   "execution_count": 1,
   "metadata": {},
   "outputs": [],
   "source": [
    "# imports\n",
    "import numpy as np\n",
    "import random\n",
    "import pickle"
   ]
  },
  {
   "cell_type": "code",
   "execution_count": 2,
   "metadata": {},
   "outputs": [],
   "source": [
    "experiment_name = \"default_hyperparams\"\n",
    "random.seed(42)"
   ]
  },
  {
   "cell_type": "markdown",
   "metadata": {},
   "source": [
    "### Load Tokenizer and Embeddings"
   ]
  },
  {
   "cell_type": "code",
   "execution_count": 3,
   "metadata": {},
   "outputs": [],
   "source": [
    "experiment_dir = \"../experiments/\" + experiment_name"
   ]
  },
  {
   "cell_type": "code",
   "execution_count": 4,
   "metadata": {},
   "outputs": [
    {
     "ename": "ModuleNotFoundError",
     "evalue": "No module named 'keras_preprocessing'",
     "output_type": "error",
     "traceback": [
      "\u001b[1;31m---------------------------------------------------------------------------\u001b[0m",
      "\u001b[1;31mModuleNotFoundError\u001b[0m                       Traceback (most recent call last)",
      "\u001b[1;32mc:\\Users\\Jessi\\OneDrive\\Desktop\\Music 108 Final Project\\spotify-144\\part_1\\new_song2vec\\notebooks\\Inference.ipynb Cell 6\u001b[0m line \u001b[0;36m2\n\u001b[0;32m      <a href='vscode-notebook-cell:/c%3A/Users/Jessi/OneDrive/Desktop/Music%20108%20Final%20Project/spotify-144/part_1/new_song2vec/notebooks/Inference.ipynb#W5sZmlsZQ%3D%3D?line=0'>1</a>\u001b[0m \u001b[39m# load tokenizer\u001b[39;00m\n\u001b[1;32m----> <a href='vscode-notebook-cell:/c%3A/Users/Jessi/OneDrive/Desktop/Music%20108%20Final%20Project/spotify-144/part_1/new_song2vec/notebooks/Inference.ipynb#W5sZmlsZQ%3D%3D?line=1'>2</a>\u001b[0m tokenizer \u001b[39m=\u001b[39m pickle\u001b[39m.\u001b[39;49mload(\u001b[39mopen\u001b[39;49m(experiment_dir \u001b[39m+\u001b[39;49m \u001b[39m\"\u001b[39;49m\u001b[39m/data/tokenizer.pkl\u001b[39;49m\u001b[39m\"\u001b[39;49m, \u001b[39m\"\u001b[39;49m\u001b[39mrb\u001b[39;49m\u001b[39m\"\u001b[39;49m))\n\u001b[0;32m      <a href='vscode-notebook-cell:/c%3A/Users/Jessi/OneDrive/Desktop/Music%20108%20Final%20Project/spotify-144/part_1/new_song2vec/notebooks/Inference.ipynb#W5sZmlsZQ%3D%3D?line=2'>3</a>\u001b[0m random\u001b[39m.\u001b[39msample(\u001b[39mlist\u001b[39m(tokenizer\u001b[39m.\u001b[39mword_index\u001b[39m.\u001b[39mkeys()), \u001b[39m5\u001b[39m)\n",
      "\u001b[1;31mModuleNotFoundError\u001b[0m: No module named 'keras_preprocessing'"
     ]
    }
   ],
   "source": [
    "# load tokenizer\n",
    "tokenizer = pickle.load(open(experiment_dir + \"/data/tokenizer.pkl\", \"rb\"))\n",
    "random.sample(list(tokenizer.word_index.keys()), 5)"
   ]
  },
  {
   "cell_type": "code",
   "execution_count": 5,
   "metadata": {},
   "outputs": [
    {
     "name": "stdout",
     "output_type": "stream",
     "text": [
      "bloc party - one month off\n",
      "bloc party - helicopter\n",
      "bloc party - hunting for witches\n",
      "bloc party - i still remember\n",
      "bloc party - on\n",
      "bloc party - signs\n"
     ]
    }
   ],
   "source": [
    "# search for tracks / artists\n",
    "for track_name in tokenizer.word_index.keys():\n",
    "    if \"bloc party\" in track_name:\n",
    "        print(track_name)"
   ]
  },
  {
   "cell_type": "code",
   "execution_count": 6,
   "metadata": {},
   "outputs": [
    {
     "name": "stdout",
     "output_type": "stream",
     "text": [
      "embeddings shape: (8630, 100)\n"
     ]
    }
   ],
   "source": [
    "# load embeddings\n",
    "embedding_weights = pickle.load(open(experiment_dir + \"/embeddings.pkl\", \"rb\"))\n",
    "print(\"embeddings shape:\", embedding_weights.shape)"
   ]
  },
  {
   "cell_type": "markdown",
   "metadata": {},
   "source": [
    "### Get top-n most similar tracks"
   ]
  },
  {
   "cell_type": "code",
   "execution_count": 7,
   "metadata": {},
   "outputs": [],
   "source": [
    "# function to get top-n most similar tracks\n",
    "def get_most_similar_tracks(track_name, n=10, tokenizer=tokenizer, embedding_weights=embedding_weights):\n",
    "    \n",
    "    # get track embedding\n",
    "    track_idx = tokenizer.word_index[track_name]\n",
    "    track_vector = embedding_weights[track_idx, :].reshape(1, -1)\n",
    "\n",
    "    # compute similarities against other tracks\n",
    "    similarities = np.dot(track_vector, embedding_weights.T) / (np.linalg.norm(track_vector) * np.linalg.norm(embedding_weights, axis=1))\n",
    "    similarities = similarities.reshape(-1)\n",
    "\n",
    "    # get most similar tracks' indices\n",
    "    most_similar_idxs = np.argpartition(similarities, -(n+1))[-(n+1):]\n",
    "    most_similar_idxs = most_similar_idxs[np.argsort(similarities[most_similar_idxs])][::-1][1:]\n",
    "\n",
    "    # print most similar tracks, along with their positions in training data\n",
    "    print(\"top {} tracks most similar to '{}' (pos. {}):\".format(n, track_name, track_idx))\n",
    "    for idx in most_similar_idxs:\n",
    "        print(\"- (sim. {:.3f}): '{}' (pos. {})\".format(similarities[idx], tokenizer.index_word[idx], idx))"
   ]
  },
  {
   "cell_type": "markdown",
   "metadata": {},
   "source": [
    "### Try it out"
   ]
  },
  {
   "cell_type": "code",
   "execution_count": 8,
   "metadata": {},
   "outputs": [],
   "source": [
    "# specify track name and top n\n",
    "track_name = \"bloc party - helicopter\"\n",
    "n = 10"
   ]
  },
  {
   "cell_type": "code",
   "execution_count": 9,
   "metadata": {},
   "outputs": [
    {
     "name": "stdout",
     "output_type": "stream",
     "text": [
      "top 10 tracks most similar to 'bloc party - helicopter' (pos. 5053):\n",
      "- (sim. 0.450): 'pierce the veil - hell above' (pos. 657)\n",
      "- (sim. 0.372): 'kanye west - hell of a life' (pos. 5055)\n",
      "- (sim. 0.367): 'foster the people - helena beat' (pos. 5052)\n",
      "- (sim. 0.358): 'markus krunegård - hela livet var ett disco' (pos. 5050)\n",
      "- (sim. 0.355): 'shout out louds - fall hard' (pos. 4396)\n",
      "- (sim. 0.339): 'matmatah - l'apologie' (pos. 2011)\n",
      "- (sim. 0.338): 'tom petty and the heartbreakers - it'll all work out' (pos. 5676)\n",
      "- (sim. 0.332): 'lord huron - love like ghosts' (pos. 6263)\n",
      "- (sim. 0.327): 'håkan hellström - jag vet inte vem jag är men jag vet att jag är din' (pos. 2398)\n",
      "- (sim. 0.319): 'tired pony - held in the arms of your words' (pos. 5051)\n"
     ]
    }
   ],
   "source": [
    "get_most_similar_tracks(track_name, n=n)"
   ]
  }
 ],
 "metadata": {
  "kernelspec": {
   "display_name": "venv",
   "language": "python",
   "name": "python3"
  },
  "language_info": {
   "codemirror_mode": {
    "name": "ipython",
    "version": 3
   },
   "file_extension": ".py",
   "mimetype": "text/x-python",
   "name": "python",
   "nbconvert_exporter": "python",
   "pygments_lexer": "ipython3",
   "version": "3.10.11"
  }
 },
 "nbformat": 4,
 "nbformat_minor": 4
}
