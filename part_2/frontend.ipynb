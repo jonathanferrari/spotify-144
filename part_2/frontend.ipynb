{
 "cells": [
  {
   "cell_type": "code",
   "execution_count": 1,
   "metadata": {},
   "outputs": [
    {
     "name": "stdout",
     "output_type": "stream",
     "text": [
      "Requirement already satisfied: ipywidgets in /srv/conda/lib/python3.9/site-packages (7.7.2)\n",
      "Requirement already satisfied: widgetsnbextension~=3.6.0 in /srv/conda/lib/python3.9/site-packages (from ipywidgets) (3.6.6)\n",
      "Requirement already satisfied: traitlets>=4.3.1 in /srv/conda/lib/python3.9/site-packages (from ipywidgets) (5.9.0)\n",
      "Requirement already satisfied: ipython-genutils~=0.2.0 in /srv/conda/lib/python3.9/site-packages (from ipywidgets) (0.2.0)\n",
      "Requirement already satisfied: ipython>=4.0.0 in /srv/conda/lib/python3.9/site-packages (from ipywidgets) (8.18.1)\n",
      "Requirement already satisfied: ipykernel>=4.5.1 in /srv/conda/lib/python3.9/site-packages (from ipywidgets) (6.19.4)\n",
      "Requirement already satisfied: jupyterlab-widgets<3,>=1.0.0 in /srv/conda/lib/python3.9/site-packages (from ipywidgets) (1.1.7)\n",
      "Requirement already satisfied: matplotlib-inline>=0.1 in /srv/conda/lib/python3.9/site-packages (from ipykernel>=4.5.1->ipywidgets) (0.1.6)\n",
      "Requirement already satisfied: psutil in /srv/conda/lib/python3.9/site-packages (from ipykernel>=4.5.1->ipywidgets) (5.9.5)\n",
      "Requirement already satisfied: jupyter-client>=6.1.12 in /srv/conda/lib/python3.9/site-packages (from ipykernel>=4.5.1->ipywidgets) (7.2.0)\n",
      "Requirement already satisfied: nest-asyncio in /srv/conda/lib/python3.9/site-packages (from ipykernel>=4.5.1->ipywidgets) (1.5.8)\n",
      "Requirement already satisfied: tornado>=6.1 in /srv/conda/lib/python3.9/site-packages (from ipykernel>=4.5.1->ipywidgets) (6.3.3)\n",
      "Requirement already satisfied: debugpy>=1.0 in /srv/conda/lib/python3.9/site-packages (from ipykernel>=4.5.1->ipywidgets) (1.8.0)\n",
      "Requirement already satisfied: comm>=0.1.1 in /srv/conda/lib/python3.9/site-packages (from ipykernel>=4.5.1->ipywidgets) (0.1.4)\n",
      "Requirement already satisfied: pyzmq>=17 in /srv/conda/lib/python3.9/site-packages (from ipykernel>=4.5.1->ipywidgets) (25.1.1)\n",
      "Requirement already satisfied: packaging in /srv/conda/lib/python3.9/site-packages (from ipykernel>=4.5.1->ipywidgets) (21.3)\n",
      "Requirement already satisfied: pexpect>4.3 in /srv/conda/lib/python3.9/site-packages (from ipython>=4.0.0->ipywidgets) (4.8.0)\n",
      "Requirement already satisfied: decorator in /srv/conda/lib/python3.9/site-packages (from ipython>=4.0.0->ipywidgets) (5.0.9)\n",
      "Requirement already satisfied: pygments>=2.4.0 in /srv/conda/lib/python3.9/site-packages (from ipython>=4.0.0->ipywidgets) (2.17.2)\n",
      "Requirement already satisfied: typing-extensions in /srv/conda/lib/python3.9/site-packages (from ipython>=4.0.0->ipywidgets) (4.8.0)\n",
      "Requirement already satisfied: prompt-toolkit<3.1.0,>=3.0.41 in /srv/conda/lib/python3.9/site-packages (from ipython>=4.0.0->ipywidgets) (3.0.41)\n",
      "Requirement already satisfied: stack-data in /srv/conda/lib/python3.9/site-packages (from ipython>=4.0.0->ipywidgets) (0.6.2)\n",
      "Requirement already satisfied: exceptiongroup in /srv/conda/lib/python3.9/site-packages (from ipython>=4.0.0->ipywidgets) (1.2.0)\n",
      "Requirement already satisfied: jedi>=0.16 in /srv/conda/lib/python3.9/site-packages (from ipython>=4.0.0->ipywidgets) (0.19.1)\n",
      "Requirement already satisfied: notebook>=4.4.1 in /srv/conda/lib/python3.9/site-packages (from widgetsnbextension~=3.6.0->ipywidgets) (6.4.12)\n",
      "Requirement already satisfied: parso<0.9.0,>=0.8.3 in /srv/conda/lib/python3.9/site-packages (from jedi>=0.16->ipython>=4.0.0->ipywidgets) (0.8.3)\n",
      "Requirement already satisfied: python-dateutil>=2.1 in /srv/conda/lib/python3.9/site-packages (from jupyter-client>=6.1.12->ipykernel>=4.5.1->ipywidgets) (2.8.0)\n",
      "Requirement already satisfied: entrypoints in /srv/conda/lib/python3.9/site-packages (from jupyter-client>=6.1.12->ipykernel>=4.5.1->ipywidgets) (0.4)\n",
      "Requirement already satisfied: jupyter-core>=4.9.2 in /srv/conda/lib/python3.9/site-packages (from jupyter-client>=6.1.12->ipykernel>=4.5.1->ipywidgets) (5.5.0)\n",
      "Requirement already satisfied: nbconvert>=5 in /srv/conda/lib/python3.9/site-packages (from notebook>=4.4.1->widgetsnbextension~=3.6.0->ipywidgets) (7.11.0)\n",
      "Requirement already satisfied: terminado>=0.8.3 in /srv/conda/lib/python3.9/site-packages (from notebook>=4.4.1->widgetsnbextension~=3.6.0->ipywidgets) (0.18.0)\n",
      "Requirement already satisfied: jinja2 in /srv/conda/lib/python3.9/site-packages (from notebook>=4.4.1->widgetsnbextension~=3.6.0->ipywidgets) (3.1.2)\n",
      "Requirement already satisfied: argon2-cffi in /srv/conda/lib/python3.9/site-packages (from notebook>=4.4.1->widgetsnbextension~=3.6.0->ipywidgets) (23.1.0)\n",
      "Requirement already satisfied: nbformat in /srv/conda/lib/python3.9/site-packages (from notebook>=4.4.1->widgetsnbextension~=3.6.0->ipywidgets) (5.9.2)\n",
      "Requirement already satisfied: Send2Trash>=1.8.0 in /srv/conda/lib/python3.9/site-packages (from notebook>=4.4.1->widgetsnbextension~=3.6.0->ipywidgets) (1.8.2)\n",
      "Requirement already satisfied: prometheus-client in /srv/conda/lib/python3.9/site-packages (from notebook>=4.4.1->widgetsnbextension~=3.6.0->ipywidgets) (0.19.0)\n",
      "Requirement already satisfied: ptyprocess>=0.5 in /srv/conda/lib/python3.9/site-packages (from pexpect>4.3->ipython>=4.0.0->ipywidgets) (0.7.0)\n",
      "Requirement already satisfied: wcwidth in /srv/conda/lib/python3.9/site-packages (from prompt-toolkit<3.1.0,>=3.0.41->ipython>=4.0.0->ipywidgets) (0.2.12)\n",
      "Requirement already satisfied: pyparsing!=3.0.5,>=2.0.2 in /srv/conda/lib/python3.9/site-packages (from packaging->ipykernel>=4.5.1->ipywidgets) (3.1.1)\n",
      "Requirement already satisfied: pure-eval in /srv/conda/lib/python3.9/site-packages (from stack-data->ipython>=4.0.0->ipywidgets) (0.2.2)\n",
      "Requirement already satisfied: asttokens>=2.1.0 in /srv/conda/lib/python3.9/site-packages (from stack-data->ipython>=4.0.0->ipywidgets) (2.4.1)\n",
      "Requirement already satisfied: executing>=1.2.0 in /srv/conda/lib/python3.9/site-packages (from stack-data->ipython>=4.0.0->ipywidgets) (2.0.1)\n",
      "Requirement already satisfied: six>=1.12.0 in /srv/conda/lib/python3.9/site-packages (from asttokens>=2.1.0->stack-data->ipython>=4.0.0->ipywidgets) (1.16.0)\n",
      "Requirement already satisfied: platformdirs>=2.5 in /srv/conda/lib/python3.9/site-packages (from jupyter-core>=4.9.2->jupyter-client>=6.1.12->ipykernel>=4.5.1->ipywidgets) (4.0.0)\n",
      "Requirement already satisfied: tinycss2 in /srv/conda/lib/python3.9/site-packages (from nbconvert>=5->notebook>=4.4.1->widgetsnbextension~=3.6.0->ipywidgets) (1.2.1)\n",
      "Requirement already satisfied: defusedxml in /srv/conda/lib/python3.9/site-packages (from nbconvert>=5->notebook>=4.4.1->widgetsnbextension~=3.6.0->ipywidgets) (0.7.1)\n",
      "Requirement already satisfied: jupyterlab-pygments in /srv/conda/lib/python3.9/site-packages (from nbconvert>=5->notebook>=4.4.1->widgetsnbextension~=3.6.0->ipywidgets) (0.3.0)\n",
      "Requirement already satisfied: bleach!=5.0.0 in /srv/conda/lib/python3.9/site-packages (from nbconvert>=5->notebook>=4.4.1->widgetsnbextension~=3.6.0->ipywidgets) (6.1.0)\n",
      "Requirement already satisfied: nbclient>=0.5.0 in /srv/conda/lib/python3.9/site-packages (from nbconvert>=5->notebook>=4.4.1->widgetsnbextension~=3.6.0->ipywidgets) (0.8.0)\n",
      "Requirement already satisfied: mistune<4,>=2.0.3 in /srv/conda/lib/python3.9/site-packages (from nbconvert>=5->notebook>=4.4.1->widgetsnbextension~=3.6.0->ipywidgets) (3.0.2)\n",
      "Requirement already satisfied: importlib-metadata>=3.6 in /srv/conda/lib/python3.9/site-packages (from nbconvert>=5->notebook>=4.4.1->widgetsnbextension~=3.6.0->ipywidgets) (6.8.0)\n",
      "Requirement already satisfied: beautifulsoup4 in /srv/conda/lib/python3.9/site-packages (from nbconvert>=5->notebook>=4.4.1->widgetsnbextension~=3.6.0->ipywidgets) (4.9.3)\n",
      "Requirement already satisfied: markupsafe>=2.0 in /srv/conda/lib/python3.9/site-packages (from nbconvert>=5->notebook>=4.4.1->widgetsnbextension~=3.6.0->ipywidgets) (2.1.3)\n",
      "Requirement already satisfied: pandocfilters>=1.4.1 in /srv/conda/lib/python3.9/site-packages (from nbconvert>=5->notebook>=4.4.1->widgetsnbextension~=3.6.0->ipywidgets) (1.5.0)\n",
      "Requirement already satisfied: fastjsonschema in /srv/conda/lib/python3.9/site-packages (from nbformat->notebook>=4.4.1->widgetsnbextension~=3.6.0->ipywidgets) (2.19.0)\n",
      "Requirement already satisfied: jsonschema>=2.6 in /srv/conda/lib/python3.9/site-packages (from nbformat->notebook>=4.4.1->widgetsnbextension~=3.6.0->ipywidgets) (4.17.3)\n",
      "Requirement already satisfied: argon2-cffi-bindings in /srv/conda/lib/python3.9/site-packages (from argon2-cffi->notebook>=4.4.1->widgetsnbextension~=3.6.0->ipywidgets) (21.2.0)\n",
      "Requirement already satisfied: webencodings in /srv/conda/lib/python3.9/site-packages (from bleach!=5.0.0->nbconvert>=5->notebook>=4.4.1->widgetsnbextension~=3.6.0->ipywidgets) (0.5.1)\n"
     ]
    },
    {
     "name": "stdout",
     "output_type": "stream",
     "text": [
      "Requirement already satisfied: zipp>=0.5 in /srv/conda/lib/python3.9/site-packages (from importlib-metadata>=3.6->nbconvert>=5->notebook>=4.4.1->widgetsnbextension~=3.6.0->ipywidgets) (3.17.0)\n",
      "Requirement already satisfied: pyrsistent!=0.17.0,!=0.17.1,!=0.17.2,>=0.14.0 in /srv/conda/lib/python3.9/site-packages (from jsonschema>=2.6->nbformat->notebook>=4.4.1->widgetsnbextension~=3.6.0->ipywidgets) (0.20.0)\n",
      "Requirement already satisfied: attrs>=17.4.0 in /srv/conda/lib/python3.9/site-packages (from jsonschema>=2.6->nbformat->notebook>=4.4.1->widgetsnbextension~=3.6.0->ipywidgets) (19.3.0)\n",
      "Requirement already satisfied: cffi>=1.0.1 in /srv/conda/lib/python3.9/site-packages (from argon2-cffi-bindings->argon2-cffi->notebook>=4.4.1->widgetsnbextension~=3.6.0->ipywidgets) (1.16.0)\n",
      "Requirement already satisfied: soupsieve>1.2 in /srv/conda/lib/python3.9/site-packages (from beautifulsoup4->nbconvert>=5->notebook>=4.4.1->widgetsnbextension~=3.6.0->ipywidgets) (2.5)\n",
      "Requirement already satisfied: pycparser in /srv/conda/lib/python3.9/site-packages (from cffi>=1.0.1->argon2-cffi-bindings->argon2-cffi->notebook>=4.4.1->widgetsnbextension~=3.6.0->ipywidgets) (2.21)\n",
      "Note: you may need to restart the kernel to use updated packages.\n",
      "Collecting solara\n",
      "  Downloading solara-1.25.0-py2.py3-none-any.whl (15.6 MB)\n",
      "\u001b[2K     \u001b[90m━━━━━━━━━━━━━━━━━━━━━━━━━━━━━━━━━━━━━━━━\u001b[0m \u001b[32m15.6/15.6 MB\u001b[0m \u001b[31m27.1 MB/s\u001b[0m eta \u001b[36m0:00:00\u001b[0m00:01\u001b[0m00:01\u001b[0m\n",
      "\u001b[?25hCollecting watchfiles\n",
      "  Downloading watchfiles-0.21.0-cp39-cp39-manylinux_2_17_x86_64.manylinux2014_x86_64.whl (1.3 MB)\n",
      "\u001b[2K     \u001b[90m━━━━━━━━━━━━━━━━━━━━━━━━━━━━━━━━━━━━━━━━\u001b[0m \u001b[32m1.3/1.3 MB\u001b[0m \u001b[31m15.9 MB/s\u001b[0m eta \u001b[36m0:00:00\u001b[0m:00:01\u001b[0m\n",
      "\u001b[?25hCollecting humanize\n",
      "  Downloading humanize-4.9.0-py3-none-any.whl (126 kB)\n",
      "\u001b[2K     \u001b[90m━━━━━━━━━━━━━━━━━━━━━━━━━━━━━━━━━━━━━━━\u001b[0m \u001b[32m126.8/126.8 kB\u001b[0m \u001b[31m1.6 MB/s\u001b[0m eta \u001b[36m0:00:00\u001b[0ma \u001b[36m0:00:01\u001b[0m\n",
      "\u001b[?25hCollecting rich-click\n",
      "  Downloading rich_click-1.7.2-py3-none-any.whl (32 kB)\n",
      "Collecting ipyvuetify>=1.8.10\n",
      "  Downloading ipyvuetify-1.8.10-py2.py3-none-any.whl (11.7 MB)\n",
      "\u001b[2K     \u001b[90m━━━━━━━━━━━━━━━━━━━━━━━━━━━━━━━━━━━━━━━━\u001b[0m \u001b[32m11.7/11.7 MB\u001b[0m \u001b[31m38.0 MB/s\u001b[0m eta \u001b[36m0:00:00\u001b[0m00:01\u001b[0m0:01\u001b[0m\n",
      "\u001b[?25hCollecting websockets\n",
      "  Downloading websockets-12.0-cp39-cp39-manylinux_2_5_x86_64.manylinux1_x86_64.manylinux_2_17_x86_64.manylinux2014_x86_64.whl (130 kB)\n",
      "\u001b[2K     \u001b[90m━━━━━━━━━━━━━━━━━━━━━━━━━━━━━━━━━━━━━━━\u001b[0m \u001b[32m130.0/130.0 kB\u001b[0m \u001b[31m3.3 MB/s\u001b[0m eta \u001b[36m0:00:00\u001b[0ma \u001b[36m0:00:01\u001b[0m\n",
      "\u001b[?25hCollecting pymdown-extensions\n",
      "  Downloading pymdown_extensions-10.5-py3-none-any.whl (241 kB)\n",
      "\u001b[2K     \u001b[90m━━━━━━━━━━━━━━━━━━━━━━━━━━━━━━━━━━━━━━━\u001b[0m \u001b[32m241.1/241.1 kB\u001b[0m \u001b[31m5.5 MB/s\u001b[0m eta \u001b[36m0:00:00\u001b[0m00:01\u001b[0m\n",
      "\u001b[?25hRequirement already satisfied: jinja2 in /srv/conda/lib/python3.9/site-packages (from solara) (3.1.2)\n",
      "Requirement already satisfied: cachetools in /srv/conda/lib/python3.9/site-packages (from solara) (5.3.2)\n",
      "Requirement already satisfied: nbformat in /srv/conda/lib/python3.9/site-packages (from solara) (5.9.2)\n",
      "Requirement already satisfied: filelock in /srv/conda/lib/python3.9/site-packages (from solara) (3.13.1)\n",
      "Requirement already satisfied: markupsafe in /srv/conda/lib/python3.9/site-packages (from solara) (2.1.3)\n",
      "Collecting ipyvue>=1.9.0\n",
      "  Downloading ipyvue-1.10.1-py2.py3-none-any.whl (2.7 MB)\n",
      "\u001b[2K     \u001b[90m━━━━━━━━━━━━━━━━━━━━━━━━━━━━━━━━━━━━━━━━\u001b[0m \u001b[32m2.7/2.7 MB\u001b[0m \u001b[31m33.0 MB/s\u001b[0m eta \u001b[36m0:00:00\u001b[0m:00:01\u001b[0m\n",
      "\u001b[?25hRequirement already satisfied: click>=7.1.0 in /srv/conda/lib/python3.9/site-packages (from solara) (8.1.7)\n",
      "Requirement already satisfied: ipykernel in /srv/conda/lib/python3.9/site-packages (from solara) (6.19.4)\n",
      "Requirement already satisfied: markdown in /srv/conda/lib/python3.9/site-packages (from solara) (3.5.1)\n",
      "Collecting starlette\n",
      "  Downloading starlette-0.33.0-py3-none-any.whl (70 kB)\n",
      "\u001b[2K     \u001b[90m━━━━━━━━━━━━━━━━━━━━━━━━━━━━━━━━━━━━━━━━\u001b[0m \u001b[32m70.1/70.1 kB\u001b[0m \u001b[31m1.1 MB/s\u001b[0m eta \u001b[36m0:00:00\u001b[0mta \u001b[36m0:00:01\u001b[0m\n",
      "\u001b[?25hCollecting uvicorn\n",
      "  Downloading uvicorn-0.24.0.post1-py3-none-any.whl (59 kB)\n",
      "\u001b[2K     \u001b[90m━━━━━━━━━━━━━━━━━━━━━━━━━━━━━━━━━━━━━━━━\u001b[0m \u001b[32m59.7/59.7 kB\u001b[0m \u001b[31m1.0 MB/s\u001b[0m eta \u001b[36m0:00:00\u001b[0mta \u001b[36m0:00:01\u001b[0m\n",
      "\u001b[?25hCollecting watchdog\n",
      "  Downloading watchdog-3.0.0-py3-none-manylinux2014_x86_64.whl (82 kB)\n",
      "\u001b[2K     \u001b[90m━━━━━━━━━━━━━━━━━━━━━━━━━━━━━━━━━━━━━━━━\u001b[0m \u001b[32m82.1/82.1 kB\u001b[0m \u001b[31m1.3 MB/s\u001b[0m eta \u001b[36m0:00:00\u001b[0m00:01\u001b[0m\n",
      "\u001b[?25hRequirement already satisfied: jupyter-client>=7.0.0 in /srv/conda/lib/python3.9/site-packages (from solara) (7.2.0)\n",
      "Collecting reacton>=1.7.1\n",
      "  Downloading reacton-1.8.2-py2.py3-none-any.whl (107 kB)\n",
      "\u001b[2K     \u001b[90m━━━━━━━━━━━━━━━━━━━━━━━━━━━━━━━━━━━━━━━\u001b[0m \u001b[32m107.4/107.4 kB\u001b[0m \u001b[31m2.2 MB/s\u001b[0m eta \u001b[36m0:00:00\u001b[0ma \u001b[36m0:00:01\u001b[0m\n",
      "\u001b[?25hRequirement already satisfied: requests in /srv/conda/lib/python3.9/site-packages (from solara) (2.31.0)\n",
      "Requirement already satisfied: ipywidgets in /srv/conda/lib/python3.9/site-packages (from solara) (7.7.2)\n",
      "Requirement already satisfied: traitlets>=4.3.1 in /srv/conda/lib/python3.9/site-packages (from ipywidgets->solara) (5.9.0)\n",
      "Requirement already satisfied: ipython-genutils~=0.2.0 in /srv/conda/lib/python3.9/site-packages (from ipywidgets->solara) (0.2.0)\n",
      "Requirement already satisfied: widgetsnbextension~=3.6.0 in /srv/conda/lib/python3.9/site-packages (from ipywidgets->solara) (3.6.6)\n",
      "Requirement already satisfied: ipython>=4.0.0 in /srv/conda/lib/python3.9/site-packages (from ipywidgets->solara) (8.18.1)\n",
      "Requirement already satisfied: jupyterlab-widgets<3,>=1.0.0 in /srv/conda/lib/python3.9/site-packages (from ipywidgets->solara) (1.1.7)\n",
      "Requirement already satisfied: nest-asyncio in /srv/conda/lib/python3.9/site-packages (from ipykernel->solara) (1.5.8)\n",
      "Requirement already satisfied: psutil in /srv/conda/lib/python3.9/site-packages (from ipykernel->solara) (5.9.5)\n",
      "Requirement already satisfied: matplotlib-inline>=0.1 in /srv/conda/lib/python3.9/site-packages (from ipykernel->solara) (0.1.6)\n",
      "Requirement already satisfied: tornado>=6.1 in /srv/conda/lib/python3.9/site-packages (from ipykernel->solara) (6.3.3)\n",
      "Requirement already satisfied: pyzmq>=17 in /srv/conda/lib/python3.9/site-packages (from ipykernel->solara) (25.1.1)\n",
      "Requirement already satisfied: debugpy>=1.0 in /srv/conda/lib/python3.9/site-packages (from ipykernel->solara) (1.8.0)\n",
      "Requirement already satisfied: packaging in /srv/conda/lib/python3.9/site-packages (from ipykernel->solara) (21.3)\n",
      "Requirement already satisfied: comm>=0.1.1 in /srv/conda/lib/python3.9/site-packages (from ipykernel->solara) (0.1.4)\n",
      "Requirement already satisfied: jupyter-core>=4.9.2 in /srv/conda/lib/python3.9/site-packages (from jupyter-client>=7.0.0->solara) (5.5.0)\n",
      "Requirement already satisfied: python-dateutil>=2.1 in /srv/conda/lib/python3.9/site-packages (from jupyter-client>=7.0.0->solara) (2.8.0)\n",
      "Requirement already satisfied: entrypoints in /srv/conda/lib/python3.9/site-packages (from jupyter-client>=7.0.0->solara) (0.4)\n",
      "Requirement already satisfied: typing-extensions>=4.1.1 in /srv/conda/lib/python3.9/site-packages (from reacton>=1.7.1->solara) (4.8.0)\n",
      "Requirement already satisfied: importlib-metadata>=4.4 in /srv/conda/lib/python3.9/site-packages (from markdown->solara) (6.8.0)\n",
      "Requirement already satisfied: fastjsonschema in /srv/conda/lib/python3.9/site-packages (from nbformat->solara) (2.19.0)\n",
      "Requirement already satisfied: jsonschema>=2.6 in /srv/conda/lib/python3.9/site-packages (from nbformat->solara) (4.17.3)\n",
      "Requirement already satisfied: pyyaml in /srv/conda/lib/python3.9/site-packages (from pymdown-extensions->solara) (6.0.1)\n",
      "Requirement already satisfied: urllib3<3,>=1.21.1 in /srv/conda/lib/python3.9/site-packages (from requests->solara) (1.26.15)\n",
      "Requirement already satisfied: idna<4,>=2.5 in /srv/conda/lib/python3.9/site-packages (from requests->solara) (3.4)\n",
      "Requirement already satisfied: certifi>=2017.4.17 in /srv/conda/lib/python3.9/site-packages (from requests->solara) (2022.12.7)\n",
      "Requirement already satisfied: charset-normalizer<4,>=2 in /srv/conda/lib/python3.9/site-packages (from requests->solara) (3.1.0)\n"
     ]
    },
    {
     "name": "stdout",
     "output_type": "stream",
     "text": [
      "Collecting rich>=10.7.0\n",
      "  Downloading rich-13.7.0-py3-none-any.whl (240 kB)\n",
      "\u001b[2K     \u001b[90m━━━━━━━━━━━━━━━━━━━━━━━━━━━━━━━━━━━━━━━\u001b[0m \u001b[32m240.6/240.6 kB\u001b[0m \u001b[31m4.9 MB/s\u001b[0m eta \u001b[36m0:00:00\u001b[0m00:01\u001b[0m\n",
      "\u001b[?25hRequirement already satisfied: anyio<5,>=3.4.0 in /srv/conda/lib/python3.9/site-packages (from starlette->solara) (3.7.1)\n",
      "Requirement already satisfied: h11>=0.8 in /srv/conda/lib/python3.9/site-packages (from uvicorn->solara) (0.14.0)\n",
      "Requirement already satisfied: exceptiongroup in /srv/conda/lib/python3.9/site-packages (from anyio<5,>=3.4.0->starlette->solara) (1.2.0)\n",
      "Requirement already satisfied: sniffio>=1.1 in /srv/conda/lib/python3.9/site-packages (from anyio<5,>=3.4.0->starlette->solara) (1.3.0)\n",
      "Requirement already satisfied: zipp>=0.5 in /srv/conda/lib/python3.9/site-packages (from importlib-metadata>=4.4->markdown->solara) (3.17.0)\n",
      "Requirement already satisfied: jedi>=0.16 in /srv/conda/lib/python3.9/site-packages (from ipython>=4.0.0->ipywidgets->solara) (0.19.1)\n",
      "Requirement already satisfied: pygments>=2.4.0 in /srv/conda/lib/python3.9/site-packages (from ipython>=4.0.0->ipywidgets->solara) (2.17.2)\n",
      "Requirement already satisfied: pexpect>4.3 in /srv/conda/lib/python3.9/site-packages (from ipython>=4.0.0->ipywidgets->solara) (4.8.0)\n",
      "Requirement already satisfied: decorator in /srv/conda/lib/python3.9/site-packages (from ipython>=4.0.0->ipywidgets->solara) (5.0.9)\n",
      "Requirement already satisfied: stack-data in /srv/conda/lib/python3.9/site-packages (from ipython>=4.0.0->ipywidgets->solara) (0.6.2)\n",
      "Requirement already satisfied: prompt-toolkit<3.1.0,>=3.0.41 in /srv/conda/lib/python3.9/site-packages (from ipython>=4.0.0->ipywidgets->solara) (3.0.41)\n",
      "Requirement already satisfied: pyrsistent!=0.17.0,!=0.17.1,!=0.17.2,>=0.14.0 in /srv/conda/lib/python3.9/site-packages (from jsonschema>=2.6->nbformat->solara) (0.20.0)\n",
      "Requirement already satisfied: attrs>=17.4.0 in /srv/conda/lib/python3.9/site-packages (from jsonschema>=2.6->nbformat->solara) (19.3.0)\n",
      "Requirement already satisfied: platformdirs>=2.5 in /srv/conda/lib/python3.9/site-packages (from jupyter-core>=4.9.2->jupyter-client>=7.0.0->solara) (4.0.0)\n",
      "Requirement already satisfied: six>=1.5 in /srv/conda/lib/python3.9/site-packages (from python-dateutil>=2.1->jupyter-client>=7.0.0->solara) (1.16.0)\n",
      "Requirement already satisfied: markdown-it-py>=2.2.0 in /srv/conda/lib/python3.9/site-packages (from rich>=10.7.0->rich-click->solara) (3.0.0)\n",
      "Requirement already satisfied: notebook>=4.4.1 in /srv/conda/lib/python3.9/site-packages (from widgetsnbextension~=3.6.0->ipywidgets->solara) (6.4.12)\n",
      "Requirement already satisfied: pyparsing!=3.0.5,>=2.0.2 in /srv/conda/lib/python3.9/site-packages (from packaging->ipykernel->solara) (3.1.1)\n",
      "Requirement already satisfied: parso<0.9.0,>=0.8.3 in /srv/conda/lib/python3.9/site-packages (from jedi>=0.16->ipython>=4.0.0->ipywidgets->solara) (0.8.3)\n",
      "Requirement already satisfied: mdurl~=0.1 in /srv/conda/lib/python3.9/site-packages (from markdown-it-py>=2.2.0->rich>=10.7.0->rich-click->solara) (0.1.0)\n",
      "Requirement already satisfied: terminado>=0.8.3 in /srv/conda/lib/python3.9/site-packages (from notebook>=4.4.1->widgetsnbextension~=3.6.0->ipywidgets->solara) (0.18.0)\n",
      "Requirement already satisfied: nbconvert>=5 in /srv/conda/lib/python3.9/site-packages (from notebook>=4.4.1->widgetsnbextension~=3.6.0->ipywidgets->solara) (7.11.0)\n",
      "Requirement already satisfied: prometheus-client in /srv/conda/lib/python3.9/site-packages (from notebook>=4.4.1->widgetsnbextension~=3.6.0->ipywidgets->solara) (0.19.0)\n",
      "Requirement already satisfied: argon2-cffi in /srv/conda/lib/python3.9/site-packages (from notebook>=4.4.1->widgetsnbextension~=3.6.0->ipywidgets->solara) (23.1.0)\n",
      "Requirement already satisfied: Send2Trash>=1.8.0 in /srv/conda/lib/python3.9/site-packages (from notebook>=4.4.1->widgetsnbextension~=3.6.0->ipywidgets->solara) (1.8.2)\n",
      "Requirement already satisfied: ptyprocess>=0.5 in /srv/conda/lib/python3.9/site-packages (from pexpect>4.3->ipython>=4.0.0->ipywidgets->solara) (0.7.0)\n",
      "Requirement already satisfied: wcwidth in /srv/conda/lib/python3.9/site-packages (from prompt-toolkit<3.1.0,>=3.0.41->ipython>=4.0.0->ipywidgets->solara) (0.2.12)\n",
      "Requirement already satisfied: pure-eval in /srv/conda/lib/python3.9/site-packages (from stack-data->ipython>=4.0.0->ipywidgets->solara) (0.2.2)\n",
      "Requirement already satisfied: executing>=1.2.0 in /srv/conda/lib/python3.9/site-packages (from stack-data->ipython>=4.0.0->ipywidgets->solara) (2.0.1)\n",
      "Requirement already satisfied: asttokens>=2.1.0 in /srv/conda/lib/python3.9/site-packages (from stack-data->ipython>=4.0.0->ipywidgets->solara) (2.4.1)\n",
      "Requirement already satisfied: pandocfilters>=1.4.1 in /srv/conda/lib/python3.9/site-packages (from nbconvert>=5->notebook>=4.4.1->widgetsnbextension~=3.6.0->ipywidgets->solara) (1.5.0)\n",
      "Requirement already satisfied: tinycss2 in /srv/conda/lib/python3.9/site-packages (from nbconvert>=5->notebook>=4.4.1->widgetsnbextension~=3.6.0->ipywidgets->solara) (1.2.1)\n",
      "Requirement already satisfied: nbclient>=0.5.0 in /srv/conda/lib/python3.9/site-packages (from nbconvert>=5->notebook>=4.4.1->widgetsnbextension~=3.6.0->ipywidgets->solara) (0.8.0)\n",
      "Requirement already satisfied: jupyterlab-pygments in /srv/conda/lib/python3.9/site-packages (from nbconvert>=5->notebook>=4.4.1->widgetsnbextension~=3.6.0->ipywidgets->solara) (0.3.0)\n",
      "Requirement already satisfied: bleach!=5.0.0 in /srv/conda/lib/python3.9/site-packages (from nbconvert>=5->notebook>=4.4.1->widgetsnbextension~=3.6.0->ipywidgets->solara) (6.1.0)\n",
      "Requirement already satisfied: beautifulsoup4 in /srv/conda/lib/python3.9/site-packages (from nbconvert>=5->notebook>=4.4.1->widgetsnbextension~=3.6.0->ipywidgets->solara) (4.9.3)\n",
      "Requirement already satisfied: defusedxml in /srv/conda/lib/python3.9/site-packages (from nbconvert>=5->notebook>=4.4.1->widgetsnbextension~=3.6.0->ipywidgets->solara) (0.7.1)\n",
      "Requirement already satisfied: mistune<4,>=2.0.3 in /srv/conda/lib/python3.9/site-packages (from nbconvert>=5->notebook>=4.4.1->widgetsnbextension~=3.6.0->ipywidgets->solara) (3.0.2)\n",
      "Requirement already satisfied: argon2-cffi-bindings in /srv/conda/lib/python3.9/site-packages (from argon2-cffi->notebook>=4.4.1->widgetsnbextension~=3.6.0->ipywidgets->solara) (21.2.0)\n",
      "Requirement already satisfied: webencodings in /srv/conda/lib/python3.9/site-packages (from bleach!=5.0.0->nbconvert>=5->notebook>=4.4.1->widgetsnbextension~=3.6.0->ipywidgets->solara) (0.5.1)\n",
      "Requirement already satisfied: cffi>=1.0.1 in /srv/conda/lib/python3.9/site-packages (from argon2-cffi-bindings->argon2-cffi->notebook>=4.4.1->widgetsnbextension~=3.6.0->ipywidgets->solara) (1.16.0)\n",
      "Requirement already satisfied: soupsieve>1.2 in /srv/conda/lib/python3.9/site-packages (from beautifulsoup4->nbconvert>=5->notebook>=4.4.1->widgetsnbextension~=3.6.0->ipywidgets->solara) (2.5)\n",
      "Requirement already satisfied: pycparser in /srv/conda/lib/python3.9/site-packages (from cffi>=1.0.1->argon2-cffi-bindings->argon2-cffi->notebook>=4.4.1->widgetsnbextension~=3.6.0->ipywidgets->solara) (2.21)\n",
      "Installing collected packages: websockets, watchdog, uvicorn, humanize, watchfiles, starlette, rich, rich-click, pymdown-extensions, reacton, ipyvue, ipyvuetify, solara\n",
      "Successfully installed humanize-4.9.0 ipyvue-1.10.1 ipyvuetify-1.8.10 pymdown-extensions-10.5 reacton-1.8.2 rich-13.7.0 rich-click-1.7.2 solara-1.25.0 starlette-0.33.0 uvicorn-0.24.0.post1 watchdog-3.0.0 watchfiles-0.21.0 websockets-12.0\n",
      "Note: you may need to restart the kernel to use updated packages.\n"
     ]
    }
   ],
   "source": [
    "%pip install ipywidgets\n",
    "# %pip install solara"
   ]
  },
  {
   "cell_type": "code",
   "execution_count": 16,
   "metadata": {},
   "outputs": [
    {
     "data": {
      "application/vnd.jupyter.widget-view+json": {
       "model_id": "52ff59fa88324cd7bf474ace64d25c0b",
       "version_major": 2,
       "version_minor": 0
      },
      "text/plain": [
       "Dropdown(description='Preferences:', index=3, options=('At most k songs', 'At least k songs', 'None of', '--')…"
      ]
     },
     "metadata": {},
     "output_type": "display_data"
    },
    {
     "data": {
      "application/vnd.jupyter.widget-view+json": {
       "model_id": "e0c1e119aef748a48886778ec71b4cb0",
       "version_major": 2,
       "version_minor": 0
      },
      "text/plain": [
       "IntRangeSlider(value=(60, 180), continuous_update=False, description='BPM Range:', max=300)"
      ]
     },
     "metadata": {},
     "output_type": "display_data"
    },
    {
     "data": {
      "application/vnd.jupyter.widget-view+json": {
       "model_id": "72775a2566fa4bb4894f181a3630e360",
       "version_major": 2,
       "version_minor": 0
      },
      "text/plain": [
       "FloatRangeSlider(value=(-60.0, 0.0), continuous_update=False, description='Loudness:', max=0.0, min=-60.0, rea…"
      ]
     },
     "metadata": {},
     "output_type": "display_data"
    },
    {
     "data": {
      "application/vnd.jupyter.widget-view+json": {
       "model_id": "0e8bf72533d24caf854621e851c11abd",
       "version_major": 2,
       "version_minor": 0
      },
      "text/plain": [
       "FloatRangeSlider(value=(0.0, 1.0), continuous_update=False, description='Liveness:', max=1.0, step=0.01)"
      ]
     },
     "metadata": {},
     "output_type": "display_data"
    },
    {
     "data": {
      "application/vnd.jupyter.widget-view+json": {
       "model_id": "9b12f4b3efc14f78b2755ef0ce472241",
       "version_major": 2,
       "version_minor": 0
      },
      "text/plain": [
       "Dropdown(description='Mode:', options=('Major', 'Minor', 'Both'), value='Major')"
      ]
     },
     "metadata": {},
     "output_type": "display_data"
    },
    {
     "data": {
      "application/vnd.jupyter.widget-view+json": {
       "model_id": "933939bf98684c68907326b5c9082993",
       "version_major": 2,
       "version_minor": 0
      },
      "text/plain": [
       "Text(value='', description='Artist name:')"
      ]
     },
     "metadata": {},
     "output_type": "display_data"
    },
    {
     "data": {
      "application/vnd.jupyter.widget-view+json": {
       "model_id": "fc6f33287a8249d29b825a13e7138cd9",
       "version_major": 2,
       "version_minor": 0
      },
      "text/plain": [
       "Output(outputs=({'output_type': 'display_data', 'data': {}, 'metadata': {}},))"
      ]
     },
     "metadata": {},
     "output_type": "display_data"
    },
    {
     "data": {
      "application/vnd.jupyter.widget-view+json": {
       "model_id": "17d1450f1d1847718506e6f94b8ff90c",
       "version_major": 2,
       "version_minor": 0
      },
      "text/plain": [
       "IntSlider(value=1, continuous_update=False, description='Songs Count:', layout=Layout(width='25%'), style=Slid…"
      ]
     },
     "metadata": {},
     "output_type": "display_data"
    },
    {
     "data": {
      "application/vnd.jupyter.widget-view+json": {
       "model_id": "fc6f33287a8249d29b825a13e7138cd9",
       "version_major": 2,
       "version_minor": 0
      },
      "text/plain": [
       "Output(outputs=({'output_type': 'display_data', 'data': {}, 'metadata': {}},))"
      ]
     },
     "metadata": {},
     "output_type": "display_data"
    },
    {
     "data": {
      "application/vnd.jupyter.widget-view+json": {
       "model_id": "17d1450f1d1847718506e6f94b8ff90c",
       "version_major": 2,
       "version_minor": 0
      },
      "text/plain": [
       "IntSlider(value=1, continuous_update=False, description='Songs Count:', layout=Layout(width='25%'), style=Slid…"
      ]
     },
     "metadata": {},
     "output_type": "display_data"
    },
    {
     "data": {
      "application/vnd.jupyter.widget-view+json": {
       "model_id": "fc6f33287a8249d29b825a13e7138cd9",
       "version_major": 2,
       "version_minor": 0
      },
      "text/plain": [
       "Output(outputs=({'output_type': 'display_data', 'data': {}, 'metadata': {}},))"
      ]
     },
     "metadata": {},
     "output_type": "display_data"
    },
    {
     "data": {
      "application/vnd.jupyter.widget-view+json": {
       "model_id": "637f49d30d8a4571980454f2e801a4c3",
       "version_major": 2,
       "version_minor": 0
      },
      "text/plain": [
       "Output()"
      ]
     },
     "metadata": {},
     "output_type": "display_data"
    },
    {
     "data": {
      "application/vnd.jupyter.widget-view+json": {
       "model_id": "17d1450f1d1847718506e6f94b8ff90c",
       "version_major": 2,
       "version_minor": 0
      },
      "text/plain": [
       "IntSlider(value=1, continuous_update=False, description='Songs Count:', layout=Layout(width='25%'), style=Slid…"
      ]
     },
     "metadata": {},
     "output_type": "display_data"
    },
    {
     "data": {
      "application/vnd.jupyter.widget-view+json": {
       "model_id": "637f49d30d8a4571980454f2e801a4c3",
       "version_major": 2,
       "version_minor": 0
      },
      "text/plain": [
       "Output(outputs=({'output_type': 'display_data', 'data': {}, 'metadata': {}},))"
      ]
     },
     "metadata": {},
     "output_type": "display_data"
    }
   ],
   "source": [
    "import ipywidgets as widgets\n",
    "from IPython.display import display\n",
    "from ipywidgets import Output\n",
    "\n",
    "# Artist selection widget\n",
    "artist_toggle_options = ['At most k songs', 'At least k songs', 'None of', '--']\n",
    "artist_toggle = widgets.Dropdown(\n",
    "    options=artist_toggle_options,\n",
    "    description='Preferences:',\n",
    "    disabled=False,\n",
    "    value='--'\n",
    ")\n",
    "\n",
    "# Number of songs for artist\n",
    "artist_song_count = widgets.IntSlider(\n",
    "    value=1,\n",
    "    min=0,\n",
    "    max=100,  # Adjust maximum as needed\n",
    "    step=1,\n",
    "    description='Songs Count:',\n",
    "    continuous_update=False,\n",
    "    orientation='horizontal',\n",
    "    readout=True,\n",
    "    readout_format='d',\n",
    "    layout=widgets.Layout(width='25%'),\n",
    "    style={'description_width': 'initial'}\n",
    ")\n",
    "\n",
    "artist_name = widgets.Text(description='Artist name:')\n",
    "song_name = widgets.Text(description='Song name:')\n",
    "\n",
    "# artist_and_count = widgets.HBox([artist_toggle])\n",
    "# artist_and_count.layout.align_items = 'center'\n",
    "\n",
    "# intialize the output - second widget\n",
    "out = Output()\n",
    "\n",
    "def changed(change):\n",
    "    '''\n",
    "    Monitor change in the first widget\n",
    "    '''\n",
    "    global out\n",
    "\n",
    "    if artist_toggle.value == 'At least k songs':\n",
    "        out.append_display_data(artist_song_count)\n",
    "#         display(out)\n",
    "    elif artist_toggle.value == 'At most k songs':\n",
    "        out.append_display_data(artist_song_count)\n",
    "#         display(out)\n",
    "    elif artist_toggle.value == 'None of':\n",
    "        out.append_display_data(artist_name)\n",
    "#         display(out)\n",
    "    else:\n",
    "        out.clear_output()\n",
    "        out = Output()\n",
    "    \n",
    "    display(out)\n",
    "    out.clear_output()   \n",
    "\n",
    "                \n",
    "# monitor the friends widget for changes\n",
    "artist_toggle.observe(changed, 'value')\n",
    "\n",
    "# playlist_length_toggle = widgets.ToggleButtons(\n",
    "#     description='Playlist length:',\n",
    "#     options= ['Minutes', 'Number of Songs'])\n",
    "\n",
    "# # Playlist length in minutes\n",
    "# playlist_length_mins = widgets.IntRangeSlider(\n",
    "#     value=[0, 120],\n",
    "#     min=0,\n",
    "#     max=120,  # 2 hours in minutes\n",
    "#     step=10,  # step in minutes\n",
    "#     description='Playlist Length (min):',\n",
    "#     continuous_update=False,\n",
    "#     orientation='horizontal',\n",
    "#     readout=True,\n",
    "#     readout_format='d',\n",
    "#     style={'description_width': 'initial'},\n",
    "# )\n",
    "\n",
    "# # Playlist length in number of songs\n",
    "# playlist_length_num_songs = widgets.IntSlider(\n",
    "#     value=10,\n",
    "#     min=2,\n",
    "#     max=100,\n",
    "#     step=1,\n",
    "#     description='Playlist Length (number of songs):',\n",
    "#     continuous_update=False,\n",
    "#     orientation='horizontal',\n",
    "#     readout=True,\n",
    "#     readout_format='d',\n",
    "#     style={'description_width': 'initial'},\n",
    "# )\n",
    "\n",
    "# # intialize the output - second widget\n",
    "# out = Output()\n",
    "\n",
    "# def changed(change):\n",
    "#     '''\n",
    "#     Monitor change in the first widget\n",
    "#     '''\n",
    "#     global out\n",
    "#     if playlist_length_toggle.value == 'Minutes':  \n",
    "#         out.append_display_data(playlist_length_mins)\n",
    "#         # display(out)\n",
    "#     elif playlist_length_toggle.value == 'Number of Songs':\n",
    "#         out.append_display_data(playlist_length_num_songs)\n",
    "#         # display(out)\n",
    "#     else:\n",
    "#         out.clear_output()\n",
    "#         out = Output()\n",
    "    \n",
    "#     display(out)\n",
    "#     out.clear_output()    \n",
    "                \n",
    "# monitor the friends widget for changes\n",
    "playlist_length_toggle.observe(changed, 'value')\n",
    "\n",
    "\n",
    "# BPM range widget\n",
    "bpm_range = widgets.IntRangeSlider(\n",
    "    value=[60, 180],  # Default BPM range\n",
    "    min=0,\n",
    "    max=300,\n",
    "    step=1,\n",
    "    description='BPM Range:',\n",
    "    continuous_update=False,\n",
    "    orientation='horizontal',\n",
    "    readout=True,\n",
    "    readout_format='d'\n",
    ")\n",
    "\n",
    "# Loudness widget\n",
    "loudness_range = widgets.FloatRangeSlider(\n",
    "    value=[-60.0, 0.0],\n",
    "    min=-60.0,\n",
    "    max=0.0,\n",
    "    step=0.1,\n",
    "    description='Loudness:',\n",
    "    continuous_update=False,\n",
    "    orientation='horizontal',\n",
    "    readout=True,\n",
    "    readout_format='.1f'\n",
    ")\n",
    "\n",
    "# Liveness widget\n",
    "liveness_range = widgets.FloatRangeSlider(\n",
    "    value=[0.0, 1.0],\n",
    "    min=0.0,\n",
    "    max=1.0,\n",
    "    step=0.01,\n",
    "    description='Liveness:',\n",
    "    continuous_update=False,\n",
    "    orientation='horizontal',\n",
    "    readout=True,\n",
    "    readout_format='.2f'\n",
    ")\n",
    "\n",
    "# Mode widget\n",
    "mode_options = ['Major', 'Minor', 'Both']\n",
    "mode_selection = widgets.Dropdown(\n",
    "    options=mode_options,\n",
    "    description='Mode:',\n",
    "    disabled=False,\n",
    ")\n",
    "\n",
    "# Display widgets\n",
    "display(artist_toggle, bpm_range, loudness_range, liveness_range, mode_selection)"
   ]
  },
  {
   "cell_type": "code",
   "execution_count": 8,
   "metadata": {},
   "outputs": [
    {
     "ename": "ModuleNotFoundError",
     "evalue": "No module named 'pandas'",
     "output_type": "error",
     "traceback": [
      "\u001b[0;31m---------------------------------------------------------------------------\u001b[0m",
      "\u001b[0;31mModuleNotFoundError\u001b[0m                       Traceback (most recent call last)",
      "\u001b[1;32m/Users/Abby/Desktop/spotify-144/part_2/frontend.ipynb Cell 3\u001b[0m line \u001b[0;36m1\n\u001b[0;32m----> <a href='vscode-notebook-cell:/Users/Abby/Desktop/spotify-144/part_2/frontend.ipynb#W2sZmlsZQ%3D%3D?line=0'>1</a>\u001b[0m \u001b[39mimport\u001b[39;00m \u001b[39mpandas\u001b[39;00m \u001b[39mas\u001b[39;00m \u001b[39mpd\u001b[39;00m\n\u001b[1;32m      <a href='vscode-notebook-cell:/Users/Abby/Desktop/spotify-144/part_2/frontend.ipynb#W2sZmlsZQ%3D%3D?line=1'>2</a>\u001b[0m \u001b[39mimport\u001b[39;00m \u001b[39mnumpy\u001b[39;00m \u001b[39mas\u001b[39;00m \u001b[39mnp\u001b[39;00m\n",
      "\u001b[0;31mModuleNotFoundError\u001b[0m: No module named 'pandas'"
     ]
    }
   ],
   "source": [
    "import pandas as pd\n",
    "import numpy as np"
   ]
  },
  {
   "cell_type": "code",
   "execution_count": null,
   "metadata": {},
   "outputs": [],
   "source": [
    "df = pd.read_csv('data/spotify_playlists.tsv', sep='\\t', index_col=0)\n",
    "df = df.sample(100)\n",
    "# assign a random similarity score\n",
    "df[\"similarity\"] = np.random.rand(len(df))\n",
    "df"
   ]
  },
  {
   "cell_type": "code",
   "execution_count": null,
   "metadata": {},
   "outputs": [],
   "source": [
    "df.columns"
   ]
  },
  {
   "cell_type": "code",
   "execution_count": null,
   "metadata": {},
   "outputs": [],
   "source": [
    "artist_and_count.children[0].value"
   ]
  },
  {
   "cell_type": "code",
   "execution_count": null,
   "metadata": {},
   "outputs": [],
   "source": [
    "# constraints \n",
    "# 1) order by similarities \n",
    "# 2) apply contraints from widgets \n",
    "df = df.sort_values(\"similarity\", ascending=False)\n",
    "df = df[(df[\"tempo\"] > bpm_range.value[0]) & (df[\"tempo\"] < bpm_range.value[1])]\n",
    "df = df[(df[\"loudness\"] > loudness_range.value[0]) & (df[\"loudness\"] < loudness_range.value[1])]\n",
    "df = df[df[\"mode\"] == mode_selection.value]\n",
    "# todo: do all the range/equality contraints, \n",
    "# then do the \"hard\" ones like artist_song_count and playlist_length and num_song in that order probably \n",
    "# make sure artist_count <= num_songs\n",
    "df"
   ]
  },
  {
   "cell_type": "code",
   "execution_count": null,
   "metadata": {},
   "outputs": [],
   "source": [
    "df[\"tempo\"].describe()"
   ]
  },
  {
   "cell_type": "code",
   "execution_count": null,
   "metadata": {},
   "outputs": [],
   "source": [
    "filtering_criterion = {\n",
    "    \"Author\": \"SZA\",\n",
    "    \"ms_played\": lambda x: x < 100_000\n",
    "}"
   ]
  },
  {
   "cell_type": "code",
   "execution_count": 146,
   "metadata": {},
   "outputs": [
    {
     "name": "stdout",
     "output_type": "stream",
     "text": [
      "  song_name artist duration_minutes\n",
      "0     Song1    Bob                3\n",
      "2     Song3    Bob                2\n",
      "0     Song1    Bob                3\n",
      "1     Song2  Alice                4\n",
      "2     Song3    Bob                2\n"
     ]
    }
   ],
   "source": [
    "import pandas as pd\n",
    "\n",
    "# Assuming you have a dataframe named 'songs_df' with columns 'song_name', 'artist', 'duration_minutes'\n",
    "# Example dataframe creation\n",
    "data = {'song_name': ['Song1', 'Song2', 'Song3', 'Song4', 'Song5'],\n",
    "        'artist': ['Bob', 'Alice', 'Bob', 'Charlie', 'Alice'],\n",
    "        'duration_minutes': [3, 4, 2, 5, 3]}\n",
    "songs_df = pd.DataFrame(data)\n",
    "\n",
    "def select_songs(songs_df, playlist_length=None, artist_constraint=None, artist_name=None, artist_condition=None):\n",
    "    # Constraint 3: Include the specified number of songs for the given artist and condition\n",
    "    if artist_constraint and artist_name and artist_condition is not None:\n",
    "        artist_songs = songs_df[songs_df['artist'] == artist_name]\n",
    "        if artist_condition == 'at least':\n",
    "            artist_songs = artist_songs.head(max(artist_constraint, len(artist_songs)))\n",
    "        elif artist_condition == 'at most':\n",
    "            artist_songs = artist_songs.head(min(artist_constraint, len(artist_songs)))\n",
    "        elif artist_condition == 'none':\n",
    "            artist_songs = pd.DataFrame(columns=songs_df.columns)\n",
    "        else:\n",
    "            print(\"Invalid artist condition.\")\n",
    "            return None\n",
    "    else:\n",
    "        artist_songs = pd.DataFrame(columns=songs_df.columns)\n",
    "\n",
    "    # Constraint: Select songs until the playlist reaches the specified length +/- 10 minutes\n",
    "    remaining_duration = max(0, playlist_length - artist_songs['duration_minutes'].sum())\n",
    "    selected_songs = songs_df.head(len(artist_songs))\n",
    "    while remaining_duration > 0:\n",
    "        next_song = songs_df.iloc[len(selected_songs)]\n",
    "        if abs(remaining_duration - next_song['duration_minutes']) <= 10:\n",
    "            selected_songs = pd.concat([selected_songs, next_song.to_frame().transpose()])\n",
    "            break\n",
    "        elif remaining_duration - next_song['duration_minutes'] > 0:\n",
    "            selected_songs = pd.concat([selected_songs, next_song.to_frame().transpose()])\n",
    "            remaining_duration -= next_song['duration_minutes']\n",
    "        else:\n",
    "            break\n",
    "\n",
    "    # Combine selected songs based on the order of constraints\n",
    "    final_selection = pd.concat([artist_songs, selected_songs])\n",
    "\n",
    "    return final_selection\n",
    "\n",
    "# Example usage:\n",
    "selected_subset = select_songs(songs_df, playlist_length=17, artist_constraint=2, artist_name='Bob', artist_condition='at least')\n",
    "print(selected_subset)\n"
   ]
  },
  {
   "cell_type": "code",
   "execution_count": null,
   "metadata": {},
   "outputs": [],
   "source": [
    "%pip install python-constraint"
   ]
  },
  {
   "cell_type": "code",
   "execution_count": null,
   "metadata": {},
   "outputs": [],
   "source": [
    "# FROM JESS'S Inference.ipynb\n",
    "\n",
    "# function to get top-n most similar tracks\n",
    "def get_most_similar_tracks(track_name, n=10, tokenizer=tokenizer, embedding_weights=embedding_weights):\n",
    "    \n",
    "    # get track embedding\n",
    "    track_idx = tokenizer.word_index[track_name]\n",
    "    track_vector = embedding_weights[track_idx, :].reshape(1, -1)\n",
    "\n",
    "    # compute similarities against other tracks\n",
    "    similarities = np.dot(track_vector, embedding_weights.T) / (np.linalg.norm(track_vector) * np.linalg.norm(embedding_weights, axis=1))\n",
    "    similarities = similarities.reshape(-1)\n",
    "\n",
    "    # get most similar tracks' indices\n",
    "    most_similar_idxs = np.argpartition(similarities, -(n+1))[-(n+1):]\n",
    "    most_similar_idxs = most_similar_idxs[np.argsort(similarities[most_similar_idxs])][::-1][1:]\n",
    "\n",
    "    # print most similar tracks, along with their positions in training data\n",
    "    print(\"top {} tracks most similar to '{}' (pos. {}):\".format(n, track_name, track_idx))\n",
    "    for idx in most_similar_idxs:\n",
    "        print(\"- (sim. {:.3f}): '{}' (pos. {})\".format(similarities[idx], tokenizer.index_word[idx], idx))"
   ]
  }
 ],
 "metadata": {
  "kernelspec": {
   "display_name": "Python 3 (ipykernel)",
   "language": "python",
   "name": "python3"
  },
  "language_info": {
   "codemirror_mode": {
    "name": "ipython",
    "version": 3
   },
   "file_extension": ".py",
   "mimetype": "text/x-python",
   "name": "python",
   "nbconvert_exporter": "python",
   "pygments_lexer": "ipython3",
   "version": "3.9.15"
  }
 },
 "nbformat": 4,
 "nbformat_minor": 2
}
