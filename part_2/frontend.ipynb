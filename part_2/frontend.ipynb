{
 "cells": [
  {
   "cell_type": "code",
   "execution_count": 164,
   "metadata": {},
   "outputs": [
    {
     "data": {
      "application/vnd.jupyter.widget-view+json": {
       "model_id": "eb4396bd3b0e4af6a2bfd5cda12db924",
       "version_major": 2,
       "version_minor": 0
      },
      "text/plain": [
       "Dropdown(description='Artist2:', index=3, options=('At most k songs', 'At least k songs', 'None of', ' '), val…"
      ]
     },
     "metadata": {},
     "output_type": "display_data"
    },
    {
     "data": {
      "application/vnd.jupyter.widget-view+json": {
       "model_id": "cfeadc67101e4b8e8158139f5c9a21b7",
       "version_major": 2,
       "version_minor": 0
      },
      "text/plain": [
       "IntRangeSlider(value=(60, 180), continuous_update=False, description='BPM Range:', max=300)"
      ]
     },
     "metadata": {},
     "output_type": "display_data"
    },
    {
     "data": {
      "application/vnd.jupyter.widget-view+json": {
       "model_id": "d9bbcbc707434ca2a2e74ad210bb59ed",
       "version_major": 2,
       "version_minor": 0
      },
      "text/plain": [
       "FloatRangeSlider(value=(-60.0, 0.0), continuous_update=False, description='Loudness:', max=0.0, min=-60.0, rea…"
      ]
     },
     "metadata": {},
     "output_type": "display_data"
    },
    {
     "data": {
      "application/vnd.jupyter.widget-view+json": {
       "model_id": "8bf10f3aa65a474eade140e608292b01",
       "version_major": 2,
       "version_minor": 0
      },
      "text/plain": [
       "FloatRangeSlider(value=(0.0, 1.0), continuous_update=False, description='Liveness:', max=1.0, step=0.01)"
      ]
     },
     "metadata": {},
     "output_type": "display_data"
    },
    {
     "data": {
      "application/vnd.jupyter.widget-view+json": {
       "model_id": "47e8ef578316493ca3f189ad80310f7a",
       "version_major": 2,
       "version_minor": 0
      },
      "text/plain": [
       "Dropdown(description='Mode:', options=('Major', 'Minor', 'Both'), value='Major')"
      ]
     },
     "metadata": {},
     "output_type": "display_data"
    }
   ],
   "source": [
    "import ipywidgets as widgets\n",
    "from IPython.display import display\n",
    "from ipywidgets import Output\n",
    "\n",
    "# Artist selection widget\n",
    "artist_toggle_options = ['At most k songs', 'At least k songs', 'None of', ' ']\n",
    "artist_toggle = widgets.Dropdown(\n",
    "    options=artist_toggle_options,\n",
    "    description='Artist2:',\n",
    "    disabled=False,\n",
    "    value=' '\n",
    ")\n",
    "\n",
    "# Number of songs for artist\n",
    "artist_song_count = widgets.IntSlider(\n",
    "    value=1,\n",
    "    min=0,\n",
    "    max=100,  # Adjust maximum as needed\n",
    "    step=1,\n",
    "    description='Songs Count:',\n",
    "    continuous_update=False,\n",
    "    orientation='horizontal',\n",
    "    readout=True,\n",
    "    readout_format='d',\n",
    "    layout=widgets.Layout(width='25%'),\n",
    "    style={'description_width': 'initial'}\n",
    ")\n",
    "\n",
    "artist_name = widgets.Text(description='Artist name:')\n",
    "song_name = widgets.Text(description='Song name:')\n",
    "\n",
    "# artist_and_count = widgets.HBox([artist_toggle])\n",
    "# artist_and_count.layout.align_items = 'center'\n",
    "\n",
    "# intialize the output - second widget\n",
    "out = Output()\n",
    "\n",
    "def changed(change):\n",
    "    '''\n",
    "    Monitor change in the first widget\n",
    "    '''\n",
    "    global out\n",
    "\n",
    "    print(\"test\")\n",
    "\n",
    "    if artist_toggle_options.value == 'At least k songs':\n",
    "        out.append_display_data(artist_song_count)\n",
    "        display(out)\n",
    "        print(\"hi\")\n",
    "    elif artist_toggle_options.value == 'At most k songs':\n",
    "        out.append_display_data(artist_song_count)\n",
    "        display(out)\n",
    "        print(\"hello\")\n",
    "    elif artist_toggle_options.value == 'None of':\n",
    "        out.append_display_data(artist_name)\n",
    "        display(out)\n",
    "        print(\"a\")\n",
    "    else:\n",
    "        out.clear_output()\n",
    "        out = Output()\n",
    "        print(\"b\")\n",
    "\n",
    "                \n",
    "# monitor the friends widget for changes\n",
    "artist_and_count.observe(changed, 'value')\n",
    "\n",
    "# playlist_length_toggle = widgets.ToggleButtons(\n",
    "#     description='Playlist length:',\n",
    "#     options= ['Minutes', 'Number of Songs'])\n",
    "\n",
    "# Playlist length in minutes\n",
    "playlist_length_mins = widgets.IntRangeSlider(\n",
    "    value=[0, 120],\n",
    "    min=0,\n",
    "    max=120,  # 2 hours in minutes\n",
    "    step=10,  # step in minutes\n",
    "    description='Playlist Length (min):',\n",
    "    continuous_update=False,\n",
    "    orientation='horizontal',\n",
    "    readout=True,\n",
    "    readout_format='d',\n",
    "    style={'description_width': 'initial'},\n",
    ")\n",
    "\n",
    "# # Playlist length in number of songs\n",
    "# playlist_length_num_songs = widgets.IntSlider(\n",
    "#     value=10,\n",
    "#     min=2,\n",
    "#     max=100,\n",
    "#     step=1,\n",
    "#     description='Playlist Length (number of songs):',\n",
    "#     continuous_update=False,\n",
    "#     orientation='horizontal',\n",
    "#     readout=True,\n",
    "#     readout_format='d',\n",
    "#     style={'description_width': 'initial'},\n",
    "# )\n",
    "\n",
    "# # intialize the output - second widget\n",
    "# out = Output()\n",
    "\n",
    "# def changed(change):\n",
    "#     '''\n",
    "#     Monitor change in the first widget\n",
    "#     '''\n",
    "#     global out\n",
    "#     if playlist_length_toggle.value == 'Minutes':  \n",
    "#         out.append_display_data(playlist_length_mins)\n",
    "#         # display(out)\n",
    "#     elif playlist_length_toggle.value == 'Number of Songs':\n",
    "#         out.append_display_data(playlist_length_num_songs)\n",
    "#         # display(out)\n",
    "#     else:\n",
    "#         out.clear_output()\n",
    "#         out = Output()\n",
    "    \n",
    "#     display(out)\n",
    "#     out.clear_output()\n",
    "                \n",
    "# # monitor the friends widget for changes\n",
    "# playlist_length_toggle.observe(changed, 'value')\n",
    "\n",
    "\n",
    "# BPM range widget\n",
    "bpm_range = widgets.IntRangeSlider(\n",
    "    value=[60, 180],  # Default BPM range\n",
    "    min=0,\n",
    "    max=300,\n",
    "    step=1,\n",
    "    description='BPM Range:',\n",
    "    continuous_update=False,\n",
    "    orientation='horizontal',\n",
    "    readout=True,\n",
    "    readout_format='d'\n",
    ")\n",
    "\n",
    "# Loudness widget\n",
    "loudness_range = widgets.FloatRangeSlider(\n",
    "    value=[-60.0, 0.0],\n",
    "    min=-60.0,\n",
    "    max=0.0,\n",
    "    step=0.1,\n",
    "    description='Loudness:',\n",
    "    continuous_update=False,\n",
    "    orientation='horizontal',\n",
    "    readout=True,\n",
    "    readout_format='.1f'\n",
    ")\n",
    "\n",
    "# Liveness widget\n",
    "liveness_range = widgets.FloatRangeSlider(\n",
    "    value=[0.0, 1.0],\n",
    "    min=0.0,\n",
    "    max=1.0,\n",
    "    step=0.01,\n",
    "    description='Liveness:',\n",
    "    continuous_update=False,\n",
    "    orientation='horizontal',\n",
    "    readout=True,\n",
    "    readout_format='.2f'\n",
    ")\n",
    "\n",
    "# Mode widget\n",
    "mode_options = ['Major', 'Minor', 'Both']\n",
    "mode_selection = widgets.Dropdown(\n",
    "    options=mode_options,\n",
    "    description='Mode:',\n",
    "    disabled=False,\n",
    ")\n",
    "\n",
    "# Display widgets\n",
    "display(artist_toggle, bpm_range, loudness_range, liveness_range, mode_selection)"
   ]
  },
  {
   "cell_type": "code",
   "execution_count": null,
   "metadata": {},
   "outputs": [],
   "source": [
    "%pip install ipywidgets\n",
    "%pip install solara"
   ]
  },
  {
   "cell_type": "code",
   "execution_count": null,
   "metadata": {},
   "outputs": [],
   "source": [
    "import pandas as pd\n",
    "import numpy as np"
   ]
  },
  {
   "cell_type": "code",
   "execution_count": null,
   "metadata": {},
   "outputs": [],
   "source": [
    "df = pd.read_csv('data/spotify_playlists.tsv', sep='\\t', index_col=0)\n",
    "df = df.sample(100)\n",
    "# assign a random similarity score\n",
    "df[\"similarity\"] = np.random.rand(len(df))\n",
    "df"
   ]
  },
  {
   "cell_type": "code",
   "execution_count": null,
   "metadata": {},
   "outputs": [],
   "source": [
    "df.columns"
   ]
  },
  {
   "cell_type": "code",
   "execution_count": null,
   "metadata": {},
   "outputs": [],
   "source": [
    "artist_and_count.children[0].value"
   ]
  },
  {
   "cell_type": "code",
   "execution_count": null,
   "metadata": {},
   "outputs": [],
   "source": [
    "# Artist selection widget\n",
    "artist_toggle_options = ['At most k songs', 'At least k songs', 'None of', 'Must have']\n",
    "artist_toggle = widgets.SelectMultiple(\n",
    "    options=artist_toggle_options,\n",
    "    description='Artist:',\n",
    "    disabled=False,\n",
    ")\n",
    "\n",
    "# Number of songs for artist\n",
    "artist_song_count = widgets.IntSlider(\n",
    "    value=1,\n",
    "    min=0,\n",
    "    max=100,  # Adjust maximum as needed\n",
    "    step=1,\n",
    "    description='Songs Count:',\n",
    "    continuous_update=False,\n",
    "    orientation='horizontal',\n",
    "    readout=True,\n",
    "    readout_format='d'\n",
    ")\n",
    "\n",
    "# x = widgets.SelectMultiple(options = artist_toggle_options)\n",
    "# y = widgets.IntSlider(min = 0, max = 4, value=1)\n",
    "\n",
    "# def g(x, y):\n",
    "#     return x, y\n",
    "\n",
    "# display(artist_and_count)"
   ]
  },
  {
   "cell_type": "code",
   "execution_count": null,
   "metadata": {},
   "outputs": [],
   "source": [
    "# constraints \n",
    "# 1) order by similarities \n",
    "# 2) apply contraints from widgets \n",
    "df = df.sort_values(\"similarity\", ascending=False)\n",
    "df = df[(df[\"tempo\"] > bpm_range.value[0]) & (df[\"tempo\"] < bpm_range.value[1])]\n",
    "df = df[(df[\"loudness\"] > loudness_range.value[0]) & (df[\"loudness\"] < loudness_range.value[1])]\n",
    "df = df[df[\"mode\"] == mode_selection.value]\n",
    "# todo: do all the range/equality contraints, \n",
    "# then do the \"hard\" ones like artist_song_count and playlist_length and num_song in that order probably \n",
    "# make sure artist_count <= num_songs\n",
    "df"
   ]
  },
  {
   "cell_type": "code",
   "execution_count": null,
   "metadata": {},
   "outputs": [],
   "source": [
    "df[\"tempo\"].describe()"
   ]
  },
  {
   "cell_type": "code",
   "execution_count": null,
   "metadata": {},
   "outputs": [],
   "source": [
    "filtering_criterion = {\n",
    "    \"Author\": \"SZA\",\n",
    "    \"ms_played\": lambda x: x < 100_000\n",
    "}"
   ]
  },
  {
   "cell_type": "code",
   "execution_count": 146,
   "metadata": {},
   "outputs": [
    {
     "name": "stdout",
     "output_type": "stream",
     "text": [
      "  song_name artist duration_minutes\n",
      "0     Song1    Bob                3\n",
      "2     Song3    Bob                2\n",
      "0     Song1    Bob                3\n",
      "1     Song2  Alice                4\n",
      "2     Song3    Bob                2\n"
     ]
    }
   ],
   "source": [
    "import pandas as pd\n",
    "\n",
    "# Assuming you have a dataframe named 'songs_df' with columns 'song_name', 'artist', 'duration_minutes'\n",
    "# Example dataframe creation\n",
    "data = {'song_name': ['Song1', 'Song2', 'Song3', 'Song4', 'Song5'],\n",
    "        'artist': ['Bob', 'Alice', 'Bob', 'Charlie', 'Alice'],\n",
    "        'duration_minutes': [3, 4, 2, 5, 3]}\n",
    "songs_df = pd.DataFrame(data)\n",
    "\n",
    "def select_songs(songs_df, playlist_length=None, artist_constraint=None, artist_name=None, artist_condition=None):\n",
    "    # Constraint 3: Include the specified number of songs for the given artist and condition\n",
    "    if artist_constraint and artist_name and artist_condition is not None:\n",
    "        artist_songs = songs_df[songs_df['artist'] == artist_name]\n",
    "        if artist_condition == 'at least':\n",
    "            artist_songs = artist_songs.head(max(artist_constraint, len(artist_songs)))\n",
    "        elif artist_condition == 'at most':\n",
    "            artist_songs = artist_songs.head(min(artist_constraint, len(artist_songs)))\n",
    "        elif artist_condition == 'none':\n",
    "            artist_songs = pd.DataFrame(columns=songs_df.columns)\n",
    "        else:\n",
    "            print(\"Invalid artist condition.\")\n",
    "            return None\n",
    "    else:\n",
    "        artist_songs = pd.DataFrame(columns=songs_df.columns)\n",
    "\n",
    "    # Constraint: Select songs until the playlist reaches the specified length +/- 10 minutes\n",
    "    remaining_duration = max(0, playlist_length - artist_songs['duration_minutes'].sum())\n",
    "    selected_songs = songs_df.head(len(artist_songs))\n",
    "    while remaining_duration > 0:\n",
    "        next_song = songs_df.iloc[len(selected_songs)]\n",
    "        if abs(remaining_duration - next_song['duration_minutes']) <= 10:\n",
    "            selected_songs = pd.concat([selected_songs, next_song.to_frame().transpose()])\n",
    "            break\n",
    "        elif remaining_duration - next_song['duration_minutes'] > 0:\n",
    "            selected_songs = pd.concat([selected_songs, next_song.to_frame().transpose()])\n",
    "            remaining_duration -= next_song['duration_minutes']\n",
    "        else:\n",
    "            break\n",
    "\n",
    "    # Combine selected songs based on the order of constraints\n",
    "    final_selection = pd.concat([artist_songs, selected_songs])\n",
    "\n",
    "    return final_selection\n",
    "\n",
    "# Example usage:\n",
    "selected_subset = select_songs(songs_df, playlist_length=17, artist_constraint=2, artist_name='Bob', artist_condition='at least')\n",
    "print(selected_subset)\n"
   ]
  },
  {
   "cell_type": "code",
   "execution_count": null,
   "metadata": {},
   "outputs": [],
   "source": [
    "%pip install python-constraint"
   ]
  },
  {
   "cell_type": "code",
   "execution_count": null,
   "metadata": {},
   "outputs": [],
   "source": [
    "# FROM JESS'S Inference.ipynb\n",
    "\n",
    "# function to get top-n most similar tracks\n",
    "def get_most_similar_tracks(track_name, n=10, tokenizer=tokenizer, embedding_weights=embedding_weights):\n",
    "    \n",
    "    # get track embedding\n",
    "    track_idx = tokenizer.word_index[track_name]\n",
    "    track_vector = embedding_weights[track_idx, :].reshape(1, -1)\n",
    "\n",
    "    # compute similarities against other tracks\n",
    "    similarities = np.dot(track_vector, embedding_weights.T) / (np.linalg.norm(track_vector) * np.linalg.norm(embedding_weights, axis=1))\n",
    "    similarities = similarities.reshape(-1)\n",
    "\n",
    "    # get most similar tracks' indices\n",
    "    most_similar_idxs = np.argpartition(similarities, -(n+1))[-(n+1):]\n",
    "    most_similar_idxs = most_similar_idxs[np.argsort(similarities[most_similar_idxs])][::-1][1:]\n",
    "\n",
    "    # print most similar tracks, along with their positions in training data\n",
    "    print(\"top {} tracks most similar to '{}' (pos. {}):\".format(n, track_name, track_idx))\n",
    "    for idx in most_similar_idxs:\n",
    "        print(\"- (sim. {:.3f}): '{}' (pos. {})\".format(similarities[idx], tokenizer.index_word[idx], idx))"
   ]
  }
 ],
 "metadata": {
  "kernelspec": {
   "display_name": "base",
   "language": "python",
   "name": "python3"
  },
  "language_info": {
   "codemirror_mode": {
    "name": "ipython",
    "version": 3
   },
   "file_extension": ".py",
   "mimetype": "text/x-python",
   "name": "python",
   "nbconvert_exporter": "python",
   "pygments_lexer": "ipython3",
   "version": "3.9.7"
  }
 },
 "nbformat": 4,
 "nbformat_minor": 2
}
