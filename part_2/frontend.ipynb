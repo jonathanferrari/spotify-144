{
 "cells": [
  {
   "cell_type": "code",
   "execution_count": 1,
   "metadata": {},
   "outputs": [
    {
     "name": "stdout",
     "output_type": "stream",
     "text": [
      "Requirement already satisfied: ipywidgets in /srv/conda/lib/python3.9/site-packages (7.7.2)\n",
      "Requirement already satisfied: traitlets>=4.3.1 in /srv/conda/lib/python3.9/site-packages (from ipywidgets) (5.9.0)\n",
      "Requirement already satisfied: ipython>=4.0.0 in /srv/conda/lib/python3.9/site-packages (from ipywidgets) (8.18.1)\n",
      "Requirement already satisfied: jupyterlab-widgets<3,>=1.0.0 in /srv/conda/lib/python3.9/site-packages (from ipywidgets) (1.1.7)\n",
      "Requirement already satisfied: ipython-genutils~=0.2.0 in /srv/conda/lib/python3.9/site-packages (from ipywidgets) (0.2.0)\n",
      "Requirement already satisfied: ipykernel>=4.5.1 in /srv/conda/lib/python3.9/site-packages (from ipywidgets) (6.19.4)\n",
      "Requirement already satisfied: widgetsnbextension~=3.6.0 in /srv/conda/lib/python3.9/site-packages (from ipywidgets) (3.6.6)\n",
      "Requirement already satisfied: tornado>=6.1 in /srv/conda/lib/python3.9/site-packages (from ipykernel>=4.5.1->ipywidgets) (6.3.3)\n",
      "Requirement already satisfied: packaging in /srv/conda/lib/python3.9/site-packages (from ipykernel>=4.5.1->ipywidgets) (21.3)\n",
      "Requirement already satisfied: jupyter-client>=6.1.12 in /srv/conda/lib/python3.9/site-packages (from ipykernel>=4.5.1->ipywidgets) (7.2.0)\n",
      "Requirement already satisfied: debugpy>=1.0 in /srv/conda/lib/python3.9/site-packages (from ipykernel>=4.5.1->ipywidgets) (1.8.0)\n",
      "Requirement already satisfied: nest-asyncio in /srv/conda/lib/python3.9/site-packages (from ipykernel>=4.5.1->ipywidgets) (1.5.8)\n",
      "Requirement already satisfied: comm>=0.1.1 in /srv/conda/lib/python3.9/site-packages (from ipykernel>=4.5.1->ipywidgets) (0.1.4)\n",
      "Requirement already satisfied: pyzmq>=17 in /srv/conda/lib/python3.9/site-packages (from ipykernel>=4.5.1->ipywidgets) (25.1.1)\n",
      "Requirement already satisfied: psutil in /srv/conda/lib/python3.9/site-packages (from ipykernel>=4.5.1->ipywidgets) (5.9.5)\n",
      "Requirement already satisfied: matplotlib-inline>=0.1 in /srv/conda/lib/python3.9/site-packages (from ipykernel>=4.5.1->ipywidgets) (0.1.6)\n",
      "Requirement already satisfied: pygments>=2.4.0 in /srv/conda/lib/python3.9/site-packages (from ipython>=4.0.0->ipywidgets) (2.17.2)\n",
      "Requirement already satisfied: prompt-toolkit<3.1.0,>=3.0.41 in /srv/conda/lib/python3.9/site-packages (from ipython>=4.0.0->ipywidgets) (3.0.41)\n",
      "Requirement already satisfied: jedi>=0.16 in /srv/conda/lib/python3.9/site-packages (from ipython>=4.0.0->ipywidgets) (0.19.1)\n",
      "Requirement already satisfied: decorator in /srv/conda/lib/python3.9/site-packages (from ipython>=4.0.0->ipywidgets) (5.0.9)\n",
      "Requirement already satisfied: typing-extensions in /srv/conda/lib/python3.9/site-packages (from ipython>=4.0.0->ipywidgets) (4.8.0)\n",
      "Requirement already satisfied: pexpect>4.3 in /srv/conda/lib/python3.9/site-packages (from ipython>=4.0.0->ipywidgets) (4.8.0)\n",
      "Requirement already satisfied: exceptiongroup in /srv/conda/lib/python3.9/site-packages (from ipython>=4.0.0->ipywidgets) (1.2.0)\n",
      "Requirement already satisfied: stack-data in /srv/conda/lib/python3.9/site-packages (from ipython>=4.0.0->ipywidgets) (0.6.2)\n",
      "Requirement already satisfied: notebook>=4.4.1 in /srv/conda/lib/python3.9/site-packages (from widgetsnbextension~=3.6.0->ipywidgets) (6.4.12)\n",
      "Requirement already satisfied: parso<0.9.0,>=0.8.3 in /srv/conda/lib/python3.9/site-packages (from jedi>=0.16->ipython>=4.0.0->ipywidgets) (0.8.3)\n",
      "Requirement already satisfied: python-dateutil>=2.1 in /srv/conda/lib/python3.9/site-packages (from jupyter-client>=6.1.12->ipykernel>=4.5.1->ipywidgets) (2.8.0)\n",
      "Requirement already satisfied: entrypoints in /srv/conda/lib/python3.9/site-packages (from jupyter-client>=6.1.12->ipykernel>=4.5.1->ipywidgets) (0.4)\n",
      "Requirement already satisfied: jupyter-core>=4.9.2 in /srv/conda/lib/python3.9/site-packages (from jupyter-client>=6.1.12->ipykernel>=4.5.1->ipywidgets) (5.5.0)\n",
      "Requirement already satisfied: argon2-cffi in /srv/conda/lib/python3.9/site-packages (from notebook>=4.4.1->widgetsnbextension~=3.6.0->ipywidgets) (23.1.0)\n",
      "Requirement already satisfied: nbconvert>=5 in /srv/conda/lib/python3.9/site-packages (from notebook>=4.4.1->widgetsnbextension~=3.6.0->ipywidgets) (7.11.0)\n",
      "Requirement already satisfied: nbformat in /srv/conda/lib/python3.9/site-packages (from notebook>=4.4.1->widgetsnbextension~=3.6.0->ipywidgets) (5.9.2)\n",
      "Requirement already satisfied: jinja2 in /srv/conda/lib/python3.9/site-packages (from notebook>=4.4.1->widgetsnbextension~=3.6.0->ipywidgets) (3.1.2)\n",
      "Requirement already satisfied: prometheus-client in /srv/conda/lib/python3.9/site-packages (from notebook>=4.4.1->widgetsnbextension~=3.6.0->ipywidgets) (0.19.0)\n",
      "Requirement already satisfied: terminado>=0.8.3 in /srv/conda/lib/python3.9/site-packages (from notebook>=4.4.1->widgetsnbextension~=3.6.0->ipywidgets) (0.18.0)\n",
      "Requirement already satisfied: Send2Trash>=1.8.0 in /srv/conda/lib/python3.9/site-packages (from notebook>=4.4.1->widgetsnbextension~=3.6.0->ipywidgets) (1.8.2)\n",
      "Requirement already satisfied: ptyprocess>=0.5 in /srv/conda/lib/python3.9/site-packages (from pexpect>4.3->ipython>=4.0.0->ipywidgets) (0.7.0)\n",
      "Requirement already satisfied: wcwidth in /srv/conda/lib/python3.9/site-packages (from prompt-toolkit<3.1.0,>=3.0.41->ipython>=4.0.0->ipywidgets) (0.2.12)\n",
      "Requirement already satisfied: pyparsing!=3.0.5,>=2.0.2 in /srv/conda/lib/python3.9/site-packages (from packaging->ipykernel>=4.5.1->ipywidgets) (3.1.1)\n",
      "Requirement already satisfied: pure-eval in /srv/conda/lib/python3.9/site-packages (from stack-data->ipython>=4.0.0->ipywidgets) (0.2.2)\n",
      "Requirement already satisfied: asttokens>=2.1.0 in /srv/conda/lib/python3.9/site-packages (from stack-data->ipython>=4.0.0->ipywidgets) (2.4.1)\n",
      "Requirement already satisfied: executing>=1.2.0 in /srv/conda/lib/python3.9/site-packages (from stack-data->ipython>=4.0.0->ipywidgets) (2.0.1)\n",
      "Requirement already satisfied: six>=1.12.0 in /srv/conda/lib/python3.9/site-packages (from asttokens>=2.1.0->stack-data->ipython>=4.0.0->ipywidgets) (1.16.0)\n",
      "Requirement already satisfied: platformdirs>=2.5 in /srv/conda/lib/python3.9/site-packages (from jupyter-core>=4.9.2->jupyter-client>=6.1.12->ipykernel>=4.5.1->ipywidgets) (4.0.0)\n",
      "Requirement already satisfied: bleach!=5.0.0 in /srv/conda/lib/python3.9/site-packages (from nbconvert>=5->notebook>=4.4.1->widgetsnbextension~=3.6.0->ipywidgets) (6.1.0)\n",
      "Requirement already satisfied: markupsafe>=2.0 in /srv/conda/lib/python3.9/site-packages (from nbconvert>=5->notebook>=4.4.1->widgetsnbextension~=3.6.0->ipywidgets) (2.1.3)\n",
      "Requirement already satisfied: pandocfilters>=1.4.1 in /srv/conda/lib/python3.9/site-packages (from nbconvert>=5->notebook>=4.4.1->widgetsnbextension~=3.6.0->ipywidgets) (1.5.0)\n",
      "Requirement already satisfied: importlib-metadata>=3.6 in /srv/conda/lib/python3.9/site-packages (from nbconvert>=5->notebook>=4.4.1->widgetsnbextension~=3.6.0->ipywidgets) (6.8.0)\n",
      "Requirement already satisfied: mistune<4,>=2.0.3 in /srv/conda/lib/python3.9/site-packages (from nbconvert>=5->notebook>=4.4.1->widgetsnbextension~=3.6.0->ipywidgets) (3.0.2)\n",
      "Requirement already satisfied: nbclient>=0.5.0 in /srv/conda/lib/python3.9/site-packages (from nbconvert>=5->notebook>=4.4.1->widgetsnbextension~=3.6.0->ipywidgets) (0.8.0)\n",
      "Requirement already satisfied: beautifulsoup4 in /srv/conda/lib/python3.9/site-packages (from nbconvert>=5->notebook>=4.4.1->widgetsnbextension~=3.6.0->ipywidgets) (4.9.3)\n",
      "Requirement already satisfied: tinycss2 in /srv/conda/lib/python3.9/site-packages (from nbconvert>=5->notebook>=4.4.1->widgetsnbextension~=3.6.0->ipywidgets) (1.2.1)\n",
      "Requirement already satisfied: jupyterlab-pygments in /srv/conda/lib/python3.9/site-packages (from nbconvert>=5->notebook>=4.4.1->widgetsnbextension~=3.6.0->ipywidgets) (0.3.0)\n",
      "Requirement already satisfied: defusedxml in /srv/conda/lib/python3.9/site-packages (from nbconvert>=5->notebook>=4.4.1->widgetsnbextension~=3.6.0->ipywidgets) (0.7.1)\n",
      "Requirement already satisfied: jsonschema>=2.6 in /srv/conda/lib/python3.9/site-packages (from nbformat->notebook>=4.4.1->widgetsnbextension~=3.6.0->ipywidgets) (4.17.3)\n",
      "Requirement already satisfied: fastjsonschema in /srv/conda/lib/python3.9/site-packages (from nbformat->notebook>=4.4.1->widgetsnbextension~=3.6.0->ipywidgets) (2.19.0)\n",
      "Requirement already satisfied: argon2-cffi-bindings in /srv/conda/lib/python3.9/site-packages (from argon2-cffi->notebook>=4.4.1->widgetsnbextension~=3.6.0->ipywidgets) (21.2.0)\n",
      "Requirement already satisfied: webencodings in /srv/conda/lib/python3.9/site-packages (from bleach!=5.0.0->nbconvert>=5->notebook>=4.4.1->widgetsnbextension~=3.6.0->ipywidgets) (0.5.1)\n",
      "Requirement already satisfied: zipp>=0.5 in /srv/conda/lib/python3.9/site-packages (from importlib-metadata>=3.6->nbconvert>=5->notebook>=4.4.1->widgetsnbextension~=3.6.0->ipywidgets) (3.17.0)\n",
      "Requirement already satisfied: pyrsistent!=0.17.0,!=0.17.1,!=0.17.2,>=0.14.0 in /srv/conda/lib/python3.9/site-packages (from jsonschema>=2.6->nbformat->notebook>=4.4.1->widgetsnbextension~=3.6.0->ipywidgets) (0.20.0)\n",
      "Requirement already satisfied: attrs>=17.4.0 in /srv/conda/lib/python3.9/site-packages (from jsonschema>=2.6->nbformat->notebook>=4.4.1->widgetsnbextension~=3.6.0->ipywidgets) (19.3.0)\n",
      "Requirement already satisfied: cffi>=1.0.1 in /srv/conda/lib/python3.9/site-packages (from argon2-cffi-bindings->argon2-cffi->notebook>=4.4.1->widgetsnbextension~=3.6.0->ipywidgets) (1.16.0)\n",
      "Requirement already satisfied: soupsieve>1.2 in /srv/conda/lib/python3.9/site-packages (from beautifulsoup4->nbconvert>=5->notebook>=4.4.1->widgetsnbextension~=3.6.0->ipywidgets) (2.5)\n",
      "Requirement already satisfied: pycparser in /srv/conda/lib/python3.9/site-packages (from cffi>=1.0.1->argon2-cffi-bindings->argon2-cffi->notebook>=4.4.1->widgetsnbextension~=3.6.0->ipywidgets) (2.21)\n",
      "Note: you may need to restart the kernel to use updated packages.\n"
     ]
    }
   ],
   "source": [
    "%pip install ipywidgets\n",
    "# %pip install solara"
   ]
  },
  {
   "cell_type": "code",
   "execution_count": 11,
   "metadata": {},
   "outputs": [
    {
     "data": {
      "application/vnd.jupyter.widget-view+json": {
       "model_id": "01b6a84fbc304f8d825c76b0c354e163",
       "version_major": 2,
       "version_minor": 0
      },
      "text/plain": [
       "IntRangeSlider(value=(60, 180), continuous_update=False, description='BPM Range:', max=300)"
      ]
     },
     "metadata": {},
     "output_type": "display_data"
    },
    {
     "data": {
      "application/vnd.jupyter.widget-view+json": {
       "model_id": "d18ea89a13df4e369d66228c32a713fe",
       "version_major": 2,
       "version_minor": 0
      },
      "text/plain": [
       "FloatRangeSlider(value=(-60.0, 0.0), continuous_update=False, description='Loudness:', max=0.0, min=-60.0, rea…"
      ]
     },
     "metadata": {},
     "output_type": "display_data"
    },
    {
     "data": {
      "application/vnd.jupyter.widget-view+json": {
       "model_id": "7c971333c9624a15b9cfcdb4cd7c9554",
       "version_major": 2,
       "version_minor": 0
      },
      "text/plain": [
       "FloatRangeSlider(value=(0.0, 1.0), continuous_update=False, description='Liveness:', max=1.0, step=0.01)"
      ]
     },
     "metadata": {},
     "output_type": "display_data"
    },
    {
     "data": {
      "application/vnd.jupyter.widget-view+json": {
       "model_id": "d81637de3f5f4beab6228533b78d6603",
       "version_major": 2,
       "version_minor": 0
      },
      "text/plain": [
       "Dropdown(description='Mode:', options=('Major', 'Minor'), value='Major')"
      ]
     },
     "metadata": {},
     "output_type": "display_data"
    },
    {
     "data": {
      "application/vnd.jupyter.widget-view+json": {
       "model_id": "28b8f0c845f34cd1beebe94435ac1c9e",
       "version_major": 2,
       "version_minor": 0
      },
      "text/plain": [
       "Dropdown(description='Preferences:', index=4, options=('At most k songs', 'At least k songs', 'Excluding this …"
      ]
     },
     "metadata": {},
     "output_type": "display_data"
    }
   ],
   "source": [
    "import ipywidgets as widgets\n",
    "from IPython.display import display\n",
    "from ipywidgets import Output\n",
    "\n",
    "# Artist selection widget\n",
    "artist_toggle_options = ['At most k songs', 'At least k songs', 'Excluding this artist', 'Excluding this song', '--']\n",
    "artist_toggle = widgets.Dropdown(\n",
    "    options=artist_toggle_options,\n",
    "    description='Preferences:',\n",
    "    disabled=False,\n",
    "    value='--'\n",
    ")\n",
    "\n",
    "# Number of songs (at most)\n",
    "at_most_song_count = widgets.IntSlider(\n",
    "    value=1,\n",
    "    min=0,\n",
    "    max=100,  # Adjust maximum as needed\n",
    "    step=1,\n",
    "    description='At most k songs:',\n",
    "    continuous_update=False,\n",
    "    orientation='horizontal',\n",
    "    readout=True,\n",
    "    readout_format='d',\n",
    "    layout=widgets.Layout(width='25%'),\n",
    "    style={'description_width': 'initial'}\n",
    ")\n",
    "\n",
    "# Number of songs (at least)\n",
    "at_least_song_count = widgets.IntSlider(\n",
    "    value=1,\n",
    "    min=0,\n",
    "    max=100,  # Adjust maximum as needed\n",
    "    step=1,\n",
    "    description='At least k songs:',\n",
    "    continuous_update=False,\n",
    "    orientation='horizontal',\n",
    "    readout=True,\n",
    "    readout_format='d',\n",
    "    layout=widgets.Layout(width='25%'),\n",
    "    style={'description_width': 'initial'}\n",
    ")\n",
    "\n",
    "artist_name = widgets.Text(description='Artist name:')\n",
    "song_name = widgets.Text(description='Song name:')\n",
    "\n",
    "# artist_and_count = widgets.HBox([artist_toggle])\n",
    "# artist_and_count.layout.align_items = 'center'\n",
    "\n",
    "# intialize the output - second widget\n",
    "out = Output()\n",
    "\n",
    "def changed(change):\n",
    "    '''\n",
    "    Monitor change in the first widget\n",
    "    '''\n",
    "    global out\n",
    "\n",
    "    if artist_toggle.value == 'At most k songs':\n",
    "        out.append_display_data(at_most_song_count)\n",
    "#         display(out)\n",
    "    elif artist_toggle.value == 'At least k songs':\n",
    "        out.append_display_data(artist_song_count)\n",
    "#         display(out)\n",
    "    elif artist_toggle.value == 'Excluding this artist':\n",
    "        out.append_display_data(artist_name)\n",
    "#         display(out)\n",
    "    elif artist_toggle.value == 'Excluding this song':\n",
    "        out.append_display_data(song_name)\n",
    "#         display(out)\n",
    "    else:\n",
    "        out.clear_output()\n",
    "        out = Output()\n",
    "    \n",
    "    display(out)\n",
    "    out.clear_output()   \n",
    "\n",
    "                \n",
    "# monitor the friends widget for changes\n",
    "artist_toggle.observe(changed, 'value')\n",
    "\n",
    "playlist_length_toggle = widgets.ToggleButtons(\n",
    "    description='Playlist length:',\n",
    "    options= ['Minutes', 'Number of Songs'])\n",
    "\n",
    "# # Playlist length in minutes\n",
    "# playlist_length_mins = widgets.IntRangeSlider(\n",
    "#     value=[0, 120],\n",
    "#     min=0,\n",
    "#     max=120,  # 2 hours in minutes\n",
    "#     step=10,  # step in minutes\n",
    "#     description='Playlist Length (min):',\n",
    "#     continuous_update=False,\n",
    "#     orientation='horizontal',\n",
    "#     readout=True,\n",
    "#     readout_format='d',\n",
    "#     style={'description_width': 'initial'},\n",
    "# )\n",
    "\n",
    "# # Playlist length in number of songs\n",
    "# playlist_length_num_songs = widgets.IntSlider(\n",
    "#     value=10,\n",
    "#     min=2,\n",
    "#     max=100,\n",
    "#     step=1,\n",
    "#     description='Playlist Length (number of songs):',\n",
    "#     continuous_update=False,\n",
    "#     orientation='horizontal',\n",
    "#     readout=True,\n",
    "#     readout_format='d',\n",
    "#     style={'description_width': 'initial'},\n",
    "# )\n",
    "\n",
    "# # intialize the output - second widget\n",
    "# out = Output()\n",
    "\n",
    "# def changed(change):\n",
    "#     '''\n",
    "#     Monitor change in the first widget\n",
    "#     '''\n",
    "#     global out\n",
    "#     if playlist_length_toggle.value == 'Minutes':  \n",
    "#         out.append_display_data(playlist_length_mins)\n",
    "#         # display(out)\n",
    "#     elif playlist_length_toggle.value == 'Number of Songs':\n",
    "#         out.append_display_data(playlist_length_num_songs)\n",
    "#         # display(out)\n",
    "#     else:\n",
    "#         out.clear_output()\n",
    "#         out = Output()\n",
    "    \n",
    "#     display(out)\n",
    "#     out.clear_output()    \n",
    "                \n",
    "# monitor the friends widget for changes\n",
    "playlist_length_toggle.observe(changed, 'value')\n",
    "\n",
    "\n",
    "# BPM range widget\n",
    "bpm_range = widgets.IntRangeSlider(\n",
    "    value=[60, 180],  # Default BPM range\n",
    "    min=0,\n",
    "    max=300,\n",
    "    step=1,\n",
    "    description='BPM Range:',\n",
    "    continuous_update=False,\n",
    "    orientation='horizontal',\n",
    "    readout=True,\n",
    "    readout_format='d'\n",
    ")\n",
    "\n",
    "# Loudness widget\n",
    "loudness_range = widgets.FloatRangeSlider(\n",
    "    value=[-60.0, 0.0],\n",
    "    min=-60.0,\n",
    "    max=0.0,\n",
    "    step=0.1,\n",
    "    description='Loudness:',\n",
    "    continuous_update=False,\n",
    "    orientation='horizontal',\n",
    "    readout=True,\n",
    "    readout_format='.1f'\n",
    ")\n",
    "\n",
    "# Liveness widget\n",
    "liveness_range = widgets.FloatRangeSlider(\n",
    "    value=[0.0, 1.0],\n",
    "    min=0.0,\n",
    "    max=1.0,\n",
    "    step=0.01,\n",
    "    description='Liveness:',\n",
    "    continuous_update=False,\n",
    "    orientation='horizontal',\n",
    "    readout=True,\n",
    "    readout_format='.2f'\n",
    ")\n",
    "\n",
    "# Mode widget\n",
    "mode_options = ['Major', 'Minor']\n",
    "mode_selection = widgets.Dropdown(\n",
    "    options=mode_options,\n",
    "    description='Mode:',\n",
    "    disabled=False,\n",
    ")\n",
    "\n",
    "# Display widgets\n",
    "display(bpm_range, loudness_range, liveness_range, mode_selection, artist_toggle)"
   ]
  },
  {
   "cell_type": "code",
   "execution_count": 3,
   "metadata": {},
   "outputs": [],
   "source": [
    "import pandas as pd\n",
    "import numpy as np"
   ]
  },
  {
   "cell_type": "code",
   "execution_count": 4,
   "metadata": {},
   "outputs": [
    {
     "name": "stderr",
     "output_type": "stream",
     "text": [
      "2023-12-05 22:38:51.820698: I tensorflow/core/platform/cpu_feature_guard.cc:193] This TensorFlow binary is optimized with oneAPI Deep Neural Network Library (oneDNN) to use the following CPU instructions in performance-critical operations:  AVX2 AVX512F AVX512_VNNI FMA\n",
      "To enable them in other operations, rebuild TensorFlow with the appropriate compiler flags.\n",
      "2023-12-05 22:38:51.963297: I tensorflow/core/util/port.cc:104] oneDNN custom operations are on. You may see slightly different numerical results due to floating-point round-off errors from different computation orders. To turn them off, set the environment variable `TF_ENABLE_ONEDNN_OPTS=0`.\n",
      "2023-12-05 22:38:51.967776: W tensorflow/compiler/xla/stream_executor/platform/default/dso_loader.cc:64] Could not load dynamic library 'libcudart.so.11.0'; dlerror: libcudart.so.11.0: cannot open shared object file: No such file or directory\n",
      "2023-12-05 22:38:51.967795: I tensorflow/compiler/xla/stream_executor/cuda/cudart_stub.cc:29] Ignore above cudart dlerror if you do not have a GPU set up on your machine.\n",
      "2023-12-05 22:38:52.949258: W tensorflow/compiler/xla/stream_executor/platform/default/dso_loader.cc:64] Could not load dynamic library 'libnvinfer.so.7'; dlerror: libnvinfer.so.7: cannot open shared object file: No such file or directory\n",
      "2023-12-05 22:38:52.949367: W tensorflow/compiler/xla/stream_executor/platform/default/dso_loader.cc:64] Could not load dynamic library 'libnvinfer_plugin.so.7'; dlerror: libnvinfer_plugin.so.7: cannot open shared object file: No such file or directory\n",
      "2023-12-05 22:38:52.949374: W tensorflow/compiler/tf2tensorrt/utils/py_utils.cc:38] TF-TRT Warning: Cannot dlopen some TensorRT libraries. If you would like to use Nvidia GPU with TensorRT, please make sure the missing libraries mentioned above are installed properly.\n"
     ]
    },
    {
     "ename": "ModuleNotFoundError",
     "evalue": "No module named 'keras.src'",
     "output_type": "error",
     "traceback": [
      "\u001b[0;31m---------------------------------------------------------------------------\u001b[0m",
      "\u001b[0;31mModuleNotFoundError\u001b[0m                       Traceback (most recent call last)",
      "Cell \u001b[0;32mIn[4], line 1\u001b[0m\n\u001b[0;32m----> 1\u001b[0m \u001b[38;5;28;01mfrom\u001b[39;00m \u001b[38;5;21;01mutil\u001b[39;00m \u001b[38;5;28;01mimport\u001b[39;00m get_model_songs\n\u001b[1;32m      3\u001b[0m df \u001b[38;5;241m=\u001b[39m get_model_songs(\u001b[38;5;124m\"\u001b[39m\u001b[38;5;124mstay (with justin bieber)\u001b[39m\u001b[38;5;124m\"\u001b[39m, \u001b[38;5;241m5000\u001b[39m)\n",
      "File \u001b[0;32m~/spotify-144/part_2/util.py:6\u001b[0m\n\u001b[1;32m      3\u001b[0m \u001b[38;5;28;01mimport\u001b[39;00m \u001b[38;5;21;01mpickle\u001b[39;00m\n\u001b[1;32m      4\u001b[0m \u001b[38;5;28;01mimport\u001b[39;00m \u001b[38;5;21;01mpandas\u001b[39;00m \u001b[38;5;28;01mas\u001b[39;00m \u001b[38;5;21;01mpd\u001b[39;00m\n\u001b[0;32m----> 6\u001b[0m tokenizer \u001b[38;5;241m=\u001b[39m \u001b[43mpickle\u001b[49m\u001b[38;5;241;43m.\u001b[39;49m\u001b[43mload\u001b[49m\u001b[43m(\u001b[49m\u001b[38;5;28;43mopen\u001b[39;49m\u001b[43m(\u001b[49m\u001b[38;5;124;43m\"\u001b[39;49m\u001b[38;5;124;43m./test_09\u001b[39;49m\u001b[38;5;124;43m\"\u001b[39;49m\u001b[43m \u001b[49m\u001b[38;5;241;43m+\u001b[39;49m\u001b[43m \u001b[49m\u001b[38;5;124;43m\"\u001b[39;49m\u001b[38;5;124;43m/data/tokenizer.pkl\u001b[39;49m\u001b[38;5;124;43m\"\u001b[39;49m\u001b[43m,\u001b[49m\u001b[43m \u001b[49m\u001b[38;5;124;43m\"\u001b[39;49m\u001b[38;5;124;43mrb\u001b[39;49m\u001b[38;5;124;43m\"\u001b[39;49m\u001b[43m)\u001b[49m\u001b[43m)\u001b[49m\n\u001b[1;32m      7\u001b[0m embedding_weights \u001b[38;5;241m=\u001b[39m pickle\u001b[38;5;241m.\u001b[39mload(\u001b[38;5;28mopen\u001b[39m(\u001b[38;5;124m\"\u001b[39m\u001b[38;5;124m./test_09\u001b[39m\u001b[38;5;124m\"\u001b[39m \u001b[38;5;241m+\u001b[39m \u001b[38;5;124m\"\u001b[39m\u001b[38;5;124m/embeddings.pkl\u001b[39m\u001b[38;5;124m\"\u001b[39m, \u001b[38;5;124m\"\u001b[39m\u001b[38;5;124mrb\u001b[39m\u001b[38;5;124m\"\u001b[39m))\n\u001b[1;32m      9\u001b[0m df \u001b[38;5;241m=\u001b[39m pd\u001b[38;5;241m.\u001b[39mread_csv(\u001b[38;5;124m'\u001b[39m\u001b[38;5;124mspotify_playlists.tsv\u001b[39m\u001b[38;5;124m'\u001b[39m, sep\u001b[38;5;241m=\u001b[39m\u001b[38;5;124m'\u001b[39m\u001b[38;5;130;01m\\t\u001b[39;00m\u001b[38;5;124m'\u001b[39m, index_col\u001b[38;5;241m=\u001b[39m\u001b[38;5;241m0\u001b[39m)\n",
      "\u001b[0;31mModuleNotFoundError\u001b[0m: No module named 'keras.src'"
     ]
    }
   ],
   "source": [
    "from util import get_model_songs\n",
    "\n",
    "df = get_model_songs(\"stay (with justin bieber)\", 5000)"
   ]
  },
  {
   "cell_type": "code",
   "execution_count": null,
   "metadata": {},
   "outputs": [],
   "source": [
    "# df = pd.read_csv('data/spotify_playlists.tsv', sep='\\t', index_col=0)\n",
    "# # df = df.sample(100)\n",
    "# # assign a random similarity score\n",
    "# df[\"similarity\"] = np.random.rand(len(df))\n",
    "df[\"duration_minutes\"] = df['duration_ms'] / 60000"
   ]
  },
  {
   "cell_type": "code",
   "execution_count": null,
   "metadata": {},
   "outputs": [],
   "source": [
    "df.columns"
   ]
  },
  {
   "cell_type": "code",
   "execution_count": null,
   "metadata": {},
   "outputs": [],
   "source": [
    "bpm_range.value"
   ]
  },
  {
   "cell_type": "code",
   "execution_count": null,
   "metadata": {},
   "outputs": [],
   "source": [
    "def apply_all_constraints(df):\n",
    "    mode = {\"Major\": 1, \"Minor\" : 0}\n",
    "    df = df[(df[\"tempo\"] > bpm_range.value[0]) & (df[\"tempo\"] < bpm_range.value[1])]\n",
    "    df = df[(df[\"loudness\"] > loudness_range.value[0]) & (df[\"loudness\"] < loudness_range.value[1])]\n",
    "    df = df[(df[\"liveness\"] > liveness_range.value[0]) & (df[\"liveness\"] < liveness_range.value[1])]\n",
    "    df = df[df[\"mode\"] == mode[mode_selection.value]]\n",
    "    import pandas as pd\n",
    "\n",
    "    def apply_constraints(dataframe, playlist_length, artist_name, constraint_option, k):\n",
    "        selected_rows = pd.DataFrame(columns=dataframe.columns)\n",
    "        current_sum = 0\n",
    "        artist_count = 0\n",
    "\n",
    "        if constraint_option == 'at least k':\n",
    "            # Add top rows corresponding to the artist until reaching at least k\n",
    "            artist_rows = dataframe[dataframe['artist_name'] == artist_name].head(k)\n",
    "            selected_rows = pd.concat([selected_rows, artist_rows])\n",
    "            current_sum = selected_rows['duration_minutes'].sum()\n",
    "            artist_count = len(artist_rows)\n",
    "\n",
    "        for index, row in dataframe.iterrows():\n",
    "            if index not in selected_rows.index:\n",
    "                \n",
    "                if current_sum + row['duration_minutes'] <= playlist_length + 10:\n",
    "                    # Check constraint 2: At most k, at least k, or none songs from the specified artist\n",
    "                    if constraint_option == 'at most k' and artist_count < k:\n",
    "                        selected_rows = selected_rows.append(row)\n",
    "                        current_sum += row['duration_minutes']\n",
    "                        if artist_name == row['artist_name']:\n",
    "                            artist_count += 1\n",
    "                    elif constraint_option == 'none' and artist_name != row['artist_name'] and artist_count == 0:\n",
    "                        selected_rows = selected_rows.append(row)\n",
    "                        current_sum += row['duration_minutes']\n",
    "                    else:\n",
    "                        selected_rows = selected_rows.append(row)\n",
    "                        current_sum += row['duration_minutes']\n",
    "\n",
    "                # Check constraint 1: Sum of column_1 within +/- 10 of the target_sum\n",
    "                if current_sum >= playlist_length - 10 and current_sum <= playlist_length + 10:\n",
    "                    break\n",
    "\n",
    "        return selected_rows\n",
    "\n",
    "    return apply_constraints(df, playlist_length=150, artist_name='Taylor Swift', constraint_option='at least k', k=3)\n",
    "    # TODOOOOO: change the above arguments to the values from the togles ^\n",
    "\n",
    "apply_all_constraints(df)"
   ]
  },
  {
   "cell_type": "code",
   "execution_count": null,
   "metadata": {},
   "outputs": [],
   "source": [
    "# df[\"tempo\"].describe()"
   ]
  },
  {
   "cell_type": "code",
   "execution_count": 70,
   "metadata": {},
   "outputs": [],
   "source": [
    "# filtering_criterion = {\n",
    "#     \"Author\": \"SZA\",\n",
    "#     \"ms_played\": lambda x: x < 100_000\n",
    "# }"
   ]
  },
  {
   "cell_type": "code",
   "execution_count": null,
   "metadata": {},
   "outputs": [],
   "source": []
  },
  {
   "cell_type": "code",
   "execution_count": null,
   "metadata": {},
   "outputs": [],
   "source": []
  },
  {
   "cell_type": "code",
   "execution_count": null,
   "metadata": {},
   "outputs": [],
   "source": []
  },
  {
   "cell_type": "code",
   "execution_count": null,
   "metadata": {},
   "outputs": [],
   "source": []
  }
 ],
 "metadata": {
  "kernelspec": {
   "display_name": "Python 3 (ipykernel)",
   "language": "python",
   "name": "python3"
  },
  "language_info": {
   "codemirror_mode": {
    "name": "ipython",
    "version": 3
   },
   "file_extension": ".py",
   "mimetype": "text/x-python",
   "name": "python",
   "nbconvert_exporter": "python",
   "pygments_lexer": "ipython3",
   "version": "3.9.15"
  }
 },
 "nbformat": 4,
 "nbformat_minor": 2
}
