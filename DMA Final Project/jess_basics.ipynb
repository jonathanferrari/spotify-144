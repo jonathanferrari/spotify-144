{
 "cells": [
  {
   "cell_type": "code",
   "execution_count": 70,
   "metadata": {},
   "outputs": [
    {
     "name": "stdout",
     "output_type": "stream",
     "text": [
      "Collecting matplotlib\n",
      "  Downloading matplotlib-3.8.0-cp310-cp310-win_amd64.whl (7.6 MB)\n",
      "     ---------------------------------------- 0.0/7.6 MB ? eta -:--:--\n",
      "     - -------------------------------------- 0.3/7.6 MB 5.2 MB/s eta 0:00:02\n",
      "     ----- ---------------------------------- 1.1/7.6 MB 11.4 MB/s eta 0:00:01\n",
      "     -------- ------------------------------- 1.7/7.6 MB 15.2 MB/s eta 0:00:01\n",
      "     ----------- ---------------------------- 2.1/7.6 MB 11.3 MB/s eta 0:00:01\n",
      "     ----------------- ---------------------- 3.4/7.6 MB 14.4 MB/s eta 0:00:01\n",
      "     ---------------------- ----------------- 4.3/7.6 MB 15.3 MB/s eta 0:00:01\n",
      "     --------------------------- ------------ 5.3/7.6 MB 16.2 MB/s eta 0:00:01\n",
      "     -------------------------------- ------- 6.3/7.6 MB 16.7 MB/s eta 0:00:01\n",
      "     ---------------------------------------  7.5/7.6 MB 17.9 MB/s eta 0:00:01\n",
      "     ---------------------------------------  7.6/7.6 MB 18.1 MB/s eta 0:00:01\n",
      "     ---------------------------------------- 7.6/7.6 MB 15.8 MB/s eta 0:00:00\n",
      "Collecting kiwisolver>=1.0.1\n",
      "  Downloading kiwisolver-1.4.5-cp310-cp310-win_amd64.whl (56 kB)\n",
      "     ---------------------------------------- 0.0/56.1 kB ? eta -:--:--\n",
      "     ---------------------------------------- 56.1/56.1 kB 2.9 MB/s eta 0:00:00\n",
      "Collecting cycler>=0.10\n",
      "  Downloading cycler-0.12.0-py3-none-any.whl (8.2 kB)\n",
      "Collecting fonttools>=4.22.0\n",
      "  Downloading fonttools-4.43.1-cp310-cp310-win_amd64.whl (2.1 MB)\n",
      "     ---------------------------------------- 0.0/2.1 MB ? eta -:--:--\n",
      "     ----------------- ---------------------- 1.0/2.1 MB 20.0 MB/s eta 0:00:01\n",
      "     ---------------------------------------  2.1/2.1 MB 22.7 MB/s eta 0:00:01\n",
      "     ---------------------------------------- 2.1/2.1 MB 19.4 MB/s eta 0:00:00\n",
      "Collecting pillow>=6.2.0\n",
      "  Downloading Pillow-10.0.1-cp310-cp310-win_amd64.whl (2.5 MB)\n",
      "     ---------------------------------------- 0.0/2.5 MB ? eta -:--:--\n",
      "     -------------- ------------------------- 0.9/2.5 MB 19.0 MB/s eta 0:00:01\n",
      "     -------------------------------- ------- 2.0/2.5 MB 25.7 MB/s eta 0:00:01\n",
      "     ---------------------------------- ----- 2.2/2.5 MB 22.9 MB/s eta 0:00:01\n",
      "     ---------------------------------------- 2.5/2.5 MB 16.0 MB/s eta 0:00:00\n",
      "Requirement already satisfied: python-dateutil>=2.7 in c:\\users\\jessi\\appdata\\local\\packages\\pythonsoftwarefoundation.python.3.10_qbz5n2kfra8p0\\localcache\\local-packages\\python310\\site-packages (from matplotlib) (2.8.2)\n",
      "Collecting pyparsing>=2.3.1\n",
      "  Downloading pyparsing-3.1.1-py3-none-any.whl (103 kB)\n",
      "     ---------------------------------------- 0.0/103.1 kB ? eta -:--:--\n",
      "     ---------------------------------------- 103.1/103.1 kB ? eta 0:00:00\n",
      "Collecting contourpy>=1.0.1\n",
      "  Downloading contourpy-1.1.1-cp310-cp310-win_amd64.whl (477 kB)\n",
      "     ---------------------------------------- 0.0/478.0 kB ? eta -:--:--\n",
      "     ------------------------------------- 478.0/478.0 kB 29.2 MB/s eta 0:00:00\n",
      "Requirement already satisfied: numpy<2,>=1.21 in c:\\users\\jessi\\appdata\\local\\packages\\pythonsoftwarefoundation.python.3.10_qbz5n2kfra8p0\\localcache\\local-packages\\python310\\site-packages (from matplotlib) (1.24.2)\n",
      "Requirement already satisfied: packaging>=20.0 in c:\\users\\jessi\\appdata\\local\\packages\\pythonsoftwarefoundation.python.3.10_qbz5n2kfra8p0\\localcache\\local-packages\\python310\\site-packages (from matplotlib) (23.0)\n",
      "Requirement already satisfied: six>=1.5 in c:\\users\\jessi\\appdata\\local\\packages\\pythonsoftwarefoundation.python.3.10_qbz5n2kfra8p0\\localcache\\local-packages\\python310\\site-packages (from python-dateutil>=2.7->matplotlib) (1.16.0)\n",
      "Installing collected packages: pyparsing, pillow, kiwisolver, fonttools, cycler, contourpy, matplotlib\n",
      "Successfully installed contourpy-1.1.1 cycler-0.12.0 fonttools-4.43.1 kiwisolver-1.4.5 matplotlib-3.8.0 pillow-10.0.1 pyparsing-3.1.1\n"
     ]
    },
    {
     "name": "stderr",
     "output_type": "stream",
     "text": [
      "\n",
      "[notice] A new release of pip is available: 23.0.1 -> 23.2.1\n",
      "[notice] To update, run: C:\\Users\\Jessi\\AppData\\Local\\Microsoft\\WindowsApps\\PythonSoftwareFoundation.Python.3.10_qbz5n2kfra8p0\\python.exe -m pip install --upgrade pip\n"
     ]
    }
   ],
   "source": [
    "#!pip install -U python-dotenv\n",
    "#!pip install spotipy\n",
    "#!pip install matplotlib"
   ]
  },
  {
   "cell_type": "code",
   "execution_count": 1,
   "metadata": {},
   "outputs": [],
   "source": [
    "import pandas as pd\n",
    "import os\n",
    "import plotly.express as px\n",
    "import spotipy\n",
    "from spotipy import oauth2\n",
    "from dotenv import load_dotenv\n",
    "import os\n",
    "from spotipy.oauth2 import SpotifyClientCredentials"
   ]
  },
  {
   "cell_type": "code",
   "execution_count": 2,
   "metadata": {},
   "outputs": [],
   "source": [
    "path = os.getcwd()\n",
    "\n",
    "# setting up authentication for spotipy\n",
    "load_dotenv(dotenv_path=path + f\"\\env_vars.env\")\n",
    "os.environ['SPOTIPY_CLIENT_ID'] = os.environ.get('SPOTIPY_CLIENT_ID')\n",
    "os.environ['SPOTIPY_CLIENT_SECRET'] = os.environ.get('SPOTIPY_CLIENT_SECRET')\n",
    "sp = spotipy.Spotify(client_credentials_manager=SpotifyClientCredentials())"
   ]
  },
  {
   "cell_type": "markdown",
   "metadata": {},
   "source": [
    "### Part 1: Loading in the Data\n",
    "#### We will load in my personal data blah blah, you can replace the string with your file path to analyze your music"
   ]
  },
  {
   "cell_type": "code",
   "execution_count": 4,
   "metadata": {},
   "outputs": [
    {
     "name": "stdout",
     "output_type": "stream",
     "text": [
      "(18208, 4)\n"
     ]
    },
    {
     "data": {
      "text/html": [
       "<div>\n",
       "<style scoped>\n",
       "    .dataframe tbody tr th:only-of-type {\n",
       "        vertical-align: middle;\n",
       "    }\n",
       "\n",
       "    .dataframe tbody tr th {\n",
       "        vertical-align: top;\n",
       "    }\n",
       "\n",
       "    .dataframe thead th {\n",
       "        text-align: right;\n",
       "    }\n",
       "</style>\n",
       "<table border=\"1\" class=\"dataframe\">\n",
       "  <thead>\n",
       "    <tr style=\"text-align: right;\">\n",
       "      <th></th>\n",
       "      <th>endTime</th>\n",
       "      <th>artistName</th>\n",
       "      <th>trackName</th>\n",
       "      <th>msPlayed</th>\n",
       "    </tr>\n",
       "  </thead>\n",
       "  <tbody>\n",
       "    <tr>\n",
       "      <th>0</th>\n",
       "      <td>2022-10-03 16:03</td>\n",
       "      <td>Tori Templet</td>\n",
       "      <td>Butterfly Rain</td>\n",
       "      <td>167166</td>\n",
       "    </tr>\n",
       "    <tr>\n",
       "      <th>1</th>\n",
       "      <td>2022-10-04 18:40</td>\n",
       "      <td>Maisie Peters</td>\n",
       "      <td>The List</td>\n",
       "      <td>68976</td>\n",
       "    </tr>\n",
       "    <tr>\n",
       "      <th>2</th>\n",
       "      <td>2022-10-07 18:05</td>\n",
       "      <td>Catie Turner</td>\n",
       "      <td>Nothing</td>\n",
       "      <td>4335</td>\n",
       "    </tr>\n",
       "    <tr>\n",
       "      <th>3</th>\n",
       "      <td>2022-10-07 18:05</td>\n",
       "      <td>Billie Marten</td>\n",
       "      <td>Mice</td>\n",
       "      <td>1650</td>\n",
       "    </tr>\n",
       "    <tr>\n",
       "      <th>4</th>\n",
       "      <td>2022-10-07 18:06</td>\n",
       "      <td>Jacob Collier</td>\n",
       "      <td>In Too Deep (feat. Kiana Ledé)</td>\n",
       "      <td>18280</td>\n",
       "    </tr>\n",
       "  </tbody>\n",
       "</table>\n",
       "</div>"
      ],
      "text/plain": [
       "            endTime     artistName                       trackName  msPlayed\n",
       "0  2022-10-03 16:03   Tori Templet                  Butterfly Rain    167166\n",
       "1  2022-10-04 18:40  Maisie Peters                        The List     68976\n",
       "2  2022-10-07 18:05   Catie Turner                         Nothing      4335\n",
       "3  2022-10-07 18:05  Billie Marten                            Mice      1650\n",
       "4  2022-10-07 18:06  Jacob Collier  In Too Deep (feat. Kiana Ledé)     18280"
      ]
     },
     "execution_count": 4,
     "metadata": {},
     "output_type": "execute_result"
    }
   ],
   "source": [
    "num_histories = 2\n",
    "listening = pd.DataFrame()\n",
    "for i in range(num_histories):\n",
    "    temp_df = pd.read_json(path + f\"\\MyData\\StreamingHistory{i}.json\")\n",
    "    listening = pd.concat([listening, temp_df])\n",
    "print(listening.shape)\n",
    "listening.head(5)"
   ]
  },
  {
   "cell_type": "code",
   "execution_count": 5,
   "metadata": {},
   "outputs": [
    {
     "data": {
      "text/html": [
       "<div>\n",
       "<style scoped>\n",
       "    .dataframe tbody tr th:only-of-type {\n",
       "        vertical-align: middle;\n",
       "    }\n",
       "\n",
       "    .dataframe tbody tr th {\n",
       "        vertical-align: top;\n",
       "    }\n",
       "\n",
       "    .dataframe thead th {\n",
       "        text-align: right;\n",
       "    }\n",
       "</style>\n",
       "<table border=\"1\" class=\"dataframe\">\n",
       "  <thead>\n",
       "    <tr style=\"text-align: right;\">\n",
       "      <th></th>\n",
       "      <th>playlists</th>\n",
       "    </tr>\n",
       "  </thead>\n",
       "  <tbody>\n",
       "    <tr>\n",
       "      <th>0</th>\n",
       "      <td>{'name': 'Pam and Jim Mix', 'lastModifiedDate'...</td>\n",
       "    </tr>\n",
       "    <tr>\n",
       "      <th>1</th>\n",
       "      <td>{'name': 'Crying At The Laundrette - Strings V...</td>\n",
       "    </tr>\n",
       "    <tr>\n",
       "      <th>2</th>\n",
       "      <td>{'name': 'Saved daily mix', 'lastModifiedDate'...</td>\n",
       "    </tr>\n",
       "    <tr>\n",
       "      <th>3</th>\n",
       "      <td>{'name': 'Hi', 'lastModifiedDate': '2023-08-05...</td>\n",
       "    </tr>\n",
       "    <tr>\n",
       "      <th>4</th>\n",
       "      <td>{'name': 'NT@B Car Vibes', 'lastModifiedDate':...</td>\n",
       "    </tr>\n",
       "  </tbody>\n",
       "</table>\n",
       "</div>"
      ],
      "text/plain": [
       "                                           playlists\n",
       "0  {'name': 'Pam and Jim Mix', 'lastModifiedDate'...\n",
       "1  {'name': 'Crying At The Laundrette - Strings V...\n",
       "2  {'name': 'Saved daily mix', 'lastModifiedDate'...\n",
       "3  {'name': 'Hi', 'lastModifiedDate': '2023-08-05...\n",
       "4  {'name': 'NT@B Car Vibes', 'lastModifiedDate':..."
      ]
     },
     "execution_count": 5,
     "metadata": {},
     "output_type": "execute_result"
    }
   ],
   "source": [
    "playlists = pd.read_json(path + f\"\\MyData\\Playlist1.json\")\n",
    "playlists.head(5)"
   ]
  },
  {
   "cell_type": "markdown",
   "metadata": {},
   "source": [
    "### Part 2: EDA"
   ]
  },
  {
   "cell_type": "markdown",
   "metadata": {},
   "source": []
  },
  {
   "cell_type": "code",
   "execution_count": 6,
   "metadata": {},
   "outputs": [
    {
     "data": {
      "text/plain": [
       "{'name': 'Hi',\n",
       " 'lastModifiedDate': '2023-08-05',\n",
       " 'items': [{'track': {'trackName': 'What A Wonderful World',\n",
       "    'artistName': \"Israel Kamakawiwo'ole\",\n",
       "    'albumName': 'Wonderful World',\n",
       "    'trackUri': 'spotify:track:1Fzm9s6Fh1Eumj5tU4q20m'},\n",
       "   'episode': None,\n",
       "   'localTrack': None,\n",
       "   'addedDate': '2023-08-05'},\n",
       "  {'track': {'trackName': 'A Thousand Years',\n",
       "    'artistName': 'The Piano Guys',\n",
       "    'albumName': 'The Piano Guys',\n",
       "    'trackUri': 'spotify:track:4eYaDRhiL5iesFp2EuoODr'},\n",
       "   'episode': None,\n",
       "   'localTrack': None,\n",
       "   'addedDate': '2023-08-05'}],\n",
       " 'description': None,\n",
       " 'numberOfFollowers': 0}"
      ]
     },
     "execution_count": 6,
     "metadata": {},
     "output_type": "execute_result"
    }
   ],
   "source": [
    "playlists['playlists'][3]"
   ]
  },
  {
   "cell_type": "code",
   "execution_count": 9,
   "metadata": {},
   "outputs": [
    {
     "data": {
      "text/plain": [
       "{'danceability': 0.656,\n",
       " 'energy': 0.291,\n",
       " 'key': 2,\n",
       " 'loudness': -10.572,\n",
       " 'mode': 1,\n",
       " 'speechiness': 0.0293,\n",
       " 'acousticness': 0.872,\n",
       " 'instrumentalness': 0,\n",
       " 'liveness': 0.114,\n",
       " 'valence': 0.298,\n",
       " 'tempo': 103.971,\n",
       " 'type': 'audio_features',\n",
       " 'id': '4RCWB3V8V0dignt99LZ8vH',\n",
       " 'uri': 'spotify:track:4RCWB3V8V0dignt99LZ8vH',\n",
       " 'track_href': 'https://api.spotify.com/v1/tracks/4RCWB3V8V0dignt99LZ8vH',\n",
       " 'analysis_url': 'https://api.spotify.com/v1/audio-analysis/4RCWB3V8V0dignt99LZ8vH',\n",
       " 'duration_ms': 232533,\n",
       " 'time_signature': 4}"
      ]
     },
     "execution_count": 9,
     "metadata": {},
     "output_type": "execute_result"
    }
   ],
   "source": [
    "# information based on a single song\n",
    "track_name, track_artist = 'Hey There Delilah', 'Plain White T\\'s'\n",
    "track_uri = sp.search(q='artist:' + track_artist + ' track:' + track_name, type='track')['tracks']['items'][0]['uri']\n",
    "\n",
    "# extended_features = sp.audio_analysis(track_uri) # a LOT of information\n",
    "# extended_features\n",
    "\n",
    "track_features = sp.audio_features(track_uri)\n",
    "track_features[0]"
   ]
  },
  {
   "cell_type": "code",
   "execution_count": 10,
   "metadata": {},
   "outputs": [
    {
     "data": {
      "text/html": [
       "<div>\n",
       "<style scoped>\n",
       "    .dataframe tbody tr th:only-of-type {\n",
       "        vertical-align: middle;\n",
       "    }\n",
       "\n",
       "    .dataframe tbody tr th {\n",
       "        vertical-align: top;\n",
       "    }\n",
       "\n",
       "    .dataframe thead th {\n",
       "        text-align: right;\n",
       "    }\n",
       "</style>\n",
       "<table border=\"1\" class=\"dataframe\">\n",
       "  <thead>\n",
       "    <tr style=\"text-align: right;\">\n",
       "      <th></th>\n",
       "      <th>trackName</th>\n",
       "      <th>artistName</th>\n",
       "      <th>count</th>\n",
       "    </tr>\n",
       "  </thead>\n",
       "  <tbody>\n",
       "    <tr>\n",
       "      <th>1570</th>\n",
       "      <td>If By Chance</td>\n",
       "      <td>Ruth B.</td>\n",
       "      <td>1</td>\n",
       "    </tr>\n",
       "    <tr>\n",
       "      <th>4115</th>\n",
       "      <td>please</td>\n",
       "      <td>Chelsea Cutler</td>\n",
       "      <td>68</td>\n",
       "    </tr>\n",
       "    <tr>\n",
       "      <th>3207</th>\n",
       "      <td>The Sun Will Come Up, The Seasons Will Change</td>\n",
       "      <td>Nina Nesbitt</td>\n",
       "      <td>21</td>\n",
       "    </tr>\n",
       "    <tr>\n",
       "      <th>2577</th>\n",
       "      <td>Rain</td>\n",
       "      <td>Kate Vogel</td>\n",
       "      <td>1</td>\n",
       "    </tr>\n",
       "    <tr>\n",
       "      <th>696</th>\n",
       "      <td>Dear August</td>\n",
       "      <td>PJ Harding</td>\n",
       "      <td>22</td>\n",
       "    </tr>\n",
       "  </tbody>\n",
       "</table>\n",
       "</div>"
      ],
      "text/plain": [
       "                                          trackName      artistName  count\n",
       "1570                                   If By Chance         Ruth B.      1\n",
       "4115                                         please  Chelsea Cutler     68\n",
       "3207  The Sun Will Come Up, The Seasons Will Change    Nina Nesbitt     21\n",
       "2577                                           Rain      Kate Vogel      1\n",
       "696                                     Dear August      PJ Harding     22"
      ]
     },
     "execution_count": 10,
     "metadata": {},
     "output_type": "execute_result"
    }
   ],
   "source": [
    "counts = listening.query('msPlayed >= 3000').groupby(by=['trackName', 'artistName']).size().reset_index()\n",
    "songs_df = counts.rename(columns={0: 'count'}).sample(n=500, weights='count', random_state=42)#.query('count >= 5').sort_values('count', ascending=False) # either listened to >5 times or top x songs or random x songs\n",
    "songs_df.head(5)#.to_csv('csv_exports/grouped.csv')"
   ]
  },
  {
   "cell_type": "code",
   "execution_count": 11,
   "metadata": {},
   "outputs": [
    {
     "name": "stdout",
     "output_type": "stream",
     "text": [
      "(500, 17)\n"
     ]
    },
    {
     "data": {
      "text/html": [
       "<div>\n",
       "<style scoped>\n",
       "    .dataframe tbody tr th:only-of-type {\n",
       "        vertical-align: middle;\n",
       "    }\n",
       "\n",
       "    .dataframe tbody tr th {\n",
       "        vertical-align: top;\n",
       "    }\n",
       "\n",
       "    .dataframe thead th {\n",
       "        text-align: right;\n",
       "    }\n",
       "</style>\n",
       "<table border=\"1\" class=\"dataframe\">\n",
       "  <thead>\n",
       "    <tr style=\"text-align: right;\">\n",
       "      <th></th>\n",
       "      <th>trackName</th>\n",
       "      <th>artistName</th>\n",
       "      <th>count</th>\n",
       "      <th>danceability</th>\n",
       "      <th>energy</th>\n",
       "      <th>key</th>\n",
       "      <th>loudness</th>\n",
       "      <th>mode</th>\n",
       "      <th>speechiness</th>\n",
       "      <th>acousticness</th>\n",
       "      <th>instrumentalness</th>\n",
       "      <th>liveness</th>\n",
       "      <th>valence</th>\n",
       "      <th>tempo</th>\n",
       "      <th>id</th>\n",
       "      <th>duration_ms</th>\n",
       "      <th>time_signature</th>\n",
       "    </tr>\n",
       "  </thead>\n",
       "  <tbody>\n",
       "    <tr>\n",
       "      <th>1570</th>\n",
       "      <td>If By Chance</td>\n",
       "      <td>Ruth B.</td>\n",
       "      <td>1</td>\n",
       "      <td>0.405</td>\n",
       "      <td>0.279</td>\n",
       "      <td>10.0</td>\n",
       "      <td>-8.099</td>\n",
       "      <td>1.0</td>\n",
       "      <td>0.0334</td>\n",
       "      <td>0.881</td>\n",
       "      <td>0.0000</td>\n",
       "      <td>0.0933</td>\n",
       "      <td>0.256</td>\n",
       "      <td>119.850</td>\n",
       "      <td>21dpBHPTV7ythCHBI6Slcw</td>\n",
       "      <td>303653.0</td>\n",
       "      <td>4.0</td>\n",
       "    </tr>\n",
       "    <tr>\n",
       "      <th>4115</th>\n",
       "      <td>please</td>\n",
       "      <td>Chelsea Cutler</td>\n",
       "      <td>68</td>\n",
       "      <td>0.718</td>\n",
       "      <td>0.166</td>\n",
       "      <td>6.0</td>\n",
       "      <td>-15.820</td>\n",
       "      <td>0.0</td>\n",
       "      <td>0.0344</td>\n",
       "      <td>0.887</td>\n",
       "      <td>0.0216</td>\n",
       "      <td>0.1310</td>\n",
       "      <td>0.237</td>\n",
       "      <td>97.947</td>\n",
       "      <td>0TzeZppPwhEhySYaNRulr9</td>\n",
       "      <td>219067.0</td>\n",
       "      <td>4.0</td>\n",
       "    </tr>\n",
       "    <tr>\n",
       "      <th>3207</th>\n",
       "      <td>The Sun Will Come Up, The Seasons Will Change</td>\n",
       "      <td>Nina Nesbitt</td>\n",
       "      <td>21</td>\n",
       "      <td>0.690</td>\n",
       "      <td>0.582</td>\n",
       "      <td>5.0</td>\n",
       "      <td>-6.259</td>\n",
       "      <td>0.0</td>\n",
       "      <td>0.0333</td>\n",
       "      <td>0.358</td>\n",
       "      <td>0.0000</td>\n",
       "      <td>0.0776</td>\n",
       "      <td>0.448</td>\n",
       "      <td>122.020</td>\n",
       "      <td>3i0VfLdOUCks9DmAht65XI</td>\n",
       "      <td>176853.0</td>\n",
       "      <td>4.0</td>\n",
       "    </tr>\n",
       "    <tr>\n",
       "      <th>2577</th>\n",
       "      <td>Rain</td>\n",
       "      <td>Kate Vogel</td>\n",
       "      <td>1</td>\n",
       "      <td>0.548</td>\n",
       "      <td>0.270</td>\n",
       "      <td>5.0</td>\n",
       "      <td>-10.200</td>\n",
       "      <td>1.0</td>\n",
       "      <td>0.0287</td>\n",
       "      <td>0.913</td>\n",
       "      <td>0.0432</td>\n",
       "      <td>0.0943</td>\n",
       "      <td>0.213</td>\n",
       "      <td>76.908</td>\n",
       "      <td>57uCYwWk48K38oIvozWR2P</td>\n",
       "      <td>150073.0</td>\n",
       "      <td>4.0</td>\n",
       "    </tr>\n",
       "    <tr>\n",
       "      <th>696</th>\n",
       "      <td>Dear August</td>\n",
       "      <td>PJ Harding</td>\n",
       "      <td>22</td>\n",
       "      <td>0.643</td>\n",
       "      <td>0.324</td>\n",
       "      <td>0.0</td>\n",
       "      <td>-7.817</td>\n",
       "      <td>1.0</td>\n",
       "      <td>0.0338</td>\n",
       "      <td>0.800</td>\n",
       "      <td>0.0000</td>\n",
       "      <td>0.1110</td>\n",
       "      <td>0.444</td>\n",
       "      <td>147.019</td>\n",
       "      <td>16gW9O8A4rIMx5OOVlzsSn</td>\n",
       "      <td>200940.0</td>\n",
       "      <td>4.0</td>\n",
       "    </tr>\n",
       "  </tbody>\n",
       "</table>\n",
       "</div>"
      ],
      "text/plain": [
       "                                          trackName      artistName  count  \\\n",
       "1570                                   If By Chance         Ruth B.      1   \n",
       "4115                                         please  Chelsea Cutler     68   \n",
       "3207  The Sun Will Come Up, The Seasons Will Change    Nina Nesbitt     21   \n",
       "2577                                           Rain      Kate Vogel      1   \n",
       "696                                     Dear August      PJ Harding     22   \n",
       "\n",
       "      danceability  energy   key  loudness  mode  speechiness  acousticness  \\\n",
       "1570         0.405   0.279  10.0    -8.099   1.0       0.0334         0.881   \n",
       "4115         0.718   0.166   6.0   -15.820   0.0       0.0344         0.887   \n",
       "3207         0.690   0.582   5.0    -6.259   0.0       0.0333         0.358   \n",
       "2577         0.548   0.270   5.0   -10.200   1.0       0.0287         0.913   \n",
       "696          0.643   0.324   0.0    -7.817   1.0       0.0338         0.800   \n",
       "\n",
       "      instrumentalness  liveness  valence    tempo                      id  \\\n",
       "1570            0.0000    0.0933    0.256  119.850  21dpBHPTV7ythCHBI6Slcw   \n",
       "4115            0.0216    0.1310    0.237   97.947  0TzeZppPwhEhySYaNRulr9   \n",
       "3207            0.0000    0.0776    0.448  122.020  3i0VfLdOUCks9DmAht65XI   \n",
       "2577            0.0432    0.0943    0.213   76.908  57uCYwWk48K38oIvozWR2P   \n",
       "696             0.0000    0.1110    0.444  147.019  16gW9O8A4rIMx5OOVlzsSn   \n",
       "\n",
       "      duration_ms  time_signature  \n",
       "1570     303653.0             4.0  \n",
       "4115     219067.0             4.0  \n",
       "3207     176853.0             4.0  \n",
       "2577     150073.0             4.0  \n",
       "696      200940.0             4.0  "
      ]
     },
     "execution_count": 11,
     "metadata": {},
     "output_type": "execute_result"
    }
   ],
   "source": [
    "\n",
    "lst_of_cols = list(track_features[0].keys())\n",
    "# lst_of_cols.remove(['type', 'analysis_url'])\n",
    "# lst_of_cols.remove(x for x in ['type', 'analysis_url'])\n",
    "[lst_of_cols.remove(col) for col in ['type', 'uri', 'analysis_url', 'track_href']]\n",
    "def find_info(song):\n",
    "    # print(song)\n",
    "    try:\n",
    "        song_dict = sp.search(q='artist:' + song[1] + ' track:' + song[0], type='track')\n",
    "        song_uri = song_dict['tracks']['items'][0]['uri']\n",
    "        track_features = sp.audio_features(song_uri)[0]\n",
    "        return pd.Series([track_features[i] for i in lst_of_cols])\n",
    "    except:\n",
    "        return pd.Series([None] * len(lst_of_cols))\n",
    "    \n",
    "    \n",
    "songs_df[lst_of_cols] = songs_df[['trackName', 'artistName']].apply(find_info, axis=1)\n",
    "print(songs_df.shape)\n",
    "songs_df.head(5)"
   ]
  },
  {
   "cell_type": "markdown",
   "metadata": {},
   "source": [
    "### PCA attempt/plotting the PCs/scree plot"
   ]
  },
  {
   "cell_type": "code",
   "execution_count": 13,
   "metadata": {},
   "outputs": [],
   "source": [
    "# imports\n",
    "import numpy as np\n",
    "import matplotlib.pyplot as plt\n",
    "import seaborn as sns\n",
    "import plotly.express as px"
   ]
  },
  {
   "cell_type": "code",
   "execution_count": 14,
   "metadata": {},
   "outputs": [
    {
     "name": "stdout",
     "output_type": "stream",
     "text": [
      "(485, 14)\n"
     ]
    },
    {
     "data": {
      "text/html": [
       "<div>\n",
       "<style scoped>\n",
       "    .dataframe tbody tr th:only-of-type {\n",
       "        vertical-align: middle;\n",
       "    }\n",
       "\n",
       "    .dataframe tbody tr th {\n",
       "        vertical-align: top;\n",
       "    }\n",
       "\n",
       "    .dataframe thead th {\n",
       "        text-align: right;\n",
       "    }\n",
       "</style>\n",
       "<table border=\"1\" class=\"dataframe\">\n",
       "  <thead>\n",
       "    <tr style=\"text-align: right;\">\n",
       "      <th></th>\n",
       "      <th>count</th>\n",
       "      <th>danceability</th>\n",
       "      <th>energy</th>\n",
       "      <th>key</th>\n",
       "      <th>loudness</th>\n",
       "      <th>mode</th>\n",
       "      <th>speechiness</th>\n",
       "      <th>acousticness</th>\n",
       "      <th>instrumentalness</th>\n",
       "      <th>liveness</th>\n",
       "      <th>valence</th>\n",
       "      <th>tempo</th>\n",
       "      <th>duration_ms</th>\n",
       "      <th>time_signature</th>\n",
       "    </tr>\n",
       "    <tr>\n",
       "      <th>trackName</th>\n",
       "      <th></th>\n",
       "      <th></th>\n",
       "      <th></th>\n",
       "      <th></th>\n",
       "      <th></th>\n",
       "      <th></th>\n",
       "      <th></th>\n",
       "      <th></th>\n",
       "      <th></th>\n",
       "      <th></th>\n",
       "      <th></th>\n",
       "      <th></th>\n",
       "      <th></th>\n",
       "      <th></th>\n",
       "    </tr>\n",
       "  </thead>\n",
       "  <tbody>\n",
       "    <tr>\n",
       "      <th>If By Chance</th>\n",
       "      <td>-0.794261</td>\n",
       "      <td>-1.111479</td>\n",
       "      <td>-0.361044</td>\n",
       "      <td>1.489043</td>\n",
       "      <td>0.685850</td>\n",
       "      <td>0.400359</td>\n",
       "      <td>-0.438727</td>\n",
       "      <td>0.743378</td>\n",
       "      <td>-0.225513</td>\n",
       "      <td>-0.557376</td>\n",
       "      <td>-0.444100</td>\n",
       "      <td>0.112556</td>\n",
       "      <td>2.401944</td>\n",
       "      <td>0.256026</td>\n",
       "    </tr>\n",
       "    <tr>\n",
       "      <th>please</th>\n",
       "      <td>4.253560</td>\n",
       "      <td>1.387086</td>\n",
       "      <td>-1.012504</td>\n",
       "      <td>0.356202</td>\n",
       "      <td>-1.287643</td>\n",
       "      <td>-2.497760</td>\n",
       "      <td>-0.407398</td>\n",
       "      <td>0.765224</td>\n",
       "      <td>0.011026</td>\n",
       "      <td>-0.168989</td>\n",
       "      <td>-0.560302</td>\n",
       "      <td>-0.612775</td>\n",
       "      <td>0.547075</td>\n",
       "      <td>0.256026</td>\n",
       "    </tr>\n",
       "    <tr>\n",
       "      <th>The Sun Will Come Up, The Seasons Will Change</th>\n",
       "      <td>0.712551</td>\n",
       "      <td>1.163572</td>\n",
       "      <td>1.385792</td>\n",
       "      <td>0.072992</td>\n",
       "      <td>1.156156</td>\n",
       "      <td>-2.497760</td>\n",
       "      <td>-0.441860</td>\n",
       "      <td>-1.160852</td>\n",
       "      <td>-0.225513</td>\n",
       "      <td>-0.719117</td>\n",
       "      <td>0.730149</td>\n",
       "      <td>0.184417</td>\n",
       "      <td>-0.378626</td>\n",
       "      <td>0.256026</td>\n",
       "    </tr>\n",
       "    <tr>\n",
       "      <th>Rain</th>\n",
       "      <td>-0.794261</td>\n",
       "      <td>0.030038</td>\n",
       "      <td>-0.412930</td>\n",
       "      <td>0.072992</td>\n",
       "      <td>0.148833</td>\n",
       "      <td>0.400359</td>\n",
       "      <td>-0.585973</td>\n",
       "      <td>0.859890</td>\n",
       "      <td>0.247565</td>\n",
       "      <td>-0.547073</td>\n",
       "      <td>-0.707083</td>\n",
       "      <td>-1.309495</td>\n",
       "      <td>-0.965879</td>\n",
       "      <td>0.256026</td>\n",
       "    </tr>\n",
       "    <tr>\n",
       "      <th>Dear August</th>\n",
       "      <td>0.787892</td>\n",
       "      <td>0.788388</td>\n",
       "      <td>-0.101613</td>\n",
       "      <td>-1.343058</td>\n",
       "      <td>0.757930</td>\n",
       "      <td>0.400359</td>\n",
       "      <td>-0.426196</td>\n",
       "      <td>0.448459</td>\n",
       "      <td>-0.225513</td>\n",
       "      <td>-0.375030</td>\n",
       "      <td>0.705686</td>\n",
       "      <td>1.012274</td>\n",
       "      <td>0.149572</td>\n",
       "      <td>0.256026</td>\n",
       "    </tr>\n",
       "  </tbody>\n",
       "</table>\n",
       "</div>"
      ],
      "text/plain": [
       "                                                  count  danceability  \\\n",
       "trackName                                                               \n",
       "If By Chance                                  -0.794261     -1.111479   \n",
       "please                                         4.253560      1.387086   \n",
       "The Sun Will Come Up, The Seasons Will Change  0.712551      1.163572   \n",
       "Rain                                          -0.794261      0.030038   \n",
       "Dear August                                    0.787892      0.788388   \n",
       "\n",
       "                                                 energy       key  loudness  \\\n",
       "trackName                                                                     \n",
       "If By Chance                                  -0.361044  1.489043  0.685850   \n",
       "please                                        -1.012504  0.356202 -1.287643   \n",
       "The Sun Will Come Up, The Seasons Will Change  1.385792  0.072992  1.156156   \n",
       "Rain                                          -0.412930  0.072992  0.148833   \n",
       "Dear August                                   -0.101613 -1.343058  0.757930   \n",
       "\n",
       "                                                   mode  speechiness  \\\n",
       "trackName                                                              \n",
       "If By Chance                                   0.400359    -0.438727   \n",
       "please                                        -2.497760    -0.407398   \n",
       "The Sun Will Come Up, The Seasons Will Change -2.497760    -0.441860   \n",
       "Rain                                           0.400359    -0.585973   \n",
       "Dear August                                    0.400359    -0.426196   \n",
       "\n",
       "                                               acousticness  instrumentalness  \\\n",
       "trackName                                                                       \n",
       "If By Chance                                       0.743378         -0.225513   \n",
       "please                                             0.765224          0.011026   \n",
       "The Sun Will Come Up, The Seasons Will Change     -1.160852         -0.225513   \n",
       "Rain                                               0.859890          0.247565   \n",
       "Dear August                                        0.448459         -0.225513   \n",
       "\n",
       "                                               liveness   valence     tempo  \\\n",
       "trackName                                                                     \n",
       "If By Chance                                  -0.557376 -0.444100  0.112556   \n",
       "please                                        -0.168989 -0.560302 -0.612775   \n",
       "The Sun Will Come Up, The Seasons Will Change -0.719117  0.730149  0.184417   \n",
       "Rain                                          -0.547073 -0.707083 -1.309495   \n",
       "Dear August                                   -0.375030  0.705686  1.012274   \n",
       "\n",
       "                                               duration_ms  time_signature  \n",
       "trackName                                                                   \n",
       "If By Chance                                      2.401944        0.256026  \n",
       "please                                            0.547075        0.256026  \n",
       "The Sun Will Come Up, The Seasons Will Change    -0.378626        0.256026  \n",
       "Rain                                             -0.965879        0.256026  \n",
       "Dear August                                       0.149572        0.256026  "
      ]
     },
     "execution_count": 14,
     "metadata": {},
     "output_type": "execute_result"
    }
   ],
   "source": [
    "cleaned_df = songs_df.set_index('trackName').drop(columns=['id', 'artistName']).dropna()\n",
    "centered_df = (cleaned_df - np.mean(cleaned_df, axis=0)) / np.std(cleaned_df, axis=0)\n",
    "print(centered_df.shape)\n",
    "centered_df.head(5)"
   ]
  },
  {
   "cell_type": "code",
   "execution_count": 15,
   "metadata": {},
   "outputs": [
    {
     "data": {
      "text/plain": [
       "((485, 14), (14,), (14, 14))"
      ]
     },
     "execution_count": 15,
     "metadata": {},
     "output_type": "execute_result"
    }
   ],
   "source": [
    "u, s, vt = np.linalg.svd(centered_df, full_matrices = False)\n",
    "u.shape, s.shape, vt.shape"
   ]
  },
  {
   "cell_type": "code",
   "execution_count": 16,
   "metadata": {},
   "outputs": [
    {
     "data": {
      "text/plain": [
       "array([0.2 , 0.11, 0.09, 0.08, 0.08, 0.07, 0.07, 0.06, 0.06, 0.06, 0.05,\n",
       "       0.04, 0.03, 0.01])"
      ]
     },
     "execution_count": 16,
     "metadata": {},
     "output_type": "execute_result"
    }
   ],
   "source": [
    "np.round(s**2 / sum(s**2), 2)"
   ]
  },
  {
   "cell_type": "code",
   "execution_count": 17,
   "metadata": {},
   "outputs": [
    {
     "data": {
      "application/vnd.plotly.v1+json": {
       "config": {
        "plotlyServerURL": "https://plot.ly"
       },
       "data": [
        {
         "hovertemplate": "variable=0<br>index=%{x}<br>value=%{y}<extra></extra>",
         "legendgroup": "0",
         "line": {
          "color": "#636efa",
          "dash": "solid"
         },
         "marker": {
          "symbol": "circle"
         },
         "mode": "lines",
         "name": "0",
         "orientation": "v",
         "showlegend": true,
         "type": "scatter",
         "x": [
          0,
          1,
          2,
          3,
          4,
          5,
          6,
          7,
          8,
          9,
          10,
          11,
          12,
          13
         ],
         "xaxis": "x",
         "y": [
          1388.3797785777674,
          718.9806612079777,
          597.7349034040722,
          536.3823118910169,
          511.18026902907,
          475.69915759915597,
          453.7401353818845,
          427.26529196919927,
          396.6230614510654,
          386.9816903421709,
          327.97209366202117,
          266.4853102328736,
          228.3222915943052,
          74.2530436574178
         ],
         "yaxis": "y"
        }
       ],
       "layout": {
        "legend": {
         "title": {
          "text": "variable"
         },
         "tracegroupgap": 0
        },
        "margin": {
         "t": 60
        },
        "template": {
         "data": {
          "bar": [
           {
            "error_x": {
             "color": "#2a3f5f"
            },
            "error_y": {
             "color": "#2a3f5f"
            },
            "marker": {
             "line": {
              "color": "#E5ECF6",
              "width": 0.5
             },
             "pattern": {
              "fillmode": "overlay",
              "size": 10,
              "solidity": 0.2
             }
            },
            "type": "bar"
           }
          ],
          "barpolar": [
           {
            "marker": {
             "line": {
              "color": "#E5ECF6",
              "width": 0.5
             },
             "pattern": {
              "fillmode": "overlay",
              "size": 10,
              "solidity": 0.2
             }
            },
            "type": "barpolar"
           }
          ],
          "carpet": [
           {
            "aaxis": {
             "endlinecolor": "#2a3f5f",
             "gridcolor": "white",
             "linecolor": "white",
             "minorgridcolor": "white",
             "startlinecolor": "#2a3f5f"
            },
            "baxis": {
             "endlinecolor": "#2a3f5f",
             "gridcolor": "white",
             "linecolor": "white",
             "minorgridcolor": "white",
             "startlinecolor": "#2a3f5f"
            },
            "type": "carpet"
           }
          ],
          "choropleth": [
           {
            "colorbar": {
             "outlinewidth": 0,
             "ticks": ""
            },
            "type": "choropleth"
           }
          ],
          "contour": [
           {
            "colorbar": {
             "outlinewidth": 0,
             "ticks": ""
            },
            "colorscale": [
             [
              0,
              "#0d0887"
             ],
             [
              0.1111111111111111,
              "#46039f"
             ],
             [
              0.2222222222222222,
              "#7201a8"
             ],
             [
              0.3333333333333333,
              "#9c179e"
             ],
             [
              0.4444444444444444,
              "#bd3786"
             ],
             [
              0.5555555555555556,
              "#d8576b"
             ],
             [
              0.6666666666666666,
              "#ed7953"
             ],
             [
              0.7777777777777778,
              "#fb9f3a"
             ],
             [
              0.8888888888888888,
              "#fdca26"
             ],
             [
              1,
              "#f0f921"
             ]
            ],
            "type": "contour"
           }
          ],
          "contourcarpet": [
           {
            "colorbar": {
             "outlinewidth": 0,
             "ticks": ""
            },
            "type": "contourcarpet"
           }
          ],
          "heatmap": [
           {
            "colorbar": {
             "outlinewidth": 0,
             "ticks": ""
            },
            "colorscale": [
             [
              0,
              "#0d0887"
             ],
             [
              0.1111111111111111,
              "#46039f"
             ],
             [
              0.2222222222222222,
              "#7201a8"
             ],
             [
              0.3333333333333333,
              "#9c179e"
             ],
             [
              0.4444444444444444,
              "#bd3786"
             ],
             [
              0.5555555555555556,
              "#d8576b"
             ],
             [
              0.6666666666666666,
              "#ed7953"
             ],
             [
              0.7777777777777778,
              "#fb9f3a"
             ],
             [
              0.8888888888888888,
              "#fdca26"
             ],
             [
              1,
              "#f0f921"
             ]
            ],
            "type": "heatmap"
           }
          ],
          "heatmapgl": [
           {
            "colorbar": {
             "outlinewidth": 0,
             "ticks": ""
            },
            "colorscale": [
             [
              0,
              "#0d0887"
             ],
             [
              0.1111111111111111,
              "#46039f"
             ],
             [
              0.2222222222222222,
              "#7201a8"
             ],
             [
              0.3333333333333333,
              "#9c179e"
             ],
             [
              0.4444444444444444,
              "#bd3786"
             ],
             [
              0.5555555555555556,
              "#d8576b"
             ],
             [
              0.6666666666666666,
              "#ed7953"
             ],
             [
              0.7777777777777778,
              "#fb9f3a"
             ],
             [
              0.8888888888888888,
              "#fdca26"
             ],
             [
              1,
              "#f0f921"
             ]
            ],
            "type": "heatmapgl"
           }
          ],
          "histogram": [
           {
            "marker": {
             "pattern": {
              "fillmode": "overlay",
              "size": 10,
              "solidity": 0.2
             }
            },
            "type": "histogram"
           }
          ],
          "histogram2d": [
           {
            "colorbar": {
             "outlinewidth": 0,
             "ticks": ""
            },
            "colorscale": [
             [
              0,
              "#0d0887"
             ],
             [
              0.1111111111111111,
              "#46039f"
             ],
             [
              0.2222222222222222,
              "#7201a8"
             ],
             [
              0.3333333333333333,
              "#9c179e"
             ],
             [
              0.4444444444444444,
              "#bd3786"
             ],
             [
              0.5555555555555556,
              "#d8576b"
             ],
             [
              0.6666666666666666,
              "#ed7953"
             ],
             [
              0.7777777777777778,
              "#fb9f3a"
             ],
             [
              0.8888888888888888,
              "#fdca26"
             ],
             [
              1,
              "#f0f921"
             ]
            ],
            "type": "histogram2d"
           }
          ],
          "histogram2dcontour": [
           {
            "colorbar": {
             "outlinewidth": 0,
             "ticks": ""
            },
            "colorscale": [
             [
              0,
              "#0d0887"
             ],
             [
              0.1111111111111111,
              "#46039f"
             ],
             [
              0.2222222222222222,
              "#7201a8"
             ],
             [
              0.3333333333333333,
              "#9c179e"
             ],
             [
              0.4444444444444444,
              "#bd3786"
             ],
             [
              0.5555555555555556,
              "#d8576b"
             ],
             [
              0.6666666666666666,
              "#ed7953"
             ],
             [
              0.7777777777777778,
              "#fb9f3a"
             ],
             [
              0.8888888888888888,
              "#fdca26"
             ],
             [
              1,
              "#f0f921"
             ]
            ],
            "type": "histogram2dcontour"
           }
          ],
          "mesh3d": [
           {
            "colorbar": {
             "outlinewidth": 0,
             "ticks": ""
            },
            "type": "mesh3d"
           }
          ],
          "parcoords": [
           {
            "line": {
             "colorbar": {
              "outlinewidth": 0,
              "ticks": ""
             }
            },
            "type": "parcoords"
           }
          ],
          "pie": [
           {
            "automargin": true,
            "type": "pie"
           }
          ],
          "scatter": [
           {
            "fillpattern": {
             "fillmode": "overlay",
             "size": 10,
             "solidity": 0.2
            },
            "type": "scatter"
           }
          ],
          "scatter3d": [
           {
            "line": {
             "colorbar": {
              "outlinewidth": 0,
              "ticks": ""
             }
            },
            "marker": {
             "colorbar": {
              "outlinewidth": 0,
              "ticks": ""
             }
            },
            "type": "scatter3d"
           }
          ],
          "scattercarpet": [
           {
            "marker": {
             "colorbar": {
              "outlinewidth": 0,
              "ticks": ""
             }
            },
            "type": "scattercarpet"
           }
          ],
          "scattergeo": [
           {
            "marker": {
             "colorbar": {
              "outlinewidth": 0,
              "ticks": ""
             }
            },
            "type": "scattergeo"
           }
          ],
          "scattergl": [
           {
            "marker": {
             "colorbar": {
              "outlinewidth": 0,
              "ticks": ""
             }
            },
            "type": "scattergl"
           }
          ],
          "scattermapbox": [
           {
            "marker": {
             "colorbar": {
              "outlinewidth": 0,
              "ticks": ""
             }
            },
            "type": "scattermapbox"
           }
          ],
          "scatterpolar": [
           {
            "marker": {
             "colorbar": {
              "outlinewidth": 0,
              "ticks": ""
             }
            },
            "type": "scatterpolar"
           }
          ],
          "scatterpolargl": [
           {
            "marker": {
             "colorbar": {
              "outlinewidth": 0,
              "ticks": ""
             }
            },
            "type": "scatterpolargl"
           }
          ],
          "scatterternary": [
           {
            "marker": {
             "colorbar": {
              "outlinewidth": 0,
              "ticks": ""
             }
            },
            "type": "scatterternary"
           }
          ],
          "surface": [
           {
            "colorbar": {
             "outlinewidth": 0,
             "ticks": ""
            },
            "colorscale": [
             [
              0,
              "#0d0887"
             ],
             [
              0.1111111111111111,
              "#46039f"
             ],
             [
              0.2222222222222222,
              "#7201a8"
             ],
             [
              0.3333333333333333,
              "#9c179e"
             ],
             [
              0.4444444444444444,
              "#bd3786"
             ],
             [
              0.5555555555555556,
              "#d8576b"
             ],
             [
              0.6666666666666666,
              "#ed7953"
             ],
             [
              0.7777777777777778,
              "#fb9f3a"
             ],
             [
              0.8888888888888888,
              "#fdca26"
             ],
             [
              1,
              "#f0f921"
             ]
            ],
            "type": "surface"
           }
          ],
          "table": [
           {
            "cells": {
             "fill": {
              "color": "#EBF0F8"
             },
             "line": {
              "color": "white"
             }
            },
            "header": {
             "fill": {
              "color": "#C8D4E3"
             },
             "line": {
              "color": "white"
             }
            },
            "type": "table"
           }
          ]
         },
         "layout": {
          "annotationdefaults": {
           "arrowcolor": "#2a3f5f",
           "arrowhead": 0,
           "arrowwidth": 1
          },
          "autotypenumbers": "strict",
          "coloraxis": {
           "colorbar": {
            "outlinewidth": 0,
            "ticks": ""
           }
          },
          "colorscale": {
           "diverging": [
            [
             0,
             "#8e0152"
            ],
            [
             0.1,
             "#c51b7d"
            ],
            [
             0.2,
             "#de77ae"
            ],
            [
             0.3,
             "#f1b6da"
            ],
            [
             0.4,
             "#fde0ef"
            ],
            [
             0.5,
             "#f7f7f7"
            ],
            [
             0.6,
             "#e6f5d0"
            ],
            [
             0.7,
             "#b8e186"
            ],
            [
             0.8,
             "#7fbc41"
            ],
            [
             0.9,
             "#4d9221"
            ],
            [
             1,
             "#276419"
            ]
           ],
           "sequential": [
            [
             0,
             "#0d0887"
            ],
            [
             0.1111111111111111,
             "#46039f"
            ],
            [
             0.2222222222222222,
             "#7201a8"
            ],
            [
             0.3333333333333333,
             "#9c179e"
            ],
            [
             0.4444444444444444,
             "#bd3786"
            ],
            [
             0.5555555555555556,
             "#d8576b"
            ],
            [
             0.6666666666666666,
             "#ed7953"
            ],
            [
             0.7777777777777778,
             "#fb9f3a"
            ],
            [
             0.8888888888888888,
             "#fdca26"
            ],
            [
             1,
             "#f0f921"
            ]
           ],
           "sequentialminus": [
            [
             0,
             "#0d0887"
            ],
            [
             0.1111111111111111,
             "#46039f"
            ],
            [
             0.2222222222222222,
             "#7201a8"
            ],
            [
             0.3333333333333333,
             "#9c179e"
            ],
            [
             0.4444444444444444,
             "#bd3786"
            ],
            [
             0.5555555555555556,
             "#d8576b"
            ],
            [
             0.6666666666666666,
             "#ed7953"
            ],
            [
             0.7777777777777778,
             "#fb9f3a"
            ],
            [
             0.8888888888888888,
             "#fdca26"
            ],
            [
             1,
             "#f0f921"
            ]
           ]
          },
          "colorway": [
           "#636efa",
           "#EF553B",
           "#00cc96",
           "#ab63fa",
           "#FFA15A",
           "#19d3f3",
           "#FF6692",
           "#B6E880",
           "#FF97FF",
           "#FECB52"
          ],
          "font": {
           "color": "#2a3f5f"
          },
          "geo": {
           "bgcolor": "white",
           "lakecolor": "white",
           "landcolor": "#E5ECF6",
           "showlakes": true,
           "showland": true,
           "subunitcolor": "white"
          },
          "hoverlabel": {
           "align": "left"
          },
          "hovermode": "closest",
          "mapbox": {
           "style": "light"
          },
          "paper_bgcolor": "white",
          "plot_bgcolor": "#E5ECF6",
          "polar": {
           "angularaxis": {
            "gridcolor": "white",
            "linecolor": "white",
            "ticks": ""
           },
           "bgcolor": "#E5ECF6",
           "radialaxis": {
            "gridcolor": "white",
            "linecolor": "white",
            "ticks": ""
           }
          },
          "scene": {
           "xaxis": {
            "backgroundcolor": "#E5ECF6",
            "gridcolor": "white",
            "gridwidth": 2,
            "linecolor": "white",
            "showbackground": true,
            "ticks": "",
            "zerolinecolor": "white"
           },
           "yaxis": {
            "backgroundcolor": "#E5ECF6",
            "gridcolor": "white",
            "gridwidth": 2,
            "linecolor": "white",
            "showbackground": true,
            "ticks": "",
            "zerolinecolor": "white"
           },
           "zaxis": {
            "backgroundcolor": "#E5ECF6",
            "gridcolor": "white",
            "gridwidth": 2,
            "linecolor": "white",
            "showbackground": true,
            "ticks": "",
            "zerolinecolor": "white"
           }
          },
          "shapedefaults": {
           "line": {
            "color": "#2a3f5f"
           }
          },
          "ternary": {
           "aaxis": {
            "gridcolor": "white",
            "linecolor": "white",
            "ticks": ""
           },
           "baxis": {
            "gridcolor": "white",
            "linecolor": "white",
            "ticks": ""
           },
           "bgcolor": "#E5ECF6",
           "caxis": {
            "gridcolor": "white",
            "linecolor": "white",
            "ticks": ""
           }
          },
          "title": {
           "x": 0.05
          },
          "xaxis": {
           "automargin": true,
           "gridcolor": "white",
           "linecolor": "white",
           "ticks": "",
           "title": {
            "standoff": 15
           },
           "zerolinecolor": "white",
           "zerolinewidth": 2
          },
          "yaxis": {
           "automargin": true,
           "gridcolor": "white",
           "linecolor": "white",
           "ticks": "",
           "title": {
            "standoff": 15
           },
           "zerolinecolor": "white",
           "zerolinewidth": 2
          }
         }
        },
        "xaxis": {
         "anchor": "y",
         "domain": [
          0,
          1
         ],
         "title": {
          "text": "index"
         }
        },
        "yaxis": {
         "anchor": "x",
         "domain": [
          0,
          1
         ],
         "title": {
          "text": "value"
         }
        }
       }
      }
     },
     "metadata": {},
     "output_type": "display_data"
    }
   ],
   "source": [
    "# scree plot\n",
    "px.line(s**2)"
   ]
  },
  {
   "cell_type": "code",
   "execution_count": null,
   "metadata": {},
   "outputs": [],
   "source": []
  },
  {
   "cell_type": "code",
   "execution_count": 18,
   "metadata": {},
   "outputs": [
    {
     "data": {
      "application/vnd.plotly.v1+json": {
       "config": {
        "plotlyServerURL": "https://plot.ly"
       },
       "data": [
        {
         "customdata": [
          [
           "If By Chance"
          ],
          [
           "please"
          ],
          [
           "The Sun Will Come Up, The Seasons Will Change"
          ],
          [
           "Rain"
          ],
          [
           "Dear August"
          ],
          [
           "At My Funeral"
          ],
          [
           "buttercup"
          ],
          [
           "Reasons to Leave"
          ],
          [
           "Tall Paul"
          ],
          [
           "A Thousand Years"
          ],
          [
           "the author"
          ],
          [
           "Yellow Lights"
          ],
          [
           "Favourite Ex"
          ],
          [
           "Emergency Contact"
          ],
          [
           "Empath"
          ],
          [
           "Hold It Together"
          ],
          [
           "New Rules"
          ],
          [
           "Letting Go for a Little While"
          ],
          [
           "Headlights"
          ],
          [
           "Riptide"
          ],
          [
           "Crazier Things (with Noah Kahan)"
          ],
          [
           "Headstones and Land Mines"
          ],
          [
           "Love Is Letting Go (feat. Diane Keaton)"
          ],
          [
           "We Gotta Go"
          ],
          [
           "Falling Apart"
          ],
          [
           "My Life"
          ],
          [
           "Portland, Maine"
          ],
          [
           "Anyway"
          ],
          [
           "Reruns"
          ],
          [
           "Be"
          ],
          [
           "pinball"
          ],
          [
           "stuck in my head"
          ],
          [
           "Where Do I Go?"
          ],
          [
           "Hold Me"
          ],
          [
           "Brooklyn"
          ],
          [
           "Still"
          ],
          [
           "Little Do You Know"
          ],
          [
           "Coffee Stained Smile"
          ],
          [
           "Memory Lane"
          ],
          [
           "Alpine Green"
          ],
          [
           "human"
          ],
          [
           "Glad It's You"
          ],
          [
           "So It Is"
          ],
          [
           "Home for the Summer"
          ],
          [
           "Never Alone"
          ],
          [
           "Older Guys"
          ],
          [
           "Enough to Know You"
          ],
          [
           "Used To"
          ],
          [
           "nobody else"
          ],
          [
           "fly when i fall"
          ],
          [
           "Radioactive"
          ],
          [
           "Botl"
          ],
          [
           "Fall Apart Too"
          ],
          [
           "Another's Arms"
          ],
          [
           "How This Feels"
          ],
          [
           "Inside Out"
          ],
          [
           "Goodbye"
          ],
          [
           "Wrecking Ball"
          ],
          [
           "I Will Follow You into the Dark"
          ],
          [
           "Halloween"
          ],
          [
           "Oh Love"
          ],
          [
           "Crocodiles"
          ],
          [
           "When You Lose Someone"
          ],
          [
           "Better Place"
          ],
          [
           "Unknown Track"
          ],
          [
           "Falling"
          ],
          [
           "17"
          ],
          [
           "Wild Enough"
          ],
          [
           "Talk To Me"
          ],
          [
           "The Night We Met"
          ],
          [
           "Better On Your Own"
          ],
          [
           "I Wouldn't Change a Thing"
          ],
          [
           "Chosen Last"
          ],
          [
           "broken"
          ],
          [
           "Safe Places (Acoustic)"
          ],
          [
           "I Believe In A Thing Called Love"
          ],
          [
           "Balloon Boy"
          ],
          [
           "Home"
          ],
          [
           "The Only Exception"
          ],
          [
           "Secret"
          ],
          [
           "Make Us Never Happen"
          ],
          [
           "Codependent"
          ],
          [
           "The Art Of Getting By"
          ],
          [
           "Tuesdays"
          ],
          [
           "Out Of Love with You"
          ],
          [
           "Medicine"
          ],
          [
           "Never the 1"
          ],
          [
           "Let Her Go"
          ],
          [
           "Alignments"
          ],
          [
           "All of Me"
          ],
          [
           "Second Chances"
          ],
          [
           "Hopelessness Has Done Nothing for Me"
          ],
          [
           "Mother May I"
          ],
          [
           "hideous"
          ],
          [
           "Funeral"
          ],
          [
           "Just Because"
          ],
          [
           "Together Forever"
          ],
          [
           "Flowers"
          ],
          [
           "Bite The Hand"
          ],
          [
           "Hazel Eyes"
          ],
          [
           "Devil Swear I've Seen"
          ],
          [
           "jackie"
          ],
          [
           "Scared to Be Happy"
          ],
          [
           "can I call you back?"
          ],
          [
           "Even When You're Home"
          ],
          [
           "familiar stranger"
          ],
          [
           "Nothing's the Same"
          ],
          [
           "Where Are You?"
          ],
          [
           "for life"
          ],
          [
           "How"
          ],
          [
           "Carolina"
          ],
          [
           "Flight Risk"
          ],
          [
           "Lego Bricks"
          ],
          [
           "Wish It Would Rain"
          ],
          [
           "blue bird"
          ],
          [
           "1953"
          ],
          [
           "Mountaineer"
          ],
          [
           "Knock The Wind"
          ],
          [
           "Finish Line"
          ],
          [
           "I Don't Need You To Survive"
          ],
          [
           "ocean eyes"
          ],
          [
           "How Do I Tell You?"
          ],
          [
           "Need You Now - Acoustic"
          ],
          [
           "Sweet Connection"
          ],
          [
           "the first one"
          ],
          [
           "so much more than me"
          ],
          [
           "Gets Better"
          ],
          [
           "Hey There Delilah"
          ],
          [
           "Harsh"
          ],
          [
           "Always Almost"
          ],
          [
           "Rhythm Inside - Acoustic"
          ],
          [
           "Mirage"
          ],
          [
           "Are You Alright?"
          ],
          [
           "hit the dirt"
          ],
          [
           "Forget I Exist"
          ],
          [
           "Crumble"
          ],
          [
           "Meant To Be"
          ],
          [
           "wait it out"
          ],
          [
           "Forgetting Delaney"
          ],
          [
           "Soul Mate"
          ],
          [
           "Twenty Two"
          ],
          [
           "Forever Love"
          ],
          [
           "The Moon Song"
          ],
          [
           "Say You Won't Let Go"
          ],
          [
           "Nothing / Sad N Stuff"
          ],
          [
           "Boys Like You"
          ],
          [
           "You Are Gold"
          ],
          [
           "Anchor"
          ],
          [
           "Polaroid"
          ],
          [
           "State Lines"
          ],
          [
           "A Little More"
          ],
          [
           "Mr. Brightside"
          ],
          [
           "Shoot"
          ],
          [
           "Doomsday"
          ],
          [
           "Stormy Weather"
          ],
          [
           "In a Stranger's Arms"
          ],
          [
           "my fault"
          ],
          [
           "Crave"
          ],
          [
           "I Knew"
          ],
          [
           "Changing Tides"
          ],
          [
           "idk"
          ],
          [
           "ceilings - Spotify Singles"
          ],
          [
           "Giving Up Ground"
          ],
          [
           "Slow Fade"
          ],
          [
           "Winter Song"
          ],
          [
           "Opaline"
          ],
          [
           "No More Bad Days"
          ],
          [
           "Break With Me"
          ],
          [
           "forget me // so we can meet again"
          ],
          [
           "gold star"
          ],
          [
           "I Don't Want to Lose You"
          ],
          [
           "I Should Be a Bird"
          ],
          [
           "The Human Condition"
          ],
          [
           "denial"
          ],
          [
           "Walk Above the City"
          ],
          [
           "Seventeen"
          ],
          [
           "Blue"
          ],
          [
           "Dial Drunk (with Post Malone)"
          ],
          [
           "getting older"
          ],
          [
           "Renee's Song"
          ],
          [
           "2AM"
          ],
          [
           "By My Side"
          ],
          [
           "Soft Spot"
          ],
          [
           "16"
          ],
          [
           "Desperate"
          ],
          [
           "Older Than I Am"
          ],
          [
           "Story of My Life"
          ],
          [
           "Skyscraper"
          ],
          [
           "Fish"
          ],
          [
           "That's Us"
          ],
          [
           "Forever Ago"
          ],
          [
           "Through to You"
          ],
          [
           "Simple Things (feat. Christina Perri)"
          ],
          [
           "all i need (the distance song)"
          ],
          [
           "Slow"
          ],
          [
           "Paint"
          ],
          [
           "Break up Slow Dance"
          ],
          [
           "Good"
          ],
          [
           "Free"
          ],
          [
           "Is It Really Me You're Missing"
          ],
          [
           "everything everywhere always"
          ],
          [
           "Say Less"
          ],
          [
           "Whatever Makes You Want to Die Less"
          ],
          [
           "Part of Me"
          ],
          [
           "Meant To Be"
          ],
          [
           "Faith You Might"
          ],
          [
           "The Former"
          ],
          [
           "Hallelujah I Love Her So"
          ],
          [
           "Air So Sweet"
          ],
          [
           "Drop Dead"
          ],
          [
           "nobody likes a secret"
          ],
          [
           "putting a spin on sweater weather"
          ],
          [
           "i don't want to watch the world end with someone else"
          ],
          [
           "A Little Bit Yours"
          ],
          [
           "is your bedroom ceiling bored? (feat. Cavetown)"
          ],
          [
           "Let Light Be Light"
          ],
          [
           "swan song"
          ],
          [
           "sometimes"
          ],
          [
           "always, i'll care"
          ],
          [
           "Heavy"
          ],
          [
           "In What World"
          ],
          [
           "all my ghosts"
          ],
          [
           "Ordinary People"
          ],
          [
           "mountain"
          ],
          [
           "Stupid"
          ],
          [
           "Rockland"
          ],
          [
           "what if it's not"
          ],
          [
           "Thinking 'Bout Love"
          ],
          [
           "Stupid Deep - Acoustic"
          ],
          [
           "I don't mind if you don't mind (draft)"
          ],
          [
           "Heather"
          ],
          [
           "Where's My Love - Acoustic"
          ],
          [
           "called you again"
          ],
          [
           "i don't miss u"
          ],
          [
           "Moves"
          ],
          [
           "Minute Of Your Love"
          ],
          [
           "When It Kills Me"
          ],
          [
           "Swan Upon Leda"
          ],
          [
           "When All My Friends Move Away"
          ],
          [
           "drunk text me"
          ],
          [
           "If I Could Dance"
          ],
          [
           "Breakeven"
          ],
          [
           "Pass Me By"
          ],
          [
           "Alright"
          ],
          [
           "Luck"
          ],
          [
           "Haunt You"
          ],
          [
           "Points of View"
          ],
          [
           "All Too Well (Taylor's Version)"
          ],
          [
           "Wonder"
          ],
          [
           "I know it won't work"
          ],
          [
           "Colorado"
          ],
          [
           "Never Stop Loving You"
          ],
          [
           "Universe"
          ],
          [
           "Feels Like"
          ],
          [
           "Safe And Sound"
          ],
          [
           "Blue Spirits"
          ],
          [
           "Are You Listening"
          ],
          [
           "Nobody"
          ],
          [
           "OK"
          ],
          [
           "this is how you fall in love"
          ],
          [
           "Nail In The Coffin"
          ],
          [
           "Good as Gold"
          ],
          [
           "Like You Did Before"
          ],
          [
           "Black Converse"
          ],
          [
           "Align"
          ],
          [
           "somebody loves you"
          ],
          [
           "You Belong With Me (Taylor’s Version)"
          ],
          [
           "July (feat. Leon Bridges)"
          ],
          [
           "Dear Future Me"
          ],
          [
           "Gaol"
          ],
          [
           "Olive Branch"
          ],
          [
           "The Best You Had"
          ],
          [
           "Slow Motion"
          ],
          [
           "Half a Heart"
          ],
          [
           "reckless driving"
          ],
          [
           "They Just Exist"
          ],
          [
           "Only a Matter of Time"
          ],
          [
           "La Reyna"
          ],
          [
           "Frisky"
          ],
          [
           "I Was In Heaven"
          ],
          [
           "Too Much I Miss You"
          ],
          [
           "A Little Bit Longer"
          ],
          [
           "Cinematic"
          ],
          [
           "at least i'm pretty"
          ],
          [
           "Maniac"
          ],
          [
           "Brooklyn - Stripped"
          ],
          [
           "Mama Said"
          ],
          [
           "Lights"
          ],
          [
           "It's Always Been You"
          ],
          [
           "Rome"
          ],
          [
           "Seahorses Of Old Mexico"
          ],
          [
           "If I Can't Have You"
          ],
          [
           "Same Boat"
          ],
          [
           "better off"
          ],
          [
           "Die Young"
          ],
          [
           "Begging for More"
          ],
          [
           "Shameful Company - Live from Athens Georgia"
          ],
          [
           "All Good"
          ],
          [
           "Place We Were Made"
          ],
          [
           "Paper Planes"
          ],
          [
           "Infinitely Falling"
          ],
          [
           "She Will Be Loved - Radio Mix"
          ],
          [
           "Love Me Nicely"
          ],
          [
           "Old Love - Acoustic"
          ],
          [
           "In Your Circle"
          ],
          [
           "self sabotage"
          ],
          [
           "hate to be lame"
          ],
          [
           "Fall Again"
          ],
          [
           "Bees"
          ],
          [
           "Butterfly Rain"
          ],
          [
           "A Quiet Way"
          ],
          [
           "Breathe"
          ],
          [
           "Steady Love"
          ],
          [
           "Being Alone"
          ],
          [
           "Zach's Ballad"
          ],
          [
           "Afterglow"
          ],
          [
           "Wii Date"
          ],
          [
           "Happier"
          ],
          [
           "Close to Her"
          ],
          [
           "Save Us"
          ],
          [
           "champagne problems"
          ],
          [
           "The Way I Love You"
          ],
          [
           "Happily Ever After"
          ],
          [
           "Drove To The Ocean"
          ],
          [
           "Tin Lover"
          ],
          [
           "When You're Gone"
          ],
          [
           "what if we met on the moon?"
          ],
          [
           "Just Wanna Be Your Friend"
          ],
          [
           "I'm with You"
          ],
          [
           "Vanilla (Stairwell Version)"
          ],
          [
           "I Just Really Hope You Exist"
          ],
          [
           "justacow (demo3)"
          ],
          [
           "Tired"
          ],
          [
           "Tobacco In My Sheets"
          ],
          [
           "Call It a Night"
          ],
          [
           "happy for you"
          ],
          [
           "Molly"
          ],
          [
           "Worst of You"
          ],
          [
           "How Can You Not"
          ],
          [
           "Into Yellow - Piano Version"
          ],
          [
           "4 + 20"
          ],
          [
           "Brave Face"
          ],
          [
           "Say Love"
          ],
          [
           "Look Back & Laugh"
          ],
          [
           "Hearts on Fire"
          ],
          [
           "Hurt Again"
          ],
          [
           "Spaceship (Bonus Track)"
          ],
          [
           "To Love Someone Else"
          ],
          [
           "What They'll Say About Us"
          ],
          [
           "What Can I Do"
          ],
          [
           "Megan’s Song"
          ],
          [
           "Asking the Aspens"
          ],
          [
           "Omni"
          ],
          [
           "Live Cinema"
          ],
          [
           "do you wanna leave this city ?"
          ],
          [
           "I Should’ve Danced More"
          ],
          [
           "Clocks"
          ],
          [
           "Crosswords"
          ],
          [
           "Turns Out"
          ],
          [
           "Round & Round"
          ],
          [
           "Superspreader"
          ],
          [
           "Best Part of Me"
          ],
          [
           "Witness - feat. Rajiv Dhall"
          ],
          [
           "Take Me Back"
          ],
          [
           "Bloom - Bonus Track"
          ],
          [
           "Blue Eyed Baby"
          ],
          [
           "we'll be fine"
          ],
          [
           "Idle Sympathy"
          ],
          [
           "Who's She"
          ],
          [
           "pass you by"
          ],
          [
           "warm blood"
          ],
          [
           "To the Mountains"
          ],
          [
           "If I Had Stayed"
          ],
          [
           "Vienna"
          ],
          [
           "Lately I've Been Sad"
          ],
          [
           "Cellophane"
          ],
          [
           "405"
          ],
          [
           "MISC."
          ],
          [
           "As a Child"
          ],
          [
           "Closure"
          ],
          [
           "Clockwork"
          ],
          [
           "Silver & Gold"
          ],
          [
           "Through"
          ],
          [
           "Pictures of You"
          ],
          [
           "snail / alwase"
          ],
          [
           "If I Could"
          ],
          [
           "Fireflies"
          ],
          [
           "Another Round"
          ],
          [
           "erase me"
          ],
          [
           "No Fun"
          ],
          [
           "wish I didn't know you"
          ],
          [
           "Better Now"
          ],
          [
           "Only Know How to Love You - with Annika Bennett"
          ],
          [
           "Say (feat. Jake Meadows) - Acoustic Version"
          ],
          [
           "Stuck With You - Acoustic"
          ],
          [
           "Love Brought Weight"
          ],
          [
           "Same Room"
          ],
          [
           "Pineapple"
          ],
          [
           "got me thinking"
          ],
          [
           "Ant Pile"
          ],
          [
           "Love Is Just a Way to Die"
          ],
          [
           "Run Awhile"
          ],
          [
           "Hailey"
          ],
          [
           "Every Time"
          ],
          [
           "Loving & Losing"
          ],
          [
           "I Think I"
          ],
          [
           "Pieces"
          ],
          [
           "Black Coffee - Unplugged"
          ],
          [
           "the stars"
          ],
          [
           "we fell in love in october"
          ],
          [
           "Still Something"
          ],
          [
           "Nirvana"
          ],
          [
           "Hey, Soul Sister"
          ],
          [
           "What Would I Do Without You"
          ],
          [
           "Standing in the Rain"
          ],
          [
           "Dial Drunk"
          ],
          [
           "glued to the floor"
          ],
          [
           "When You Love Someone"
          ],
          [
           "oh, mexico"
          ],
          [
           "Tell Me That You Love Me"
          ],
          [
           "Red Eye"
          ],
          [
           "Kill Bill"
          ],
          [
           "ilym (feat. ROSIE)"
          ],
          [
           "a message to that girl i fell in love with."
          ],
          [
           "Apart From, a Part Of, You."
          ],
          [
           "Alexandria (Slowed)"
          ],
          [
           "Immune"
          ],
          [
           "What Am I Gonna Do On Sundays?"
          ],
          [
           "what a shame"
          ],
          [
           "DJ Got Us Fallin' In Love (feat. Pitbull)"
          ],
          [
           "Playing God"
          ],
          [
           "In Love Now"
          ],
          [
           "sydney"
          ],
          [
           "Work Off My Hurt"
          ],
          [
           "Witness"
          ],
          [
           "Lovely Days"
          ],
          [
           "Kaleidoscope Tears"
          ],
          [
           "Good Mourning"
          ],
          [
           "Arms"
          ],
          [
           "Älskar"
          ],
          [
           "you were good to me"
          ],
          [
           "Oh Well"
          ],
          [
           "Time After Time - Spotify Singles"
          ],
          [
           "multiverse"
          ],
          [
           "You & I"
          ],
          [
           "Free"
          ],
          [
           "Long Sleeves"
          ],
          [
           "Concrete"
          ],
          [
           "pennies (voice memo)"
          ],
          [
           "Pyjamas (feat. Remi Wolf)"
          ],
          [
           "Fiona"
          ],
          [
           "Somebody Else"
          ],
          [
           "Remember you were the one"
          ],
          [
           "I miss you, I’m sorry"
          ],
          [
           "Chicago"
          ],
          [
           "Somebody"
          ],
          [
           "Mum"
          ],
          [
           "Tonight"
          ],
          [
           "Muffin"
          ],
          [
           "You Can Only Go in Pieces"
          ],
          [
           "November Son"
          ],
          [
           "On God"
          ],
          [
           "break up with a friend"
          ],
          [
           "Jealous of Paris"
          ],
          [
           "Counting Stars"
          ],
          [
           "All I Want"
          ],
          [
           "Things I Say When You Sleep"
          ],
          [
           "Retail Therapy"
          ],
          [
           "Straight into Your Arms - Bonus Track Version"
          ],
          [
           "False Art"
          ],
          [
           "Crashing into You"
          ],
          [
           "A Change Is Gonna Come"
          ],
          [
           "I Melt with You"
          ],
          [
           "Picture Perfect"
          ],
          [
           "Is She Gonna Be There?"
          ],
          [
           "Like A Stone"
          ],
          [
           "fall out of love"
          ],
          [
           "I Like You"
          ],
          [
           "More Like You - Piano Version"
          ],
          [
           "Two Punks In Love"
          ],
          [
           "It Hurts Too Much To Speak"
          ],
          [
           "Rich Boy"
          ],
          [
           "Yours"
          ],
          [
           "ocean"
          ],
          [
           "Crying Over You"
          ]
         ],
         "hovertemplate": "pc1=%{x}<br>pc2=%{y}<br>pc3=%{z}<br>trackName=%{customdata[0]}<extra></extra>",
         "legendgroup": "",
         "marker": {
          "color": "#636efa",
          "symbol": "circle"
         },
         "mode": "markers",
         "name": "",
         "scene": "scene",
         "showlegend": false,
         "type": "scatter3d",
         "x": [
          0.5621056857736153,
          1.716795270488309,
          -2.401405227929669,
          0.9551577664289835,
          -0.5231122813781959,
          -0.12464719616353095,
          -0.3315565656029683,
          -0.01683746499652425,
          -2.112330721734223,
          -0.23413309033137866,
          1.4664150397399391,
          2.1991504777789492,
          1.6916931602636878,
          0.8240729206088724,
          1.463435223275142,
          0.4240090151332057,
          -4.279338801103839,
          0.4825306687924096,
          0.3244447495800975,
          -2.256617161083936,
          0.6350277690312236,
          2.459386902647299,
          0.3314354791090427,
          -0.1457631723161485,
          -0.021154607573923217,
          0.2541561838179208,
          1.3235814001133572,
          0.5778429357915401,
          0.8793629378859691,
          -0.6073974797825213,
          0.8149891511793271,
          0.6490344702612534,
          2.5855519649788423,
          -1.9136009257706128,
          -0.10688546754181677,
          1.5600061709720203,
          -0.09476417075095842,
          3.066846417775955,
          1.7404853023445217,
          2.152649347427228,
          -1.5617766660285273,
          1.1386252232728682,
          1.8490249423074532,
          -1.011559275553396,
          0.7252169682763867,
          -0.22587648714416436,
          0.3251380480528314,
          -0.8439464919716027,
          0.4900148039199098,
          -0.09358508111713174,
          -3.311559173597467,
          0.4135573736435184,
          -1.4273227028062758,
          -0.23375992214068672,
          1.098071618406314,
          0.13996871706262984,
          -0.3780355424999537,
          -1.329843518989591,
          0.683160038893103,
          -0.7655681583543796,
          0.4704974745379695,
          -0.6958804600962144,
          -0.9612125769437838,
          -0.13883370599912662,
          5.838603862365794,
          0.5664828680004413,
          -1.6567852915505619,
          0.9532531402192506,
          2.3404259488926193,
          0.9974296770497152,
          -2.6452696873624477,
          0.15036004441006687,
          -1.1586332859654767,
          0.16539159421393546,
          0.34095146194914594,
          1.7874189437364252,
          -0.20451691963170318,
          1.9048393664663552,
          1.6429904667457662,
          1.6187530768615686,
          -2.0123915345889927,
          1.1572881458006252,
          1.0043962009395317,
          -0.3605755406102917,
          1.04596620222824,
          -1.198371063812401,
          0.05632539621352752,
          -1.3322982100140812,
          0.7104906573523585,
          0.4164226352904796,
          1.3053442810263003,
          0.37638508390073433,
          0.22498511188268747,
          -1.4567266145874485,
          1.7727511159057128,
          -1.8631399368111434,
          0.5805751125733788,
          -0.700999168243721,
          -0.9048048129335722,
          0.4804612659393139,
          0.37079198419611326,
          -1.3476803860033495,
          -0.7264183759021294,
          0.7249341439406239,
          -1.7779217702304375,
          -0.8487782449968396,
          -0.8317768745247495,
          0.7635839314892292,
          -0.32385449665315624,
          1.8174518105668733,
          3.391992404529412,
          1.1014662913530897,
          1.0279815268667145,
          -0.09635792665572956,
          0.19044361539651655,
          0.4652655126843358,
          1.6345063670713453,
          0.22223332380165495,
          1.3347787477590165,
          1.9131520204773615,
          0.06227687422092927,
          1.9344493093280797,
          0.026080291628868237,
          2.9902074300135957,
          -0.5984276642874568,
          0.46596329840662276,
          -1.1025208391909782,
          0.37346523111443886,
          -0.6818723588720277,
          0.10823578693145428,
          -1.091813139370698,
          0.7809177565115063,
          2.938889715702967,
          -0.8990562643742664,
          -0.2745792847572174,
          1.4914276695592388,
          2.7567413525311926,
          0.29489289243174166,
          -0.13331854625193068,
          0.28324083680711415,
          0.8135093981731664,
          -1.7204667905886784,
          1.7214357436272516,
          -0.9389611694550888,
          1.6581627809373773,
          -2.196023651996174,
          1.8929817575433265,
          2.047044136751722,
          -1.5288599706320574,
          1.9079273937591799,
          -0.34739133426081464,
          -3.162351097802547,
          2.8554867984765444,
          0.756742068917576,
          -2.0452602113552776,
          -0.9050750514293839,
          0.7323373906687115,
          -0.04828887067712114,
          1.6124633652174698,
          -1.049873190942784,
          0.4524052230364128,
          2.391698064413268,
          0.14119239187237942,
          -0.384544817560904,
          1.146946735695849,
          0.9330875359314257,
          -0.8280835709505125,
          0.805807333695496,
          1.2104114617494244,
          0.6232751855480003,
          0.06188324351609991,
          -0.6599746463041292,
          -3.104570298083831,
          0.5205680388071962,
          1.9086543606114923,
          0.5265875064101954,
          1.8197427899190073,
          -3.2321171498985852,
          -1.9893603050836397,
          0.08069267498606031,
          -0.5254049751665743,
          2.87669191954877,
          1.2211598495429312,
          -4.311004146648025,
          -4.3853235209796715,
          1.14531973176445,
          -2.466691549078671,
          -2.177018858129721,
          3.353279694113513,
          1.7226077716763242,
          2.445859336879564,
          0.13045891409457525,
          -3.366929986989953,
          1.5586032749396144,
          0.802494084356013,
          1.3375341609557596,
          -0.7775310347587286,
          -0.5000102491523208,
          1.4850349508205607,
          0.028036682604342306,
          0.07221024774283484,
          -0.009354592470471369,
          -2.2937917930728213,
          -1.995285800178919,
          1.2727340867535748,
          -0.5310720351092206,
          2.291510721991679,
          2.3682982698003903,
          2.6152032825086455,
          -0.3819396404467962,
          2.1647526189286985,
          3.5579960866584535,
          -0.497618554680792,
          0.10683374342923148,
          -0.9267506137493675,
          1.0551722871300768,
          2.8836226328485974,
          2.118008836285717,
          0.029513948512577857,
          -1.1958235230214675,
          3.6994868695003866,
          -1.138288038790334,
          2.307245271008754,
          2.702012078481186,
          2.060931147749779,
          -0.11461539830472844,
          -0.8074350236721052,
          -1.0750914294094456,
          0.7436571805479216,
          1.2887427179600264,
          -0.12503342173607856,
          1.1531595633894753,
          0.3199325991716006,
          2.149966251954413,
          -1.1436313525446777,
          1.6756202419317072,
          0.40434875910250817,
          0.5283799111529659,
          0.6306351502224189,
          -1.3194795354960283,
          -0.9396288084820177,
          -3.1065142327484074,
          -0.6740619231434485,
          0.921094332140917,
          2.069798445985245,
          -0.943398639395375,
          2.2538237098256495,
          -1.944579423274104,
          0.4680464611934496,
          -2.0084871242253195,
          -0.2606009765897585,
          2.0666422755242633,
          0.9466536149287913,
          -0.44886655977076967,
          -4.85256714519701,
          -2.174289952838442,
          -3.1876363471706672,
          1.357644604471297,
          1.1039035473867107,
          1.5457801341990653,
          -0.8036873845366567,
          -1.4461298071448,
          1.7130559525503304,
          -0.9533871449224056,
          -0.38321977661742324,
          -3.530556526673665,
          -3.5351494047261305,
          0.2824751205722011,
          -3.111251237548059,
          0.508638298739689,
          0.17782564527991612,
          -2.2374291211478914,
          -2.589397622496496,
          -3.007996720279789,
          -1.2845634114546196,
          0.11629545286421804,
          -0.004862412636775297,
          0.7924199517496531,
          -3.391280956434106,
          1.129275356327819,
          -0.2654938263810513,
          -0.5901221816182229,
          -0.1861045805616767,
          -1.6436928064264942,
          -1.4232906438787118,
          1.1467369892762245,
          -1.847490408179255,
          2.169046550012364,
          0.046559177704271475,
          -0.9180243794178565,
          0.2783396776028965,
          -4.286044919683079,
          1.6518276704775798,
          -0.05485680272139785,
          -4.811406498158263,
          0.18674952328713135,
          -2.409104018720757,
          1.7112128072401633,
          0.64413493918644,
          -0.07095337800372617,
          -3.302367907581849,
          -3.1932063229580767,
          1.282538884636351,
          0.25122169691731017,
          1.1248343671080445,
          -1.142155701974655,
          1.6249222279916795,
          1.42350047544106,
          1.1331889428535442,
          -0.9625504102188701,
          1.5013164023207826,
          0.24874479301558558,
          -0.6741160134091262,
          -2.3739721247787116,
          1.394249120578515,
          0.9927316768334504,
          -3.428773876571634,
          -0.6145776993173426,
          0.5323314688287657,
          -3.9499949983366296,
          0.8743990787570316,
          0.568071599973707,
          -3.090503107857797,
          -0.515645609977132,
          4.47588430001121,
          0.5285521749935702,
          1.5825860382974315,
          -2.2929155001702606,
          0.1062978565291115,
          0.2899522398898201,
          1.598575339587885,
          -0.38412805525195015,
          -0.43259299295057896,
          0.4998965758849979,
          -0.9300119370574264,
          -0.07637742227267424,
          -0.8643887142168172,
          -1.1220966748580434,
          -2.541317649045882,
          1.7796666749917414,
          3.247642042854824,
          1.3702041349672407,
          -2.883290252492258,
          0.14684925025341222,
          0.7194457018061421,
          -1.745298061928359,
          0.21151464125068067,
          0.4907585967412782,
          1.0955790872463447,
          0.47723642241555797,
          0.7501655043333227,
          0.3480425652719368,
          -1.952583065479054,
          0.5739641260885039,
          -1.3551233406682766,
          -0.30994296764161045,
          -2.109869119397016,
          0.006639741449976676,
          0.038874152245030665,
          1.1368963714594331,
          -0.7891825392348519,
          0.7591303819663826,
          0.4823907607202673,
          0.8307928696326341,
          -0.05155751414545646,
          0.6100880643521684,
          1.1189511082244856,
          3.9376138011109147,
          0.7910711971261898,
          -0.1489892228636869,
          -3.6389066032888437,
          2.9422455685942936,
          1.0856730325194306,
          2.015105155815263,
          -1.269213837648946,
          1.0466220679551999,
          0.44896444171128963,
          0.9201640632872802,
          1.120755247547597,
          1.0919369052680843,
          0.416186475989838,
          -2.6827717718022432,
          -1.0395929823847536,
          1.2478723368111309,
          1.2424153256852586,
          -1.92883041018726,
          -3.0414339567705104,
          1.2037584542886655,
          -0.8179265671377732,
          2.333535475888219,
          0.5806179028798049,
          0.49796496151158065,
          -0.5606163365847582,
          1.1997092368439404,
          0.5999581672357324,
          2.120782787844759,
          -0.39439888448337307,
          1.124144132261336,
          0.8711832873253639,
          -5.207032671208035,
          -0.8626825863102888,
          -1.654130072512779,
          -0.4801668480239423,
          0.11815351112237521,
          3.2019897311044145,
          -0.6541691886096731,
          0.18249882913048074,
          1.5431396041697567,
          -0.0009086479744956486,
          -0.44142673233825297,
          -1.031813704100891,
          -0.5401279609989625,
          -4.744115367871043,
          0.3616524547389834,
          2.079387201814501,
          -3.2321171498985852,
          0.586454788651427,
          -1.7996205022613803,
          0.43756961546658535,
          -0.44055456649608565,
          -1.5926973311387327,
          -2.9906427653616388,
          0.9254982239336196,
          3.444863340911068,
          0.3068201832587341,
          1.1998008298634266,
          -1.1703700653510154,
          -1.0194727455879145,
          -0.041181224159531245,
          -4.9817931291247834,
          0.36206727503608893,
          0.8499563422439941,
          -0.18770837526482462,
          -1.584556872335958,
          1.0811576634982822,
          -1.3605359754629431,
          2.0042138802114295,
          1.5924218531609615,
          2.6406268221860434,
          -1.5740460049538647,
          2.1631977032920275,
          2.695883181374438,
          -1.1270553019086114,
          -0.37830720849688076,
          -1.4338164289133124,
          -3.362680180056968,
          1.120505907442945,
          -1.3739886122424438,
          0.5366361928483894,
          -3.050059872478637,
          -1.9296878486022526,
          -0.588631218990138,
          -2.9964918975449826,
          -0.2176324897728653,
          -0.03393873679599533,
          -4.651508661693596,
          -0.8812507269599171,
          -4.627312019240067,
          0.08411656909741541,
          0.8497221265099602,
          0.7117913047738167,
          2.384085318726932,
          0.6771068197382182,
          0.6425416866597825,
          -3.773185837494349,
          0.4258863108071442,
          -0.052741586345998515,
          0.16728439993800925,
          -2.75176328944569,
          -0.26368699728182715,
          -1.977042438889974,
          0.3878786582016772,
          -3.3824532751544667,
          1.0120838575024225,
          -0.028558321464238118,
          0.7170270564613387,
          0.04584280492029185,
          -0.7736489568986251,
          0.2560994643747969,
          -1.3495047567605138,
          0.4838724247034976,
          -0.9961723259371059,
          1.253746625089248,
          -0.2529861896053895,
          0.17317251166960315
         ],
         "y": [
          -1.9565316460318334,
          1.6328787638317297,
          0.6112465490869092,
          -0.04102942060942442,
          -0.09217416334805596,
          0.19614078339575983,
          0.7330792777372424,
          0.33842336215597246,
          1.4603085542639118,
          -2.607828607633689,
          -0.7509980433820426,
          -0.20447956637621223,
          -0.7138065385881387,
          0.18143200736377513,
          -0.539252682893971,
          0.7024925245072842,
          1.0795299575255886,
          -0.672658858524387,
          -0.7264485380282724,
          -1.0000757935049047,
          -0.4428443848809507,
          0.2846738510775946,
          0.7766025641238542,
          -1.4519899030911831,
          0.3363417581309484,
          0.436004495445088,
          -0.7671601332323164,
          -1.1059357270376464,
          0.17018042560606644,
          2.618945164347279,
          0.18069510436039585,
          -0.06396694163730791,
          -0.3542202130434411,
          -0.7063357745597659,
          0.3213491424227741,
          -0.7570538528232812,
          -0.4143892027798927,
          1.0355598201412748,
          0.7907883601787591,
          1.065852947060827,
          -2.089685049152314,
          0.03666531608765564,
          -0.5265363164165076,
          0.5428813106656377,
          1.334732060226352,
          -1.9818204799021066,
          -1.231007580633059,
          5.112088318730164,
          -0.042807790130413734,
          -1.48762154832709,
          -0.6151484862418758,
          -0.01820022569784971,
          0.5541325355831654,
          0.019641849231203972,
          0.09357249465205547,
          0.7212761320121455,
          -1.2268146538967888,
          -1.2368456880808623,
          0.47601073214434997,
          0.14316877844828174,
          0.831814182110298,
          0.028762788018070844,
          -0.9145936158613875,
          -0.4007966397419309,
          1.7022514913809657,
          -1.4750116143701562,
          0.3200403598319612,
          0.43639054694343343,
          -0.05904403178954823,
          -0.5720821756306942,
          0.08413888628265435,
          -0.058690502443958695,
          -0.8808293279114154,
          -0.2639019142415454,
          -0.5810912149060196,
          -0.31741353804968525,
          1.2191108643997384,
          0.3554120915370083,
          -0.8582273568385637,
          2.965000274833807,
          2.0408338458623856,
          -1.0799961186526859,
          -0.070390862693607,
          -0.11998818683694706,
          -0.14783290052816278,
          -1.0211513739448166,
          2.5181758529433798,
          -1.382935322131556,
          0.1420760183475389,
          -1.3911889360584038,
          -1.7280360597655426,
          1.2958708385089743,
          -0.7121284418730038,
          -0.6194037971824314,
          -1.1115344111979746,
          2.2127403251123137,
          0.6403950254029465,
          -0.42700533380189304,
          -1.1310438618108536,
          2.0437853219339863,
          -0.11348915706971609,
          1.5035527388301935,
          -0.34011472146537264,
          0.9205296102136417,
          0.03709572082513288,
          0.5016101257618326,
          1.0037140983965476,
          0.6695940760122033,
          0.3970648707645887,
          1.6783025369554463,
          -2.0971331048080897,
          0.41620598789947344,
          -0.6194330720794085,
          0.642758297990439,
          -0.40537106086218894,
          -0.32069528762782973,
          -1.2448186006715407,
          0.5557398617602869,
          0.6403927697893173,
          1.9868354997813429,
          -0.4533045055233651,
          0.7583646262190789,
          0.4828535181508466,
          0.48949710382160366,
          1.3177257072275945,
          -0.4332597909779513,
          -0.1306585863695354,
          -0.38726357942915735,
          1.2100161967856669,
          -0.5389645616778722,
          0.2251088394345886,
          1.772739426730038,
          -0.1278126290844716,
          0.14293636424534054,
          0.18713251883876436,
          -0.6770480458867258,
          -0.250495557691342,
          -0.8197019739089022,
          0.6024786557892647,
          -1.246595072061914,
          -1.757781652319358,
          -2.2689276884041236,
          -1.2159814793525303,
          -0.6136614537710529,
          -1.6964467846998958,
          6.755420578854968,
          -0.6791233396866666,
          -2.7591250437396444,
          -1.6566788858453376,
          -1.0034884619264477,
          -0.4017851083910287,
          -2.366600058095475,
          -0.4354610469266612,
          -0.20260064835569314,
          1.9115986217498562,
          -0.895706915919024,
          2.1160439168871834,
          -0.9697182080751039,
          -0.07688526341905585,
          -0.08250478687462104,
          -0.6916272614066978,
          -0.3669239814593923,
          1.1138838875514758,
          0.27788429853649765,
          -0.589227273638013,
          -1.2013314112498974,
          -0.1466898877900684,
          0.2306675623522817,
          0.32926485513907416,
          1.1305637458038373,
          -0.16911504514874437,
          0.08909918263443511,
          1.0780191047921786,
          -0.25900119324287624,
          -0.8974457218324734,
          -0.8031035041661748,
          -0.060829076920666775,
          -0.34896097460125464,
          1.560201082224727,
          0.9183516381360538,
          -2.4197259337168533,
          -0.7677966418363475,
          1.484864984102327,
          1.2221267471004662,
          0.5382466715285328,
          -0.31996011810514186,
          -1.6068752334807304,
          -1.867034548356675,
          1.2171307528212765,
          -0.014629914504065056,
          -1.4464609019607302,
          -0.46512088431166765,
          -0.28125617597114205,
          0.6654441393638764,
          0.48082153519800885,
          -0.10233578251847926,
          -0.9931205322812746,
          0.7969972378596838,
          0.5456581256703469,
          -1.047723851008614,
          0.003001429224424837,
          0.963803480485223,
          -1.7552916882116496,
          1.7693799639389065,
          0.7489446613203173,
          -0.6960036852003644,
          -1.044442412980047,
          0.40813788894666997,
          1.4432884236642527,
          -0.9171170720438435,
          1.9918165389623113,
          0.30637443110612655,
          0.3221505935679563,
          -0.7833995985621504,
          0.36266583508290434,
          0.7681591613294156,
          -1.2579358007790842,
          -0.9361663849838981,
          2.3423717946137135,
          0.4432941411629286,
          -0.36530083457185647,
          0.8105973175122007,
          -0.889150573241252,
          -0.4755652633171727,
          -0.13673967377912263,
          -0.13503635774759673,
          0.4063872894921523,
          -0.07545695428982852,
          -1.192548370613366,
          0.8910879193580781,
          -1.2362131695782095,
          -0.8295830959123802,
          0.35125699544117844,
          -0.26405895163812115,
          -0.4757753053148226,
          1.2745926890162895,
          -0.6764697138631172,
          -2.756673368795876,
          0.5644848929252706,
          -1.645786939757546,
          -0.25667731040135555,
          -1.5828355890982366,
          1.188658263299088,
          1.3358956688952768,
          0.7524007327196042,
          0.06513812049644434,
          -0.7074559205491388,
          -5.791480311629898,
          -1.977794317027101,
          0.3510448270264249,
          1.6809889755655132,
          -0.5121505695814513,
          -1.123541638730648,
          0.16833950255867897,
          -0.5755020256761088,
          0.07098826239518585,
          0.49245767862262474,
          1.7274709908254826,
          0.00686128069873061,
          0.17402292683227985,
          -1.177899104822166,
          -1.6342848281331996,
          1.2125603841238035,
          0.2843292493156835,
          -1.5559798276314956,
          2.5823040677444977,
          -1.4095397914978027,
          2.168634502557371,
          -0.637029216814024,
          1.725706236671231,
          -2.0904672274168994,
          0.7159096677841815,
          0.5267090589783496,
          -1.3121953875320214,
          2.7688230286488595,
          0.6299405353139523,
          0.10526295818366196,
          -0.8997329968047324,
          1.8587599100919,
          -1.8350762105987746,
          0.6581350982490685,
          0.4227603390416543,
          0.4525621015770927,
          1.5178884733849418,
          0.13051095433233623,
          0.41789794570123234,
          3.0508113133723804,
          0.07645427788263459,
          -0.3273330880113506,
          -1.2890984102250038,
          1.3058262936310256,
          0.4615218156438226,
          -0.07654387395432695,
          1.8634860158809046,
          0.6466875727904046,
          -0.28058546790590794,
          -0.6373189968101595,
          -0.6910682790279559,
          -0.9417797075317496,
          0.08462332440174623,
          -0.5581386741711489,
          -0.903492920665605,
          0.5782641968600511,
          0.00876427097120548,
          0.5756940386601753,
          -1.0523266619999672,
          1.8647669799005178,
          0.2205485512118841,
          0.3032308190107201,
          3.011197725296642,
          -0.5592521894590201,
          0.39239985574467967,
          -0.5707263550953106,
          -0.0813410862371562,
          0.7330378364643232,
          -0.3936133711657248,
          4.714744018472452,
          -1.3288120701743316,
          -1.2497664649783895,
          -0.4878796960019744,
          -0.9379613597032356,
          0.42268836406638954,
          -2.1061570232182327,
          -0.521940170490914,
          -0.7546677106792578,
          0.9632201501178206,
          2.3539029270730327,
          2.204324064041882,
          -0.378469015340396,
          -0.5668845760756112,
          0.004192309325082195,
          0.46853160680467953,
          3.031773652440304,
          -0.04940392250952473,
          0.28501808532636363,
          -0.026178324726070644,
          2.2086566317516327,
          -0.06594918766275736,
          -1.4147670008663233,
          0.06788031049067866,
          1.4972167346499767,
          0.051882301060807365,
          0.3247744919844505,
          0.04993742106490307,
          -1.2491514523317686,
          -0.5175408722764273,
          0.2144826196534557,
          -0.4007581662141317,
          0.7059889932590426,
          0.519213249961737,
          -0.6179917364631675,
          -0.0009096117487799909,
          0.4022623198786582,
          1.5452825123198437,
          -0.2054863700483399,
          -1.129729049130799,
          -1.5161110442565393,
          1.3835603882333438,
          -0.158115710924606,
          0.2227302707159132,
          0.3570468891755319,
          -0.721967808954209,
          -0.7733615089135594,
          -0.3358248003924872,
          -0.3185677774668906,
          0.2901768696328153,
          -0.5564110077375009,
          -0.058946242399110706,
          0.7189310129075017,
          -0.5892133507770925,
          -2.149282389190839,
          -0.4748209906226966,
          1.2875568186137063,
          0.9760927086212359,
          1.9514114723923215,
          -0.34435675357151363,
          0.6206577615374436,
          0.21839309779226415,
          -0.42244885367945056,
          1.2837144887036742,
          -0.19448952326072358,
          -1.097516558531421,
          -0.958158384104276,
          -0.329554948928112,
          0.6449297079388701,
          2.5059588402942268,
          -1.5593304548910547,
          0.5193838320489923,
          -0.018479980246608407,
          -0.8126929116784196,
          -0.6250385654582761,
          -0.007327644246866202,
          1.583115699110666,
          0.05566421632837417,
          2.0086983690820914,
          -1.5158838752380028,
          -0.3943766955941565,
          0.8002194527625612,
          -1.1612766177705014,
          1.6455538447275866,
          -2.0527127107938132,
          -0.3082044239594083,
          -0.1615950062782423,
          0.9634355847317633,
          0.7973343102782611,
          0.1862761484101069,
          -0.7648875581155026,
          2.0390266026806274,
          0.7450192094384388,
          -0.9130000757227422,
          -0.02605293561446128,
          -2.1508056078341693,
          0.23225320885942605,
          0.49252343437841833,
          -0.655399756149969,
          -0.34896097460125464,
          1.0822736907711181,
          -0.9136261618724749,
          1.084209455474558,
          -0.5449536346140444,
          -2.5991934436708926,
          -0.5205790311207268,
          -1.8832713998515864,
          0.8347161751227412,
          1.0142062449470601,
          2.2888494538826745,
          -1.0027086407587056,
          -1.1645609661478256,
          0.4324558621305683,
          0.8986893555699264,
          -0.03353852893064098,
          -1.6853562864201383,
          0.22047687746676656,
          -1.4331365449468643,
          -1.0096996352742469,
          0.6589634294591116,
          0.1935553084260834,
          -0.5355456590699255,
          -0.2935321357575666,
          -1.1957980771357755,
          0.09794742604266625,
          -0.38849749776356424,
          -0.7239765435744732,
          -0.198810986671344,
          -1.526976151256449,
          -1.2017562444046537,
          -0.9711881011090525,
          1.3208088409591563,
          0.11917328672120617,
          2.0817416084111318,
          2.0053455152884476,
          2.552511984671275,
          0.4192606141545556,
          -0.26257656823149955,
          -1.3917182366141045,
          -0.7950864994955262,
          -2.720283852844793,
          -0.5814927320825838,
          0.24694012022699466,
          -0.6428745557693302,
          0.6135756195155176,
          1.2161591436657953,
          -0.16691830407275451,
          0.16837778703898246,
          -0.7997685081220888,
          -3.698351493489483,
          1.9740839795299767,
          0.017958345442070995,
          -0.43854015760881576,
          2.431116867018804,
          -0.7706538223354834,
          -0.8579304397566309,
          -1.5345155749066133,
          0.011454777977222759,
          -0.23132246099826545,
          -1.890140101723549,
          0.1717563793087336,
          1.4238904166926523,
          0.7441342676220888,
          0.4218482516322259,
          -0.3072008879270871,
          0.5155051321309341,
          -1.5509431893242198,
          2.1720883926220815,
          -0.7253209772559707
         ],
         "z": [
          -0.49925557987968294,
          0.7438709864611196,
          0.5052391163754576,
          -1.3836959448107375,
          0.6886578686410552,
          1.98398434861053,
          -0.9777540154314106,
          0.276818345069741,
          2.4727734225331885,
          1.315747181586929,
          0.0970648971717767,
          4.323969927597382,
          3.45955289998749,
          2.287876189561239,
          -1.1676317682946893,
          -1.323001003279884,
          -0.26585053607115494,
          -0.1520959568325765,
          0.8504946655589998,
          0.5806198121211937,
          -0.6085723765307585,
          1.557335662911041,
          -0.619200957739374,
          -0.6267111089157026,
          -0.30708395692646834,
          0.061867712987815036,
          -1.9695780845502888,
          -0.27905502017450096,
          1.2052105177098462,
          -0.20409716549468448,
          -0.9541512723717318,
          0.11885211490836295,
          0.5472666942757494,
          2.386386170136703,
          1.3869449168352308,
          -0.2522654201151102,
          0.8285011937289117,
          1.2681990272667003,
          1.1282390907518927,
          -0.24171653684752836,
          0.597350082260406,
          -0.2195904389326339,
          -1.190342186051352,
          -0.3816797653423792,
          -0.7385415723731671,
          0.09811633041096193,
          0.29232267918000504,
          0.15703538072446768,
          0.2599829428569577,
          0.9670998650189087,
          1.6525780522533844,
          -0.15988558244562573,
          0.05110674268935091,
          -0.6245160960872148,
          -1.453339029728421,
          -0.46287576065130137,
          0.07425681515065222,
          -0.2441615385715104,
          -1.165528876763525,
          -0.550774449183096,
          0.3393765980325884,
          0.271386795644846,
          2.3881440867895085,
          -0.4573244992432212,
          0.9842760813707521,
          -0.47028343441791426,
          -0.32038710019519007,
          0.2907586811370465,
          0.6548142295610206,
          0.07726673232131713,
          0.31386197513485925,
          -0.41482435898199155,
          -0.9567396168581107,
          -0.0918387057738963,
          -0.8947009654820169,
          2.258578248553356,
          -0.8559785033189129,
          1.3565207511895643,
          0.7774532947336955,
          0.5614174809569101,
          -0.12484282489981911,
          2.583435420798771,
          -1.265782466868169,
          0.8312097268918041,
          0.9435106620663152,
          0.6074682835863062,
          -0.9034143925110286,
          -0.9898093736363609,
          -0.7608111537085717,
          -0.07117313962510909,
          1.0398807703455168,
          -1.2681263748374234,
          -0.7480266100765249,
          -1.0956786042153206,
          0.9585994734178541,
          -0.24056584143508003,
          -0.20559065246918323,
          0.2302190657465893,
          -0.8305861810462919,
          -1.5019738208533129,
          0.1494982022034566,
          -0.925650813022263,
          -0.06554952678446231,
          1.3663052933730133,
          0.0022943553231779238,
          -1.223783828863861,
          -0.49910793127036807,
          -0.8039891845869376,
          -0.25713076445867045,
          1.2592252014750354,
          -4.001857714882365,
          0.3856306622318307,
          -0.09130785979832337,
          -0.9877920262492547,
          0.44037716201012017,
          0.029186699105849527,
          -0.21396722300847804,
          -0.11738995414915689,
          -0.11423903935299017,
          2.3478999023660414,
          0.2862995981361872,
          1.8763583839811326,
          0.390982444693938,
          1.5768522346815617,
          0.4039078217302013,
          -0.31213325432550915,
          -1.541873942050954,
          -0.4731272694981621,
          -0.231454998302711,
          2.5623563552325272,
          -0.4027129520125694,
          1.0637665560512097,
          -1.8866428660186176,
          -0.01631872980078203,
          0.6122681711090946,
          0.11216069629664743,
          1.3563933556474714,
          2.6295537407843415,
          -0.25393250737718526,
          -0.7223835148106149,
          -0.3385235016290716,
          -0.16513847279704597,
          -1.9250891054861354,
          -0.3105972582420941,
          -0.8089322006881963,
          -0.35110798152976924,
          -0.6572477728687723,
          -2.9128814179651172,
          0.9070456677569826,
          0.7944984336556807,
          0.6422594951765561,
          1.3038034279918476,
          2.0583834423903262,
          0.6406197417366165,
          -0.4877656203023627,
          -0.1396443577577333,
          0.5022837862548963,
          -1.0662715177778634,
          -0.30137595047727833,
          0.4384635953373631,
          0.39126217292896553,
          -0.7537984193667976,
          0.24638256976600967,
          -1.5130885986306353,
          -2.535606437265891,
          1.1338862628521584,
          -0.04864736861846159,
          0.4300608860415205,
          -1.1174193128097398,
          -1.3415660121752926,
          0.5309797111990353,
          1.1543424738201122,
          -1.1604930808102012,
          -1.4489990446298358,
          -2.9500791812356897,
          -0.9250394705056866,
          -0.09519526026850693,
          -0.5264298567859618,
          1.373904631638812,
          -0.25823486287501496,
          -1.199609769445268,
          -1.1878001060282222,
          -0.858103398624496,
          -0.5262593184898732,
          -0.258423915554325,
          0.9063994543964261,
          0.020379610844938084,
          -0.2079608824746474,
          -0.12546039064938133,
          -0.7542817509924745,
          -1.8419772232382028,
          -0.6494553032094659,
          0.4602566825241585,
          -1.0445706880669028,
          1.6001208012835815,
          0.2062939993662141,
          -1.0075813020047002,
          -1.0396363217750821,
          0.11545885800606055,
          0.5211196046427913,
          0.059397752075675915,
          0.817837179274064,
          -0.27142760921464687,
          1.0888294363770525,
          2.7039318427371133,
          -0.4440872342980126,
          2.1077282670291537,
          -0.3563686981458014,
          1.4147109004548015,
          -0.8118437378917398,
          0.021687096297892037,
          -1.4293382167593593,
          0.8936241273829593,
          -0.5976580940033728,
          -0.5000402937397261,
          -0.7173593950499716,
          -0.5858907466639235,
          2.1650493575365974,
          -0.1327601318183307,
          -0.6308485313714672,
          1.7287134552972976,
          1.3857966220128812,
          0.38430093441587587,
          0.48673729601766735,
          -0.6856015752184065,
          0.06601904442482448,
          1.96005055246279,
          -0.05722006769457216,
          1.5235706335022468,
          -0.03267442735506501,
          1.2193046815984063,
          -0.4321334023437682,
          1.0783492476122962,
          3.384659473611221,
          -0.5588809358015311,
          -1.2644312557220918,
          -0.9830947098069858,
          -1.280084307440897,
          -0.22692099236653107,
          -0.7092429401457538,
          -0.00896310013621902,
          -0.6162208357192023,
          -0.504292140631166,
          2.4774705746631813,
          -2.0106241674068888,
          0.089336457953772,
          -0.3298411889837541,
          -2.108674495928051,
          -0.39363952553802295,
          0.020916826692220437,
          -0.5343807520219146,
          -1.840893509007891,
          1.0030376677988053,
          0.6550844124588299,
          -0.7914240721633335,
          0.12414062347736736,
          -0.9243730714525482,
          -0.27549040731203517,
          -1.0058970142704644,
          0.3301676306952938,
          -0.8405923736747967,
          -0.08982202724931675,
          0.07416197453294529,
          -0.46313635152815535,
          -0.7852679453684372,
          -0.9773848655918976,
          0.22615062848976328,
          -0.42138610048227015,
          -0.8361732302698783,
          -1.7392134383250286,
          1.8780936066536869,
          1.0239271915533272,
          0.1463103668197226,
          0.9093219795688661,
          2.158138370298137,
          0.7832685211977388,
          -1.914091183305466,
          -1.642655089154445,
          -0.9030960291807243,
          -0.5215811167500386,
          0.29722434202465065,
          -0.9197163913523567,
          -0.973037476525603,
          -1.0060396913672869,
          -0.47870824293537134,
          0.7252646216869016,
          0.27168433500897543,
          1.0281996810631553,
          -0.2157442947940507,
          -0.1972452967262685,
          1.8646177207026289,
          0.015177250658618701,
          0.16476117413390648,
          0.47906440769564884,
          0.4109938855778276,
          -0.9973630299226703,
          0.594955058496768,
          -0.29880459682189325,
          2.912254932484925,
          1.9029010473708616,
          -0.32730932650166356,
          -0.3259944176947155,
          0.23833204779828382,
          -0.31906226800142723,
          -0.3081764118920872,
          -0.04870448048694841,
          3.0469191701169507,
          -1.3152425835273616,
          -0.45730447998892215,
          0.14562729392820295,
          -0.44742037443608684,
          -1.3375578685154337,
          -0.2523377423944441,
          1.3901636188342257,
          -0.13062060560334818,
          0.6334243338769977,
          0.14326694772738324,
          -0.7595403442693529,
          0.5396035659043242,
          -0.7909602441273297,
          0.9147070122661034,
          0.29557314346726005,
          -0.574677180786785,
          -1.2395370754884574,
          -3.3930143858790127,
          -0.42580048491740174,
          -1.3063468627819108,
          -0.04003968714141955,
          1.191711303785811,
          -0.5369079176749793,
          -1.2300731890863827,
          0.1266270945208255,
          -0.17715611517615149,
          0.7062067623793521,
          -1.2521295912658843,
          0.5466250921116268,
          -1.1496618944666819,
          -0.02006545151108456,
          0.5204607474336076,
          -1.4047446667905077,
          -1.0483946291915027,
          -0.4905710206496736,
          -0.6192893834837361,
          -0.7629311385166135,
          1.8729086458795807,
          -0.6832953592908825,
          -0.441120385298376,
          -0.23473673859376118,
          0.8396428725049847,
          -0.9030517258810248,
          -1.316886953597927,
          0.35760836988379263,
          1.8368162162502155,
          -0.02389397010275255,
          -0.8246379379057552,
          -0.18857871694695133,
          0.2182360390733497,
          0.03542394529630295,
          -1.0192201928793825,
          0.017574355874488773,
          -0.427038055520878,
          -0.17411291354055006,
          -1.1912888645344855,
          -1.0860756518747023,
          0.002612765251804298,
          0.0008731119374985894,
          -1.1943354840870006,
          -0.2989250820500347,
          -0.2097261519298829,
          0.8613125862437554,
          0.3078402760975259,
          2.1687017058434717,
          -0.8402370840794756,
          -1.2768263407927944,
          0.47503376704579553,
          0.5090505270243431,
          0.35576755766834595,
          0.6502049147601106,
          0.597545273600708,
          -0.564572632236172,
          0.019819234506474683,
          1.4714359949656133,
          -0.4574680560311414,
          -0.9682020668548427,
          -0.19677208395508633,
          0.6807823133365655,
          1.1878505195488582,
          0.8706050373145182,
          -0.19995399359647922,
          -3.0516582253823827,
          2.007717944268242,
          -0.7729936027116108,
          0.016297405660849938,
          0.4103182897813571,
          -1.191825316987894,
          -1.5565256153023546,
          0.14875606634356167,
          0.6410623606177143,
          -0.7005919901704585,
          0.5330320817487186,
          -1.153481425193555,
          0.03938921985917494,
          -0.46503097974635194,
          0.003091467668207835,
          -1.0670790822077962,
          3.257888857916001,
          -0.6122552570730192,
          -1.8979545105099018,
          -0.19802232976237497,
          -0.835066460379708,
          -0.39400908369612914,
          0.01596528997272666,
          0.05341517257170729,
          -0.8313924429838631,
          -0.11302535612201291,
          -0.5264298567859618,
          -1.028443854278938,
          -0.19637770600601992,
          -1.6607153474111476,
          0.833791753428862,
          0.014424447551470541,
          -1.0257221087974862,
          2.913990621644033,
          0.048375262835270605,
          0.41476035017581536,
          -0.38089863505364163,
          0.4775066260492021,
          0.012346199362513039,
          -0.2830254284035734,
          0.3218570610853351,
          -0.000998932196052262,
          -0.6113559430671932,
          1.2842296025281035,
          -0.03224908772680037,
          2.3935106483985975,
          -1.4895174530151962,
          -1.2196587454415866,
          2.3995148147453067,
          0.61917262535514,
          -0.23926148029295632,
          0.06677753054457344,
          -1.6136456187474388,
          -0.3611824086455317,
          -0.6502017935259738,
          -0.07521125813967547,
          -0.49873839852021645,
          -0.08164404053537103,
          -0.05704688387391325,
          -0.709134269268396,
          -1.590700823851986,
          -0.949033400522944,
          -1.396229972213686,
          0.8974199104900923,
          0.07815823380128739,
          -0.6042885080120143,
          -0.4196650915020108,
          0.7417110681146314,
          1.3970259888836105,
          -0.38737410616539647,
          1.0042343875814774,
          -0.664681027420162,
          1.9380277430047872,
          0.6226731937576284,
          3.454015046591285,
          0.17938674901624815,
          2.9901555965833384,
          -1.4930654854920806,
          -0.8842665706692122,
          -0.3373176314345978,
          1.2939388200331274,
          -0.6436217002590477,
          2.595182735011716,
          0.41097631514933963,
          0.6247885144459713,
          0.8221696316839219,
          0.2153283254224715,
          -0.5889909892389693,
          -0.41385148599784966,
          -1.047544917211365,
          2.394209169433698,
          0.514236810332831,
          -0.3598317823198946,
          -1.1840844383434441,
          0.0734846851653555,
          0.5760222965109263
         ]
        }
       ],
       "layout": {
        "legend": {
         "tracegroupgap": 0
        },
        "margin": {
         "t": 60
        },
        "scene": {
         "domain": {
          "x": [
           0,
           1
          ],
          "y": [
           0,
           1
          ]
         },
         "xaxis": {
          "title": {
           "text": "pc1"
          }
         },
         "yaxis": {
          "title": {
           "text": "pc2"
          }
         },
         "zaxis": {
          "title": {
           "text": "pc3"
          }
         }
        },
        "template": {
         "data": {
          "bar": [
           {
            "error_x": {
             "color": "#2a3f5f"
            },
            "error_y": {
             "color": "#2a3f5f"
            },
            "marker": {
             "line": {
              "color": "#E5ECF6",
              "width": 0.5
             },
             "pattern": {
              "fillmode": "overlay",
              "size": 10,
              "solidity": 0.2
             }
            },
            "type": "bar"
           }
          ],
          "barpolar": [
           {
            "marker": {
             "line": {
              "color": "#E5ECF6",
              "width": 0.5
             },
             "pattern": {
              "fillmode": "overlay",
              "size": 10,
              "solidity": 0.2
             }
            },
            "type": "barpolar"
           }
          ],
          "carpet": [
           {
            "aaxis": {
             "endlinecolor": "#2a3f5f",
             "gridcolor": "white",
             "linecolor": "white",
             "minorgridcolor": "white",
             "startlinecolor": "#2a3f5f"
            },
            "baxis": {
             "endlinecolor": "#2a3f5f",
             "gridcolor": "white",
             "linecolor": "white",
             "minorgridcolor": "white",
             "startlinecolor": "#2a3f5f"
            },
            "type": "carpet"
           }
          ],
          "choropleth": [
           {
            "colorbar": {
             "outlinewidth": 0,
             "ticks": ""
            },
            "type": "choropleth"
           }
          ],
          "contour": [
           {
            "colorbar": {
             "outlinewidth": 0,
             "ticks": ""
            },
            "colorscale": [
             [
              0,
              "#0d0887"
             ],
             [
              0.1111111111111111,
              "#46039f"
             ],
             [
              0.2222222222222222,
              "#7201a8"
             ],
             [
              0.3333333333333333,
              "#9c179e"
             ],
             [
              0.4444444444444444,
              "#bd3786"
             ],
             [
              0.5555555555555556,
              "#d8576b"
             ],
             [
              0.6666666666666666,
              "#ed7953"
             ],
             [
              0.7777777777777778,
              "#fb9f3a"
             ],
             [
              0.8888888888888888,
              "#fdca26"
             ],
             [
              1,
              "#f0f921"
             ]
            ],
            "type": "contour"
           }
          ],
          "contourcarpet": [
           {
            "colorbar": {
             "outlinewidth": 0,
             "ticks": ""
            },
            "type": "contourcarpet"
           }
          ],
          "heatmap": [
           {
            "colorbar": {
             "outlinewidth": 0,
             "ticks": ""
            },
            "colorscale": [
             [
              0,
              "#0d0887"
             ],
             [
              0.1111111111111111,
              "#46039f"
             ],
             [
              0.2222222222222222,
              "#7201a8"
             ],
             [
              0.3333333333333333,
              "#9c179e"
             ],
             [
              0.4444444444444444,
              "#bd3786"
             ],
             [
              0.5555555555555556,
              "#d8576b"
             ],
             [
              0.6666666666666666,
              "#ed7953"
             ],
             [
              0.7777777777777778,
              "#fb9f3a"
             ],
             [
              0.8888888888888888,
              "#fdca26"
             ],
             [
              1,
              "#f0f921"
             ]
            ],
            "type": "heatmap"
           }
          ],
          "heatmapgl": [
           {
            "colorbar": {
             "outlinewidth": 0,
             "ticks": ""
            },
            "colorscale": [
             [
              0,
              "#0d0887"
             ],
             [
              0.1111111111111111,
              "#46039f"
             ],
             [
              0.2222222222222222,
              "#7201a8"
             ],
             [
              0.3333333333333333,
              "#9c179e"
             ],
             [
              0.4444444444444444,
              "#bd3786"
             ],
             [
              0.5555555555555556,
              "#d8576b"
             ],
             [
              0.6666666666666666,
              "#ed7953"
             ],
             [
              0.7777777777777778,
              "#fb9f3a"
             ],
             [
              0.8888888888888888,
              "#fdca26"
             ],
             [
              1,
              "#f0f921"
             ]
            ],
            "type": "heatmapgl"
           }
          ],
          "histogram": [
           {
            "marker": {
             "pattern": {
              "fillmode": "overlay",
              "size": 10,
              "solidity": 0.2
             }
            },
            "type": "histogram"
           }
          ],
          "histogram2d": [
           {
            "colorbar": {
             "outlinewidth": 0,
             "ticks": ""
            },
            "colorscale": [
             [
              0,
              "#0d0887"
             ],
             [
              0.1111111111111111,
              "#46039f"
             ],
             [
              0.2222222222222222,
              "#7201a8"
             ],
             [
              0.3333333333333333,
              "#9c179e"
             ],
             [
              0.4444444444444444,
              "#bd3786"
             ],
             [
              0.5555555555555556,
              "#d8576b"
             ],
             [
              0.6666666666666666,
              "#ed7953"
             ],
             [
              0.7777777777777778,
              "#fb9f3a"
             ],
             [
              0.8888888888888888,
              "#fdca26"
             ],
             [
              1,
              "#f0f921"
             ]
            ],
            "type": "histogram2d"
           }
          ],
          "histogram2dcontour": [
           {
            "colorbar": {
             "outlinewidth": 0,
             "ticks": ""
            },
            "colorscale": [
             [
              0,
              "#0d0887"
             ],
             [
              0.1111111111111111,
              "#46039f"
             ],
             [
              0.2222222222222222,
              "#7201a8"
             ],
             [
              0.3333333333333333,
              "#9c179e"
             ],
             [
              0.4444444444444444,
              "#bd3786"
             ],
             [
              0.5555555555555556,
              "#d8576b"
             ],
             [
              0.6666666666666666,
              "#ed7953"
             ],
             [
              0.7777777777777778,
              "#fb9f3a"
             ],
             [
              0.8888888888888888,
              "#fdca26"
             ],
             [
              1,
              "#f0f921"
             ]
            ],
            "type": "histogram2dcontour"
           }
          ],
          "mesh3d": [
           {
            "colorbar": {
             "outlinewidth": 0,
             "ticks": ""
            },
            "type": "mesh3d"
           }
          ],
          "parcoords": [
           {
            "line": {
             "colorbar": {
              "outlinewidth": 0,
              "ticks": ""
             }
            },
            "type": "parcoords"
           }
          ],
          "pie": [
           {
            "automargin": true,
            "type": "pie"
           }
          ],
          "scatter": [
           {
            "fillpattern": {
             "fillmode": "overlay",
             "size": 10,
             "solidity": 0.2
            },
            "type": "scatter"
           }
          ],
          "scatter3d": [
           {
            "line": {
             "colorbar": {
              "outlinewidth": 0,
              "ticks": ""
             }
            },
            "marker": {
             "colorbar": {
              "outlinewidth": 0,
              "ticks": ""
             }
            },
            "type": "scatter3d"
           }
          ],
          "scattercarpet": [
           {
            "marker": {
             "colorbar": {
              "outlinewidth": 0,
              "ticks": ""
             }
            },
            "type": "scattercarpet"
           }
          ],
          "scattergeo": [
           {
            "marker": {
             "colorbar": {
              "outlinewidth": 0,
              "ticks": ""
             }
            },
            "type": "scattergeo"
           }
          ],
          "scattergl": [
           {
            "marker": {
             "colorbar": {
              "outlinewidth": 0,
              "ticks": ""
             }
            },
            "type": "scattergl"
           }
          ],
          "scattermapbox": [
           {
            "marker": {
             "colorbar": {
              "outlinewidth": 0,
              "ticks": ""
             }
            },
            "type": "scattermapbox"
           }
          ],
          "scatterpolar": [
           {
            "marker": {
             "colorbar": {
              "outlinewidth": 0,
              "ticks": ""
             }
            },
            "type": "scatterpolar"
           }
          ],
          "scatterpolargl": [
           {
            "marker": {
             "colorbar": {
              "outlinewidth": 0,
              "ticks": ""
             }
            },
            "type": "scatterpolargl"
           }
          ],
          "scatterternary": [
           {
            "marker": {
             "colorbar": {
              "outlinewidth": 0,
              "ticks": ""
             }
            },
            "type": "scatterternary"
           }
          ],
          "surface": [
           {
            "colorbar": {
             "outlinewidth": 0,
             "ticks": ""
            },
            "colorscale": [
             [
              0,
              "#0d0887"
             ],
             [
              0.1111111111111111,
              "#46039f"
             ],
             [
              0.2222222222222222,
              "#7201a8"
             ],
             [
              0.3333333333333333,
              "#9c179e"
             ],
             [
              0.4444444444444444,
              "#bd3786"
             ],
             [
              0.5555555555555556,
              "#d8576b"
             ],
             [
              0.6666666666666666,
              "#ed7953"
             ],
             [
              0.7777777777777778,
              "#fb9f3a"
             ],
             [
              0.8888888888888888,
              "#fdca26"
             ],
             [
              1,
              "#f0f921"
             ]
            ],
            "type": "surface"
           }
          ],
          "table": [
           {
            "cells": {
             "fill": {
              "color": "#EBF0F8"
             },
             "line": {
              "color": "white"
             }
            },
            "header": {
             "fill": {
              "color": "#C8D4E3"
             },
             "line": {
              "color": "white"
             }
            },
            "type": "table"
           }
          ]
         },
         "layout": {
          "annotationdefaults": {
           "arrowcolor": "#2a3f5f",
           "arrowhead": 0,
           "arrowwidth": 1
          },
          "autotypenumbers": "strict",
          "coloraxis": {
           "colorbar": {
            "outlinewidth": 0,
            "ticks": ""
           }
          },
          "colorscale": {
           "diverging": [
            [
             0,
             "#8e0152"
            ],
            [
             0.1,
             "#c51b7d"
            ],
            [
             0.2,
             "#de77ae"
            ],
            [
             0.3,
             "#f1b6da"
            ],
            [
             0.4,
             "#fde0ef"
            ],
            [
             0.5,
             "#f7f7f7"
            ],
            [
             0.6,
             "#e6f5d0"
            ],
            [
             0.7,
             "#b8e186"
            ],
            [
             0.8,
             "#7fbc41"
            ],
            [
             0.9,
             "#4d9221"
            ],
            [
             1,
             "#276419"
            ]
           ],
           "sequential": [
            [
             0,
             "#0d0887"
            ],
            [
             0.1111111111111111,
             "#46039f"
            ],
            [
             0.2222222222222222,
             "#7201a8"
            ],
            [
             0.3333333333333333,
             "#9c179e"
            ],
            [
             0.4444444444444444,
             "#bd3786"
            ],
            [
             0.5555555555555556,
             "#d8576b"
            ],
            [
             0.6666666666666666,
             "#ed7953"
            ],
            [
             0.7777777777777778,
             "#fb9f3a"
            ],
            [
             0.8888888888888888,
             "#fdca26"
            ],
            [
             1,
             "#f0f921"
            ]
           ],
           "sequentialminus": [
            [
             0,
             "#0d0887"
            ],
            [
             0.1111111111111111,
             "#46039f"
            ],
            [
             0.2222222222222222,
             "#7201a8"
            ],
            [
             0.3333333333333333,
             "#9c179e"
            ],
            [
             0.4444444444444444,
             "#bd3786"
            ],
            [
             0.5555555555555556,
             "#d8576b"
            ],
            [
             0.6666666666666666,
             "#ed7953"
            ],
            [
             0.7777777777777778,
             "#fb9f3a"
            ],
            [
             0.8888888888888888,
             "#fdca26"
            ],
            [
             1,
             "#f0f921"
            ]
           ]
          },
          "colorway": [
           "#636efa",
           "#EF553B",
           "#00cc96",
           "#ab63fa",
           "#FFA15A",
           "#19d3f3",
           "#FF6692",
           "#B6E880",
           "#FF97FF",
           "#FECB52"
          ],
          "font": {
           "color": "#2a3f5f"
          },
          "geo": {
           "bgcolor": "white",
           "lakecolor": "white",
           "landcolor": "#E5ECF6",
           "showlakes": true,
           "showland": true,
           "subunitcolor": "white"
          },
          "hoverlabel": {
           "align": "left"
          },
          "hovermode": "closest",
          "mapbox": {
           "style": "light"
          },
          "paper_bgcolor": "white",
          "plot_bgcolor": "#E5ECF6",
          "polar": {
           "angularaxis": {
            "gridcolor": "white",
            "linecolor": "white",
            "ticks": ""
           },
           "bgcolor": "#E5ECF6",
           "radialaxis": {
            "gridcolor": "white",
            "linecolor": "white",
            "ticks": ""
           }
          },
          "scene": {
           "xaxis": {
            "backgroundcolor": "#E5ECF6",
            "gridcolor": "white",
            "gridwidth": 2,
            "linecolor": "white",
            "showbackground": true,
            "ticks": "",
            "zerolinecolor": "white"
           },
           "yaxis": {
            "backgroundcolor": "#E5ECF6",
            "gridcolor": "white",
            "gridwidth": 2,
            "linecolor": "white",
            "showbackground": true,
            "ticks": "",
            "zerolinecolor": "white"
           },
           "zaxis": {
            "backgroundcolor": "#E5ECF6",
            "gridcolor": "white",
            "gridwidth": 2,
            "linecolor": "white",
            "showbackground": true,
            "ticks": "",
            "zerolinecolor": "white"
           }
          },
          "shapedefaults": {
           "line": {
            "color": "#2a3f5f"
           }
          },
          "ternary": {
           "aaxis": {
            "gridcolor": "white",
            "linecolor": "white",
            "ticks": ""
           },
           "baxis": {
            "gridcolor": "white",
            "linecolor": "white",
            "ticks": ""
           },
           "bgcolor": "#E5ECF6",
           "caxis": {
            "gridcolor": "white",
            "linecolor": "white",
            "ticks": ""
           }
          },
          "title": {
           "x": 0.05
          },
          "xaxis": {
           "automargin": true,
           "gridcolor": "white",
           "linecolor": "white",
           "ticks": "",
           "title": {
            "standoff": 15
           },
           "zerolinecolor": "white",
           "zerolinewidth": 2
          },
          "yaxis": {
           "automargin": true,
           "gridcolor": "white",
           "linecolor": "white",
           "ticks": "",
           "title": {
            "standoff": 15
           },
           "zerolinecolor": "white",
           "zerolinewidth": 2
          }
         }
        }
       }
      }
     },
     "metadata": {},
     "output_type": "display_data"
    }
   ],
   "source": [
    "pcs = u * s\n",
    "tst = centered_df.reset_index()[['trackName']]\n",
    "tst['pc1'] = pcs[:,0]\n",
    "tst['pc2'] = pcs[:,1]\n",
    "tst['pc3'] = pcs[:,2]\n",
    "px.scatter_3d(data_frame=tst, x='pc1', y='pc2', z='pc3', hover_data='trackName')\n",
    "# pd.Index(cleaned_df).to_list()\n",
    "# type(centered_df.reset_index()['id'])"
   ]
  },
  {
   "cell_type": "code",
   "execution_count": 19,
   "metadata": {},
   "outputs": [
    {
     "data": {
      "text/html": [
       "<div>\n",
       "<style scoped>\n",
       "    .dataframe tbody tr th:only-of-type {\n",
       "        vertical-align: middle;\n",
       "    }\n",
       "\n",
       "    .dataframe tbody tr th {\n",
       "        vertical-align: top;\n",
       "    }\n",
       "\n",
       "    .dataframe thead th {\n",
       "        text-align: right;\n",
       "    }\n",
       "</style>\n",
       "<table border=\"1\" class=\"dataframe\">\n",
       "  <thead>\n",
       "    <tr style=\"text-align: right;\">\n",
       "      <th></th>\n",
       "      <th>0</th>\n",
       "      <th>1</th>\n",
       "      <th>2</th>\n",
       "      <th>3</th>\n",
       "      <th>4</th>\n",
       "      <th>5</th>\n",
       "      <th>6</th>\n",
       "      <th>7</th>\n",
       "      <th>8</th>\n",
       "      <th>9</th>\n",
       "      <th>10</th>\n",
       "      <th>11</th>\n",
       "      <th>12</th>\n",
       "      <th>13</th>\n",
       "      <th>trackName</th>\n",
       "    </tr>\n",
       "  </thead>\n",
       "  <tbody>\n",
       "    <tr>\n",
       "      <th>0</th>\n",
       "      <td>0.562106</td>\n",
       "      <td>-1.956532</td>\n",
       "      <td>-0.499256</td>\n",
       "      <td>-1.712765</td>\n",
       "      <td>0.264985</td>\n",
       "      <td>-0.415133</td>\n",
       "      <td>-0.596594</td>\n",
       "      <td>0.402811</td>\n",
       "      <td>0.180296</td>\n",
       "      <td>1.091767</td>\n",
       "      <td>1.162425</td>\n",
       "      <td>-0.818803</td>\n",
       "      <td>-0.770142</td>\n",
       "      <td>-0.262920</td>\n",
       "      <td>If By Chance</td>\n",
       "    </tr>\n",
       "    <tr>\n",
       "      <th>1</th>\n",
       "      <td>1.716795</td>\n",
       "      <td>1.632879</td>\n",
       "      <td>0.743871</td>\n",
       "      <td>-1.625648</td>\n",
       "      <td>-2.470725</td>\n",
       "      <td>0.421683</td>\n",
       "      <td>0.570171</td>\n",
       "      <td>-2.321454</td>\n",
       "      <td>0.865630</td>\n",
       "      <td>-2.653123</td>\n",
       "      <td>1.395707</td>\n",
       "      <td>0.023597</td>\n",
       "      <td>0.448825</td>\n",
       "      <td>0.394301</td>\n",
       "      <td>please</td>\n",
       "    </tr>\n",
       "    <tr>\n",
       "      <th>2</th>\n",
       "      <td>-2.401405</td>\n",
       "      <td>0.611247</td>\n",
       "      <td>0.505239</td>\n",
       "      <td>-1.445142</td>\n",
       "      <td>-1.203955</td>\n",
       "      <td>0.643574</td>\n",
       "      <td>0.603206</td>\n",
       "      <td>-0.387061</td>\n",
       "      <td>-0.905500</td>\n",
       "      <td>-1.526107</td>\n",
       "      <td>-0.463916</td>\n",
       "      <td>-0.008417</td>\n",
       "      <td>-0.005958</td>\n",
       "      <td>0.154973</td>\n",
       "      <td>The Sun Will Come Up, The Seasons Will Change</td>\n",
       "    </tr>\n",
       "    <tr>\n",
       "      <th>3</th>\n",
       "      <td>0.955158</td>\n",
       "      <td>-0.041029</td>\n",
       "      <td>-1.383696</td>\n",
       "      <td>0.411642</td>\n",
       "      <td>-0.317086</td>\n",
       "      <td>-0.725038</td>\n",
       "      <td>0.137847</td>\n",
       "      <td>0.357598</td>\n",
       "      <td>-0.738751</td>\n",
       "      <td>-0.036598</td>\n",
       "      <td>-0.779370</td>\n",
       "      <td>0.276675</td>\n",
       "      <td>-0.800095</td>\n",
       "      <td>0.064894</td>\n",
       "      <td>Rain</td>\n",
       "    </tr>\n",
       "    <tr>\n",
       "      <th>4</th>\n",
       "      <td>-0.523112</td>\n",
       "      <td>-0.092174</td>\n",
       "      <td>0.688658</td>\n",
       "      <td>0.991783</td>\n",
       "      <td>-0.968944</td>\n",
       "      <td>0.942885</td>\n",
       "      <td>0.092613</td>\n",
       "      <td>0.729739</td>\n",
       "      <td>0.361996</td>\n",
       "      <td>-0.611669</td>\n",
       "      <td>0.895007</td>\n",
       "      <td>0.268943</td>\n",
       "      <td>-0.654240</td>\n",
       "      <td>-0.245951</td>\n",
       "      <td>Dear August</td>\n",
       "    </tr>\n",
       "  </tbody>\n",
       "</table>\n",
       "</div>"
      ],
      "text/plain": [
       "          0         1         2         3         4         5         6  \\\n",
       "0  0.562106 -1.956532 -0.499256 -1.712765  0.264985 -0.415133 -0.596594   \n",
       "1  1.716795  1.632879  0.743871 -1.625648 -2.470725  0.421683  0.570171   \n",
       "2 -2.401405  0.611247  0.505239 -1.445142 -1.203955  0.643574  0.603206   \n",
       "3  0.955158 -0.041029 -1.383696  0.411642 -0.317086 -0.725038  0.137847   \n",
       "4 -0.523112 -0.092174  0.688658  0.991783 -0.968944  0.942885  0.092613   \n",
       "\n",
       "          7         8         9        10        11        12        13  \\\n",
       "0  0.402811  0.180296  1.091767  1.162425 -0.818803 -0.770142 -0.262920   \n",
       "1 -2.321454  0.865630 -2.653123  1.395707  0.023597  0.448825  0.394301   \n",
       "2 -0.387061 -0.905500 -1.526107 -0.463916 -0.008417 -0.005958  0.154973   \n",
       "3  0.357598 -0.738751 -0.036598 -0.779370  0.276675 -0.800095  0.064894   \n",
       "4  0.729739  0.361996 -0.611669  0.895007  0.268943 -0.654240 -0.245951   \n",
       "\n",
       "                                       trackName  \n",
       "0                                   If By Chance  \n",
       "1                                         please  \n",
       "2  The Sun Will Come Up, The Seasons Will Change  \n",
       "3                                           Rain  \n",
       "4                                    Dear August  "
      ]
     },
     "execution_count": 19,
     "metadata": {},
     "output_type": "execute_result"
    }
   ],
   "source": [
    "# print(pcs)\n",
    "all_pcs = pd.DataFrame(pcs)\n",
    "all_pcs['trackName'] = centered_df.reset_index()[['trackName']]\n",
    "all_pcs.head(5)"
   ]
  },
  {
   "cell_type": "markdown",
   "metadata": {},
   "source": [
    "### Part 3: Analyzing/clustering the Data\n",
    "#### PCA/plot/etc, figuring out what matters most in a song, what makes a song similar to another?"
   ]
  },
  {
   "cell_type": "code",
   "execution_count": 20,
   "metadata": {},
   "outputs": [
    {
     "data": {
      "text/html": [
       "<div>\n",
       "<style scoped>\n",
       "    .dataframe tbody tr th:only-of-type {\n",
       "        vertical-align: middle;\n",
       "    }\n",
       "\n",
       "    .dataframe tbody tr th {\n",
       "        vertical-align: top;\n",
       "    }\n",
       "\n",
       "    .dataframe thead th {\n",
       "        text-align: right;\n",
       "    }\n",
       "</style>\n",
       "<table border=\"1\" class=\"dataframe\">\n",
       "  <thead>\n",
       "    <tr style=\"text-align: right;\">\n",
       "      <th></th>\n",
       "      <th></th>\n",
       "      <th></th>\n",
       "      <th>count</th>\n",
       "      <th>danceability</th>\n",
       "      <th>energy</th>\n",
       "      <th>key</th>\n",
       "      <th>loudness</th>\n",
       "      <th>mode</th>\n",
       "      <th>speechiness</th>\n",
       "      <th>acousticness</th>\n",
       "      <th>instrumentalness</th>\n",
       "      <th>liveness</th>\n",
       "      <th>valence</th>\n",
       "      <th>tempo</th>\n",
       "      <th>duration_ms</th>\n",
       "      <th>time_signature</th>\n",
       "    </tr>\n",
       "    <tr>\n",
       "      <th>trackName</th>\n",
       "      <th>artistName</th>\n",
       "      <th>id</th>\n",
       "      <th></th>\n",
       "      <th></th>\n",
       "      <th></th>\n",
       "      <th></th>\n",
       "      <th></th>\n",
       "      <th></th>\n",
       "      <th></th>\n",
       "      <th></th>\n",
       "      <th></th>\n",
       "      <th></th>\n",
       "      <th></th>\n",
       "      <th></th>\n",
       "      <th></th>\n",
       "      <th></th>\n",
       "    </tr>\n",
       "  </thead>\n",
       "  <tbody>\n",
       "    <tr>\n",
       "      <th>If By Chance</th>\n",
       "      <th>Ruth B.</th>\n",
       "      <th>21dpBHPTV7ythCHBI6Slcw</th>\n",
       "      <td>-0.794261</td>\n",
       "      <td>-1.111479</td>\n",
       "      <td>-0.361044</td>\n",
       "      <td>1.489043</td>\n",
       "      <td>0.685850</td>\n",
       "      <td>0.400359</td>\n",
       "      <td>-0.438727</td>\n",
       "      <td>0.743378</td>\n",
       "      <td>-0.225513</td>\n",
       "      <td>-0.557376</td>\n",
       "      <td>-0.444100</td>\n",
       "      <td>0.112556</td>\n",
       "      <td>2.401944</td>\n",
       "      <td>0.256026</td>\n",
       "    </tr>\n",
       "    <tr>\n",
       "      <th>please</th>\n",
       "      <th>Chelsea Cutler</th>\n",
       "      <th>0TzeZppPwhEhySYaNRulr9</th>\n",
       "      <td>4.253560</td>\n",
       "      <td>1.387086</td>\n",
       "      <td>-1.012504</td>\n",
       "      <td>0.356202</td>\n",
       "      <td>-1.287643</td>\n",
       "      <td>-2.497760</td>\n",
       "      <td>-0.407398</td>\n",
       "      <td>0.765224</td>\n",
       "      <td>0.011026</td>\n",
       "      <td>-0.168989</td>\n",
       "      <td>-0.560302</td>\n",
       "      <td>-0.612775</td>\n",
       "      <td>0.547075</td>\n",
       "      <td>0.256026</td>\n",
       "    </tr>\n",
       "    <tr>\n",
       "      <th>The Sun Will Come Up, The Seasons Will Change</th>\n",
       "      <th>Nina Nesbitt</th>\n",
       "      <th>3i0VfLdOUCks9DmAht65XI</th>\n",
       "      <td>0.712551</td>\n",
       "      <td>1.163572</td>\n",
       "      <td>1.385792</td>\n",
       "      <td>0.072992</td>\n",
       "      <td>1.156156</td>\n",
       "      <td>-2.497760</td>\n",
       "      <td>-0.441860</td>\n",
       "      <td>-1.160852</td>\n",
       "      <td>-0.225513</td>\n",
       "      <td>-0.719117</td>\n",
       "      <td>0.730149</td>\n",
       "      <td>0.184417</td>\n",
       "      <td>-0.378626</td>\n",
       "      <td>0.256026</td>\n",
       "    </tr>\n",
       "    <tr>\n",
       "      <th>Rain</th>\n",
       "      <th>Kate Vogel</th>\n",
       "      <th>57uCYwWk48K38oIvozWR2P</th>\n",
       "      <td>-0.794261</td>\n",
       "      <td>0.030038</td>\n",
       "      <td>-0.412930</td>\n",
       "      <td>0.072992</td>\n",
       "      <td>0.148833</td>\n",
       "      <td>0.400359</td>\n",
       "      <td>-0.585973</td>\n",
       "      <td>0.859890</td>\n",
       "      <td>0.247565</td>\n",
       "      <td>-0.547073</td>\n",
       "      <td>-0.707083</td>\n",
       "      <td>-1.309495</td>\n",
       "      <td>-0.965879</td>\n",
       "      <td>0.256026</td>\n",
       "    </tr>\n",
       "    <tr>\n",
       "      <th>Dear August</th>\n",
       "      <th>PJ Harding</th>\n",
       "      <th>16gW9O8A4rIMx5OOVlzsSn</th>\n",
       "      <td>0.787892</td>\n",
       "      <td>0.788388</td>\n",
       "      <td>-0.101613</td>\n",
       "      <td>-1.343058</td>\n",
       "      <td>0.757930</td>\n",
       "      <td>0.400359</td>\n",
       "      <td>-0.426196</td>\n",
       "      <td>0.448459</td>\n",
       "      <td>-0.225513</td>\n",
       "      <td>-0.375030</td>\n",
       "      <td>0.705686</td>\n",
       "      <td>1.012274</td>\n",
       "      <td>0.149572</td>\n",
       "      <td>0.256026</td>\n",
       "    </tr>\n",
       "  </tbody>\n",
       "</table>\n",
       "</div>"
      ],
      "text/plain": [
       "                                                                                        count  \\\n",
       "trackName                                     artistName     id                                 \n",
       "If By Chance                                  Ruth B.        21dpBHPTV7ythCHBI6Slcw -0.794261   \n",
       "please                                        Chelsea Cutler 0TzeZppPwhEhySYaNRulr9  4.253560   \n",
       "The Sun Will Come Up, The Seasons Will Change Nina Nesbitt   3i0VfLdOUCks9DmAht65XI  0.712551   \n",
       "Rain                                          Kate Vogel     57uCYwWk48K38oIvozWR2P -0.794261   \n",
       "Dear August                                   PJ Harding     16gW9O8A4rIMx5OOVlzsSn  0.787892   \n",
       "\n",
       "                                                                                     danceability  \\\n",
       "trackName                                     artistName     id                                     \n",
       "If By Chance                                  Ruth B.        21dpBHPTV7ythCHBI6Slcw     -1.111479   \n",
       "please                                        Chelsea Cutler 0TzeZppPwhEhySYaNRulr9      1.387086   \n",
       "The Sun Will Come Up, The Seasons Will Change Nina Nesbitt   3i0VfLdOUCks9DmAht65XI      1.163572   \n",
       "Rain                                          Kate Vogel     57uCYwWk48K38oIvozWR2P      0.030038   \n",
       "Dear August                                   PJ Harding     16gW9O8A4rIMx5OOVlzsSn      0.788388   \n",
       "\n",
       "                                                                                       energy  \\\n",
       "trackName                                     artistName     id                                 \n",
       "If By Chance                                  Ruth B.        21dpBHPTV7ythCHBI6Slcw -0.361044   \n",
       "please                                        Chelsea Cutler 0TzeZppPwhEhySYaNRulr9 -1.012504   \n",
       "The Sun Will Come Up, The Seasons Will Change Nina Nesbitt   3i0VfLdOUCks9DmAht65XI  1.385792   \n",
       "Rain                                          Kate Vogel     57uCYwWk48K38oIvozWR2P -0.412930   \n",
       "Dear August                                   PJ Harding     16gW9O8A4rIMx5OOVlzsSn -0.101613   \n",
       "\n",
       "                                                                                          key  \\\n",
       "trackName                                     artistName     id                                 \n",
       "If By Chance                                  Ruth B.        21dpBHPTV7ythCHBI6Slcw  1.489043   \n",
       "please                                        Chelsea Cutler 0TzeZppPwhEhySYaNRulr9  0.356202   \n",
       "The Sun Will Come Up, The Seasons Will Change Nina Nesbitt   3i0VfLdOUCks9DmAht65XI  0.072992   \n",
       "Rain                                          Kate Vogel     57uCYwWk48K38oIvozWR2P  0.072992   \n",
       "Dear August                                   PJ Harding     16gW9O8A4rIMx5OOVlzsSn -1.343058   \n",
       "\n",
       "                                                                                     loudness  \\\n",
       "trackName                                     artistName     id                                 \n",
       "If By Chance                                  Ruth B.        21dpBHPTV7ythCHBI6Slcw  0.685850   \n",
       "please                                        Chelsea Cutler 0TzeZppPwhEhySYaNRulr9 -1.287643   \n",
       "The Sun Will Come Up, The Seasons Will Change Nina Nesbitt   3i0VfLdOUCks9DmAht65XI  1.156156   \n",
       "Rain                                          Kate Vogel     57uCYwWk48K38oIvozWR2P  0.148833   \n",
       "Dear August                                   PJ Harding     16gW9O8A4rIMx5OOVlzsSn  0.757930   \n",
       "\n",
       "                                                                                         mode  \\\n",
       "trackName                                     artistName     id                                 \n",
       "If By Chance                                  Ruth B.        21dpBHPTV7ythCHBI6Slcw  0.400359   \n",
       "please                                        Chelsea Cutler 0TzeZppPwhEhySYaNRulr9 -2.497760   \n",
       "The Sun Will Come Up, The Seasons Will Change Nina Nesbitt   3i0VfLdOUCks9DmAht65XI -2.497760   \n",
       "Rain                                          Kate Vogel     57uCYwWk48K38oIvozWR2P  0.400359   \n",
       "Dear August                                   PJ Harding     16gW9O8A4rIMx5OOVlzsSn  0.400359   \n",
       "\n",
       "                                                                                     speechiness  \\\n",
       "trackName                                     artistName     id                                    \n",
       "If By Chance                                  Ruth B.        21dpBHPTV7ythCHBI6Slcw    -0.438727   \n",
       "please                                        Chelsea Cutler 0TzeZppPwhEhySYaNRulr9    -0.407398   \n",
       "The Sun Will Come Up, The Seasons Will Change Nina Nesbitt   3i0VfLdOUCks9DmAht65XI    -0.441860   \n",
       "Rain                                          Kate Vogel     57uCYwWk48K38oIvozWR2P    -0.585973   \n",
       "Dear August                                   PJ Harding     16gW9O8A4rIMx5OOVlzsSn    -0.426196   \n",
       "\n",
       "                                                                                     acousticness  \\\n",
       "trackName                                     artistName     id                                     \n",
       "If By Chance                                  Ruth B.        21dpBHPTV7ythCHBI6Slcw      0.743378   \n",
       "please                                        Chelsea Cutler 0TzeZppPwhEhySYaNRulr9      0.765224   \n",
       "The Sun Will Come Up, The Seasons Will Change Nina Nesbitt   3i0VfLdOUCks9DmAht65XI     -1.160852   \n",
       "Rain                                          Kate Vogel     57uCYwWk48K38oIvozWR2P      0.859890   \n",
       "Dear August                                   PJ Harding     16gW9O8A4rIMx5OOVlzsSn      0.448459   \n",
       "\n",
       "                                                                                     instrumentalness  \\\n",
       "trackName                                     artistName     id                                         \n",
       "If By Chance                                  Ruth B.        21dpBHPTV7ythCHBI6Slcw         -0.225513   \n",
       "please                                        Chelsea Cutler 0TzeZppPwhEhySYaNRulr9          0.011026   \n",
       "The Sun Will Come Up, The Seasons Will Change Nina Nesbitt   3i0VfLdOUCks9DmAht65XI         -0.225513   \n",
       "Rain                                          Kate Vogel     57uCYwWk48K38oIvozWR2P          0.247565   \n",
       "Dear August                                   PJ Harding     16gW9O8A4rIMx5OOVlzsSn         -0.225513   \n",
       "\n",
       "                                                                                     liveness  \\\n",
       "trackName                                     artistName     id                                 \n",
       "If By Chance                                  Ruth B.        21dpBHPTV7ythCHBI6Slcw -0.557376   \n",
       "please                                        Chelsea Cutler 0TzeZppPwhEhySYaNRulr9 -0.168989   \n",
       "The Sun Will Come Up, The Seasons Will Change Nina Nesbitt   3i0VfLdOUCks9DmAht65XI -0.719117   \n",
       "Rain                                          Kate Vogel     57uCYwWk48K38oIvozWR2P -0.547073   \n",
       "Dear August                                   PJ Harding     16gW9O8A4rIMx5OOVlzsSn -0.375030   \n",
       "\n",
       "                                                                                      valence  \\\n",
       "trackName                                     artistName     id                                 \n",
       "If By Chance                                  Ruth B.        21dpBHPTV7ythCHBI6Slcw -0.444100   \n",
       "please                                        Chelsea Cutler 0TzeZppPwhEhySYaNRulr9 -0.560302   \n",
       "The Sun Will Come Up, The Seasons Will Change Nina Nesbitt   3i0VfLdOUCks9DmAht65XI  0.730149   \n",
       "Rain                                          Kate Vogel     57uCYwWk48K38oIvozWR2P -0.707083   \n",
       "Dear August                                   PJ Harding     16gW9O8A4rIMx5OOVlzsSn  0.705686   \n",
       "\n",
       "                                                                                        tempo  \\\n",
       "trackName                                     artistName     id                                 \n",
       "If By Chance                                  Ruth B.        21dpBHPTV7ythCHBI6Slcw  0.112556   \n",
       "please                                        Chelsea Cutler 0TzeZppPwhEhySYaNRulr9 -0.612775   \n",
       "The Sun Will Come Up, The Seasons Will Change Nina Nesbitt   3i0VfLdOUCks9DmAht65XI  0.184417   \n",
       "Rain                                          Kate Vogel     57uCYwWk48K38oIvozWR2P -1.309495   \n",
       "Dear August                                   PJ Harding     16gW9O8A4rIMx5OOVlzsSn  1.012274   \n",
       "\n",
       "                                                                                     duration_ms  \\\n",
       "trackName                                     artistName     id                                    \n",
       "If By Chance                                  Ruth B.        21dpBHPTV7ythCHBI6Slcw     2.401944   \n",
       "please                                        Chelsea Cutler 0TzeZppPwhEhySYaNRulr9     0.547075   \n",
       "The Sun Will Come Up, The Seasons Will Change Nina Nesbitt   3i0VfLdOUCks9DmAht65XI    -0.378626   \n",
       "Rain                                          Kate Vogel     57uCYwWk48K38oIvozWR2P    -0.965879   \n",
       "Dear August                                   PJ Harding     16gW9O8A4rIMx5OOVlzsSn     0.149572   \n",
       "\n",
       "                                                                                     time_signature  \n",
       "trackName                                     artistName     id                                      \n",
       "If By Chance                                  Ruth B.        21dpBHPTV7ythCHBI6Slcw        0.256026  \n",
       "please                                        Chelsea Cutler 0TzeZppPwhEhySYaNRulr9        0.256026  \n",
       "The Sun Will Come Up, The Seasons Will Change Nina Nesbitt   3i0VfLdOUCks9DmAht65XI        0.256026  \n",
       "Rain                                          Kate Vogel     57uCYwWk48K38oIvozWR2P        0.256026  \n",
       "Dear August                                   PJ Harding     16gW9O8A4rIMx5OOVlzsSn        0.256026  "
      ]
     },
     "execution_count": 20,
     "metadata": {},
     "output_type": "execute_result"
    }
   ],
   "source": [
    "cluster_df = songs_df.set_index(['trackName', 'artistName', 'id']).dropna()\n",
    "cluster_df = (cluster_df - np.mean(cluster_df, axis=0)) / np.std(cluster_df, axis=0)\n",
    "cluster_df.head(5)"
   ]
  },
  {
   "cell_type": "code",
   "execution_count": 21,
   "metadata": {},
   "outputs": [],
   "source": [
    "# import scikit-learn as sklearn\n",
    "from sklearn.cluster import MeanShift\n",
    "from sklearn.cluster import KMeans"
   ]
  },
  {
   "cell_type": "code",
   "execution_count": 22,
   "metadata": {},
   "outputs": [
    {
     "data": {
      "text/plain": [
       "array([0, 0, 0, 0, 0, 0, 0, 0, 0, 0, 0, 0, 0, 0, 0, 0, 0, 0, 0, 0, 0, 0,\n",
       "       0, 0, 0, 0, 0, 0, 0, 0, 0, 0, 0, 0, 0, 0, 0, 0, 0, 0, 0, 0, 0, 0,\n",
       "       0, 0, 0, 8, 0, 0, 4, 0, 0, 0, 0, 0, 0, 0, 0, 0, 0, 0, 0, 0, 2, 0,\n",
       "       0, 0, 0, 0, 0, 0, 0, 0, 0, 0, 0, 0, 0, 0, 0, 0, 0, 0, 0, 0, 0, 0,\n",
       "       0, 0, 0, 0, 0, 0, 0, 3, 0, 0, 0, 0, 0, 0, 0, 0, 0, 0, 0, 0, 0, 0,\n",
       "       1, 0, 0, 0, 0, 0, 0, 0, 0, 0, 0, 0, 0, 0, 0, 0, 0, 0, 0, 0, 0, 0,\n",
       "       0, 0, 0, 0, 0, 0, 0, 0, 0, 0, 0, 0, 0, 7, 0, 1, 0, 0, 0, 0, 0, 0,\n",
       "       0, 0, 0, 0, 0, 0, 0, 0, 0, 0, 0, 0, 0, 0, 0, 0, 0, 0, 0, 1, 1, 0,\n",
       "       0, 0, 4, 0, 0, 0, 0, 0, 0, 0, 0, 0, 0, 0, 0, 0, 0, 0, 0, 0, 0, 0,\n",
       "       0, 0, 0, 0, 0, 0, 0, 0, 0, 0, 0, 0, 0, 0, 0, 0, 0, 0, 0, 0, 0, 0,\n",
       "       0, 0, 0, 0, 0, 0, 0, 0, 0, 0, 0, 0, 0, 0, 0, 0, 0, 1, 0, 0, 0, 0,\n",
       "       0, 0, 0, 0, 0, 5, 0, 0, 0, 0, 0, 0, 0, 0, 0, 0, 0, 0, 0, 0, 0, 0,\n",
       "       0, 6, 0, 0, 0, 0, 0, 0, 0, 0, 3, 0, 0, 0, 0, 0, 4, 0, 0, 0, 0, 0,\n",
       "       0, 0, 0, 0, 0, 0, 0, 0, 0, 0, 4, 0, 0, 0, 0, 0, 0, 0, 0, 0, 0, 0,\n",
       "       0, 8, 0, 0, 0, 0, 0, 0, 6, 0, 0, 0, 0, 0, 0, 0, 1, 0, 0, 4, 0, 0,\n",
       "       0, 0, 4, 0, 0, 0, 0, 0, 0, 0, 0, 0, 0, 0, 0, 0, 0, 0, 0, 0, 0, 0,\n",
       "       0, 0, 0, 0, 0, 0, 0, 0, 0, 0, 0, 0, 0, 0, 0, 0, 0, 0, 0, 0, 0, 0,\n",
       "       0, 0, 0, 0, 0, 0, 0, 0, 0, 0, 0, 4, 0, 0, 0, 1, 0, 0, 0, 0, 0, 0,\n",
       "       0, 0, 0, 0, 0, 0, 0, 0, 0, 0, 0, 0, 0, 0, 0, 0, 0, 0, 0, 0, 0, 0,\n",
       "       0, 0, 0, 0, 0, 0, 0, 0, 0, 0, 0, 0, 0, 0, 0, 0, 0, 0, 0, 0, 0, 0,\n",
       "       0, 0, 0, 0, 0, 0, 0, 0, 0, 0, 0, 0, 0, 0, 0, 0, 0, 0, 0, 0, 0, 0,\n",
       "       0, 0, 0, 0, 0, 0, 0, 3, 0, 0, 0, 0, 0, 0, 0, 0, 0, 0, 0, 0, 0, 0,\n",
       "       0], dtype=int64)"
      ]
     },
     "execution_count": 22,
     "metadata": {},
     "output_type": "execute_result"
    }
   ],
   "source": [
    "cluster = MeanShift().fit(cluster_df)\n",
    "cluster.labels_"
   ]
  },
  {
   "cell_type": "code",
   "execution_count": 23,
   "metadata": {},
   "outputs": [],
   "source": [
    "cluster_w_labels = cluster_df.reset_index()\n",
    "cluster_w_labels['color'] = cluster.labels_\n",
    "# px.scatter(cluster_w_labels, x='count', y='energy', color='color', hover_data='trackName')\n",
    "# cluster_w_labels.sort_values('color', ascending=False)"
   ]
  },
  {
   "cell_type": "code",
   "execution_count": 24,
   "metadata": {},
   "outputs": [
    {
     "name": "stderr",
     "output_type": "stream",
     "text": [
      "C:\\Users\\Jessi\\AppData\\Local\\Packages\\PythonSoftwareFoundation.Python.3.10_qbz5n2kfra8p0\\LocalCache\\local-packages\\Python310\\site-packages\\sklearn\\cluster\\_kmeans.py:1416: FutureWarning:\n",
      "\n",
      "The default value of `n_init` will change from 10 to 'auto' in 1.4. Set the value of `n_init` explicitly to suppress the warning\n",
      "\n",
      "C:\\Users\\Jessi\\AppData\\Local\\Packages\\PythonSoftwareFoundation.Python.3.10_qbz5n2kfra8p0\\LocalCache\\local-packages\\Python310\\site-packages\\joblib\\externals\\loky\\backend\\context.py:136: UserWarning:\n",
      "\n",
      "Could not find the number of physical cores for the following reason:\n",
      "[WinError 2] The system cannot find the file specified\n",
      "Returning the number of logical cores instead. You can silence this warning by setting LOKY_MAX_CPU_COUNT to the number of cores you want to use.\n",
      "\n",
      "  File \"C:\\Users\\Jessi\\AppData\\Local\\Packages\\PythonSoftwareFoundation.Python.3.10_qbz5n2kfra8p0\\LocalCache\\local-packages\\Python310\\site-packages\\joblib\\externals\\loky\\backend\\context.py\", line 257, in _count_physical_cores\n",
      "    cpu_info = subprocess.run(\n",
      "  File \"C:\\Program Files\\WindowsApps\\PythonSoftwareFoundation.Python.3.10_3.10.3056.0_x64__qbz5n2kfra8p0\\lib\\subprocess.py\", line 503, in run\n",
      "    with Popen(*popenargs, **kwargs) as process:\n",
      "  File \"C:\\Program Files\\WindowsApps\\PythonSoftwareFoundation.Python.3.10_3.10.3056.0_x64__qbz5n2kfra8p0\\lib\\subprocess.py\", line 971, in __init__\n",
      "    self._execute_child(args, executable, preexec_fn, close_fds,\n",
      "  File \"C:\\Program Files\\WindowsApps\\PythonSoftwareFoundation.Python.3.10_3.10.3056.0_x64__qbz5n2kfra8p0\\lib\\subprocess.py\", line 1456, in _execute_child\n",
      "    hp, ht, pid, tid = _winapi.CreateProcess(executable, args,\n"
     ]
    },
    {
     "data": {
      "application/vnd.plotly.v1+json": {
       "config": {
        "plotlyServerURL": "https://plot.ly"
       },
       "data": [
        {
         "customdata": [
          [
           "If By Chance"
          ],
          [
           "please"
          ],
          [
           "The Sun Will Come Up, The Seasons Will Change"
          ],
          [
           "Rain"
          ],
          [
           "Dear August"
          ],
          [
           "At My Funeral"
          ],
          [
           "buttercup"
          ],
          [
           "Reasons to Leave"
          ],
          [
           "Tall Paul"
          ],
          [
           "A Thousand Years"
          ],
          [
           "the author"
          ],
          [
           "Yellow Lights"
          ],
          [
           "Favourite Ex"
          ],
          [
           "Emergency Contact"
          ],
          [
           "Empath"
          ],
          [
           "Hold It Together"
          ],
          [
           "New Rules"
          ],
          [
           "Letting Go for a Little While"
          ],
          [
           "Headlights"
          ],
          [
           "Riptide"
          ],
          [
           "Crazier Things (with Noah Kahan)"
          ],
          [
           "Headstones and Land Mines"
          ],
          [
           "Love Is Letting Go (feat. Diane Keaton)"
          ],
          [
           "We Gotta Go"
          ],
          [
           "Falling Apart"
          ],
          [
           "My Life"
          ],
          [
           "Portland, Maine"
          ],
          [
           "Anyway"
          ],
          [
           "Reruns"
          ],
          [
           "Be"
          ],
          [
           "pinball"
          ],
          [
           "stuck in my head"
          ],
          [
           "Where Do I Go?"
          ],
          [
           "Hold Me"
          ],
          [
           "Brooklyn"
          ],
          [
           "Still"
          ],
          [
           "Little Do You Know"
          ],
          [
           "Coffee Stained Smile"
          ],
          [
           "Memory Lane"
          ],
          [
           "Alpine Green"
          ],
          [
           "human"
          ],
          [
           "Glad It's You"
          ],
          [
           "So It Is"
          ],
          [
           "Home for the Summer"
          ],
          [
           "Never Alone"
          ],
          [
           "Older Guys"
          ],
          [
           "Enough to Know You"
          ],
          [
           "Used To"
          ],
          [
           "nobody else"
          ],
          [
           "fly when i fall"
          ],
          [
           "Radioactive"
          ],
          [
           "Botl"
          ],
          [
           "Fall Apart Too"
          ],
          [
           "Another's Arms"
          ],
          [
           "How This Feels"
          ],
          [
           "Inside Out"
          ],
          [
           "Goodbye"
          ],
          [
           "Wrecking Ball"
          ],
          [
           "I Will Follow You into the Dark"
          ],
          [
           "Halloween"
          ],
          [
           "Oh Love"
          ],
          [
           "Crocodiles"
          ],
          [
           "When You Lose Someone"
          ],
          [
           "Better Place"
          ],
          [
           "Unknown Track"
          ],
          [
           "Falling"
          ],
          [
           "17"
          ],
          [
           "Wild Enough"
          ],
          [
           "Talk To Me"
          ],
          [
           "The Night We Met"
          ],
          [
           "Better On Your Own"
          ],
          [
           "I Wouldn't Change a Thing"
          ],
          [
           "Chosen Last"
          ],
          [
           "broken"
          ],
          [
           "Safe Places (Acoustic)"
          ],
          [
           "I Believe In A Thing Called Love"
          ],
          [
           "Balloon Boy"
          ],
          [
           "Home"
          ],
          [
           "The Only Exception"
          ],
          [
           "Secret"
          ],
          [
           "Make Us Never Happen"
          ],
          [
           "Codependent"
          ],
          [
           "The Art Of Getting By"
          ],
          [
           "Tuesdays"
          ],
          [
           "Out Of Love with You"
          ],
          [
           "Medicine"
          ],
          [
           "Never the 1"
          ],
          [
           "Let Her Go"
          ],
          [
           "Alignments"
          ],
          [
           "All of Me"
          ],
          [
           "Second Chances"
          ],
          [
           "Hopelessness Has Done Nothing for Me"
          ],
          [
           "Mother May I"
          ],
          [
           "hideous"
          ],
          [
           "Funeral"
          ],
          [
           "Just Because"
          ],
          [
           "Together Forever"
          ],
          [
           "Flowers"
          ],
          [
           "Bite The Hand"
          ],
          [
           "Hazel Eyes"
          ],
          [
           "Devil Swear I've Seen"
          ],
          [
           "jackie"
          ],
          [
           "Scared to Be Happy"
          ],
          [
           "can I call you back?"
          ],
          [
           "Even When You're Home"
          ],
          [
           "familiar stranger"
          ],
          [
           "Nothing's the Same"
          ],
          [
           "Where Are You?"
          ],
          [
           "for life"
          ],
          [
           "How"
          ],
          [
           "Carolina"
          ],
          [
           "Flight Risk"
          ],
          [
           "Lego Bricks"
          ],
          [
           "Wish It Would Rain"
          ],
          [
           "blue bird"
          ],
          [
           "1953"
          ],
          [
           "Mountaineer"
          ],
          [
           "Knock The Wind"
          ],
          [
           "Finish Line"
          ],
          [
           "I Don't Need You To Survive"
          ],
          [
           "ocean eyes"
          ],
          [
           "How Do I Tell You?"
          ],
          [
           "Need You Now - Acoustic"
          ],
          [
           "Sweet Connection"
          ],
          [
           "the first one"
          ],
          [
           "so much more than me"
          ],
          [
           "Gets Better"
          ],
          [
           "Hey There Delilah"
          ],
          [
           "Harsh"
          ],
          [
           "Always Almost"
          ],
          [
           "Rhythm Inside - Acoustic"
          ],
          [
           "Mirage"
          ],
          [
           "Are You Alright?"
          ],
          [
           "hit the dirt"
          ],
          [
           "Forget I Exist"
          ],
          [
           "Crumble"
          ],
          [
           "Meant To Be"
          ],
          [
           "wait it out"
          ],
          [
           "Forgetting Delaney"
          ],
          [
           "Soul Mate"
          ],
          [
           "Twenty Two"
          ],
          [
           "Forever Love"
          ],
          [
           "The Moon Song"
          ],
          [
           "Say You Won't Let Go"
          ],
          [
           "Nothing / Sad N Stuff"
          ],
          [
           "Boys Like You"
          ],
          [
           "You Are Gold"
          ],
          [
           "Anchor"
          ],
          [
           "Polaroid"
          ],
          [
           "State Lines"
          ],
          [
           "A Little More"
          ],
          [
           "Mr. Brightside"
          ],
          [
           "Shoot"
          ],
          [
           "Doomsday"
          ],
          [
           "Stormy Weather"
          ],
          [
           "In a Stranger's Arms"
          ],
          [
           "my fault"
          ],
          [
           "Crave"
          ],
          [
           "I Knew"
          ],
          [
           "Changing Tides"
          ],
          [
           "idk"
          ],
          [
           "ceilings - Spotify Singles"
          ],
          [
           "Giving Up Ground"
          ],
          [
           "Slow Fade"
          ],
          [
           "Winter Song"
          ],
          [
           "Opaline"
          ],
          [
           "No More Bad Days"
          ],
          [
           "Break With Me"
          ],
          [
           "forget me // so we can meet again"
          ],
          [
           "gold star"
          ],
          [
           "I Don't Want to Lose You"
          ],
          [
           "I Should Be a Bird"
          ],
          [
           "The Human Condition"
          ],
          [
           "denial"
          ],
          [
           "Walk Above the City"
          ],
          [
           "Seventeen"
          ],
          [
           "Blue"
          ],
          [
           "Dial Drunk (with Post Malone)"
          ],
          [
           "getting older"
          ],
          [
           "Renee's Song"
          ],
          [
           "2AM"
          ],
          [
           "By My Side"
          ],
          [
           "Soft Spot"
          ],
          [
           "16"
          ],
          [
           "Desperate"
          ],
          [
           "Older Than I Am"
          ],
          [
           "Story of My Life"
          ],
          [
           "Skyscraper"
          ],
          [
           "Fish"
          ],
          [
           "That's Us"
          ],
          [
           "Forever Ago"
          ],
          [
           "Through to You"
          ],
          [
           "Simple Things (feat. Christina Perri)"
          ],
          [
           "all i need (the distance song)"
          ],
          [
           "Slow"
          ],
          [
           "Paint"
          ],
          [
           "Break up Slow Dance"
          ],
          [
           "Good"
          ],
          [
           "Free"
          ],
          [
           "Is It Really Me You're Missing"
          ],
          [
           "everything everywhere always"
          ],
          [
           "Say Less"
          ],
          [
           "Whatever Makes You Want to Die Less"
          ],
          [
           "Part of Me"
          ],
          [
           "Meant To Be"
          ],
          [
           "Faith You Might"
          ],
          [
           "The Former"
          ],
          [
           "Hallelujah I Love Her So"
          ],
          [
           "Air So Sweet"
          ],
          [
           "Drop Dead"
          ],
          [
           "nobody likes a secret"
          ],
          [
           "putting a spin on sweater weather"
          ],
          [
           "i don't want to watch the world end with someone else"
          ],
          [
           "A Little Bit Yours"
          ],
          [
           "is your bedroom ceiling bored? (feat. Cavetown)"
          ],
          [
           "Let Light Be Light"
          ],
          [
           "swan song"
          ],
          [
           "sometimes"
          ],
          [
           "always, i'll care"
          ],
          [
           "Heavy"
          ],
          [
           "In What World"
          ],
          [
           "all my ghosts"
          ],
          [
           "Ordinary People"
          ],
          [
           "mountain"
          ],
          [
           "Stupid"
          ],
          [
           "Rockland"
          ],
          [
           "what if it's not"
          ],
          [
           "Thinking 'Bout Love"
          ],
          [
           "Stupid Deep - Acoustic"
          ],
          [
           "I don't mind if you don't mind (draft)"
          ],
          [
           "Heather"
          ],
          [
           "Where's My Love - Acoustic"
          ],
          [
           "called you again"
          ],
          [
           "i don't miss u"
          ],
          [
           "Moves"
          ],
          [
           "Minute Of Your Love"
          ],
          [
           "When It Kills Me"
          ],
          [
           "Swan Upon Leda"
          ],
          [
           "When All My Friends Move Away"
          ],
          [
           "drunk text me"
          ],
          [
           "If I Could Dance"
          ],
          [
           "Breakeven"
          ],
          [
           "Pass Me By"
          ],
          [
           "Alright"
          ],
          [
           "Luck"
          ],
          [
           "Haunt You"
          ],
          [
           "Points of View"
          ],
          [
           "All Too Well (Taylor's Version)"
          ],
          [
           "Wonder"
          ],
          [
           "I know it won't work"
          ],
          [
           "Colorado"
          ],
          [
           "Never Stop Loving You"
          ],
          [
           "Universe"
          ],
          [
           "Feels Like"
          ],
          [
           "Safe And Sound"
          ],
          [
           "Blue Spirits"
          ],
          [
           "Are You Listening"
          ],
          [
           "Nobody"
          ],
          [
           "OK"
          ],
          [
           "this is how you fall in love"
          ],
          [
           "Nail In The Coffin"
          ],
          [
           "Good as Gold"
          ],
          [
           "Like You Did Before"
          ],
          [
           "Black Converse"
          ],
          [
           "Align"
          ],
          [
           "somebody loves you"
          ],
          [
           "You Belong With Me (Taylor’s Version)"
          ],
          [
           "July (feat. Leon Bridges)"
          ],
          [
           "Dear Future Me"
          ],
          [
           "Gaol"
          ],
          [
           "Olive Branch"
          ],
          [
           "The Best You Had"
          ],
          [
           "Slow Motion"
          ],
          [
           "Half a Heart"
          ],
          [
           "reckless driving"
          ],
          [
           "They Just Exist"
          ],
          [
           "Only a Matter of Time"
          ],
          [
           "La Reyna"
          ],
          [
           "Frisky"
          ],
          [
           "I Was In Heaven"
          ],
          [
           "Too Much I Miss You"
          ],
          [
           "A Little Bit Longer"
          ],
          [
           "Cinematic"
          ],
          [
           "at least i'm pretty"
          ],
          [
           "Maniac"
          ],
          [
           "Brooklyn - Stripped"
          ],
          [
           "Mama Said"
          ],
          [
           "Lights"
          ],
          [
           "It's Always Been You"
          ],
          [
           "Rome"
          ],
          [
           "Seahorses Of Old Mexico"
          ],
          [
           "If I Can't Have You"
          ],
          [
           "Same Boat"
          ],
          [
           "better off"
          ],
          [
           "Die Young"
          ],
          [
           "Begging for More"
          ],
          [
           "Shameful Company - Live from Athens Georgia"
          ],
          [
           "All Good"
          ],
          [
           "Place We Were Made"
          ],
          [
           "Paper Planes"
          ],
          [
           "Infinitely Falling"
          ],
          [
           "She Will Be Loved - Radio Mix"
          ],
          [
           "Love Me Nicely"
          ],
          [
           "Old Love - Acoustic"
          ],
          [
           "In Your Circle"
          ],
          [
           "self sabotage"
          ],
          [
           "hate to be lame"
          ],
          [
           "Fall Again"
          ],
          [
           "Bees"
          ],
          [
           "Butterfly Rain"
          ],
          [
           "A Quiet Way"
          ],
          [
           "Breathe"
          ],
          [
           "Steady Love"
          ],
          [
           "Being Alone"
          ],
          [
           "Zach's Ballad"
          ],
          [
           "Afterglow"
          ],
          [
           "Wii Date"
          ],
          [
           "Happier"
          ],
          [
           "Close to Her"
          ],
          [
           "Save Us"
          ],
          [
           "champagne problems"
          ],
          [
           "The Way I Love You"
          ],
          [
           "Happily Ever After"
          ],
          [
           "Drove To The Ocean"
          ],
          [
           "Tin Lover"
          ],
          [
           "When You're Gone"
          ],
          [
           "what if we met on the moon?"
          ],
          [
           "Just Wanna Be Your Friend"
          ],
          [
           "I'm with You"
          ],
          [
           "Vanilla (Stairwell Version)"
          ],
          [
           "I Just Really Hope You Exist"
          ],
          [
           "justacow (demo3)"
          ],
          [
           "Tired"
          ],
          [
           "Tobacco In My Sheets"
          ],
          [
           "Call It a Night"
          ],
          [
           "happy for you"
          ],
          [
           "Molly"
          ],
          [
           "Worst of You"
          ],
          [
           "How Can You Not"
          ],
          [
           "Into Yellow - Piano Version"
          ],
          [
           "4 + 20"
          ],
          [
           "Brave Face"
          ],
          [
           "Say Love"
          ],
          [
           "Look Back & Laugh"
          ],
          [
           "Hearts on Fire"
          ],
          [
           "Hurt Again"
          ],
          [
           "Spaceship (Bonus Track)"
          ],
          [
           "To Love Someone Else"
          ],
          [
           "What They'll Say About Us"
          ],
          [
           "What Can I Do"
          ],
          [
           "Megan’s Song"
          ],
          [
           "Asking the Aspens"
          ],
          [
           "Omni"
          ],
          [
           "Live Cinema"
          ],
          [
           "do you wanna leave this city ?"
          ],
          [
           "I Should’ve Danced More"
          ],
          [
           "Clocks"
          ],
          [
           "Crosswords"
          ],
          [
           "Turns Out"
          ],
          [
           "Round & Round"
          ],
          [
           "Superspreader"
          ],
          [
           "Best Part of Me"
          ],
          [
           "Witness - feat. Rajiv Dhall"
          ],
          [
           "Take Me Back"
          ],
          [
           "Bloom - Bonus Track"
          ],
          [
           "Blue Eyed Baby"
          ],
          [
           "we'll be fine"
          ],
          [
           "Idle Sympathy"
          ],
          [
           "Who's She"
          ],
          [
           "pass you by"
          ],
          [
           "warm blood"
          ],
          [
           "To the Mountains"
          ],
          [
           "If I Had Stayed"
          ],
          [
           "Vienna"
          ],
          [
           "Lately I've Been Sad"
          ],
          [
           "Cellophane"
          ],
          [
           "405"
          ],
          [
           "MISC."
          ],
          [
           "As a Child"
          ],
          [
           "Closure"
          ],
          [
           "Clockwork"
          ],
          [
           "Silver & Gold"
          ],
          [
           "Through"
          ],
          [
           "Pictures of You"
          ],
          [
           "snail / alwase"
          ],
          [
           "If I Could"
          ],
          [
           "Fireflies"
          ],
          [
           "Another Round"
          ],
          [
           "erase me"
          ],
          [
           "No Fun"
          ],
          [
           "wish I didn't know you"
          ],
          [
           "Better Now"
          ],
          [
           "Only Know How to Love You - with Annika Bennett"
          ],
          [
           "Say (feat. Jake Meadows) - Acoustic Version"
          ],
          [
           "Stuck With You - Acoustic"
          ],
          [
           "Love Brought Weight"
          ],
          [
           "Same Room"
          ],
          [
           "Pineapple"
          ],
          [
           "got me thinking"
          ],
          [
           "Ant Pile"
          ],
          [
           "Love Is Just a Way to Die"
          ],
          [
           "Run Awhile"
          ],
          [
           "Hailey"
          ],
          [
           "Every Time"
          ],
          [
           "Loving & Losing"
          ],
          [
           "I Think I"
          ],
          [
           "Pieces"
          ],
          [
           "Black Coffee - Unplugged"
          ],
          [
           "the stars"
          ],
          [
           "we fell in love in october"
          ],
          [
           "Still Something"
          ],
          [
           "Nirvana"
          ],
          [
           "Hey, Soul Sister"
          ],
          [
           "What Would I Do Without You"
          ],
          [
           "Standing in the Rain"
          ],
          [
           "Dial Drunk"
          ],
          [
           "glued to the floor"
          ],
          [
           "When You Love Someone"
          ],
          [
           "oh, mexico"
          ],
          [
           "Tell Me That You Love Me"
          ],
          [
           "Red Eye"
          ],
          [
           "Kill Bill"
          ],
          [
           "ilym (feat. ROSIE)"
          ],
          [
           "a message to that girl i fell in love with."
          ],
          [
           "Apart From, a Part Of, You."
          ],
          [
           "Alexandria (Slowed)"
          ],
          [
           "Immune"
          ],
          [
           "What Am I Gonna Do On Sundays?"
          ],
          [
           "what a shame"
          ],
          [
           "DJ Got Us Fallin' In Love (feat. Pitbull)"
          ],
          [
           "Playing God"
          ],
          [
           "In Love Now"
          ],
          [
           "sydney"
          ],
          [
           "Work Off My Hurt"
          ],
          [
           "Witness"
          ],
          [
           "Lovely Days"
          ],
          [
           "Kaleidoscope Tears"
          ],
          [
           "Good Mourning"
          ],
          [
           "Arms"
          ],
          [
           "Älskar"
          ],
          [
           "you were good to me"
          ],
          [
           "Oh Well"
          ],
          [
           "Time After Time - Spotify Singles"
          ],
          [
           "multiverse"
          ],
          [
           "You & I"
          ],
          [
           "Free"
          ],
          [
           "Long Sleeves"
          ],
          [
           "Concrete"
          ],
          [
           "pennies (voice memo)"
          ],
          [
           "Pyjamas (feat. Remi Wolf)"
          ],
          [
           "Fiona"
          ],
          [
           "Somebody Else"
          ],
          [
           "Remember you were the one"
          ],
          [
           "I miss you, I’m sorry"
          ],
          [
           "Chicago"
          ],
          [
           "Somebody"
          ],
          [
           "Mum"
          ],
          [
           "Tonight"
          ],
          [
           "Muffin"
          ],
          [
           "You Can Only Go in Pieces"
          ],
          [
           "November Son"
          ],
          [
           "On God"
          ],
          [
           "break up with a friend"
          ],
          [
           "Jealous of Paris"
          ],
          [
           "Counting Stars"
          ],
          [
           "All I Want"
          ],
          [
           "Things I Say When You Sleep"
          ],
          [
           "Retail Therapy"
          ],
          [
           "Straight into Your Arms - Bonus Track Version"
          ],
          [
           "False Art"
          ],
          [
           "Crashing into You"
          ],
          [
           "A Change Is Gonna Come"
          ],
          [
           "I Melt with You"
          ],
          [
           "Picture Perfect"
          ],
          [
           "Is She Gonna Be There?"
          ],
          [
           "Like A Stone"
          ],
          [
           "fall out of love"
          ],
          [
           "I Like You"
          ],
          [
           "More Like You - Piano Version"
          ],
          [
           "Two Punks In Love"
          ],
          [
           "It Hurts Too Much To Speak"
          ],
          [
           "Rich Boy"
          ],
          [
           "Yours"
          ],
          [
           "ocean"
          ],
          [
           "Crying Over You"
          ]
         ],
         "hovertemplate": "count=%{x}<br>energy=%{y}<br>trackName=%{customdata[0]}<br>color=%{marker.color}<extra></extra>",
         "legendgroup": "",
         "marker": {
          "color": [
           4,
           20,
           31,
           0,
           13,
           21,
           32,
           2,
           45,
           1,
           15,
           18,
           36,
           36,
           0,
           33,
           19,
           15,
           25,
           10,
           15,
           9,
           43,
           4,
           16,
           6,
           17,
           4,
           34,
           16,
           39,
           34,
           27,
           21,
           2,
           25,
           13,
           42,
           30,
           43,
           1,
           16,
           12,
           32,
           24,
           4,
           25,
           11,
           25,
           1,
           40,
           39,
           7,
           39,
           47,
           39,
           46,
           46,
           0,
           32,
           2,
           7,
           30,
           15,
           22,
           4,
           14,
           27,
           27,
           6,
           10,
           2,
           28,
           15,
           15,
           9,
           39,
           34,
           27,
           41,
           16,
           36,
           43,
           38,
           27,
           1,
           37,
           28,
           0,
           4,
           21,
           16,
           0,
           46,
           2,
           37,
           39,
           46,
           28,
           33,
           7,
           37,
           28,
           20,
           31,
           39,
           32,
           0,
           32,
           30,
           8,
           0,
           27,
           39,
           13,
           6,
           12,
           39,
           47,
           42,
           7,
           30,
           2,
           9,
           14,
           0,
           46,
           15,
           24,
           36,
           7,
           42,
           12,
           46,
           20,
           27,
           9,
           2,
           16,
           15,
           4,
           28,
           12,
           28,
           12,
           11,
           12,
           8,
           1,
           27,
           2,
           10,
           9,
           20,
           37,
           28,
           24,
           15,
           15,
           7,
           20,
           12,
           7,
           39,
           12,
           25,
           32,
           25,
           33,
           16,
           2,
           7,
           37,
           17,
           17,
           15,
           25,
           35,
           6,
           43,
           4,
           27,
           33,
           37,
           35,
           20,
           23,
           28,
           29,
           33,
           12,
           39,
           5,
           33,
           30,
           15,
           46,
           43,
           20,
           4,
           47,
           43,
           23,
           7,
           30,
           38,
           18,
           43,
           9,
           46,
           34,
           12,
           13,
           15,
           32,
           43,
           12,
           36,
           24,
           14,
           18,
           6,
           20,
           27,
           12,
           13,
           7,
           14,
           25,
           43,
           21,
           15,
           20,
           18,
           46,
           47,
           16,
           17,
           0,
           46,
           34,
           23,
           24,
           7,
           29,
           15,
           12,
           26,
           4,
           31,
           24,
           29,
           27,
           2,
           35,
           32,
           35,
           16,
           15,
           20,
           46,
           46,
           7,
           39,
           4,
           3,
           23,
           16,
           35,
           47,
           21,
           31,
           31,
           10,
           11,
           2,
           47,
           47,
           3,
           4,
           40,
           32,
           43,
           24,
           31,
           2,
           7,
           42,
           2,
           28,
           38,
           35,
           15,
           20,
           19,
           15,
           40,
           25,
           36,
           30,
           23,
           31,
           27,
           32,
           15,
           46,
           42,
           0,
           15,
           7,
           47,
           47,
           16,
           5,
           27,
           7,
           11,
           46,
           34,
           35,
           25,
           34,
           23,
           46,
           8,
           33,
           16,
           40,
           6,
           15,
           12,
           38,
           41,
           6,
           47,
           25,
           24,
           14,
           23,
           0,
           29,
           43,
           5,
           0,
           21,
           28,
           39,
           15,
           7,
           39,
           0,
           13,
           45,
           24,
           46,
           46,
           31,
           43,
           15,
           25,
           32,
           0,
           47,
           39,
           15,
           43,
           12,
           27,
           16,
           2,
           23,
           18,
           47,
           33,
           6,
           2,
           25,
           34,
           27,
           33,
           34,
           10,
           46,
           15,
           25,
           41,
           10,
           34,
           16,
           17,
           2,
           0,
           7,
           16,
           33,
           17,
           2,
           6,
           4,
           5,
           28,
           32,
           46,
           7,
           29,
           30,
           4,
           33,
           16,
           1,
           32,
           1,
           19,
           43,
           27,
           35,
           43,
           14,
           6,
           2,
           1,
           23,
           36,
           9,
           7,
           7,
           1,
           1,
           32,
           19,
           2,
           4,
           6,
           28,
           36,
           39,
           0,
           36,
           9,
           28,
           20,
           12,
           46,
           46,
           46,
           23,
           2,
           37,
           0,
           3,
           3,
           33,
           31,
           20,
           4,
           35,
           1,
           5,
           39,
           6,
           6,
           18,
           34,
           36,
           31,
           36,
           44,
           0,
           5,
           37,
           23,
           21,
           10,
           2,
           34,
           4,
           7,
           24,
           39,
           13,
           25,
           32,
           15,
           37,
           2
          ],
          "coloraxis": "coloraxis",
          "symbol": "circle"
         },
         "mode": "markers",
         "name": "",
         "orientation": "v",
         "showlegend": false,
         "type": "scatter",
         "x": [
          -0.794260862610532,
          4.2535597379232515,
          0.7125512569517916,
          -0.794260862610532,
          0.7878918629299078,
          -0.794260862610532,
          -0.41755783271995106,
          -0.794260862610532,
          -0.794260862610532,
          0.10982640912686215,
          1.4659573167329532,
          2.2947039824922313,
          2.972769436295277,
          0.5618700449955591,
          -0.794260862610532,
          -0.7189202566324158,
          -0.794260862610532,
          0.10982640912686215,
          -0.19153601478560256,
          0.9385730748861401,
          1.0139136808642562,
          -0.49289843869806726,
          0.18516701510497832,
          -0.794260862610532,
          -0.794260862610532,
          -0.7189202566324158,
          0.5618700449955591,
          0.5618700449955591,
          0.486529439017443,
          1.1645948928204886,
          -0.6435796506542996,
          -0.6435796506542996,
          -0.0408548028293702,
          -0.0408548028293702,
          0.6372106509736754,
          -0.11619540880748638,
          0.10982640912686215,
          1.3152761047767207,
          2.52072580042658,
          1.1645948928204886,
          -0.19153601478560256,
          0.2605076210830945,
          -0.5682390446761835,
          -0.7189202566324158,
          -0.19153601478560256,
          -0.7189202566324158,
          -0.7189202566324158,
          -0.794260862610532,
          -0.2668766207637187,
          1.0139136808642562,
          -0.3422172267418349,
          0.7125512569517916,
          -0.794260862610532,
          -0.41755783271995106,
          -0.3422172267418349,
          -0.6435796506542996,
          -0.41755783271995106,
          -0.794260862610532,
          -0.794260862610532,
          -0.5682390446761835,
          -0.11619540880748638,
          -0.3422172267418349,
          4.554922161835717,
          -0.3422172267418349,
          2.52072580042658,
          0.03448580314874597,
          1.0139136808642562,
          0.18516701510497832,
          -0.794260862610532,
          -0.0408548028293702,
          -0.7189202566324158,
          -0.7189202566324158,
          -0.5682390446761835,
          1.3152761047767207,
          -0.5682390446761835,
          0.8632324689080239,
          -0.7189202566324158,
          1.1645948928204886,
          -0.41755783271995106,
          -0.3422172267418349,
          -0.41755783271995106,
          1.9180009526016502,
          -0.41755783271995106,
          -0.3422172267418349,
          0.486529439017443,
          0.03448580314874597,
          0.10982640912686215,
          -0.49289843869806726,
          -0.794260862610532,
          -0.2668766207637187,
          -0.794260862610532,
          -0.794260862610532,
          -0.794260862610532,
          -0.794260862610532,
          -0.5682390446761835,
          -0.3422172267418349,
          0.8632324689080239,
          -0.11619540880748638,
          -0.794260862610532,
          -0.49289843869806726,
          -0.794260862610532,
          -0.7189202566324158,
          0.7125512569517916,
          3.5001536781420897,
          1.2399354987986047,
          -0.6435796506542996,
          -0.7189202566324158,
          -0.11619540880748638,
          0.10982640912686215,
          4.630262767813832,
          -0.6435796506542996,
          1.9933415585797665,
          0.33584822706121065,
          -0.49289843869806726,
          1.0892542868423725,
          -0.11619540880748638,
          -0.3422172267418349,
          -0.794260862610532,
          1.842660346623534,
          1.842660346623534,
          -0.7189202566324158,
          3.123450648251509,
          0.486529439017443,
          1.0892542868423725,
          2.219363376514115,
          -0.49289843869806726,
          -0.49289843869806726,
          0.7125512569517916,
          0.18516701510497832,
          0.5618700449955591,
          -0.794260862610532,
          1.9933415585797665,
          -0.6435796506542996,
          -0.6435796506542996,
          2.972769436295277,
          -0.49289843869806726,
          -0.6435796506542996,
          0.33584822706121065,
          -0.2668766207637187,
          -0.794260862610532,
          -0.794260862610532,
          -0.11619540880748638,
          -0.5682390446761835,
          -0.2668766207637187,
          0.03448580314874597,
          -0.794260862610532,
          -0.5682390446761835,
          0.6372106509736754,
          -0.794260862610532,
          1.3152761047767207,
          -0.3422172267418349,
          -0.0408548028293702,
          1.1645948928204886,
          1.842660346623534,
          0.03448580314874597,
          0.33584822706121065,
          0.18516701510497832,
          -0.794260862610532,
          1.6919791346673017,
          -0.7189202566324158,
          1.767319740645418,
          -0.5682390446761835,
          -0.794260862610532,
          -0.41755783271995106,
          -0.794260862610532,
          0.10982640912686215,
          -0.7189202566324158,
          0.7125512569517916,
          -0.49289843869806726,
          -0.6435796506542996,
          0.18516701510497832,
          0.6372106509736754,
          -0.5682390446761835,
          -0.794260862610532,
          0.10982640912686215,
          -0.6435796506542996,
          1.2399354987986047,
          -0.794260862610532,
          -0.7189202566324158,
          -0.6435796506542996,
          -0.794260862610532,
          -0.41755783271995106,
          -0.794260862610532,
          -0.794260862610532,
          -0.7189202566324158,
          1.9933415585797665,
          -0.0408548028293702,
          -0.11619540880748638,
          -0.6435796506542996,
          -0.19153601478560256,
          -0.7189202566324158,
          -0.794260862610532,
          -0.2668766207637187,
          0.33584822706121065,
          3.274131860207741,
          1.9180009526016502,
          -0.7189202566324158,
          -0.11619540880748638,
          2.4453851944484635,
          0.2605076210830945,
          -0.19153601478560256,
          1.3152761047767207,
          -0.7189202566324158,
          0.03448580314874597,
          3.7261754960764386,
          -0.11619540880748638,
          -0.794260862610532,
          -0.49289843869806726,
          0.18516701510497832,
          -0.5682390446761835,
          1.5412979227110692,
          -0.7189202566324158,
          0.33584822706121065,
          0.6372106509736754,
          -0.7189202566324158,
          0.8632324689080239,
          -0.3422172267418349,
          1.0139136808642562,
          1.3152761047767207,
          0.2605076210830945,
          0.33584822706121065,
          0.9385730748861401,
          2.972769436295277,
          -0.7189202566324158,
          -0.11619540880748638,
          0.41118883303932685,
          0.486529439017443,
          0.03448580314874597,
          -0.2668766207637187,
          0.10982640912686215,
          -0.41755783271995106,
          0.7878918629299078,
          1.9180009526016502,
          2.5960664064046957,
          -0.794260862610532,
          -0.49289843869806726,
          -0.7189202566324158,
          -0.794260862610532,
          1.1645948928204886,
          -0.19153601478560256,
          -0.0408548028293702,
          -0.0408548028293702,
          -0.2668766207637187,
          -0.0408548028293702,
          -0.6435796506542996,
          0.8632324689080239,
          -0.794260862610532,
          -0.6435796506542996,
          -0.6435796506542996,
          0.03448580314874597,
          -0.11619540880748638,
          -0.49289843869806726,
          0.6372106509736754,
          0.6372106509736754,
          -0.41755783271995106,
          -0.6435796506542996,
          -0.794260862610532,
          -0.6435796506542996,
          -0.2668766207637187,
          2.4453851944484635,
          -0.5682390446761835,
          0.5618700449955591,
          0.18516701510497832,
          0.10982640912686215,
          -0.794260862610532,
          -0.794260862610532,
          -0.0408548028293702,
          1.390616710754837,
          -0.6435796506542996,
          -0.2668766207637187,
          -0.6435796506542996,
          1.9180009526016502,
          -0.7189202566324158,
          -0.7189202566324158,
          0.8632324689080239,
          0.486529439017443,
          -0.794260862610532,
          -0.49289843869806726,
          -0.6435796506542996,
          0.18516701510497832,
          -0.794260862610532,
          -0.7189202566324158,
          -0.6435796506542996,
          -0.6435796506542996,
          -0.6435796506542996,
          -0.5682390446761835,
          -0.794260862610532,
          -0.49289843869806726,
          -0.794260862610532,
          -0.19153601478560256,
          -0.794260862610532,
          -0.794260862610532,
          1.6919791346673017,
          2.5960664064046957,
          -0.7189202566324158,
          -0.6435796506542996,
          -0.794260862610532,
          -0.7189202566324158,
          0.7125512569517916,
          3.274131860207741,
          -0.794260862610532,
          -0.41755783271995106,
          -0.3422172267418349,
          -0.5682390446761835,
          -0.49289843869806726,
          -0.794260862610532,
          4.027537919988903,
          -0.41755783271995106,
          0.03448580314874597,
          0.7878918629299078,
          -0.7189202566324158,
          -0.794260862610532,
          -0.2668766207637187,
          -0.6435796506542996,
          -0.6435796506542996,
          -0.794260862610532,
          -0.7189202566324158,
          -0.794260862610532,
          -0.6435796506542996,
          -0.6435796506542996,
          0.10982640912686215,
          -0.794260862610532,
          -0.794260862610532,
          -0.7189202566324158,
          -0.2668766207637187,
          -0.2668766207637187,
          -0.6435796506542996,
          0.41118883303932685,
          0.7878918629299078,
          -0.19153601478560256,
          -0.794260862610532,
          -0.7189202566324158,
          -0.6435796506542996,
          -0.7189202566324158,
          -0.794260862610532,
          -0.3422172267418349,
          -0.6435796506542996,
          1.767319740645418,
          -0.7189202566324158,
          -0.794260862610532,
          -0.794260862610532,
          0.41118883303932685,
          -0.19153601478560256,
          0.10982640912686215,
          -0.49289843869806726,
          -0.6435796506542996,
          -0.19153601478560256,
          0.2605076210830945,
          0.8632324689080239,
          -0.7189202566324158,
          -0.2668766207637187,
          0.9385730748861401,
          -0.6435796506542996,
          1.390616710754837,
          -0.49289843869806726,
          0.03448580314874597,
          -0.19153601478560256,
          1.5412979227110692,
          -0.6435796506542996,
          0.03448580314874597,
          -0.6435796506542996,
          -0.7189202566324158,
          -0.5682390446761835,
          -0.794260862610532,
          1.390616710754837,
          -0.49289843869806726,
          -0.7189202566324158,
          -0.49289843869806726,
          -0.7189202566324158,
          1.1645948928204886,
          -0.7189202566324158,
          0.9385730748861401,
          0.18516701510497832,
          -0.6435796506542996,
          0.486529439017443,
          -0.5682390446761835,
          0.2605076210830945,
          -0.794260862610532,
          -0.7189202566324158,
          -0.5682390446761835,
          -0.7189202566324158,
          -0.2668766207637187,
          -0.49289843869806726,
          -0.5682390446761835,
          -0.794260862610532,
          -0.2668766207637187,
          -0.6435796506542996,
          1.390616710754837,
          -0.7189202566324158,
          -0.7189202566324158,
          0.41118883303932685,
          -0.6435796506542996,
          -0.3422172267418349,
          -0.6435796506542996,
          -0.7189202566324158,
          -0.6435796506542996,
          -0.3422172267418349,
          -0.11619540880748638,
          -0.7189202566324158,
          -0.794260862610532,
          -0.7189202566324158,
          -0.6435796506542996,
          0.41118883303932685,
          -0.7189202566324158,
          0.7125512569517916,
          3.274131860207741,
          -0.49289843869806726,
          -0.5682390446761835,
          -0.11619540880748638,
          -0.794260862610532,
          -0.6435796506542996,
          -0.41755783271995106,
          0.03448580314874597,
          -0.19153601478560256,
          -0.2668766207637187,
          -0.794260862610532,
          0.18516701510497832,
          0.03448580314874597,
          -0.6435796506542996,
          0.8632324689080239,
          0.5618700449955591,
          -0.5682390446761835,
          0.41118883303932685,
          -0.49289843869806726,
          -0.7189202566324158,
          -0.49289843869806726,
          -0.49289843869806726,
          -0.5682390446761835,
          -0.41755783271995106,
          -0.2668766207637187,
          -0.5682390446761835,
          -0.49289843869806726,
          0.18516701510497832,
          1.0139136808642562,
          1.0139136808642562,
          -0.794260862610532,
          -0.7189202566324158,
          0.5618700449955591,
          1.2399354987986047,
          -0.6435796506542996,
          2.0686821645578823,
          -0.6435796506542996,
          -0.5682390446761835,
          -0.7189202566324158,
          -0.5682390446761835,
          -0.794260862610532,
          0.2605076210830945,
          0.41118883303932685,
          -0.3422172267418349,
          -0.794260862610532,
          -0.794260862610532,
          -0.7189202566324158,
          -0.7189202566324158,
          1.9180009526016502,
          -0.49289843869806726,
          -0.5682390446761835,
          -0.6435796506542996,
          -0.794260862610532,
          -0.794260862610532,
          -0.6435796506542996,
          -0.5682390446761835,
          -0.794260862610532,
          -0.41755783271995106,
          1.4659573167329532,
          -0.2668766207637187,
          1.842660346623534,
          -0.41755783271995106,
          -0.7189202566324158,
          -0.794260862610532,
          3.6508348900983223,
          -0.49289843869806726,
          -0.794260862610532,
          -0.794260862610532,
          -0.0408548028293702,
          0.7878918629299078,
          0.18516701510497832,
          -0.794260862610532,
          0.10982640912686215,
          -0.794260862610532,
          1.5412979227110692,
          -0.7189202566324158,
          -0.7189202566324158,
          0.10982640912686215,
          -0.794260862610532,
          0.10982640912686215
         ],
         "xaxis": "x",
         "y": [
          -0.3610436664050905,
          -1.0125037192386803,
          1.3857916965026762,
          -0.4129298653033411,
          -0.10161267191383809,
          0.26735585358483216,
          -0.11314293833567154,
          0.45760524954508386,
          1.1609515012769243,
          0.3768933845922497,
          -0.44752066456884143,
          -0.7588378579583446,
          -0.9490872539185965,
          -0.8280194564893452,
          -0.8568451225439287,
          -0.6262397941072598,
          2.066077415390849,
          -0.21115020292125591,
          -0.10737780512475481,
          2.244796544929268,
          -0.38986933245967414,
          -1.4391235768465178,
          -0.33798313356142395,
          0.5556125141306683,
          -0.04972647301558754,
          -0.33798313356142395,
          0.04251565835907979,
          -1.0701550513478475,
          -0.3552785331941738,
          0.4691355159669173,
          -0.937556987496763,
          -0.18232453686667227,
          -1.4575720031214514,
          1.8239418205323474,
          0.24429532074116528,
          -0.8683753889657623,
          -0.2860969346631734,
          -1.6316790260911365,
          -1.375707111526434,
          -1.1393366498788484,
          0.849634307887421,
          -0.42446013172517455,
          -1.0240339856605138,
          1.0802396363240903,
          -0.5685884619980928,
          0.22699992110841508,
          -0.01513567375008717,
          -1.0874504509805978,
          -0.29186206787409014,
          -0.009370540539170443,
          2.5503486051078545,
          0.45184011633416715,
          0.24429532074116528,
          0.030985391937246334,
          -0.38410419924875744,
          -0.9779129199731801,
          0.18087885542108126,
          0.4633703827560006,
          -0.7818983908020115,
          0.7228013772472534,
          -0.14773373760117192,
          0.5671427805525017,
          0.4230144502795835,
          0.3365374521158329,
          -1.9331378416899718,
          -0.43022526493609126,
          0.7170362440363366,
          -0.6493003269509268,
          -1.162397182722515,
          0.14052292294466417,
          1.7720556216340968,
          -0.6262397941072598,
          1.1782469009096745,
          0.03675052514816306,
          -0.22268046934308938,
          -0.9779129199731801,
          -0.3206877339286737,
          -1.185457715566182,
          -0.251506135397673,
          -1.454689436515993,
          0.849634307887421,
          -0.5282325295216757,
          -0.8799056553875957,
          -0.7184819254819275,
          -0.706951659060094,
          1.126360702011424,
          -0.4417555313579247,
          1.1724817676987578,
          -0.499406863467092,
          -0.44752066456884143,
          -0.09584753870292136,
          -0.6089443944745099,
          -0.1419686043902552,
          1.0860047695350068,
          -0.4532857977797582,
          1.6567529574157622,
          -0.6031792612635931,
          1.0802396363240903,
          0.9534067056839222,
          -0.9202615878640128,
          0.47490064917783403,
          0.9591718388948389,
          0.7746875761455035,
          -0.13043833796842172,
          0.7228013772472534,
          0.5959684466070854,
          -0.19385480328850574,
          -0.562823328787176,
          -0.2688015350304232,
          -1.2373439144644325,
          -0.9606175203404299,
          -1.018268852449597,
          -0.13043833796842172,
          -0.10161267191383809,
          -0.43599039814700796,
          -0.6031792612635931,
          -0.15349887081208863,
          -0.6608305933727602,
          -0.9606175203404299,
          -1.1739274491443485,
          0.16358345578833108,
          -1.0355642520823471,
          -0.1419686043902552,
          -1.5988177667889112,
          0.3307723189049162,
          -0.17655940365575556,
          0.1693485889992478,
          -0.29186206787409014,
          0.49219604881058426,
          0.17511372221016452,
          0.35959798495949985,
          -0.5224673963107589,
          -1.6259138928802197,
          0.15781832257741435,
          0.3307723189049162,
          -0.9663826535513467,
          -1.4149100173606675,
          0.2097045214756649,
          -0.06702187264833773,
          0.19817425505383143,
          -0.3264528671395905,
          1.7662904884231803,
          -1.1739274491443485,
          1.2416633662297585,
          -1.0586247849260142,
          0.30771178606124927,
          -1.1969879819880154,
          0.3768933845922497,
          1.5068594939319273,
          -0.18232453686667227,
          0.7516270433018367,
          3.282520522894278,
          -0.9779129199731801,
          0.2961815196394158,
          0.5902033133961686,
          0.5267868480760846,
          -0.17655940365575556,
          0.49796118202150097,
          -0.5974141280526764,
          0.2097045214756649,
          -0.4186949985142578,
          -1.0701550513478475,
          -0.6204746608963431,
          -0.1650291372339221,
          -1.1739274491443485,
          -0.026665940171920626,
          -0.11314293833567154,
          -0.7991937904347616,
          -0.5397627959435091,
          -0.6723608597945937,
          -0.13620347117933845,
          -0.10161267191383809,
          1.0283534374258396,
          0.4691355159669173,
          -0.5570581955762592,
          -0.10737780512475481,
          -1.1393366498788484,
          1.5645108260410947,
          0.5671427805525017,
          -0.6493003269509268,
          0.5325519812870013,
          -1.335351179050017,
          -0.9087313214421794,
          2.538818338686021,
          1.9680701508052656,
          -0.20538506971033918,
          1.852767486586931,
          1.3800265632917594,
          -1.8513306014270634,
          -1.3468814454718503,
          -0.8280194564893452,
          -0.5858838616308429,
          2.244796544929268,
          -1.2834649801517664,
          -0.5685884619980928,
          -0.19385480328850574,
          0.4287795834905002,
          0.1059321236791638,
          -0.7415424583255944,
          -0.25727126860858973,
          0.22123478789749834,
          0.2731209867957489,
          1.1840120341205913,
          0.7285665104581701,
          -1.0701550513478475,
          0.6766803115599196,
          -0.8453148561220953,
          -1.396461591085734,
          -1.5717216406976025,
          0.2961815196394158,
          -1.4189456106083094,
          -1.604582899999828,
          0.10016699046824706,
          -0.25727126860858973,
          0.624794112661669,
          -0.7761332575910947,
          -1.3238209126281835,
          -1.2373439144644325,
          -0.6954213926382606,
          0.31924205248308274,
          -1.6714584452464616,
          -0.28033180145225667,
          -1.2776998469408496,
          -1.1508669163006817,
          -1.4189456106083094,
          0.3480677185376664,
          0.5094914484433344,
          -0.10161267191383809,
          -0.4417555313579247,
          -0.8972010550203459,
          0.4806657823887508,
          -0.6723608597945937,
          -0.20538506971033918,
          -0.2860969346631734,
          0.5671427805525017,
          -1.3584117118936838,
          -0.47058119741250837,
          0.39418878422499987,
          -0.36680879961600726,
          0.8726948407310879,
          0.8150435086219207,
          2.0430168825471826,
          -0.10161267191383809,
          -0.8222543232784284,
          -1.2200485148316824,
          0.6593849119271693,
          -1.2949952465735999,
          1.016823171004006,
          -0.730012191903761,
          1.3973219629245095,
          -0.7703681243801781,
          -0.5858838616308429,
          -0.2630364018195065,
          0.8150435086219207,
          2.7521282674899394,
          1.8181766873214307,
          1.1378909684332574,
          -1.3641768451046006,
          -0.914496454653096,
          -0.8049589236456782,
          0.10016699046824706,
          1.4146173625572598,
          -0.6147095276854265,
          0.39418878422499987,
          -0.11890807154658828,
          1.3166100979716753,
          2.4869321397877706,
          -0.7530727247474278,
          1.4376778954009266,
          0.019455125515412876,
          0.45760524954508386,
          1.3857916965026762,
          1.5472154264083444,
          2.1467892803436834,
          0.2788861200066656,
          0.30194665285033256,
          -0.4071647320924244,
          -0.3552785331941738,
          0.8381040414655876,
          -0.19961993649942247,
          0.08287159083549689,
          0.17511372221016452,
          0.7689224429345869,
          0.4633703827560006,
          0.5844381801852518,
          -0.8395497229111786,
          -0.11314293833567154,
          -1.208518248409849,
          -0.29762720108500684,
          1.149421234855091,
          -0.42446013172517455,
          2.775188800333606,
          -1.1162761170351814,
          -0.11314293833567154,
          2.066077415390849,
          -0.01513567375008717,
          1.8066464208995971,
          -1.0528596517150974,
          0.054045924780913246,
          0.054045924780913246,
          2.8847263313410245,
          1.852767486586931,
          -0.4071647320924244,
          -0.5974141280526764,
          -0.7127167922710108,
          0.9476415724730054,
          -0.5224673963107589,
          -0.9548523871295131,
          -1.185457715566182,
          -0.8856707885985124,
          -0.9721477867622633,
          -0.4071647320924244,
          0.6651500451380861,
          1.2935495651280084,
          -0.9894431863950134,
          -0.42446013172517455,
          0.7285665104581701,
          0.250060453952082,
          -0.34374826677234066,
          2.6368256032716055,
          -0.5858838616308429,
          -0.4648160642015916,
          2.10066821465635,
          -0.21115020292125591,
          -1.7827255162171547,
          -0.5974141280526764,
          -1.3295860458391002,
          0.4864309155996675,
          -0.0209008069610039,
          -0.37833906603784073,
          -1.0125037192386803,
          0.7573921765127534,
          -0.0843172722810879,
          -0.7761332575910947,
          0.47490064917783403,
          -0.0209008069610039,
          -0.2457410021867563,
          0.7170362440363366,
          1.6163970249393451,
          -1.2719347137299328,
          -1.6351381060176864,
          -1.185457715566182,
          0.6305592458725857,
          -0.055491606226504266,
          0.04828079156999652,
          1.282019298706175,
          -0.251506135397673,
          -0.3956344656705909,
          -0.13620347117933845,
          -0.7184819254819275,
          -0.43599039814700796,
          -0.25727126860858973,
          0.5383171144979181,
          -0.43022526493609126,
          1.322375231182592,
          0.2961815196394158,
          2.348568942725769,
          -0.499406863467092,
          0.19240912184291473,
          -0.6320049273181766,
          0.15205318936649762,
          -0.6665957265836769,
          -0.49364173025617525,
          -0.38410419924875744,
          0.4287795834905002,
          -0.5051719966780087,
          -1.266169580519016,
          -1.64320929251297,
          -0.6781259930055104,
          0.07710645762458015,
          2.561878871529688,
          -1.1220412502460981,
          -1.0067385860277636,
          -1.4616075963690929,
          0.04828079156999652,
          -0.64353519374001,
          -0.10161267191383809,
          -0.8626102557548455,
          -0.43599039814700796,
          -1.352646578682767,
          0.21546965468658164,
          1.04564883705859,
          0.5959684466070854,
          -0.6262397941072598,
          -0.6320049273181766,
          0.6420895122944191,
          1.8470023533760143,
          -0.9260267210749296,
          0.624794112661669,
          -1.0989807174024313,
          0.05981105799182997,
          -0.7011865258491773,
          -0.17655940365575556,
          -0.874140522176679,
          -0.8049589236456782,
          -0.0843172722810879,
          0.25582558716299875,
          -0.730012191903761,
          -0.2745666682413399,
          2.2563268113511015,
          0.6305592458725857,
          1.5645108260410947,
          0.5440822477088348,
          -0.3552785331941738,
          -1.7095083244385123,
          0.8381040414655876,
          0.07710645762458015,
          -1.801173942492088,
          0.19817425505383143,
          0.14052292294466417,
          0.3480677185376664,
          0.3480677185376664,
          3.1383921926213603,
          -0.03243107338283736,
          -1.0355642520823471,
          1.5645108260410947,
          -0.14773373760117192,
          0.6420895122944191,
          0.04828079156999652,
          -0.13043833796842172,
          1.1551863680660077,
          2.267857077772935,
          -0.37257393282692397,
          -1.8005974291709963,
          -0.2688015350304232,
          -1.1508669163006817,
          0.13475778973374744,
          0.8208086418328374,
          0.49219604881058426,
          2.9942638623484417,
          -0.0209008069610039,
          -0.7242470586928442,
          -0.026665940171920626,
          0.999527771371256,
          -0.21115020292125591,
          0.18087885542108126,
          -1.0125037192386803,
          -0.9721477867622633,
          -1.1566320495115985,
          1.0398837038476731,
          -1.4806325359651182,
          -1.7919497293546214,
          0.3365374521158329,
          -0.29186206787409014,
          -0.07278700585925445,
          2.509992672631437,
          -0.5282325295216757,
          0.6766803115599196,
          -0.7934286572238449,
          0.6939757111926698,
          -0.23997586897583956,
          -0.22268046934308938,
          1.2935495651280084,
          0.6536197787162527,
          0.03675052514816306,
          2.925082263817441,
          0.5556125141306683,
          3.461239652432696,
          -0.3264528671395905,
          0.13475778973374744,
          -0.7588378579583446,
          -1.1047458506133478,
          0.10016699046824706,
          -0.026665940171920626,
          2.094903081445433,
          0.3999539174359166,
          -0.5685884619980928,
          0.20393938826474817,
          1.2416633662297585,
          0.3480677185376664,
          1.7144042895249296,
          0.23853018753024854,
          2.7002420685916895,
          -0.2630364018195065,
          0.186643988631998,
          -0.17079427044483883,
          -0.3091574675068403,
          0.24429532074116528,
          -0.7357773251146776,
          0.4403098499123337,
          0.45760524954508386,
          0.6824454447708362,
          -0.937556987496763,
          0.2788861200066656,
          0.3999539174359166
         ],
         "yaxis": "y"
        }
       ],
       "layout": {
        "coloraxis": {
         "colorbar": {
          "title": {
           "text": "color"
          }
         },
         "colorscale": [
          [
           0,
           "#0d0887"
          ],
          [
           0.1111111111111111,
           "#46039f"
          ],
          [
           0.2222222222222222,
           "#7201a8"
          ],
          [
           0.3333333333333333,
           "#9c179e"
          ],
          [
           0.4444444444444444,
           "#bd3786"
          ],
          [
           0.5555555555555556,
           "#d8576b"
          ],
          [
           0.6666666666666666,
           "#ed7953"
          ],
          [
           0.7777777777777778,
           "#fb9f3a"
          ],
          [
           0.8888888888888888,
           "#fdca26"
          ],
          [
           1,
           "#f0f921"
          ]
         ]
        },
        "legend": {
         "tracegroupgap": 0
        },
        "margin": {
         "t": 60
        },
        "template": {
         "data": {
          "bar": [
           {
            "error_x": {
             "color": "#2a3f5f"
            },
            "error_y": {
             "color": "#2a3f5f"
            },
            "marker": {
             "line": {
              "color": "#E5ECF6",
              "width": 0.5
             },
             "pattern": {
              "fillmode": "overlay",
              "size": 10,
              "solidity": 0.2
             }
            },
            "type": "bar"
           }
          ],
          "barpolar": [
           {
            "marker": {
             "line": {
              "color": "#E5ECF6",
              "width": 0.5
             },
             "pattern": {
              "fillmode": "overlay",
              "size": 10,
              "solidity": 0.2
             }
            },
            "type": "barpolar"
           }
          ],
          "carpet": [
           {
            "aaxis": {
             "endlinecolor": "#2a3f5f",
             "gridcolor": "white",
             "linecolor": "white",
             "minorgridcolor": "white",
             "startlinecolor": "#2a3f5f"
            },
            "baxis": {
             "endlinecolor": "#2a3f5f",
             "gridcolor": "white",
             "linecolor": "white",
             "minorgridcolor": "white",
             "startlinecolor": "#2a3f5f"
            },
            "type": "carpet"
           }
          ],
          "choropleth": [
           {
            "colorbar": {
             "outlinewidth": 0,
             "ticks": ""
            },
            "type": "choropleth"
           }
          ],
          "contour": [
           {
            "colorbar": {
             "outlinewidth": 0,
             "ticks": ""
            },
            "colorscale": [
             [
              0,
              "#0d0887"
             ],
             [
              0.1111111111111111,
              "#46039f"
             ],
             [
              0.2222222222222222,
              "#7201a8"
             ],
             [
              0.3333333333333333,
              "#9c179e"
             ],
             [
              0.4444444444444444,
              "#bd3786"
             ],
             [
              0.5555555555555556,
              "#d8576b"
             ],
             [
              0.6666666666666666,
              "#ed7953"
             ],
             [
              0.7777777777777778,
              "#fb9f3a"
             ],
             [
              0.8888888888888888,
              "#fdca26"
             ],
             [
              1,
              "#f0f921"
             ]
            ],
            "type": "contour"
           }
          ],
          "contourcarpet": [
           {
            "colorbar": {
             "outlinewidth": 0,
             "ticks": ""
            },
            "type": "contourcarpet"
           }
          ],
          "heatmap": [
           {
            "colorbar": {
             "outlinewidth": 0,
             "ticks": ""
            },
            "colorscale": [
             [
              0,
              "#0d0887"
             ],
             [
              0.1111111111111111,
              "#46039f"
             ],
             [
              0.2222222222222222,
              "#7201a8"
             ],
             [
              0.3333333333333333,
              "#9c179e"
             ],
             [
              0.4444444444444444,
              "#bd3786"
             ],
             [
              0.5555555555555556,
              "#d8576b"
             ],
             [
              0.6666666666666666,
              "#ed7953"
             ],
             [
              0.7777777777777778,
              "#fb9f3a"
             ],
             [
              0.8888888888888888,
              "#fdca26"
             ],
             [
              1,
              "#f0f921"
             ]
            ],
            "type": "heatmap"
           }
          ],
          "heatmapgl": [
           {
            "colorbar": {
             "outlinewidth": 0,
             "ticks": ""
            },
            "colorscale": [
             [
              0,
              "#0d0887"
             ],
             [
              0.1111111111111111,
              "#46039f"
             ],
             [
              0.2222222222222222,
              "#7201a8"
             ],
             [
              0.3333333333333333,
              "#9c179e"
             ],
             [
              0.4444444444444444,
              "#bd3786"
             ],
             [
              0.5555555555555556,
              "#d8576b"
             ],
             [
              0.6666666666666666,
              "#ed7953"
             ],
             [
              0.7777777777777778,
              "#fb9f3a"
             ],
             [
              0.8888888888888888,
              "#fdca26"
             ],
             [
              1,
              "#f0f921"
             ]
            ],
            "type": "heatmapgl"
           }
          ],
          "histogram": [
           {
            "marker": {
             "pattern": {
              "fillmode": "overlay",
              "size": 10,
              "solidity": 0.2
             }
            },
            "type": "histogram"
           }
          ],
          "histogram2d": [
           {
            "colorbar": {
             "outlinewidth": 0,
             "ticks": ""
            },
            "colorscale": [
             [
              0,
              "#0d0887"
             ],
             [
              0.1111111111111111,
              "#46039f"
             ],
             [
              0.2222222222222222,
              "#7201a8"
             ],
             [
              0.3333333333333333,
              "#9c179e"
             ],
             [
              0.4444444444444444,
              "#bd3786"
             ],
             [
              0.5555555555555556,
              "#d8576b"
             ],
             [
              0.6666666666666666,
              "#ed7953"
             ],
             [
              0.7777777777777778,
              "#fb9f3a"
             ],
             [
              0.8888888888888888,
              "#fdca26"
             ],
             [
              1,
              "#f0f921"
             ]
            ],
            "type": "histogram2d"
           }
          ],
          "histogram2dcontour": [
           {
            "colorbar": {
             "outlinewidth": 0,
             "ticks": ""
            },
            "colorscale": [
             [
              0,
              "#0d0887"
             ],
             [
              0.1111111111111111,
              "#46039f"
             ],
             [
              0.2222222222222222,
              "#7201a8"
             ],
             [
              0.3333333333333333,
              "#9c179e"
             ],
             [
              0.4444444444444444,
              "#bd3786"
             ],
             [
              0.5555555555555556,
              "#d8576b"
             ],
             [
              0.6666666666666666,
              "#ed7953"
             ],
             [
              0.7777777777777778,
              "#fb9f3a"
             ],
             [
              0.8888888888888888,
              "#fdca26"
             ],
             [
              1,
              "#f0f921"
             ]
            ],
            "type": "histogram2dcontour"
           }
          ],
          "mesh3d": [
           {
            "colorbar": {
             "outlinewidth": 0,
             "ticks": ""
            },
            "type": "mesh3d"
           }
          ],
          "parcoords": [
           {
            "line": {
             "colorbar": {
              "outlinewidth": 0,
              "ticks": ""
             }
            },
            "type": "parcoords"
           }
          ],
          "pie": [
           {
            "automargin": true,
            "type": "pie"
           }
          ],
          "scatter": [
           {
            "fillpattern": {
             "fillmode": "overlay",
             "size": 10,
             "solidity": 0.2
            },
            "type": "scatter"
           }
          ],
          "scatter3d": [
           {
            "line": {
             "colorbar": {
              "outlinewidth": 0,
              "ticks": ""
             }
            },
            "marker": {
             "colorbar": {
              "outlinewidth": 0,
              "ticks": ""
             }
            },
            "type": "scatter3d"
           }
          ],
          "scattercarpet": [
           {
            "marker": {
             "colorbar": {
              "outlinewidth": 0,
              "ticks": ""
             }
            },
            "type": "scattercarpet"
           }
          ],
          "scattergeo": [
           {
            "marker": {
             "colorbar": {
              "outlinewidth": 0,
              "ticks": ""
             }
            },
            "type": "scattergeo"
           }
          ],
          "scattergl": [
           {
            "marker": {
             "colorbar": {
              "outlinewidth": 0,
              "ticks": ""
             }
            },
            "type": "scattergl"
           }
          ],
          "scattermapbox": [
           {
            "marker": {
             "colorbar": {
              "outlinewidth": 0,
              "ticks": ""
             }
            },
            "type": "scattermapbox"
           }
          ],
          "scatterpolar": [
           {
            "marker": {
             "colorbar": {
              "outlinewidth": 0,
              "ticks": ""
             }
            },
            "type": "scatterpolar"
           }
          ],
          "scatterpolargl": [
           {
            "marker": {
             "colorbar": {
              "outlinewidth": 0,
              "ticks": ""
             }
            },
            "type": "scatterpolargl"
           }
          ],
          "scatterternary": [
           {
            "marker": {
             "colorbar": {
              "outlinewidth": 0,
              "ticks": ""
             }
            },
            "type": "scatterternary"
           }
          ],
          "surface": [
           {
            "colorbar": {
             "outlinewidth": 0,
             "ticks": ""
            },
            "colorscale": [
             [
              0,
              "#0d0887"
             ],
             [
              0.1111111111111111,
              "#46039f"
             ],
             [
              0.2222222222222222,
              "#7201a8"
             ],
             [
              0.3333333333333333,
              "#9c179e"
             ],
             [
              0.4444444444444444,
              "#bd3786"
             ],
             [
              0.5555555555555556,
              "#d8576b"
             ],
             [
              0.6666666666666666,
              "#ed7953"
             ],
             [
              0.7777777777777778,
              "#fb9f3a"
             ],
             [
              0.8888888888888888,
              "#fdca26"
             ],
             [
              1,
              "#f0f921"
             ]
            ],
            "type": "surface"
           }
          ],
          "table": [
           {
            "cells": {
             "fill": {
              "color": "#EBF0F8"
             },
             "line": {
              "color": "white"
             }
            },
            "header": {
             "fill": {
              "color": "#C8D4E3"
             },
             "line": {
              "color": "white"
             }
            },
            "type": "table"
           }
          ]
         },
         "layout": {
          "annotationdefaults": {
           "arrowcolor": "#2a3f5f",
           "arrowhead": 0,
           "arrowwidth": 1
          },
          "autotypenumbers": "strict",
          "coloraxis": {
           "colorbar": {
            "outlinewidth": 0,
            "ticks": ""
           }
          },
          "colorscale": {
           "diverging": [
            [
             0,
             "#8e0152"
            ],
            [
             0.1,
             "#c51b7d"
            ],
            [
             0.2,
             "#de77ae"
            ],
            [
             0.3,
             "#f1b6da"
            ],
            [
             0.4,
             "#fde0ef"
            ],
            [
             0.5,
             "#f7f7f7"
            ],
            [
             0.6,
             "#e6f5d0"
            ],
            [
             0.7,
             "#b8e186"
            ],
            [
             0.8,
             "#7fbc41"
            ],
            [
             0.9,
             "#4d9221"
            ],
            [
             1,
             "#276419"
            ]
           ],
           "sequential": [
            [
             0,
             "#0d0887"
            ],
            [
             0.1111111111111111,
             "#46039f"
            ],
            [
             0.2222222222222222,
             "#7201a8"
            ],
            [
             0.3333333333333333,
             "#9c179e"
            ],
            [
             0.4444444444444444,
             "#bd3786"
            ],
            [
             0.5555555555555556,
             "#d8576b"
            ],
            [
             0.6666666666666666,
             "#ed7953"
            ],
            [
             0.7777777777777778,
             "#fb9f3a"
            ],
            [
             0.8888888888888888,
             "#fdca26"
            ],
            [
             1,
             "#f0f921"
            ]
           ],
           "sequentialminus": [
            [
             0,
             "#0d0887"
            ],
            [
             0.1111111111111111,
             "#46039f"
            ],
            [
             0.2222222222222222,
             "#7201a8"
            ],
            [
             0.3333333333333333,
             "#9c179e"
            ],
            [
             0.4444444444444444,
             "#bd3786"
            ],
            [
             0.5555555555555556,
             "#d8576b"
            ],
            [
             0.6666666666666666,
             "#ed7953"
            ],
            [
             0.7777777777777778,
             "#fb9f3a"
            ],
            [
             0.8888888888888888,
             "#fdca26"
            ],
            [
             1,
             "#f0f921"
            ]
           ]
          },
          "colorway": [
           "#636efa",
           "#EF553B",
           "#00cc96",
           "#ab63fa",
           "#FFA15A",
           "#19d3f3",
           "#FF6692",
           "#B6E880",
           "#FF97FF",
           "#FECB52"
          ],
          "font": {
           "color": "#2a3f5f"
          },
          "geo": {
           "bgcolor": "white",
           "lakecolor": "white",
           "landcolor": "#E5ECF6",
           "showlakes": true,
           "showland": true,
           "subunitcolor": "white"
          },
          "hoverlabel": {
           "align": "left"
          },
          "hovermode": "closest",
          "mapbox": {
           "style": "light"
          },
          "paper_bgcolor": "white",
          "plot_bgcolor": "#E5ECF6",
          "polar": {
           "angularaxis": {
            "gridcolor": "white",
            "linecolor": "white",
            "ticks": ""
           },
           "bgcolor": "#E5ECF6",
           "radialaxis": {
            "gridcolor": "white",
            "linecolor": "white",
            "ticks": ""
           }
          },
          "scene": {
           "xaxis": {
            "backgroundcolor": "#E5ECF6",
            "gridcolor": "white",
            "gridwidth": 2,
            "linecolor": "white",
            "showbackground": true,
            "ticks": "",
            "zerolinecolor": "white"
           },
           "yaxis": {
            "backgroundcolor": "#E5ECF6",
            "gridcolor": "white",
            "gridwidth": 2,
            "linecolor": "white",
            "showbackground": true,
            "ticks": "",
            "zerolinecolor": "white"
           },
           "zaxis": {
            "backgroundcolor": "#E5ECF6",
            "gridcolor": "white",
            "gridwidth": 2,
            "linecolor": "white",
            "showbackground": true,
            "ticks": "",
            "zerolinecolor": "white"
           }
          },
          "shapedefaults": {
           "line": {
            "color": "#2a3f5f"
           }
          },
          "ternary": {
           "aaxis": {
            "gridcolor": "white",
            "linecolor": "white",
            "ticks": ""
           },
           "baxis": {
            "gridcolor": "white",
            "linecolor": "white",
            "ticks": ""
           },
           "bgcolor": "#E5ECF6",
           "caxis": {
            "gridcolor": "white",
            "linecolor": "white",
            "ticks": ""
           }
          },
          "title": {
           "x": 0.05
          },
          "xaxis": {
           "automargin": true,
           "gridcolor": "white",
           "linecolor": "white",
           "ticks": "",
           "title": {
            "standoff": 15
           },
           "zerolinecolor": "white",
           "zerolinewidth": 2
          },
          "yaxis": {
           "automargin": true,
           "gridcolor": "white",
           "linecolor": "white",
           "ticks": "",
           "title": {
            "standoff": 15
           },
           "zerolinecolor": "white",
           "zerolinewidth": 2
          }
         }
        },
        "xaxis": {
         "anchor": "y",
         "domain": [
          0,
          1
         ],
         "title": {
          "text": "count"
         }
        },
        "yaxis": {
         "anchor": "x",
         "domain": [
          0,
          1
         ],
         "title": {
          "text": "energy"
         }
        }
       }
      }
     },
     "metadata": {},
     "output_type": "display_data"
    }
   ],
   "source": [
    "cluster = KMeans(n_clusters=cluster_df.shape[0] // 10).fit_predict(cluster_df)\n",
    "cluster_w_labels = cluster_df.reset_index()\n",
    "cluster_w_labels['color'] = cluster\n",
    "px.scatter(cluster_w_labels, x='count', y='energy', color='color', hover_data='trackName')"
   ]
  },
  {
   "cell_type": "code",
   "execution_count": 25,
   "metadata": {},
   "outputs": [
    {
     "data": {
      "application/vnd.plotly.v1+json": {
       "config": {
        "plotlyServerURL": "https://plot.ly"
       },
       "data": [
        {
         "customdata": [
          [
           "If By Chance"
          ],
          [
           "please"
          ],
          [
           "The Sun Will Come Up, The Seasons Will Change"
          ],
          [
           "Rain"
          ],
          [
           "Dear August"
          ],
          [
           "At My Funeral"
          ],
          [
           "buttercup"
          ],
          [
           "Reasons to Leave"
          ],
          [
           "Tall Paul"
          ],
          [
           "A Thousand Years"
          ],
          [
           "the author"
          ],
          [
           "Yellow Lights"
          ],
          [
           "Favourite Ex"
          ],
          [
           "Emergency Contact"
          ],
          [
           "Empath"
          ],
          [
           "Hold It Together"
          ],
          [
           "New Rules"
          ],
          [
           "Letting Go for a Little While"
          ],
          [
           "Headlights"
          ],
          [
           "Riptide"
          ],
          [
           "Crazier Things (with Noah Kahan)"
          ],
          [
           "Headstones and Land Mines"
          ],
          [
           "Love Is Letting Go (feat. Diane Keaton)"
          ],
          [
           "We Gotta Go"
          ],
          [
           "Falling Apart"
          ],
          [
           "My Life"
          ],
          [
           "Portland, Maine"
          ],
          [
           "Anyway"
          ],
          [
           "Reruns"
          ],
          [
           "Be"
          ],
          [
           "pinball"
          ],
          [
           "stuck in my head"
          ],
          [
           "Where Do I Go?"
          ],
          [
           "Hold Me"
          ],
          [
           "Brooklyn"
          ],
          [
           "Still"
          ],
          [
           "Little Do You Know"
          ],
          [
           "Coffee Stained Smile"
          ],
          [
           "Memory Lane"
          ],
          [
           "Alpine Green"
          ],
          [
           "human"
          ],
          [
           "Glad It's You"
          ],
          [
           "So It Is"
          ],
          [
           "Home for the Summer"
          ],
          [
           "Never Alone"
          ],
          [
           "Older Guys"
          ],
          [
           "Enough to Know You"
          ],
          [
           "Used To"
          ],
          [
           "nobody else"
          ],
          [
           "fly when i fall"
          ],
          [
           "Radioactive"
          ],
          [
           "Botl"
          ],
          [
           "Fall Apart Too"
          ],
          [
           "Another's Arms"
          ],
          [
           "How This Feels"
          ],
          [
           "Inside Out"
          ],
          [
           "Goodbye"
          ],
          [
           "Wrecking Ball"
          ],
          [
           "I Will Follow You into the Dark"
          ],
          [
           "Halloween"
          ],
          [
           "Oh Love"
          ],
          [
           "Crocodiles"
          ],
          [
           "When You Lose Someone"
          ],
          [
           "Better Place"
          ],
          [
           "Unknown Track"
          ],
          [
           "Falling"
          ],
          [
           "17"
          ],
          [
           "Wild Enough"
          ],
          [
           "Talk To Me"
          ],
          [
           "The Night We Met"
          ],
          [
           "Better On Your Own"
          ],
          [
           "I Wouldn't Change a Thing"
          ],
          [
           "Chosen Last"
          ],
          [
           "broken"
          ],
          [
           "Safe Places (Acoustic)"
          ],
          [
           "I Believe In A Thing Called Love"
          ],
          [
           "Balloon Boy"
          ],
          [
           "Home"
          ],
          [
           "The Only Exception"
          ],
          [
           "Secret"
          ],
          [
           "Make Us Never Happen"
          ],
          [
           "Codependent"
          ],
          [
           "The Art Of Getting By"
          ],
          [
           "Tuesdays"
          ],
          [
           "Out Of Love with You"
          ],
          [
           "Medicine"
          ],
          [
           "Never the 1"
          ],
          [
           "Let Her Go"
          ],
          [
           "Alignments"
          ],
          [
           "All of Me"
          ],
          [
           "Second Chances"
          ],
          [
           "Hopelessness Has Done Nothing for Me"
          ],
          [
           "Mother May I"
          ],
          [
           "hideous"
          ],
          [
           "Funeral"
          ],
          [
           "Just Because"
          ],
          [
           "Together Forever"
          ],
          [
           "Flowers"
          ],
          [
           "Bite The Hand"
          ],
          [
           "Hazel Eyes"
          ],
          [
           "Devil Swear I've Seen"
          ],
          [
           "jackie"
          ],
          [
           "Scared to Be Happy"
          ],
          [
           "can I call you back?"
          ],
          [
           "Even When You're Home"
          ],
          [
           "familiar stranger"
          ],
          [
           "Nothing's the Same"
          ],
          [
           "Where Are You?"
          ],
          [
           "for life"
          ],
          [
           "How"
          ],
          [
           "Carolina"
          ],
          [
           "Flight Risk"
          ],
          [
           "Lego Bricks"
          ],
          [
           "Wish It Would Rain"
          ],
          [
           "blue bird"
          ],
          [
           "1953"
          ],
          [
           "Mountaineer"
          ],
          [
           "Knock The Wind"
          ],
          [
           "Finish Line"
          ],
          [
           "I Don't Need You To Survive"
          ],
          [
           "ocean eyes"
          ],
          [
           "How Do I Tell You?"
          ],
          [
           "Need You Now - Acoustic"
          ],
          [
           "Sweet Connection"
          ],
          [
           "the first one"
          ],
          [
           "so much more than me"
          ],
          [
           "Gets Better"
          ],
          [
           "Hey There Delilah"
          ],
          [
           "Harsh"
          ],
          [
           "Always Almost"
          ],
          [
           "Rhythm Inside - Acoustic"
          ],
          [
           "Mirage"
          ],
          [
           "Are You Alright?"
          ],
          [
           "hit the dirt"
          ],
          [
           "Forget I Exist"
          ],
          [
           "Crumble"
          ],
          [
           "Meant To Be"
          ],
          [
           "wait it out"
          ],
          [
           "Forgetting Delaney"
          ],
          [
           "Soul Mate"
          ],
          [
           "Twenty Two"
          ],
          [
           "Forever Love"
          ],
          [
           "The Moon Song"
          ],
          [
           "Say You Won't Let Go"
          ],
          [
           "Nothing / Sad N Stuff"
          ],
          [
           "Boys Like You"
          ],
          [
           "You Are Gold"
          ],
          [
           "Anchor"
          ],
          [
           "Polaroid"
          ],
          [
           "State Lines"
          ],
          [
           "A Little More"
          ],
          [
           "Mr. Brightside"
          ],
          [
           "Shoot"
          ],
          [
           "Doomsday"
          ],
          [
           "Stormy Weather"
          ],
          [
           "In a Stranger's Arms"
          ],
          [
           "my fault"
          ],
          [
           "Crave"
          ],
          [
           "I Knew"
          ],
          [
           "Changing Tides"
          ],
          [
           "idk"
          ],
          [
           "ceilings - Spotify Singles"
          ],
          [
           "Giving Up Ground"
          ],
          [
           "Slow Fade"
          ],
          [
           "Winter Song"
          ],
          [
           "Opaline"
          ],
          [
           "No More Bad Days"
          ],
          [
           "Break With Me"
          ],
          [
           "forget me // so we can meet again"
          ],
          [
           "gold star"
          ],
          [
           "I Don't Want to Lose You"
          ],
          [
           "I Should Be a Bird"
          ],
          [
           "The Human Condition"
          ],
          [
           "denial"
          ],
          [
           "Walk Above the City"
          ],
          [
           "Seventeen"
          ],
          [
           "Blue"
          ],
          [
           "Dial Drunk (with Post Malone)"
          ],
          [
           "getting older"
          ],
          [
           "Renee's Song"
          ],
          [
           "2AM"
          ],
          [
           "By My Side"
          ],
          [
           "Soft Spot"
          ],
          [
           "16"
          ],
          [
           "Desperate"
          ],
          [
           "Older Than I Am"
          ],
          [
           "Story of My Life"
          ],
          [
           "Skyscraper"
          ],
          [
           "Fish"
          ],
          [
           "That's Us"
          ],
          [
           "Forever Ago"
          ],
          [
           "Through to You"
          ],
          [
           "Simple Things (feat. Christina Perri)"
          ],
          [
           "all i need (the distance song)"
          ],
          [
           "Slow"
          ],
          [
           "Paint"
          ],
          [
           "Break up Slow Dance"
          ],
          [
           "Good"
          ],
          [
           "Free"
          ],
          [
           "Is It Really Me You're Missing"
          ],
          [
           "everything everywhere always"
          ],
          [
           "Say Less"
          ],
          [
           "Whatever Makes You Want to Die Less"
          ],
          [
           "Part of Me"
          ],
          [
           "Meant To Be"
          ],
          [
           "Faith You Might"
          ],
          [
           "The Former"
          ],
          [
           "Hallelujah I Love Her So"
          ],
          [
           "Air So Sweet"
          ],
          [
           "Drop Dead"
          ],
          [
           "nobody likes a secret"
          ],
          [
           "putting a spin on sweater weather"
          ],
          [
           "i don't want to watch the world end with someone else"
          ],
          [
           "A Little Bit Yours"
          ],
          [
           "is your bedroom ceiling bored? (feat. Cavetown)"
          ],
          [
           "Let Light Be Light"
          ],
          [
           "swan song"
          ],
          [
           "sometimes"
          ],
          [
           "always, i'll care"
          ],
          [
           "Heavy"
          ],
          [
           "In What World"
          ],
          [
           "all my ghosts"
          ],
          [
           "Ordinary People"
          ],
          [
           "mountain"
          ],
          [
           "Stupid"
          ],
          [
           "Rockland"
          ],
          [
           "what if it's not"
          ],
          [
           "Thinking 'Bout Love"
          ],
          [
           "Stupid Deep - Acoustic"
          ],
          [
           "I don't mind if you don't mind (draft)"
          ],
          [
           "Heather"
          ],
          [
           "Where's My Love - Acoustic"
          ],
          [
           "called you again"
          ],
          [
           "i don't miss u"
          ],
          [
           "Moves"
          ],
          [
           "Minute Of Your Love"
          ],
          [
           "When It Kills Me"
          ],
          [
           "Swan Upon Leda"
          ],
          [
           "When All My Friends Move Away"
          ],
          [
           "drunk text me"
          ],
          [
           "If I Could Dance"
          ],
          [
           "Breakeven"
          ],
          [
           "Pass Me By"
          ],
          [
           "Alright"
          ],
          [
           "Luck"
          ],
          [
           "Haunt You"
          ],
          [
           "Points of View"
          ],
          [
           "All Too Well (Taylor's Version)"
          ],
          [
           "Wonder"
          ],
          [
           "I know it won't work"
          ],
          [
           "Colorado"
          ],
          [
           "Never Stop Loving You"
          ],
          [
           "Universe"
          ],
          [
           "Feels Like"
          ],
          [
           "Safe And Sound"
          ],
          [
           "Blue Spirits"
          ],
          [
           "Are You Listening"
          ],
          [
           "Nobody"
          ],
          [
           "OK"
          ],
          [
           "this is how you fall in love"
          ],
          [
           "Nail In The Coffin"
          ],
          [
           "Good as Gold"
          ],
          [
           "Like You Did Before"
          ],
          [
           "Black Converse"
          ],
          [
           "Align"
          ],
          [
           "somebody loves you"
          ],
          [
           "You Belong With Me (Taylor’s Version)"
          ],
          [
           "July (feat. Leon Bridges)"
          ],
          [
           "Dear Future Me"
          ],
          [
           "Gaol"
          ],
          [
           "Olive Branch"
          ],
          [
           "The Best You Had"
          ],
          [
           "Slow Motion"
          ],
          [
           "Half a Heart"
          ],
          [
           "reckless driving"
          ],
          [
           "They Just Exist"
          ],
          [
           "Only a Matter of Time"
          ],
          [
           "La Reyna"
          ],
          [
           "Frisky"
          ],
          [
           "I Was In Heaven"
          ],
          [
           "Too Much I Miss You"
          ],
          [
           "A Little Bit Longer"
          ],
          [
           "Cinematic"
          ],
          [
           "at least i'm pretty"
          ],
          [
           "Maniac"
          ],
          [
           "Brooklyn - Stripped"
          ],
          [
           "Mama Said"
          ],
          [
           "Lights"
          ],
          [
           "It's Always Been You"
          ],
          [
           "Rome"
          ],
          [
           "Seahorses Of Old Mexico"
          ],
          [
           "If I Can't Have You"
          ],
          [
           "Same Boat"
          ],
          [
           "better off"
          ],
          [
           "Die Young"
          ],
          [
           "Begging for More"
          ],
          [
           "Shameful Company - Live from Athens Georgia"
          ],
          [
           "All Good"
          ],
          [
           "Place We Were Made"
          ],
          [
           "Paper Planes"
          ],
          [
           "Infinitely Falling"
          ],
          [
           "She Will Be Loved - Radio Mix"
          ],
          [
           "Love Me Nicely"
          ],
          [
           "Old Love - Acoustic"
          ],
          [
           "In Your Circle"
          ],
          [
           "self sabotage"
          ],
          [
           "hate to be lame"
          ],
          [
           "Fall Again"
          ],
          [
           "Bees"
          ],
          [
           "Butterfly Rain"
          ],
          [
           "A Quiet Way"
          ],
          [
           "Breathe"
          ],
          [
           "Steady Love"
          ],
          [
           "Being Alone"
          ],
          [
           "Zach's Ballad"
          ],
          [
           "Afterglow"
          ],
          [
           "Wii Date"
          ],
          [
           "Happier"
          ],
          [
           "Close to Her"
          ],
          [
           "Save Us"
          ],
          [
           "champagne problems"
          ],
          [
           "The Way I Love You"
          ],
          [
           "Happily Ever After"
          ],
          [
           "Drove To The Ocean"
          ],
          [
           "Tin Lover"
          ],
          [
           "When You're Gone"
          ],
          [
           "what if we met on the moon?"
          ],
          [
           "Just Wanna Be Your Friend"
          ],
          [
           "I'm with You"
          ],
          [
           "Vanilla (Stairwell Version)"
          ],
          [
           "I Just Really Hope You Exist"
          ],
          [
           "justacow (demo3)"
          ],
          [
           "Tired"
          ],
          [
           "Tobacco In My Sheets"
          ],
          [
           "Call It a Night"
          ],
          [
           "happy for you"
          ],
          [
           "Molly"
          ],
          [
           "Worst of You"
          ],
          [
           "How Can You Not"
          ],
          [
           "Into Yellow - Piano Version"
          ],
          [
           "4 + 20"
          ],
          [
           "Brave Face"
          ],
          [
           "Say Love"
          ],
          [
           "Look Back & Laugh"
          ],
          [
           "Hearts on Fire"
          ],
          [
           "Hurt Again"
          ],
          [
           "Spaceship (Bonus Track)"
          ],
          [
           "To Love Someone Else"
          ],
          [
           "What They'll Say About Us"
          ],
          [
           "What Can I Do"
          ],
          [
           "Megan’s Song"
          ],
          [
           "Asking the Aspens"
          ],
          [
           "Omni"
          ],
          [
           "Live Cinema"
          ],
          [
           "do you wanna leave this city ?"
          ],
          [
           "I Should’ve Danced More"
          ],
          [
           "Clocks"
          ],
          [
           "Crosswords"
          ],
          [
           "Turns Out"
          ],
          [
           "Round & Round"
          ],
          [
           "Superspreader"
          ],
          [
           "Best Part of Me"
          ],
          [
           "Witness - feat. Rajiv Dhall"
          ],
          [
           "Take Me Back"
          ],
          [
           "Bloom - Bonus Track"
          ],
          [
           "Blue Eyed Baby"
          ],
          [
           "we'll be fine"
          ],
          [
           "Idle Sympathy"
          ],
          [
           "Who's She"
          ],
          [
           "pass you by"
          ],
          [
           "warm blood"
          ],
          [
           "To the Mountains"
          ],
          [
           "If I Had Stayed"
          ],
          [
           "Vienna"
          ],
          [
           "Lately I've Been Sad"
          ],
          [
           "Cellophane"
          ],
          [
           "405"
          ],
          [
           "MISC."
          ],
          [
           "As a Child"
          ],
          [
           "Closure"
          ],
          [
           "Clockwork"
          ],
          [
           "Silver & Gold"
          ],
          [
           "Through"
          ],
          [
           "Pictures of You"
          ],
          [
           "snail / alwase"
          ],
          [
           "If I Could"
          ],
          [
           "Fireflies"
          ],
          [
           "Another Round"
          ],
          [
           "erase me"
          ],
          [
           "No Fun"
          ],
          [
           "wish I didn't know you"
          ],
          [
           "Better Now"
          ],
          [
           "Only Know How to Love You - with Annika Bennett"
          ],
          [
           "Say (feat. Jake Meadows) - Acoustic Version"
          ],
          [
           "Stuck With You - Acoustic"
          ],
          [
           "Love Brought Weight"
          ],
          [
           "Same Room"
          ],
          [
           "Pineapple"
          ],
          [
           "got me thinking"
          ],
          [
           "Ant Pile"
          ],
          [
           "Love Is Just a Way to Die"
          ],
          [
           "Run Awhile"
          ],
          [
           "Hailey"
          ],
          [
           "Every Time"
          ],
          [
           "Loving & Losing"
          ],
          [
           "I Think I"
          ],
          [
           "Pieces"
          ],
          [
           "Black Coffee - Unplugged"
          ],
          [
           "the stars"
          ],
          [
           "we fell in love in october"
          ],
          [
           "Still Something"
          ],
          [
           "Nirvana"
          ],
          [
           "Hey, Soul Sister"
          ],
          [
           "What Would I Do Without You"
          ],
          [
           "Standing in the Rain"
          ],
          [
           "Dial Drunk"
          ],
          [
           "glued to the floor"
          ],
          [
           "When You Love Someone"
          ],
          [
           "oh, mexico"
          ],
          [
           "Tell Me That You Love Me"
          ],
          [
           "Red Eye"
          ],
          [
           "Kill Bill"
          ],
          [
           "ilym (feat. ROSIE)"
          ],
          [
           "a message to that girl i fell in love with."
          ],
          [
           "Apart From, a Part Of, You."
          ],
          [
           "Alexandria (Slowed)"
          ],
          [
           "Immune"
          ],
          [
           "What Am I Gonna Do On Sundays?"
          ],
          [
           "what a shame"
          ],
          [
           "DJ Got Us Fallin' In Love (feat. Pitbull)"
          ],
          [
           "Playing God"
          ],
          [
           "In Love Now"
          ],
          [
           "sydney"
          ],
          [
           "Work Off My Hurt"
          ],
          [
           "Witness"
          ],
          [
           "Lovely Days"
          ],
          [
           "Kaleidoscope Tears"
          ],
          [
           "Good Mourning"
          ],
          [
           "Arms"
          ],
          [
           "Älskar"
          ],
          [
           "you were good to me"
          ],
          [
           "Oh Well"
          ],
          [
           "Time After Time - Spotify Singles"
          ],
          [
           "multiverse"
          ],
          [
           "You & I"
          ],
          [
           "Free"
          ],
          [
           "Long Sleeves"
          ],
          [
           "Concrete"
          ],
          [
           "pennies (voice memo)"
          ],
          [
           "Pyjamas (feat. Remi Wolf)"
          ],
          [
           "Fiona"
          ],
          [
           "Somebody Else"
          ],
          [
           "Remember you were the one"
          ],
          [
           "I miss you, I’m sorry"
          ],
          [
           "Chicago"
          ],
          [
           "Somebody"
          ],
          [
           "Mum"
          ],
          [
           "Tonight"
          ],
          [
           "Muffin"
          ],
          [
           "You Can Only Go in Pieces"
          ],
          [
           "November Son"
          ],
          [
           "On God"
          ],
          [
           "break up with a friend"
          ],
          [
           "Jealous of Paris"
          ],
          [
           "Counting Stars"
          ],
          [
           "All I Want"
          ],
          [
           "Things I Say When You Sleep"
          ],
          [
           "Retail Therapy"
          ],
          [
           "Straight into Your Arms - Bonus Track Version"
          ],
          [
           "False Art"
          ],
          [
           "Crashing into You"
          ],
          [
           "A Change Is Gonna Come"
          ],
          [
           "I Melt with You"
          ],
          [
           "Picture Perfect"
          ],
          [
           "Is She Gonna Be There?"
          ],
          [
           "Like A Stone"
          ],
          [
           "fall out of love"
          ],
          [
           "I Like You"
          ],
          [
           "More Like You - Piano Version"
          ],
          [
           "Two Punks In Love"
          ],
          [
           "It Hurts Too Much To Speak"
          ],
          [
           "Rich Boy"
          ],
          [
           "Yours"
          ],
          [
           "ocean"
          ],
          [
           "Crying Over You"
          ]
         ],
         "hovertemplate": "pc1=%{x}<br>pc2=%{y}<br>pc3=%{z}<br>trackName=%{customdata[0]}<br>color=%{marker.color}<extra></extra>",
         "legendgroup": "",
         "marker": {
          "color": [
           6,
           9,
           34,
           8,
           16,
           40,
           3,
           12,
           14,
           2,
           1,
           22,
           22,
           40,
           8,
           3,
           4,
           30,
           38,
           13,
           18,
           26,
           3,
           6,
           12,
           12,
           46,
           6,
           40,
           21,
           3,
           30,
           1,
           20,
           40,
           1,
           16,
           26,
           26,
           35,
           11,
           35,
           8,
           23,
           29,
           6,
           6,
           5,
           30,
           2,
           34,
           30,
           0,
           3,
           8,
           12,
           43,
           11,
           3,
           23,
           12,
           16,
           20,
           30,
           44,
           6,
           0,
           35,
           1,
           7,
           17,
           30,
           43,
           30,
           18,
           10,
           31,
           26,
           38,
           9,
           39,
           22,
           8,
           16,
           7,
           11,
           21,
           33,
           3,
           6,
           38,
           41,
           18,
           43,
           38,
           39,
           12,
           16,
           43,
           41,
           30,
           31,
           43,
           40,
           0,
           23,
           31,
           3,
           12,
           9,
           42,
           35,
           7,
           3,
           30,
           30,
           1,
           12,
           35,
           45,
           30,
           26,
           12,
           26,
           31,
           30,
           23,
           18,
           31,
           22,
           23,
           9,
           32,
           0,
           16,
           1,
           10,
           22,
           12,
           6,
           6,
           33,
           46,
           43,
           46,
           25,
           1,
           46,
           11,
           38,
           16,
           13,
           10,
           7,
           39,
           43,
           21,
           18,
           1,
           0,
           30,
           36,
           12,
           3,
           15,
           38,
           0,
           7,
           8,
           41,
           16,
           16,
           17,
           18,
           15,
           18,
           1,
           27,
           14,
           12,
           33,
           36,
           29,
           4,
           4,
           7,
           13,
           13,
           28,
           8,
           46,
           18,
           27,
           8,
           40,
           7,
           43,
           23,
           35,
           30,
           30,
           12,
           13,
           14,
           45,
           43,
           10,
           1,
           26,
           43,
           9,
           32,
           16,
           18,
           23,
           29,
           36,
           10,
           21,
           23,
           10,
           14,
           1,
           1,
           8,
           30,
           20,
           0,
           38,
           35,
           2,
           18,
           40,
           10,
           43,
           29,
           18,
           6,
           12,
           33,
           0,
           27,
           31,
           45,
           8,
           0,
           1,
           19,
           6,
           0,
           31,
           46,
           38,
           16,
           37,
           0,
           17,
           29,
           8,
           35,
           43,
           11,
           35,
           23,
           33,
           24,
           13,
           21,
           27,
           41,
           2,
           34,
           17,
           13,
           14,
           12,
           3,
           18,
           24,
           6,
           12,
           23,
           3,
           31,
           0,
           35,
           39,
           26,
           30,
           11,
           40,
           4,
           1,
           21,
           4,
           18,
           13,
           1,
           22,
           40,
           27,
           27,
           35,
           30,
           35,
           11,
           45,
           8,
           35,
           5,
           1,
           3,
           43,
           34,
           35,
           7,
           25,
           43,
           38,
           27,
           38,
           12,
           13,
           43,
           42,
           12,
           41,
           39,
           16,
           18,
           8,
           12,
           5,
           7,
           23,
           16,
           31,
           0,
           13,
           8,
           32,
           8,
           17,
           3,
           38,
           0,
           3,
           30,
           35,
           3,
           18,
           30,
           34,
           21,
           23,
           43,
           13,
           12,
           3,
           35,
           23,
           30,
           18,
           18,
           30,
           12,
           8,
           28,
           35,
           16,
           13,
           10,
           29,
           8,
           39,
           7,
           12,
           7,
           7,
           29,
           30,
           13,
           43,
           8,
           35,
           39,
           13,
           35,
           0,
           15,
           22,
           3,
           31,
           7,
           41,
           46,
           16,
           35,
           6,
           4,
           33,
           0,
           43,
           12,
           32,
           20,
           18,
           41,
           12,
           43,
           0,
           33,
           37,
           3,
           1,
           27,
           29,
           11,
           41,
           16,
           33,
           27,
           22,
           28,
           12,
           29,
           11,
           11,
           12,
           4,
           30,
           6,
           40,
           11,
           22,
           23,
           8,
           22,
           1,
           11,
           1,
           36,
           43,
           43,
           11,
           27,
           6,
           31,
           3,
           24,
           39,
           31,
           34,
           30,
           6,
           37,
           2,
           37,
           3,
           38,
           3,
           26,
           7,
           22,
           27,
           47,
           41,
           3,
           27,
           21,
           11,
           22,
           13,
           7,
           16,
           6,
           3,
           31,
           3,
           20,
           7,
           23,
           46,
           21,
           30
          ],
          "coloraxis": "coloraxis",
          "symbol": "circle"
         },
         "mode": "markers",
         "name": "",
         "scene": "scene",
         "showlegend": false,
         "type": "scatter3d",
         "x": [
          0.5621056857736153,
          1.716795270488309,
          -2.401405227929669,
          0.9551577664289835,
          -0.5231122813781959,
          -0.12464719616353095,
          -0.3315565656029683,
          -0.01683746499652425,
          -2.112330721734223,
          -0.23413309033137866,
          1.4664150397399391,
          2.1991504777789492,
          1.6916931602636878,
          0.8240729206088724,
          1.463435223275142,
          0.4240090151332057,
          -4.279338801103839,
          0.4825306687924096,
          0.3244447495800975,
          -2.256617161083936,
          0.6350277690312236,
          2.459386902647299,
          0.3314354791090427,
          -0.1457631723161485,
          -0.021154607573923217,
          0.2541561838179208,
          1.3235814001133572,
          0.5778429357915401,
          0.8793629378859691,
          -0.6073974797825213,
          0.8149891511793271,
          0.6490344702612534,
          2.5855519649788423,
          -1.9136009257706128,
          -0.10688546754181677,
          1.5600061709720203,
          -0.09476417075095842,
          3.066846417775955,
          1.7404853023445217,
          2.152649347427228,
          -1.5617766660285273,
          1.1386252232728682,
          1.8490249423074532,
          -1.011559275553396,
          0.7252169682763867,
          -0.22587648714416436,
          0.3251380480528314,
          -0.8439464919716027,
          0.4900148039199098,
          -0.09358508111713174,
          -3.311559173597467,
          0.4135573736435184,
          -1.4273227028062758,
          -0.23375992214068672,
          1.098071618406314,
          0.13996871706262984,
          -0.3780355424999537,
          -1.329843518989591,
          0.683160038893103,
          -0.7655681583543796,
          0.4704974745379695,
          -0.6958804600962144,
          -0.9612125769437838,
          -0.13883370599912662,
          5.838603862365794,
          0.5664828680004413,
          -1.6567852915505619,
          0.9532531402192506,
          2.3404259488926193,
          0.9974296770497152,
          -2.6452696873624477,
          0.15036004441006687,
          -1.1586332859654767,
          0.16539159421393546,
          0.34095146194914594,
          1.7874189437364252,
          -0.20451691963170318,
          1.9048393664663552,
          1.6429904667457662,
          1.6187530768615686,
          -2.0123915345889927,
          1.1572881458006252,
          1.0043962009395317,
          -0.3605755406102917,
          1.04596620222824,
          -1.198371063812401,
          0.05632539621352752,
          -1.3322982100140812,
          0.7104906573523585,
          0.4164226352904796,
          1.3053442810263003,
          0.37638508390073433,
          0.22498511188268747,
          -1.4567266145874485,
          1.7727511159057128,
          -1.8631399368111434,
          0.5805751125733788,
          -0.700999168243721,
          -0.9048048129335722,
          0.4804612659393139,
          0.37079198419611326,
          -1.3476803860033495,
          -0.7264183759021294,
          0.7249341439406239,
          -1.7779217702304375,
          -0.8487782449968396,
          -0.8317768745247495,
          0.7635839314892292,
          -0.32385449665315624,
          1.8174518105668733,
          3.391992404529412,
          1.1014662913530897,
          1.0279815268667145,
          -0.09635792665572956,
          0.19044361539651655,
          0.4652655126843358,
          1.6345063670713453,
          0.22223332380165495,
          1.3347787477590165,
          1.9131520204773615,
          0.06227687422092927,
          1.9344493093280797,
          0.026080291628868237,
          2.9902074300135957,
          -0.5984276642874568,
          0.46596329840662276,
          -1.1025208391909782,
          0.37346523111443886,
          -0.6818723588720277,
          0.10823578693145428,
          -1.091813139370698,
          0.7809177565115063,
          2.938889715702967,
          -0.8990562643742664,
          -0.2745792847572174,
          1.4914276695592388,
          2.7567413525311926,
          0.29489289243174166,
          -0.13331854625193068,
          0.28324083680711415,
          0.8135093981731664,
          -1.7204667905886784,
          1.7214357436272516,
          -0.9389611694550888,
          1.6581627809373773,
          -2.196023651996174,
          1.8929817575433265,
          2.047044136751722,
          -1.5288599706320574,
          1.9079273937591799,
          -0.34739133426081464,
          -3.162351097802547,
          2.8554867984765444,
          0.756742068917576,
          -2.0452602113552776,
          -0.9050750514293839,
          0.7323373906687115,
          -0.04828887067712114,
          1.6124633652174698,
          -1.049873190942784,
          0.4524052230364128,
          2.391698064413268,
          0.14119239187237942,
          -0.384544817560904,
          1.146946735695849,
          0.9330875359314257,
          -0.8280835709505125,
          0.805807333695496,
          1.2104114617494244,
          0.6232751855480003,
          0.06188324351609991,
          -0.6599746463041292,
          -3.104570298083831,
          0.5205680388071962,
          1.9086543606114923,
          0.5265875064101954,
          1.8197427899190073,
          -3.2321171498985852,
          -1.9893603050836397,
          0.08069267498606031,
          -0.5254049751665743,
          2.87669191954877,
          1.2211598495429312,
          -4.311004146648025,
          -4.3853235209796715,
          1.14531973176445,
          -2.466691549078671,
          -2.177018858129721,
          3.353279694113513,
          1.7226077716763242,
          2.445859336879564,
          0.13045891409457525,
          -3.366929986989953,
          1.5586032749396144,
          0.802494084356013,
          1.3375341609557596,
          -0.7775310347587286,
          -0.5000102491523208,
          1.4850349508205607,
          0.028036682604342306,
          0.07221024774283484,
          -0.009354592470471369,
          -2.2937917930728213,
          -1.995285800178919,
          1.2727340867535748,
          -0.5310720351092206,
          2.291510721991679,
          2.3682982698003903,
          2.6152032825086455,
          -0.3819396404467962,
          2.1647526189286985,
          3.5579960866584535,
          -0.497618554680792,
          0.10683374342923148,
          -0.9267506137493675,
          1.0551722871300768,
          2.8836226328485974,
          2.118008836285717,
          0.029513948512577857,
          -1.1958235230214675,
          3.6994868695003866,
          -1.138288038790334,
          2.307245271008754,
          2.702012078481186,
          2.060931147749779,
          -0.11461539830472844,
          -0.8074350236721052,
          -1.0750914294094456,
          0.7436571805479216,
          1.2887427179600264,
          -0.12503342173607856,
          1.1531595633894753,
          0.3199325991716006,
          2.149966251954413,
          -1.1436313525446777,
          1.6756202419317072,
          0.40434875910250817,
          0.5283799111529659,
          0.6306351502224189,
          -1.3194795354960283,
          -0.9396288084820177,
          -3.1065142327484074,
          -0.6740619231434485,
          0.921094332140917,
          2.069798445985245,
          -0.943398639395375,
          2.2538237098256495,
          -1.944579423274104,
          0.4680464611934496,
          -2.0084871242253195,
          -0.2606009765897585,
          2.0666422755242633,
          0.9466536149287913,
          -0.44886655977076967,
          -4.85256714519701,
          -2.174289952838442,
          -3.1876363471706672,
          1.357644604471297,
          1.1039035473867107,
          1.5457801341990653,
          -0.8036873845366567,
          -1.4461298071448,
          1.7130559525503304,
          -0.9533871449224056,
          -0.38321977661742324,
          -3.530556526673665,
          -3.5351494047261305,
          0.2824751205722011,
          -3.111251237548059,
          0.508638298739689,
          0.17782564527991612,
          -2.2374291211478914,
          -2.589397622496496,
          -3.007996720279789,
          -1.2845634114546196,
          0.11629545286421804,
          -0.004862412636775297,
          0.7924199517496531,
          -3.391280956434106,
          1.129275356327819,
          -0.2654938263810513,
          -0.5901221816182229,
          -0.1861045805616767,
          -1.6436928064264942,
          -1.4232906438787118,
          1.1467369892762245,
          -1.847490408179255,
          2.169046550012364,
          0.046559177704271475,
          -0.9180243794178565,
          0.2783396776028965,
          -4.286044919683079,
          1.6518276704775798,
          -0.05485680272139785,
          -4.811406498158263,
          0.18674952328713135,
          -2.409104018720757,
          1.7112128072401633,
          0.64413493918644,
          -0.07095337800372617,
          -3.302367907581849,
          -3.1932063229580767,
          1.282538884636351,
          0.25122169691731017,
          1.1248343671080445,
          -1.142155701974655,
          1.6249222279916795,
          1.42350047544106,
          1.1331889428535442,
          -0.9625504102188701,
          1.5013164023207826,
          0.24874479301558558,
          -0.6741160134091262,
          -2.3739721247787116,
          1.394249120578515,
          0.9927316768334504,
          -3.428773876571634,
          -0.6145776993173426,
          0.5323314688287657,
          -3.9499949983366296,
          0.8743990787570316,
          0.568071599973707,
          -3.090503107857797,
          -0.515645609977132,
          4.47588430001121,
          0.5285521749935702,
          1.5825860382974315,
          -2.2929155001702606,
          0.1062978565291115,
          0.2899522398898201,
          1.598575339587885,
          -0.38412805525195015,
          -0.43259299295057896,
          0.4998965758849979,
          -0.9300119370574264,
          -0.07637742227267424,
          -0.8643887142168172,
          -1.1220966748580434,
          -2.541317649045882,
          1.7796666749917414,
          3.247642042854824,
          1.3702041349672407,
          -2.883290252492258,
          0.14684925025341222,
          0.7194457018061421,
          -1.745298061928359,
          0.21151464125068067,
          0.4907585967412782,
          1.0955790872463447,
          0.47723642241555797,
          0.7501655043333227,
          0.3480425652719368,
          -1.952583065479054,
          0.5739641260885039,
          -1.3551233406682766,
          -0.30994296764161045,
          -2.109869119397016,
          0.006639741449976676,
          0.038874152245030665,
          1.1368963714594331,
          -0.7891825392348519,
          0.7591303819663826,
          0.4823907607202673,
          0.8307928696326341,
          -0.05155751414545646,
          0.6100880643521684,
          1.1189511082244856,
          3.9376138011109147,
          0.7910711971261898,
          -0.1489892228636869,
          -3.6389066032888437,
          2.9422455685942936,
          1.0856730325194306,
          2.015105155815263,
          -1.269213837648946,
          1.0466220679551999,
          0.44896444171128963,
          0.9201640632872802,
          1.120755247547597,
          1.0919369052680843,
          0.416186475989838,
          -2.6827717718022432,
          -1.0395929823847536,
          1.2478723368111309,
          1.2424153256852586,
          -1.92883041018726,
          -3.0414339567705104,
          1.2037584542886655,
          -0.8179265671377732,
          2.333535475888219,
          0.5806179028798049,
          0.49796496151158065,
          -0.5606163365847582,
          1.1997092368439404,
          0.5999581672357324,
          2.120782787844759,
          -0.39439888448337307,
          1.124144132261336,
          0.8711832873253639,
          -5.207032671208035,
          -0.8626825863102888,
          -1.654130072512779,
          -0.4801668480239423,
          0.11815351112237521,
          3.2019897311044145,
          -0.6541691886096731,
          0.18249882913048074,
          1.5431396041697567,
          -0.0009086479744956486,
          -0.44142673233825297,
          -1.031813704100891,
          -0.5401279609989625,
          -4.744115367871043,
          0.3616524547389834,
          2.079387201814501,
          -3.2321171498985852,
          0.586454788651427,
          -1.7996205022613803,
          0.43756961546658535,
          -0.44055456649608565,
          -1.5926973311387327,
          -2.9906427653616388,
          0.9254982239336196,
          3.444863340911068,
          0.3068201832587341,
          1.1998008298634266,
          -1.1703700653510154,
          -1.0194727455879145,
          -0.041181224159531245,
          -4.9817931291247834,
          0.36206727503608893,
          0.8499563422439941,
          -0.18770837526482462,
          -1.584556872335958,
          1.0811576634982822,
          -1.3605359754629431,
          2.0042138802114295,
          1.5924218531609615,
          2.6406268221860434,
          -1.5740460049538647,
          2.1631977032920275,
          2.695883181374438,
          -1.1270553019086114,
          -0.37830720849688076,
          -1.4338164289133124,
          -3.362680180056968,
          1.120505907442945,
          -1.3739886122424438,
          0.5366361928483894,
          -3.050059872478637,
          -1.9296878486022526,
          -0.588631218990138,
          -2.9964918975449826,
          -0.2176324897728653,
          -0.03393873679599533,
          -4.651508661693596,
          -0.8812507269599171,
          -4.627312019240067,
          0.08411656909741541,
          0.8497221265099602,
          0.7117913047738167,
          2.384085318726932,
          0.6771068197382182,
          0.6425416866597825,
          -3.773185837494349,
          0.4258863108071442,
          -0.052741586345998515,
          0.16728439993800925,
          -2.75176328944569,
          -0.26368699728182715,
          -1.977042438889974,
          0.3878786582016772,
          -3.3824532751544667,
          1.0120838575024225,
          -0.028558321464238118,
          0.7170270564613387,
          0.04584280492029185,
          -0.7736489568986251,
          0.2560994643747969,
          -1.3495047567605138,
          0.4838724247034976,
          -0.9961723259371059,
          1.253746625089248,
          -0.2529861896053895,
          0.17317251166960315
         ],
         "y": [
          -1.9565316460318334,
          1.6328787638317297,
          0.6112465490869092,
          -0.04102942060942442,
          -0.09217416334805596,
          0.19614078339575983,
          0.7330792777372424,
          0.33842336215597246,
          1.4603085542639118,
          -2.607828607633689,
          -0.7509980433820426,
          -0.20447956637621223,
          -0.7138065385881387,
          0.18143200736377513,
          -0.539252682893971,
          0.7024925245072842,
          1.0795299575255886,
          -0.672658858524387,
          -0.7264485380282724,
          -1.0000757935049047,
          -0.4428443848809507,
          0.2846738510775946,
          0.7766025641238542,
          -1.4519899030911831,
          0.3363417581309484,
          0.436004495445088,
          -0.7671601332323164,
          -1.1059357270376464,
          0.17018042560606644,
          2.618945164347279,
          0.18069510436039585,
          -0.06396694163730791,
          -0.3542202130434411,
          -0.7063357745597659,
          0.3213491424227741,
          -0.7570538528232812,
          -0.4143892027798927,
          1.0355598201412748,
          0.7907883601787591,
          1.065852947060827,
          -2.089685049152314,
          0.03666531608765564,
          -0.5265363164165076,
          0.5428813106656377,
          1.334732060226352,
          -1.9818204799021066,
          -1.231007580633059,
          5.112088318730164,
          -0.042807790130413734,
          -1.48762154832709,
          -0.6151484862418758,
          -0.01820022569784971,
          0.5541325355831654,
          0.019641849231203972,
          0.09357249465205547,
          0.7212761320121455,
          -1.2268146538967888,
          -1.2368456880808623,
          0.47601073214434997,
          0.14316877844828174,
          0.831814182110298,
          0.028762788018070844,
          -0.9145936158613875,
          -0.4007966397419309,
          1.7022514913809657,
          -1.4750116143701562,
          0.3200403598319612,
          0.43639054694343343,
          -0.05904403178954823,
          -0.5720821756306942,
          0.08413888628265435,
          -0.058690502443958695,
          -0.8808293279114154,
          -0.2639019142415454,
          -0.5810912149060196,
          -0.31741353804968525,
          1.2191108643997384,
          0.3554120915370083,
          -0.8582273568385637,
          2.965000274833807,
          2.0408338458623856,
          -1.0799961186526859,
          -0.070390862693607,
          -0.11998818683694706,
          -0.14783290052816278,
          -1.0211513739448166,
          2.5181758529433798,
          -1.382935322131556,
          0.1420760183475389,
          -1.3911889360584038,
          -1.7280360597655426,
          1.2958708385089743,
          -0.7121284418730038,
          -0.6194037971824314,
          -1.1115344111979746,
          2.2127403251123137,
          0.6403950254029465,
          -0.42700533380189304,
          -1.1310438618108536,
          2.0437853219339863,
          -0.11348915706971609,
          1.5035527388301935,
          -0.34011472146537264,
          0.9205296102136417,
          0.03709572082513288,
          0.5016101257618326,
          1.0037140983965476,
          0.6695940760122033,
          0.3970648707645887,
          1.6783025369554463,
          -2.0971331048080897,
          0.41620598789947344,
          -0.6194330720794085,
          0.642758297990439,
          -0.40537106086218894,
          -0.32069528762782973,
          -1.2448186006715407,
          0.5557398617602869,
          0.6403927697893173,
          1.9868354997813429,
          -0.4533045055233651,
          0.7583646262190789,
          0.4828535181508466,
          0.48949710382160366,
          1.3177257072275945,
          -0.4332597909779513,
          -0.1306585863695354,
          -0.38726357942915735,
          1.2100161967856669,
          -0.5389645616778722,
          0.2251088394345886,
          1.772739426730038,
          -0.1278126290844716,
          0.14293636424534054,
          0.18713251883876436,
          -0.6770480458867258,
          -0.250495557691342,
          -0.8197019739089022,
          0.6024786557892647,
          -1.246595072061914,
          -1.757781652319358,
          -2.2689276884041236,
          -1.2159814793525303,
          -0.6136614537710529,
          -1.6964467846998958,
          6.755420578854968,
          -0.6791233396866666,
          -2.7591250437396444,
          -1.6566788858453376,
          -1.0034884619264477,
          -0.4017851083910287,
          -2.366600058095475,
          -0.4354610469266612,
          -0.20260064835569314,
          1.9115986217498562,
          -0.895706915919024,
          2.1160439168871834,
          -0.9697182080751039,
          -0.07688526341905585,
          -0.08250478687462104,
          -0.6916272614066978,
          -0.3669239814593923,
          1.1138838875514758,
          0.27788429853649765,
          -0.589227273638013,
          -1.2013314112498974,
          -0.1466898877900684,
          0.2306675623522817,
          0.32926485513907416,
          1.1305637458038373,
          -0.16911504514874437,
          0.08909918263443511,
          1.0780191047921786,
          -0.25900119324287624,
          -0.8974457218324734,
          -0.8031035041661748,
          -0.060829076920666775,
          -0.34896097460125464,
          1.560201082224727,
          0.9183516381360538,
          -2.4197259337168533,
          -0.7677966418363475,
          1.484864984102327,
          1.2221267471004662,
          0.5382466715285328,
          -0.31996011810514186,
          -1.6068752334807304,
          -1.867034548356675,
          1.2171307528212765,
          -0.014629914504065056,
          -1.4464609019607302,
          -0.46512088431166765,
          -0.28125617597114205,
          0.6654441393638764,
          0.48082153519800885,
          -0.10233578251847926,
          -0.9931205322812746,
          0.7969972378596838,
          0.5456581256703469,
          -1.047723851008614,
          0.003001429224424837,
          0.963803480485223,
          -1.7552916882116496,
          1.7693799639389065,
          0.7489446613203173,
          -0.6960036852003644,
          -1.044442412980047,
          0.40813788894666997,
          1.4432884236642527,
          -0.9171170720438435,
          1.9918165389623113,
          0.30637443110612655,
          0.3221505935679563,
          -0.7833995985621504,
          0.36266583508290434,
          0.7681591613294156,
          -1.2579358007790842,
          -0.9361663849838981,
          2.3423717946137135,
          0.4432941411629286,
          -0.36530083457185647,
          0.8105973175122007,
          -0.889150573241252,
          -0.4755652633171727,
          -0.13673967377912263,
          -0.13503635774759673,
          0.4063872894921523,
          -0.07545695428982852,
          -1.192548370613366,
          0.8910879193580781,
          -1.2362131695782095,
          -0.8295830959123802,
          0.35125699544117844,
          -0.26405895163812115,
          -0.4757753053148226,
          1.2745926890162895,
          -0.6764697138631172,
          -2.756673368795876,
          0.5644848929252706,
          -1.645786939757546,
          -0.25667731040135555,
          -1.5828355890982366,
          1.188658263299088,
          1.3358956688952768,
          0.7524007327196042,
          0.06513812049644434,
          -0.7074559205491388,
          -5.791480311629898,
          -1.977794317027101,
          0.3510448270264249,
          1.6809889755655132,
          -0.5121505695814513,
          -1.123541638730648,
          0.16833950255867897,
          -0.5755020256761088,
          0.07098826239518585,
          0.49245767862262474,
          1.7274709908254826,
          0.00686128069873061,
          0.17402292683227985,
          -1.177899104822166,
          -1.6342848281331996,
          1.2125603841238035,
          0.2843292493156835,
          -1.5559798276314956,
          2.5823040677444977,
          -1.4095397914978027,
          2.168634502557371,
          -0.637029216814024,
          1.725706236671231,
          -2.0904672274168994,
          0.7159096677841815,
          0.5267090589783496,
          -1.3121953875320214,
          2.7688230286488595,
          0.6299405353139523,
          0.10526295818366196,
          -0.8997329968047324,
          1.8587599100919,
          -1.8350762105987746,
          0.6581350982490685,
          0.4227603390416543,
          0.4525621015770927,
          1.5178884733849418,
          0.13051095433233623,
          0.41789794570123234,
          3.0508113133723804,
          0.07645427788263459,
          -0.3273330880113506,
          -1.2890984102250038,
          1.3058262936310256,
          0.4615218156438226,
          -0.07654387395432695,
          1.8634860158809046,
          0.6466875727904046,
          -0.28058546790590794,
          -0.6373189968101595,
          -0.6910682790279559,
          -0.9417797075317496,
          0.08462332440174623,
          -0.5581386741711489,
          -0.903492920665605,
          0.5782641968600511,
          0.00876427097120548,
          0.5756940386601753,
          -1.0523266619999672,
          1.8647669799005178,
          0.2205485512118841,
          0.3032308190107201,
          3.011197725296642,
          -0.5592521894590201,
          0.39239985574467967,
          -0.5707263550953106,
          -0.0813410862371562,
          0.7330378364643232,
          -0.3936133711657248,
          4.714744018472452,
          -1.3288120701743316,
          -1.2497664649783895,
          -0.4878796960019744,
          -0.9379613597032356,
          0.42268836406638954,
          -2.1061570232182327,
          -0.521940170490914,
          -0.7546677106792578,
          0.9632201501178206,
          2.3539029270730327,
          2.204324064041882,
          -0.378469015340396,
          -0.5668845760756112,
          0.004192309325082195,
          0.46853160680467953,
          3.031773652440304,
          -0.04940392250952473,
          0.28501808532636363,
          -0.026178324726070644,
          2.2086566317516327,
          -0.06594918766275736,
          -1.4147670008663233,
          0.06788031049067866,
          1.4972167346499767,
          0.051882301060807365,
          0.3247744919844505,
          0.04993742106490307,
          -1.2491514523317686,
          -0.5175408722764273,
          0.2144826196534557,
          -0.4007581662141317,
          0.7059889932590426,
          0.519213249961737,
          -0.6179917364631675,
          -0.0009096117487799909,
          0.4022623198786582,
          1.5452825123198437,
          -0.2054863700483399,
          -1.129729049130799,
          -1.5161110442565393,
          1.3835603882333438,
          -0.158115710924606,
          0.2227302707159132,
          0.3570468891755319,
          -0.721967808954209,
          -0.7733615089135594,
          -0.3358248003924872,
          -0.3185677774668906,
          0.2901768696328153,
          -0.5564110077375009,
          -0.058946242399110706,
          0.7189310129075017,
          -0.5892133507770925,
          -2.149282389190839,
          -0.4748209906226966,
          1.2875568186137063,
          0.9760927086212359,
          1.9514114723923215,
          -0.34435675357151363,
          0.6206577615374436,
          0.21839309779226415,
          -0.42244885367945056,
          1.2837144887036742,
          -0.19448952326072358,
          -1.097516558531421,
          -0.958158384104276,
          -0.329554948928112,
          0.6449297079388701,
          2.5059588402942268,
          -1.5593304548910547,
          0.5193838320489923,
          -0.018479980246608407,
          -0.8126929116784196,
          -0.6250385654582761,
          -0.007327644246866202,
          1.583115699110666,
          0.05566421632837417,
          2.0086983690820914,
          -1.5158838752380028,
          -0.3943766955941565,
          0.8002194527625612,
          -1.1612766177705014,
          1.6455538447275866,
          -2.0527127107938132,
          -0.3082044239594083,
          -0.1615950062782423,
          0.9634355847317633,
          0.7973343102782611,
          0.1862761484101069,
          -0.7648875581155026,
          2.0390266026806274,
          0.7450192094384388,
          -0.9130000757227422,
          -0.02605293561446128,
          -2.1508056078341693,
          0.23225320885942605,
          0.49252343437841833,
          -0.655399756149969,
          -0.34896097460125464,
          1.0822736907711181,
          -0.9136261618724749,
          1.084209455474558,
          -0.5449536346140444,
          -2.5991934436708926,
          -0.5205790311207268,
          -1.8832713998515864,
          0.8347161751227412,
          1.0142062449470601,
          2.2888494538826745,
          -1.0027086407587056,
          -1.1645609661478256,
          0.4324558621305683,
          0.8986893555699264,
          -0.03353852893064098,
          -1.6853562864201383,
          0.22047687746676656,
          -1.4331365449468643,
          -1.0096996352742469,
          0.6589634294591116,
          0.1935553084260834,
          -0.5355456590699255,
          -0.2935321357575666,
          -1.1957980771357755,
          0.09794742604266625,
          -0.38849749776356424,
          -0.7239765435744732,
          -0.198810986671344,
          -1.526976151256449,
          -1.2017562444046537,
          -0.9711881011090525,
          1.3208088409591563,
          0.11917328672120617,
          2.0817416084111318,
          2.0053455152884476,
          2.552511984671275,
          0.4192606141545556,
          -0.26257656823149955,
          -1.3917182366141045,
          -0.7950864994955262,
          -2.720283852844793,
          -0.5814927320825838,
          0.24694012022699466,
          -0.6428745557693302,
          0.6135756195155176,
          1.2161591436657953,
          -0.16691830407275451,
          0.16837778703898246,
          -0.7997685081220888,
          -3.698351493489483,
          1.9740839795299767,
          0.017958345442070995,
          -0.43854015760881576,
          2.431116867018804,
          -0.7706538223354834,
          -0.8579304397566309,
          -1.5345155749066133,
          0.011454777977222759,
          -0.23132246099826545,
          -1.890140101723549,
          0.1717563793087336,
          1.4238904166926523,
          0.7441342676220888,
          0.4218482516322259,
          -0.3072008879270871,
          0.5155051321309341,
          -1.5509431893242198,
          2.1720883926220815,
          -0.7253209772559707
         ],
         "z": [
          -0.49925557987968294,
          0.7438709864611196,
          0.5052391163754576,
          -1.3836959448107375,
          0.6886578686410552,
          1.98398434861053,
          -0.9777540154314106,
          0.276818345069741,
          2.4727734225331885,
          1.315747181586929,
          0.0970648971717767,
          4.323969927597382,
          3.45955289998749,
          2.287876189561239,
          -1.1676317682946893,
          -1.323001003279884,
          -0.26585053607115494,
          -0.1520959568325765,
          0.8504946655589998,
          0.5806198121211937,
          -0.6085723765307585,
          1.557335662911041,
          -0.619200957739374,
          -0.6267111089157026,
          -0.30708395692646834,
          0.061867712987815036,
          -1.9695780845502888,
          -0.27905502017450096,
          1.2052105177098462,
          -0.20409716549468448,
          -0.9541512723717318,
          0.11885211490836295,
          0.5472666942757494,
          2.386386170136703,
          1.3869449168352308,
          -0.2522654201151102,
          0.8285011937289117,
          1.2681990272667003,
          1.1282390907518927,
          -0.24171653684752836,
          0.597350082260406,
          -0.2195904389326339,
          -1.190342186051352,
          -0.3816797653423792,
          -0.7385415723731671,
          0.09811633041096193,
          0.29232267918000504,
          0.15703538072446768,
          0.2599829428569577,
          0.9670998650189087,
          1.6525780522533844,
          -0.15988558244562573,
          0.05110674268935091,
          -0.6245160960872148,
          -1.453339029728421,
          -0.46287576065130137,
          0.07425681515065222,
          -0.2441615385715104,
          -1.165528876763525,
          -0.550774449183096,
          0.3393765980325884,
          0.271386795644846,
          2.3881440867895085,
          -0.4573244992432212,
          0.9842760813707521,
          -0.47028343441791426,
          -0.32038710019519007,
          0.2907586811370465,
          0.6548142295610206,
          0.07726673232131713,
          0.31386197513485925,
          -0.41482435898199155,
          -0.9567396168581107,
          -0.0918387057738963,
          -0.8947009654820169,
          2.258578248553356,
          -0.8559785033189129,
          1.3565207511895643,
          0.7774532947336955,
          0.5614174809569101,
          -0.12484282489981911,
          2.583435420798771,
          -1.265782466868169,
          0.8312097268918041,
          0.9435106620663152,
          0.6074682835863062,
          -0.9034143925110286,
          -0.9898093736363609,
          -0.7608111537085717,
          -0.07117313962510909,
          1.0398807703455168,
          -1.2681263748374234,
          -0.7480266100765249,
          -1.0956786042153206,
          0.9585994734178541,
          -0.24056584143508003,
          -0.20559065246918323,
          0.2302190657465893,
          -0.8305861810462919,
          -1.5019738208533129,
          0.1494982022034566,
          -0.925650813022263,
          -0.06554952678446231,
          1.3663052933730133,
          0.0022943553231779238,
          -1.223783828863861,
          -0.49910793127036807,
          -0.8039891845869376,
          -0.25713076445867045,
          1.2592252014750354,
          -4.001857714882365,
          0.3856306622318307,
          -0.09130785979832337,
          -0.9877920262492547,
          0.44037716201012017,
          0.029186699105849527,
          -0.21396722300847804,
          -0.11738995414915689,
          -0.11423903935299017,
          2.3478999023660414,
          0.2862995981361872,
          1.8763583839811326,
          0.390982444693938,
          1.5768522346815617,
          0.4039078217302013,
          -0.31213325432550915,
          -1.541873942050954,
          -0.4731272694981621,
          -0.231454998302711,
          2.5623563552325272,
          -0.4027129520125694,
          1.0637665560512097,
          -1.8866428660186176,
          -0.01631872980078203,
          0.6122681711090946,
          0.11216069629664743,
          1.3563933556474714,
          2.6295537407843415,
          -0.25393250737718526,
          -0.7223835148106149,
          -0.3385235016290716,
          -0.16513847279704597,
          -1.9250891054861354,
          -0.3105972582420941,
          -0.8089322006881963,
          -0.35110798152976924,
          -0.6572477728687723,
          -2.9128814179651172,
          0.9070456677569826,
          0.7944984336556807,
          0.6422594951765561,
          1.3038034279918476,
          2.0583834423903262,
          0.6406197417366165,
          -0.4877656203023627,
          -0.1396443577577333,
          0.5022837862548963,
          -1.0662715177778634,
          -0.30137595047727833,
          0.4384635953373631,
          0.39126217292896553,
          -0.7537984193667976,
          0.24638256976600967,
          -1.5130885986306353,
          -2.535606437265891,
          1.1338862628521584,
          -0.04864736861846159,
          0.4300608860415205,
          -1.1174193128097398,
          -1.3415660121752926,
          0.5309797111990353,
          1.1543424738201122,
          -1.1604930808102012,
          -1.4489990446298358,
          -2.9500791812356897,
          -0.9250394705056866,
          -0.09519526026850693,
          -0.5264298567859618,
          1.373904631638812,
          -0.25823486287501496,
          -1.199609769445268,
          -1.1878001060282222,
          -0.858103398624496,
          -0.5262593184898732,
          -0.258423915554325,
          0.9063994543964261,
          0.020379610844938084,
          -0.2079608824746474,
          -0.12546039064938133,
          -0.7542817509924745,
          -1.8419772232382028,
          -0.6494553032094659,
          0.4602566825241585,
          -1.0445706880669028,
          1.6001208012835815,
          0.2062939993662141,
          -1.0075813020047002,
          -1.0396363217750821,
          0.11545885800606055,
          0.5211196046427913,
          0.059397752075675915,
          0.817837179274064,
          -0.27142760921464687,
          1.0888294363770525,
          2.7039318427371133,
          -0.4440872342980126,
          2.1077282670291537,
          -0.3563686981458014,
          1.4147109004548015,
          -0.8118437378917398,
          0.021687096297892037,
          -1.4293382167593593,
          0.8936241273829593,
          -0.5976580940033728,
          -0.5000402937397261,
          -0.7173593950499716,
          -0.5858907466639235,
          2.1650493575365974,
          -0.1327601318183307,
          -0.6308485313714672,
          1.7287134552972976,
          1.3857966220128812,
          0.38430093441587587,
          0.48673729601766735,
          -0.6856015752184065,
          0.06601904442482448,
          1.96005055246279,
          -0.05722006769457216,
          1.5235706335022468,
          -0.03267442735506501,
          1.2193046815984063,
          -0.4321334023437682,
          1.0783492476122962,
          3.384659473611221,
          -0.5588809358015311,
          -1.2644312557220918,
          -0.9830947098069858,
          -1.280084307440897,
          -0.22692099236653107,
          -0.7092429401457538,
          -0.00896310013621902,
          -0.6162208357192023,
          -0.504292140631166,
          2.4774705746631813,
          -2.0106241674068888,
          0.089336457953772,
          -0.3298411889837541,
          -2.108674495928051,
          -0.39363952553802295,
          0.020916826692220437,
          -0.5343807520219146,
          -1.840893509007891,
          1.0030376677988053,
          0.6550844124588299,
          -0.7914240721633335,
          0.12414062347736736,
          -0.9243730714525482,
          -0.27549040731203517,
          -1.0058970142704644,
          0.3301676306952938,
          -0.8405923736747967,
          -0.08982202724931675,
          0.07416197453294529,
          -0.46313635152815535,
          -0.7852679453684372,
          -0.9773848655918976,
          0.22615062848976328,
          -0.42138610048227015,
          -0.8361732302698783,
          -1.7392134383250286,
          1.8780936066536869,
          1.0239271915533272,
          0.1463103668197226,
          0.9093219795688661,
          2.158138370298137,
          0.7832685211977388,
          -1.914091183305466,
          -1.642655089154445,
          -0.9030960291807243,
          -0.5215811167500386,
          0.29722434202465065,
          -0.9197163913523567,
          -0.973037476525603,
          -1.0060396913672869,
          -0.47870824293537134,
          0.7252646216869016,
          0.27168433500897543,
          1.0281996810631553,
          -0.2157442947940507,
          -0.1972452967262685,
          1.8646177207026289,
          0.015177250658618701,
          0.16476117413390648,
          0.47906440769564884,
          0.4109938855778276,
          -0.9973630299226703,
          0.594955058496768,
          -0.29880459682189325,
          2.912254932484925,
          1.9029010473708616,
          -0.32730932650166356,
          -0.3259944176947155,
          0.23833204779828382,
          -0.31906226800142723,
          -0.3081764118920872,
          -0.04870448048694841,
          3.0469191701169507,
          -1.3152425835273616,
          -0.45730447998892215,
          0.14562729392820295,
          -0.44742037443608684,
          -1.3375578685154337,
          -0.2523377423944441,
          1.3901636188342257,
          -0.13062060560334818,
          0.6334243338769977,
          0.14326694772738324,
          -0.7595403442693529,
          0.5396035659043242,
          -0.7909602441273297,
          0.9147070122661034,
          0.29557314346726005,
          -0.574677180786785,
          -1.2395370754884574,
          -3.3930143858790127,
          -0.42580048491740174,
          -1.3063468627819108,
          -0.04003968714141955,
          1.191711303785811,
          -0.5369079176749793,
          -1.2300731890863827,
          0.1266270945208255,
          -0.17715611517615149,
          0.7062067623793521,
          -1.2521295912658843,
          0.5466250921116268,
          -1.1496618944666819,
          -0.02006545151108456,
          0.5204607474336076,
          -1.4047446667905077,
          -1.0483946291915027,
          -0.4905710206496736,
          -0.6192893834837361,
          -0.7629311385166135,
          1.8729086458795807,
          -0.6832953592908825,
          -0.441120385298376,
          -0.23473673859376118,
          0.8396428725049847,
          -0.9030517258810248,
          -1.316886953597927,
          0.35760836988379263,
          1.8368162162502155,
          -0.02389397010275255,
          -0.8246379379057552,
          -0.18857871694695133,
          0.2182360390733497,
          0.03542394529630295,
          -1.0192201928793825,
          0.017574355874488773,
          -0.427038055520878,
          -0.17411291354055006,
          -1.1912888645344855,
          -1.0860756518747023,
          0.002612765251804298,
          0.0008731119374985894,
          -1.1943354840870006,
          -0.2989250820500347,
          -0.2097261519298829,
          0.8613125862437554,
          0.3078402760975259,
          2.1687017058434717,
          -0.8402370840794756,
          -1.2768263407927944,
          0.47503376704579553,
          0.5090505270243431,
          0.35576755766834595,
          0.6502049147601106,
          0.597545273600708,
          -0.564572632236172,
          0.019819234506474683,
          1.4714359949656133,
          -0.4574680560311414,
          -0.9682020668548427,
          -0.19677208395508633,
          0.6807823133365655,
          1.1878505195488582,
          0.8706050373145182,
          -0.19995399359647922,
          -3.0516582253823827,
          2.007717944268242,
          -0.7729936027116108,
          0.016297405660849938,
          0.4103182897813571,
          -1.191825316987894,
          -1.5565256153023546,
          0.14875606634356167,
          0.6410623606177143,
          -0.7005919901704585,
          0.5330320817487186,
          -1.153481425193555,
          0.03938921985917494,
          -0.46503097974635194,
          0.003091467668207835,
          -1.0670790822077962,
          3.257888857916001,
          -0.6122552570730192,
          -1.8979545105099018,
          -0.19802232976237497,
          -0.835066460379708,
          -0.39400908369612914,
          0.01596528997272666,
          0.05341517257170729,
          -0.8313924429838631,
          -0.11302535612201291,
          -0.5264298567859618,
          -1.028443854278938,
          -0.19637770600601992,
          -1.6607153474111476,
          0.833791753428862,
          0.014424447551470541,
          -1.0257221087974862,
          2.913990621644033,
          0.048375262835270605,
          0.41476035017581536,
          -0.38089863505364163,
          0.4775066260492021,
          0.012346199362513039,
          -0.2830254284035734,
          0.3218570610853351,
          -0.000998932196052262,
          -0.6113559430671932,
          1.2842296025281035,
          -0.03224908772680037,
          2.3935106483985975,
          -1.4895174530151962,
          -1.2196587454415866,
          2.3995148147453067,
          0.61917262535514,
          -0.23926148029295632,
          0.06677753054457344,
          -1.6136456187474388,
          -0.3611824086455317,
          -0.6502017935259738,
          -0.07521125813967547,
          -0.49873839852021645,
          -0.08164404053537103,
          -0.05704688387391325,
          -0.709134269268396,
          -1.590700823851986,
          -0.949033400522944,
          -1.396229972213686,
          0.8974199104900923,
          0.07815823380128739,
          -0.6042885080120143,
          -0.4196650915020108,
          0.7417110681146314,
          1.3970259888836105,
          -0.38737410616539647,
          1.0042343875814774,
          -0.664681027420162,
          1.9380277430047872,
          0.6226731937576284,
          3.454015046591285,
          0.17938674901624815,
          2.9901555965833384,
          -1.4930654854920806,
          -0.8842665706692122,
          -0.3373176314345978,
          1.2939388200331274,
          -0.6436217002590477,
          2.595182735011716,
          0.41097631514933963,
          0.6247885144459713,
          0.8221696316839219,
          0.2153283254224715,
          -0.5889909892389693,
          -0.41385148599784966,
          -1.047544917211365,
          2.394209169433698,
          0.514236810332831,
          -0.3598317823198946,
          -1.1840844383434441,
          0.0734846851653555,
          0.5760222965109263
         ]
        }
       ],
       "layout": {
        "coloraxis": {
         "colorbar": {
          "title": {
           "text": "color"
          }
         },
         "colorscale": [
          [
           0,
           "#0d0887"
          ],
          [
           0.1111111111111111,
           "#46039f"
          ],
          [
           0.2222222222222222,
           "#7201a8"
          ],
          [
           0.3333333333333333,
           "#9c179e"
          ],
          [
           0.4444444444444444,
           "#bd3786"
          ],
          [
           0.5555555555555556,
           "#d8576b"
          ],
          [
           0.6666666666666666,
           "#ed7953"
          ],
          [
           0.7777777777777778,
           "#fb9f3a"
          ],
          [
           0.8888888888888888,
           "#fdca26"
          ],
          [
           1,
           "#f0f921"
          ]
         ]
        },
        "legend": {
         "tracegroupgap": 0
        },
        "margin": {
         "t": 60
        },
        "scene": {
         "domain": {
          "x": [
           0,
           1
          ],
          "y": [
           0,
           1
          ]
         },
         "xaxis": {
          "title": {
           "text": "pc1"
          }
         },
         "yaxis": {
          "title": {
           "text": "pc2"
          }
         },
         "zaxis": {
          "title": {
           "text": "pc3"
          }
         }
        },
        "template": {
         "data": {
          "bar": [
           {
            "error_x": {
             "color": "#2a3f5f"
            },
            "error_y": {
             "color": "#2a3f5f"
            },
            "marker": {
             "line": {
              "color": "#E5ECF6",
              "width": 0.5
             },
             "pattern": {
              "fillmode": "overlay",
              "size": 10,
              "solidity": 0.2
             }
            },
            "type": "bar"
           }
          ],
          "barpolar": [
           {
            "marker": {
             "line": {
              "color": "#E5ECF6",
              "width": 0.5
             },
             "pattern": {
              "fillmode": "overlay",
              "size": 10,
              "solidity": 0.2
             }
            },
            "type": "barpolar"
           }
          ],
          "carpet": [
           {
            "aaxis": {
             "endlinecolor": "#2a3f5f",
             "gridcolor": "white",
             "linecolor": "white",
             "minorgridcolor": "white",
             "startlinecolor": "#2a3f5f"
            },
            "baxis": {
             "endlinecolor": "#2a3f5f",
             "gridcolor": "white",
             "linecolor": "white",
             "minorgridcolor": "white",
             "startlinecolor": "#2a3f5f"
            },
            "type": "carpet"
           }
          ],
          "choropleth": [
           {
            "colorbar": {
             "outlinewidth": 0,
             "ticks": ""
            },
            "type": "choropleth"
           }
          ],
          "contour": [
           {
            "colorbar": {
             "outlinewidth": 0,
             "ticks": ""
            },
            "colorscale": [
             [
              0,
              "#0d0887"
             ],
             [
              0.1111111111111111,
              "#46039f"
             ],
             [
              0.2222222222222222,
              "#7201a8"
             ],
             [
              0.3333333333333333,
              "#9c179e"
             ],
             [
              0.4444444444444444,
              "#bd3786"
             ],
             [
              0.5555555555555556,
              "#d8576b"
             ],
             [
              0.6666666666666666,
              "#ed7953"
             ],
             [
              0.7777777777777778,
              "#fb9f3a"
             ],
             [
              0.8888888888888888,
              "#fdca26"
             ],
             [
              1,
              "#f0f921"
             ]
            ],
            "type": "contour"
           }
          ],
          "contourcarpet": [
           {
            "colorbar": {
             "outlinewidth": 0,
             "ticks": ""
            },
            "type": "contourcarpet"
           }
          ],
          "heatmap": [
           {
            "colorbar": {
             "outlinewidth": 0,
             "ticks": ""
            },
            "colorscale": [
             [
              0,
              "#0d0887"
             ],
             [
              0.1111111111111111,
              "#46039f"
             ],
             [
              0.2222222222222222,
              "#7201a8"
             ],
             [
              0.3333333333333333,
              "#9c179e"
             ],
             [
              0.4444444444444444,
              "#bd3786"
             ],
             [
              0.5555555555555556,
              "#d8576b"
             ],
             [
              0.6666666666666666,
              "#ed7953"
             ],
             [
              0.7777777777777778,
              "#fb9f3a"
             ],
             [
              0.8888888888888888,
              "#fdca26"
             ],
             [
              1,
              "#f0f921"
             ]
            ],
            "type": "heatmap"
           }
          ],
          "heatmapgl": [
           {
            "colorbar": {
             "outlinewidth": 0,
             "ticks": ""
            },
            "colorscale": [
             [
              0,
              "#0d0887"
             ],
             [
              0.1111111111111111,
              "#46039f"
             ],
             [
              0.2222222222222222,
              "#7201a8"
             ],
             [
              0.3333333333333333,
              "#9c179e"
             ],
             [
              0.4444444444444444,
              "#bd3786"
             ],
             [
              0.5555555555555556,
              "#d8576b"
             ],
             [
              0.6666666666666666,
              "#ed7953"
             ],
             [
              0.7777777777777778,
              "#fb9f3a"
             ],
             [
              0.8888888888888888,
              "#fdca26"
             ],
             [
              1,
              "#f0f921"
             ]
            ],
            "type": "heatmapgl"
           }
          ],
          "histogram": [
           {
            "marker": {
             "pattern": {
              "fillmode": "overlay",
              "size": 10,
              "solidity": 0.2
             }
            },
            "type": "histogram"
           }
          ],
          "histogram2d": [
           {
            "colorbar": {
             "outlinewidth": 0,
             "ticks": ""
            },
            "colorscale": [
             [
              0,
              "#0d0887"
             ],
             [
              0.1111111111111111,
              "#46039f"
             ],
             [
              0.2222222222222222,
              "#7201a8"
             ],
             [
              0.3333333333333333,
              "#9c179e"
             ],
             [
              0.4444444444444444,
              "#bd3786"
             ],
             [
              0.5555555555555556,
              "#d8576b"
             ],
             [
              0.6666666666666666,
              "#ed7953"
             ],
             [
              0.7777777777777778,
              "#fb9f3a"
             ],
             [
              0.8888888888888888,
              "#fdca26"
             ],
             [
              1,
              "#f0f921"
             ]
            ],
            "type": "histogram2d"
           }
          ],
          "histogram2dcontour": [
           {
            "colorbar": {
             "outlinewidth": 0,
             "ticks": ""
            },
            "colorscale": [
             [
              0,
              "#0d0887"
             ],
             [
              0.1111111111111111,
              "#46039f"
             ],
             [
              0.2222222222222222,
              "#7201a8"
             ],
             [
              0.3333333333333333,
              "#9c179e"
             ],
             [
              0.4444444444444444,
              "#bd3786"
             ],
             [
              0.5555555555555556,
              "#d8576b"
             ],
             [
              0.6666666666666666,
              "#ed7953"
             ],
             [
              0.7777777777777778,
              "#fb9f3a"
             ],
             [
              0.8888888888888888,
              "#fdca26"
             ],
             [
              1,
              "#f0f921"
             ]
            ],
            "type": "histogram2dcontour"
           }
          ],
          "mesh3d": [
           {
            "colorbar": {
             "outlinewidth": 0,
             "ticks": ""
            },
            "type": "mesh3d"
           }
          ],
          "parcoords": [
           {
            "line": {
             "colorbar": {
              "outlinewidth": 0,
              "ticks": ""
             }
            },
            "type": "parcoords"
           }
          ],
          "pie": [
           {
            "automargin": true,
            "type": "pie"
           }
          ],
          "scatter": [
           {
            "fillpattern": {
             "fillmode": "overlay",
             "size": 10,
             "solidity": 0.2
            },
            "type": "scatter"
           }
          ],
          "scatter3d": [
           {
            "line": {
             "colorbar": {
              "outlinewidth": 0,
              "ticks": ""
             }
            },
            "marker": {
             "colorbar": {
              "outlinewidth": 0,
              "ticks": ""
             }
            },
            "type": "scatter3d"
           }
          ],
          "scattercarpet": [
           {
            "marker": {
             "colorbar": {
              "outlinewidth": 0,
              "ticks": ""
             }
            },
            "type": "scattercarpet"
           }
          ],
          "scattergeo": [
           {
            "marker": {
             "colorbar": {
              "outlinewidth": 0,
              "ticks": ""
             }
            },
            "type": "scattergeo"
           }
          ],
          "scattergl": [
           {
            "marker": {
             "colorbar": {
              "outlinewidth": 0,
              "ticks": ""
             }
            },
            "type": "scattergl"
           }
          ],
          "scattermapbox": [
           {
            "marker": {
             "colorbar": {
              "outlinewidth": 0,
              "ticks": ""
             }
            },
            "type": "scattermapbox"
           }
          ],
          "scatterpolar": [
           {
            "marker": {
             "colorbar": {
              "outlinewidth": 0,
              "ticks": ""
             }
            },
            "type": "scatterpolar"
           }
          ],
          "scatterpolargl": [
           {
            "marker": {
             "colorbar": {
              "outlinewidth": 0,
              "ticks": ""
             }
            },
            "type": "scatterpolargl"
           }
          ],
          "scatterternary": [
           {
            "marker": {
             "colorbar": {
              "outlinewidth": 0,
              "ticks": ""
             }
            },
            "type": "scatterternary"
           }
          ],
          "surface": [
           {
            "colorbar": {
             "outlinewidth": 0,
             "ticks": ""
            },
            "colorscale": [
             [
              0,
              "#0d0887"
             ],
             [
              0.1111111111111111,
              "#46039f"
             ],
             [
              0.2222222222222222,
              "#7201a8"
             ],
             [
              0.3333333333333333,
              "#9c179e"
             ],
             [
              0.4444444444444444,
              "#bd3786"
             ],
             [
              0.5555555555555556,
              "#d8576b"
             ],
             [
              0.6666666666666666,
              "#ed7953"
             ],
             [
              0.7777777777777778,
              "#fb9f3a"
             ],
             [
              0.8888888888888888,
              "#fdca26"
             ],
             [
              1,
              "#f0f921"
             ]
            ],
            "type": "surface"
           }
          ],
          "table": [
           {
            "cells": {
             "fill": {
              "color": "#EBF0F8"
             },
             "line": {
              "color": "white"
             }
            },
            "header": {
             "fill": {
              "color": "#C8D4E3"
             },
             "line": {
              "color": "white"
             }
            },
            "type": "table"
           }
          ]
         },
         "layout": {
          "annotationdefaults": {
           "arrowcolor": "#2a3f5f",
           "arrowhead": 0,
           "arrowwidth": 1
          },
          "autotypenumbers": "strict",
          "coloraxis": {
           "colorbar": {
            "outlinewidth": 0,
            "ticks": ""
           }
          },
          "colorscale": {
           "diverging": [
            [
             0,
             "#8e0152"
            ],
            [
             0.1,
             "#c51b7d"
            ],
            [
             0.2,
             "#de77ae"
            ],
            [
             0.3,
             "#f1b6da"
            ],
            [
             0.4,
             "#fde0ef"
            ],
            [
             0.5,
             "#f7f7f7"
            ],
            [
             0.6,
             "#e6f5d0"
            ],
            [
             0.7,
             "#b8e186"
            ],
            [
             0.8,
             "#7fbc41"
            ],
            [
             0.9,
             "#4d9221"
            ],
            [
             1,
             "#276419"
            ]
           ],
           "sequential": [
            [
             0,
             "#0d0887"
            ],
            [
             0.1111111111111111,
             "#46039f"
            ],
            [
             0.2222222222222222,
             "#7201a8"
            ],
            [
             0.3333333333333333,
             "#9c179e"
            ],
            [
             0.4444444444444444,
             "#bd3786"
            ],
            [
             0.5555555555555556,
             "#d8576b"
            ],
            [
             0.6666666666666666,
             "#ed7953"
            ],
            [
             0.7777777777777778,
             "#fb9f3a"
            ],
            [
             0.8888888888888888,
             "#fdca26"
            ],
            [
             1,
             "#f0f921"
            ]
           ],
           "sequentialminus": [
            [
             0,
             "#0d0887"
            ],
            [
             0.1111111111111111,
             "#46039f"
            ],
            [
             0.2222222222222222,
             "#7201a8"
            ],
            [
             0.3333333333333333,
             "#9c179e"
            ],
            [
             0.4444444444444444,
             "#bd3786"
            ],
            [
             0.5555555555555556,
             "#d8576b"
            ],
            [
             0.6666666666666666,
             "#ed7953"
            ],
            [
             0.7777777777777778,
             "#fb9f3a"
            ],
            [
             0.8888888888888888,
             "#fdca26"
            ],
            [
             1,
             "#f0f921"
            ]
           ]
          },
          "colorway": [
           "#636efa",
           "#EF553B",
           "#00cc96",
           "#ab63fa",
           "#FFA15A",
           "#19d3f3",
           "#FF6692",
           "#B6E880",
           "#FF97FF",
           "#FECB52"
          ],
          "font": {
           "color": "#2a3f5f"
          },
          "geo": {
           "bgcolor": "white",
           "lakecolor": "white",
           "landcolor": "#E5ECF6",
           "showlakes": true,
           "showland": true,
           "subunitcolor": "white"
          },
          "hoverlabel": {
           "align": "left"
          },
          "hovermode": "closest",
          "mapbox": {
           "style": "light"
          },
          "paper_bgcolor": "white",
          "plot_bgcolor": "#E5ECF6",
          "polar": {
           "angularaxis": {
            "gridcolor": "white",
            "linecolor": "white",
            "ticks": ""
           },
           "bgcolor": "#E5ECF6",
           "radialaxis": {
            "gridcolor": "white",
            "linecolor": "white",
            "ticks": ""
           }
          },
          "scene": {
           "xaxis": {
            "backgroundcolor": "#E5ECF6",
            "gridcolor": "white",
            "gridwidth": 2,
            "linecolor": "white",
            "showbackground": true,
            "ticks": "",
            "zerolinecolor": "white"
           },
           "yaxis": {
            "backgroundcolor": "#E5ECF6",
            "gridcolor": "white",
            "gridwidth": 2,
            "linecolor": "white",
            "showbackground": true,
            "ticks": "",
            "zerolinecolor": "white"
           },
           "zaxis": {
            "backgroundcolor": "#E5ECF6",
            "gridcolor": "white",
            "gridwidth": 2,
            "linecolor": "white",
            "showbackground": true,
            "ticks": "",
            "zerolinecolor": "white"
           }
          },
          "shapedefaults": {
           "line": {
            "color": "#2a3f5f"
           }
          },
          "ternary": {
           "aaxis": {
            "gridcolor": "white",
            "linecolor": "white",
            "ticks": ""
           },
           "baxis": {
            "gridcolor": "white",
            "linecolor": "white",
            "ticks": ""
           },
           "bgcolor": "#E5ECF6",
           "caxis": {
            "gridcolor": "white",
            "linecolor": "white",
            "ticks": ""
           }
          },
          "title": {
           "x": 0.05
          },
          "xaxis": {
           "automargin": true,
           "gridcolor": "white",
           "linecolor": "white",
           "ticks": "",
           "title": {
            "standoff": 15
           },
           "zerolinecolor": "white",
           "zerolinewidth": 2
          },
          "yaxis": {
           "automargin": true,
           "gridcolor": "white",
           "linecolor": "white",
           "ticks": "",
           "title": {
            "standoff": 15
           },
           "zerolinecolor": "white",
           "zerolinewidth": 2
          }
         }
        }
       }
      }
     },
     "metadata": {},
     "output_type": "display_data"
    }
   ],
   "source": [
    "cluster = KMeans(n_clusters=tst.shape[0] // 10, n_init='auto').fit_predict(tst.drop(columns=['trackName']))\n",
    "tst_plot = tst.reset_index()\n",
    "tst_plot['color'] = cluster\n",
    "px.scatter_3d(tst_plot, x='pc1', y='pc2', z='pc3', hover_data='trackName', color='color')"
   ]
  },
  {
   "cell_type": "code",
   "execution_count": 26,
   "metadata": {},
   "outputs": [
    {
     "data": {
      "application/vnd.plotly.v1+json": {
       "config": {
        "plotlyServerURL": "https://plot.ly"
       },
       "data": [
        {
         "customdata": [
          [
           "If By Chance"
          ],
          [
           "please"
          ],
          [
           "The Sun Will Come Up, The Seasons Will Change"
          ],
          [
           "Rain"
          ],
          [
           "Dear August"
          ],
          [
           "At My Funeral"
          ],
          [
           "buttercup"
          ],
          [
           "Reasons to Leave"
          ],
          [
           "Tall Paul"
          ],
          [
           "A Thousand Years"
          ],
          [
           "the author"
          ],
          [
           "Yellow Lights"
          ],
          [
           "Favourite Ex"
          ],
          [
           "Emergency Contact"
          ],
          [
           "Empath"
          ],
          [
           "Hold It Together"
          ],
          [
           "New Rules"
          ],
          [
           "Letting Go for a Little While"
          ],
          [
           "Headlights"
          ],
          [
           "Riptide"
          ],
          [
           "Crazier Things (with Noah Kahan)"
          ],
          [
           "Headstones and Land Mines"
          ],
          [
           "Love Is Letting Go (feat. Diane Keaton)"
          ],
          [
           "We Gotta Go"
          ],
          [
           "Falling Apart"
          ],
          [
           "My Life"
          ],
          [
           "Portland, Maine"
          ],
          [
           "Anyway"
          ],
          [
           "Reruns"
          ],
          [
           "Be"
          ],
          [
           "pinball"
          ],
          [
           "stuck in my head"
          ],
          [
           "Where Do I Go?"
          ],
          [
           "Hold Me"
          ],
          [
           "Brooklyn"
          ],
          [
           "Still"
          ],
          [
           "Little Do You Know"
          ],
          [
           "Coffee Stained Smile"
          ],
          [
           "Memory Lane"
          ],
          [
           "Alpine Green"
          ],
          [
           "human"
          ],
          [
           "Glad It's You"
          ],
          [
           "So It Is"
          ],
          [
           "Home for the Summer"
          ],
          [
           "Never Alone"
          ],
          [
           "Older Guys"
          ],
          [
           "Enough to Know You"
          ],
          [
           "Used To"
          ],
          [
           "nobody else"
          ],
          [
           "fly when i fall"
          ],
          [
           "Radioactive"
          ],
          [
           "Botl"
          ],
          [
           "Fall Apart Too"
          ],
          [
           "Another's Arms"
          ],
          [
           "How This Feels"
          ],
          [
           "Inside Out"
          ],
          [
           "Goodbye"
          ],
          [
           "Wrecking Ball"
          ],
          [
           "I Will Follow You into the Dark"
          ],
          [
           "Halloween"
          ],
          [
           "Oh Love"
          ],
          [
           "Crocodiles"
          ],
          [
           "When You Lose Someone"
          ],
          [
           "Better Place"
          ],
          [
           "Unknown Track"
          ],
          [
           "Falling"
          ],
          [
           "17"
          ],
          [
           "Wild Enough"
          ],
          [
           "Talk To Me"
          ],
          [
           "The Night We Met"
          ],
          [
           "Better On Your Own"
          ],
          [
           "I Wouldn't Change a Thing"
          ],
          [
           "Chosen Last"
          ],
          [
           "broken"
          ],
          [
           "Safe Places (Acoustic)"
          ],
          [
           "I Believe In A Thing Called Love"
          ],
          [
           "Balloon Boy"
          ],
          [
           "Home"
          ],
          [
           "The Only Exception"
          ],
          [
           "Secret"
          ],
          [
           "Make Us Never Happen"
          ],
          [
           "Codependent"
          ],
          [
           "The Art Of Getting By"
          ],
          [
           "Tuesdays"
          ],
          [
           "Out Of Love with You"
          ],
          [
           "Medicine"
          ],
          [
           "Never the 1"
          ],
          [
           "Let Her Go"
          ],
          [
           "Alignments"
          ],
          [
           "All of Me"
          ],
          [
           "Second Chances"
          ],
          [
           "Hopelessness Has Done Nothing for Me"
          ],
          [
           "Mother May I"
          ],
          [
           "hideous"
          ],
          [
           "Funeral"
          ],
          [
           "Just Because"
          ],
          [
           "Together Forever"
          ],
          [
           "Flowers"
          ],
          [
           "Bite The Hand"
          ],
          [
           "Hazel Eyes"
          ],
          [
           "Devil Swear I've Seen"
          ],
          [
           "jackie"
          ],
          [
           "Scared to Be Happy"
          ],
          [
           "can I call you back?"
          ],
          [
           "Even When You're Home"
          ],
          [
           "familiar stranger"
          ],
          [
           "Nothing's the Same"
          ],
          [
           "Where Are You?"
          ],
          [
           "for life"
          ],
          [
           "How"
          ],
          [
           "Carolina"
          ],
          [
           "Flight Risk"
          ],
          [
           "Lego Bricks"
          ],
          [
           "Wish It Would Rain"
          ],
          [
           "blue bird"
          ],
          [
           "1953"
          ],
          [
           "Mountaineer"
          ],
          [
           "Knock The Wind"
          ],
          [
           "Finish Line"
          ],
          [
           "I Don't Need You To Survive"
          ],
          [
           "ocean eyes"
          ],
          [
           "How Do I Tell You?"
          ],
          [
           "Need You Now - Acoustic"
          ],
          [
           "Sweet Connection"
          ],
          [
           "the first one"
          ],
          [
           "so much more than me"
          ],
          [
           "Gets Better"
          ],
          [
           "Hey There Delilah"
          ],
          [
           "Harsh"
          ],
          [
           "Always Almost"
          ],
          [
           "Rhythm Inside - Acoustic"
          ],
          [
           "Mirage"
          ],
          [
           "Are You Alright?"
          ],
          [
           "hit the dirt"
          ],
          [
           "Forget I Exist"
          ],
          [
           "Crumble"
          ],
          [
           "Meant To Be"
          ],
          [
           "wait it out"
          ],
          [
           "Forgetting Delaney"
          ],
          [
           "Soul Mate"
          ],
          [
           "Twenty Two"
          ],
          [
           "Forever Love"
          ],
          [
           "The Moon Song"
          ],
          [
           "Say You Won't Let Go"
          ],
          [
           "Nothing / Sad N Stuff"
          ],
          [
           "Boys Like You"
          ],
          [
           "You Are Gold"
          ],
          [
           "Anchor"
          ],
          [
           "Polaroid"
          ],
          [
           "State Lines"
          ],
          [
           "A Little More"
          ],
          [
           "Mr. Brightside"
          ],
          [
           "Shoot"
          ],
          [
           "Doomsday"
          ],
          [
           "Stormy Weather"
          ],
          [
           "In a Stranger's Arms"
          ],
          [
           "my fault"
          ],
          [
           "Crave"
          ],
          [
           "I Knew"
          ],
          [
           "Changing Tides"
          ],
          [
           "idk"
          ],
          [
           "ceilings - Spotify Singles"
          ],
          [
           "Giving Up Ground"
          ],
          [
           "Slow Fade"
          ],
          [
           "Winter Song"
          ],
          [
           "Opaline"
          ],
          [
           "No More Bad Days"
          ],
          [
           "Break With Me"
          ],
          [
           "forget me // so we can meet again"
          ],
          [
           "gold star"
          ],
          [
           "I Don't Want to Lose You"
          ],
          [
           "I Should Be a Bird"
          ],
          [
           "The Human Condition"
          ],
          [
           "denial"
          ],
          [
           "Walk Above the City"
          ],
          [
           "Seventeen"
          ],
          [
           "Blue"
          ],
          [
           "Dial Drunk (with Post Malone)"
          ],
          [
           "getting older"
          ],
          [
           "Renee's Song"
          ],
          [
           "2AM"
          ],
          [
           "By My Side"
          ],
          [
           "Soft Spot"
          ],
          [
           "16"
          ],
          [
           "Desperate"
          ],
          [
           "Older Than I Am"
          ],
          [
           "Story of My Life"
          ],
          [
           "Skyscraper"
          ],
          [
           "Fish"
          ],
          [
           "That's Us"
          ],
          [
           "Forever Ago"
          ],
          [
           "Through to You"
          ],
          [
           "Simple Things (feat. Christina Perri)"
          ],
          [
           "all i need (the distance song)"
          ],
          [
           "Slow"
          ],
          [
           "Paint"
          ],
          [
           "Break up Slow Dance"
          ],
          [
           "Good"
          ],
          [
           "Free"
          ],
          [
           "Is It Really Me You're Missing"
          ],
          [
           "everything everywhere always"
          ],
          [
           "Say Less"
          ],
          [
           "Whatever Makes You Want to Die Less"
          ],
          [
           "Part of Me"
          ],
          [
           "Meant To Be"
          ],
          [
           "Faith You Might"
          ],
          [
           "The Former"
          ],
          [
           "Hallelujah I Love Her So"
          ],
          [
           "Air So Sweet"
          ],
          [
           "Drop Dead"
          ],
          [
           "nobody likes a secret"
          ],
          [
           "putting a spin on sweater weather"
          ],
          [
           "i don't want to watch the world end with someone else"
          ],
          [
           "A Little Bit Yours"
          ],
          [
           "is your bedroom ceiling bored? (feat. Cavetown)"
          ],
          [
           "Let Light Be Light"
          ],
          [
           "swan song"
          ],
          [
           "sometimes"
          ],
          [
           "always, i'll care"
          ],
          [
           "Heavy"
          ],
          [
           "In What World"
          ],
          [
           "all my ghosts"
          ],
          [
           "Ordinary People"
          ],
          [
           "mountain"
          ],
          [
           "Stupid"
          ],
          [
           "Rockland"
          ],
          [
           "what if it's not"
          ],
          [
           "Thinking 'Bout Love"
          ],
          [
           "Stupid Deep - Acoustic"
          ],
          [
           "I don't mind if you don't mind (draft)"
          ],
          [
           "Heather"
          ],
          [
           "Where's My Love - Acoustic"
          ],
          [
           "called you again"
          ],
          [
           "i don't miss u"
          ],
          [
           "Moves"
          ],
          [
           "Minute Of Your Love"
          ],
          [
           "When It Kills Me"
          ],
          [
           "Swan Upon Leda"
          ],
          [
           "When All My Friends Move Away"
          ],
          [
           "drunk text me"
          ],
          [
           "If I Could Dance"
          ],
          [
           "Breakeven"
          ],
          [
           "Pass Me By"
          ],
          [
           "Alright"
          ],
          [
           "Luck"
          ],
          [
           "Haunt You"
          ],
          [
           "Points of View"
          ],
          [
           "All Too Well (Taylor's Version)"
          ],
          [
           "Wonder"
          ],
          [
           "I know it won't work"
          ],
          [
           "Colorado"
          ],
          [
           "Never Stop Loving You"
          ],
          [
           "Universe"
          ],
          [
           "Feels Like"
          ],
          [
           "Safe And Sound"
          ],
          [
           "Blue Spirits"
          ],
          [
           "Are You Listening"
          ],
          [
           "Nobody"
          ],
          [
           "OK"
          ],
          [
           "this is how you fall in love"
          ],
          [
           "Nail In The Coffin"
          ],
          [
           "Good as Gold"
          ],
          [
           "Like You Did Before"
          ],
          [
           "Black Converse"
          ],
          [
           "Align"
          ],
          [
           "somebody loves you"
          ],
          [
           "You Belong With Me (Taylor’s Version)"
          ],
          [
           "July (feat. Leon Bridges)"
          ],
          [
           "Dear Future Me"
          ],
          [
           "Gaol"
          ],
          [
           "Olive Branch"
          ],
          [
           "The Best You Had"
          ],
          [
           "Slow Motion"
          ],
          [
           "Half a Heart"
          ],
          [
           "reckless driving"
          ],
          [
           "They Just Exist"
          ],
          [
           "Only a Matter of Time"
          ],
          [
           "La Reyna"
          ],
          [
           "Frisky"
          ],
          [
           "I Was In Heaven"
          ],
          [
           "Too Much I Miss You"
          ],
          [
           "A Little Bit Longer"
          ],
          [
           "Cinematic"
          ],
          [
           "at least i'm pretty"
          ],
          [
           "Maniac"
          ],
          [
           "Brooklyn - Stripped"
          ],
          [
           "Mama Said"
          ],
          [
           "Lights"
          ],
          [
           "It's Always Been You"
          ],
          [
           "Rome"
          ],
          [
           "Seahorses Of Old Mexico"
          ],
          [
           "If I Can't Have You"
          ],
          [
           "Same Boat"
          ],
          [
           "better off"
          ],
          [
           "Die Young"
          ],
          [
           "Begging for More"
          ],
          [
           "Shameful Company - Live from Athens Georgia"
          ],
          [
           "All Good"
          ],
          [
           "Place We Were Made"
          ],
          [
           "Paper Planes"
          ],
          [
           "Infinitely Falling"
          ],
          [
           "She Will Be Loved - Radio Mix"
          ],
          [
           "Love Me Nicely"
          ],
          [
           "Old Love - Acoustic"
          ],
          [
           "In Your Circle"
          ],
          [
           "self sabotage"
          ],
          [
           "hate to be lame"
          ],
          [
           "Fall Again"
          ],
          [
           "Bees"
          ],
          [
           "Butterfly Rain"
          ],
          [
           "A Quiet Way"
          ],
          [
           "Breathe"
          ],
          [
           "Steady Love"
          ],
          [
           "Being Alone"
          ],
          [
           "Zach's Ballad"
          ],
          [
           "Afterglow"
          ],
          [
           "Wii Date"
          ],
          [
           "Happier"
          ],
          [
           "Close to Her"
          ],
          [
           "Save Us"
          ],
          [
           "champagne problems"
          ],
          [
           "The Way I Love You"
          ],
          [
           "Happily Ever After"
          ],
          [
           "Drove To The Ocean"
          ],
          [
           "Tin Lover"
          ],
          [
           "When You're Gone"
          ],
          [
           "what if we met on the moon?"
          ],
          [
           "Just Wanna Be Your Friend"
          ],
          [
           "I'm with You"
          ],
          [
           "Vanilla (Stairwell Version)"
          ],
          [
           "I Just Really Hope You Exist"
          ],
          [
           "justacow (demo3)"
          ],
          [
           "Tired"
          ],
          [
           "Tobacco In My Sheets"
          ],
          [
           "Call It a Night"
          ],
          [
           "happy for you"
          ],
          [
           "Molly"
          ],
          [
           "Worst of You"
          ],
          [
           "How Can You Not"
          ],
          [
           "Into Yellow - Piano Version"
          ],
          [
           "4 + 20"
          ],
          [
           "Brave Face"
          ],
          [
           "Say Love"
          ],
          [
           "Look Back & Laugh"
          ],
          [
           "Hearts on Fire"
          ],
          [
           "Hurt Again"
          ],
          [
           "Spaceship (Bonus Track)"
          ],
          [
           "To Love Someone Else"
          ],
          [
           "What They'll Say About Us"
          ],
          [
           "What Can I Do"
          ],
          [
           "Megan’s Song"
          ],
          [
           "Asking the Aspens"
          ],
          [
           "Omni"
          ],
          [
           "Live Cinema"
          ],
          [
           "do you wanna leave this city ?"
          ],
          [
           "I Should’ve Danced More"
          ],
          [
           "Clocks"
          ],
          [
           "Crosswords"
          ],
          [
           "Turns Out"
          ],
          [
           "Round & Round"
          ],
          [
           "Superspreader"
          ],
          [
           "Best Part of Me"
          ],
          [
           "Witness - feat. Rajiv Dhall"
          ],
          [
           "Take Me Back"
          ],
          [
           "Bloom - Bonus Track"
          ],
          [
           "Blue Eyed Baby"
          ],
          [
           "we'll be fine"
          ],
          [
           "Idle Sympathy"
          ],
          [
           "Who's She"
          ],
          [
           "pass you by"
          ],
          [
           "warm blood"
          ],
          [
           "To the Mountains"
          ],
          [
           "If I Had Stayed"
          ],
          [
           "Vienna"
          ],
          [
           "Lately I've Been Sad"
          ],
          [
           "Cellophane"
          ],
          [
           "405"
          ],
          [
           "MISC."
          ],
          [
           "As a Child"
          ],
          [
           "Closure"
          ],
          [
           "Clockwork"
          ],
          [
           "Silver & Gold"
          ],
          [
           "Through"
          ],
          [
           "Pictures of You"
          ],
          [
           "snail / alwase"
          ],
          [
           "If I Could"
          ],
          [
           "Fireflies"
          ],
          [
           "Another Round"
          ],
          [
           "erase me"
          ],
          [
           "No Fun"
          ],
          [
           "wish I didn't know you"
          ],
          [
           "Better Now"
          ],
          [
           "Only Know How to Love You - with Annika Bennett"
          ],
          [
           "Say (feat. Jake Meadows) - Acoustic Version"
          ],
          [
           "Stuck With You - Acoustic"
          ],
          [
           "Love Brought Weight"
          ],
          [
           "Same Room"
          ],
          [
           "Pineapple"
          ],
          [
           "got me thinking"
          ],
          [
           "Ant Pile"
          ],
          [
           "Love Is Just a Way to Die"
          ],
          [
           "Run Awhile"
          ],
          [
           "Hailey"
          ],
          [
           "Every Time"
          ],
          [
           "Loving & Losing"
          ],
          [
           "I Think I"
          ],
          [
           "Pieces"
          ],
          [
           "Black Coffee - Unplugged"
          ],
          [
           "the stars"
          ],
          [
           "we fell in love in october"
          ],
          [
           "Still Something"
          ],
          [
           "Nirvana"
          ],
          [
           "Hey, Soul Sister"
          ],
          [
           "What Would I Do Without You"
          ],
          [
           "Standing in the Rain"
          ],
          [
           "Dial Drunk"
          ],
          [
           "glued to the floor"
          ],
          [
           "When You Love Someone"
          ],
          [
           "oh, mexico"
          ],
          [
           "Tell Me That You Love Me"
          ],
          [
           "Red Eye"
          ],
          [
           "Kill Bill"
          ],
          [
           "ilym (feat. ROSIE)"
          ],
          [
           "a message to that girl i fell in love with."
          ],
          [
           "Apart From, a Part Of, You."
          ],
          [
           "Alexandria (Slowed)"
          ],
          [
           "Immune"
          ],
          [
           "What Am I Gonna Do On Sundays?"
          ],
          [
           "what a shame"
          ],
          [
           "DJ Got Us Fallin' In Love (feat. Pitbull)"
          ],
          [
           "Playing God"
          ],
          [
           "In Love Now"
          ],
          [
           "sydney"
          ],
          [
           "Work Off My Hurt"
          ],
          [
           "Witness"
          ],
          [
           "Lovely Days"
          ],
          [
           "Kaleidoscope Tears"
          ],
          [
           "Good Mourning"
          ],
          [
           "Arms"
          ],
          [
           "Älskar"
          ],
          [
           "you were good to me"
          ],
          [
           "Oh Well"
          ],
          [
           "Time After Time - Spotify Singles"
          ],
          [
           "multiverse"
          ],
          [
           "You & I"
          ],
          [
           "Free"
          ],
          [
           "Long Sleeves"
          ],
          [
           "Concrete"
          ],
          [
           "pennies (voice memo)"
          ],
          [
           "Pyjamas (feat. Remi Wolf)"
          ],
          [
           "Fiona"
          ],
          [
           "Somebody Else"
          ],
          [
           "Remember you were the one"
          ],
          [
           "I miss you, I’m sorry"
          ],
          [
           "Chicago"
          ],
          [
           "Somebody"
          ],
          [
           "Mum"
          ],
          [
           "Tonight"
          ],
          [
           "Muffin"
          ],
          [
           "You Can Only Go in Pieces"
          ],
          [
           "November Son"
          ],
          [
           "On God"
          ],
          [
           "break up with a friend"
          ],
          [
           "Jealous of Paris"
          ],
          [
           "Counting Stars"
          ],
          [
           "All I Want"
          ],
          [
           "Things I Say When You Sleep"
          ],
          [
           "Retail Therapy"
          ],
          [
           "Straight into Your Arms - Bonus Track Version"
          ],
          [
           "False Art"
          ],
          [
           "Crashing into You"
          ],
          [
           "A Change Is Gonna Come"
          ],
          [
           "I Melt with You"
          ],
          [
           "Picture Perfect"
          ],
          [
           "Is She Gonna Be There?"
          ],
          [
           "Like A Stone"
          ],
          [
           "fall out of love"
          ],
          [
           "I Like You"
          ],
          [
           "More Like You - Piano Version"
          ],
          [
           "Two Punks In Love"
          ],
          [
           "It Hurts Too Much To Speak"
          ],
          [
           "Rich Boy"
          ],
          [
           "Yours"
          ],
          [
           "ocean"
          ],
          [
           "Crying Over You"
          ]
         ],
         "hovertemplate": "0=%{x}<br>1=%{y}<br>2=%{z}<br>trackName=%{customdata[0]}<br>color=%{marker.color}<extra></extra>",
         "legendgroup": "",
         "marker": {
          "color": [
           13,
           42,
           20,
           19,
           11,
           7,
           25,
           35,
           10,
           24,
           31,
           16,
           18,
           43,
           19,
           1,
           22,
           27,
           11,
           8,
           4,
           34,
           36,
           13,
           28,
           5,
           37,
           13,
           3,
           42,
           4,
           3,
           3,
           2,
           35,
           4,
           11,
           42,
           30,
           36,
           24,
           28,
           6,
           33,
           36,
           13,
           13,
           29,
           38,
           24,
           39,
           4,
           20,
           33,
           19,
           33,
           15,
           24,
           46,
           33,
           11,
           20,
           30,
           27,
           23,
           13,
           33,
           3,
           3,
           32,
           47,
           35,
           24,
           31,
           46,
           34,
           33,
           3,
           3,
           42,
           20,
           18,
           6,
           11,
           3,
           24,
           21,
           24,
           19,
           13,
           43,
           28,
           46,
           15,
           6,
           21,
           4,
           15,
           24,
           1,
           28,
           21,
           15,
           18,
           20,
           33,
           25,
           19,
           33,
           30,
           14,
           31,
           3,
           33,
           4,
           5,
           6,
           38,
           5,
           42,
           28,
           18,
           35,
           34,
           30,
           46,
           15,
           4,
           33,
           43,
           20,
           42,
           0,
           46,
           18,
           3,
           34,
           43,
           28,
           27,
           13,
           24,
           6,
           46,
           6,
           26,
           6,
           14,
           2,
           18,
           35,
           8,
           34,
           18,
           21,
           24,
           36,
           27,
           31,
           20,
           31,
           6,
           9,
           33,
           19,
           43,
           11,
           4,
           4,
           28,
           35,
           20,
           47,
           37,
           14,
           27,
           4,
           47,
           41,
           36,
           13,
           0,
           25,
           21,
           47,
           18,
           8,
           24,
           19,
           6,
           6,
           4,
           12,
           6,
           30,
           31,
           46,
           36,
           18,
           13,
           35,
           18,
           8,
           41,
           30,
           11,
           16,
           6,
           34,
           15,
           3,
           0,
           11,
           27,
           15,
           36,
           0,
           34,
           36,
           25,
           16,
           5,
           31,
           3,
           19,
           11,
           9,
           33,
           43,
           36,
           7,
           4,
           18,
           16,
           27,
           38,
           28,
           37,
           31,
           15,
           15,
           44,
           36,
           9,
           19,
           27,
           6,
           17,
           13,
           20,
           36,
           0,
           3,
           35,
           47,
           12,
           47,
           28,
           19,
           31,
           27,
           15,
           28,
           33,
           13,
           21,
           8,
           42,
           47,
           36,
           43,
           20,
           22,
           8,
           29,
           7,
           46,
           6,
           47,
           46,
           32,
           33,
           25,
           33,
           20,
           35,
           9,
           28,
           35,
           24,
           9,
           47,
           31,
           42,
           22,
           27,
           39,
           38,
           43,
           30,
           44,
           22,
           1,
           11,
           19,
           13,
           42,
           19,
           19,
           29,
           38,
           38,
           20,
           12,
           3,
           28,
           26,
           15,
           15,
           47,
           11,
           3,
           8,
           15,
           14,
           11,
           28,
           40,
           7,
           27,
           6,
           11,
           41,
           7,
           27,
           11,
           33,
           33,
           24,
           19,
           38,
           6,
           12,
           15,
           43,
           44,
           4,
           27,
           28,
           4,
           46,
           4,
           12,
           36,
           27,
           46,
           20,
           36,
           27,
           19,
           11,
           19,
           13,
           4,
           27,
           35,
           6,
           0,
           28,
           35,
           8,
           16,
           5,
           6,
           25,
           35,
           38,
           3,
           3,
           5,
           3,
           8,
           11,
           19,
           5,
           41,
           8,
           3,
           28,
           14,
           43,
           19,
           9,
           28,
           1,
           37,
           11,
           5,
           13,
           12,
           24,
           33,
           15,
           28,
           19,
           10,
           4,
           1,
           28,
           24,
           25,
           13,
           22,
           36,
           0,
           47,
           36,
           24,
           7,
           11,
           24,
           44,
           43,
           34,
           9,
           9,
           24,
           24,
           35,
           22,
           35,
           13,
           7,
           24,
           43,
           33,
           19,
           43,
           34,
           24,
           31,
           19,
           33,
           15,
           13,
           8,
           6,
           21,
           4,
           47,
           25,
           25,
           22,
           18,
           13,
           47,
           24,
           39,
           38,
           7,
           5,
           16,
           3,
           10,
           22,
           45,
           28,
           27,
           12,
           21,
           44,
           43,
           8,
           35,
           46,
           13,
           28,
           36,
           33,
           10,
           38,
           46,
           27,
           38,
           35
          ],
          "coloraxis": "coloraxis",
          "symbol": "circle"
         },
         "mode": "markers",
         "name": "",
         "scene": "scene",
         "showlegend": false,
         "type": "scatter3d",
         "x": [
          0.5621056857736153,
          1.716795270488309,
          -2.401405227929669,
          0.9551577664289835,
          -0.5231122813781959,
          -0.12464719616353095,
          -0.3315565656029683,
          -0.01683746499652425,
          -2.112330721734223,
          -0.23413309033137866,
          1.4664150397399391,
          2.1991504777789492,
          1.6916931602636878,
          0.8240729206088724,
          1.463435223275142,
          0.4240090151332057,
          -4.279338801103839,
          0.4825306687924096,
          0.3244447495800975,
          -2.256617161083936,
          0.6350277690312236,
          2.459386902647299,
          0.3314354791090427,
          -0.1457631723161485,
          -0.021154607573923217,
          0.2541561838179208,
          1.3235814001133572,
          0.5778429357915401,
          0.8793629378859691,
          -0.6073974797825213,
          0.8149891511793271,
          0.6490344702612534,
          2.5855519649788423,
          -1.9136009257706128,
          -0.10688546754181677,
          1.5600061709720203,
          -0.09476417075095842,
          3.066846417775955,
          1.7404853023445217,
          2.152649347427228,
          -1.5617766660285273,
          1.1386252232728682,
          1.8490249423074532,
          -1.011559275553396,
          0.7252169682763867,
          -0.22587648714416436,
          0.3251380480528314,
          -0.8439464919716027,
          0.4900148039199098,
          -0.09358508111713174,
          -3.311559173597467,
          0.4135573736435184,
          -1.4273227028062758,
          -0.23375992214068672,
          1.098071618406314,
          0.13996871706262984,
          -0.3780355424999537,
          -1.329843518989591,
          0.683160038893103,
          -0.7655681583543796,
          0.4704974745379695,
          -0.6958804600962144,
          -0.9612125769437838,
          -0.13883370599912662,
          5.838603862365794,
          0.5664828680004413,
          -1.6567852915505619,
          0.9532531402192506,
          2.3404259488926193,
          0.9974296770497152,
          -2.6452696873624477,
          0.15036004441006687,
          -1.1586332859654767,
          0.16539159421393546,
          0.34095146194914594,
          1.7874189437364252,
          -0.20451691963170318,
          1.9048393664663552,
          1.6429904667457662,
          1.6187530768615686,
          -2.0123915345889927,
          1.1572881458006252,
          1.0043962009395317,
          -0.3605755406102917,
          1.04596620222824,
          -1.198371063812401,
          0.05632539621352752,
          -1.3322982100140812,
          0.7104906573523585,
          0.4164226352904796,
          1.3053442810263003,
          0.37638508390073433,
          0.22498511188268747,
          -1.4567266145874485,
          1.7727511159057128,
          -1.8631399368111434,
          0.5805751125733788,
          -0.700999168243721,
          -0.9048048129335722,
          0.4804612659393139,
          0.37079198419611326,
          -1.3476803860033495,
          -0.7264183759021294,
          0.7249341439406239,
          -1.7779217702304375,
          -0.8487782449968396,
          -0.8317768745247495,
          0.7635839314892292,
          -0.32385449665315624,
          1.8174518105668733,
          3.391992404529412,
          1.1014662913530897,
          1.0279815268667145,
          -0.09635792665572956,
          0.19044361539651655,
          0.4652655126843358,
          1.6345063670713453,
          0.22223332380165495,
          1.3347787477590165,
          1.9131520204773615,
          0.06227687422092927,
          1.9344493093280797,
          0.026080291628868237,
          2.9902074300135957,
          -0.5984276642874568,
          0.46596329840662276,
          -1.1025208391909782,
          0.37346523111443886,
          -0.6818723588720277,
          0.10823578693145428,
          -1.091813139370698,
          0.7809177565115063,
          2.938889715702967,
          -0.8990562643742664,
          -0.2745792847572174,
          1.4914276695592388,
          2.7567413525311926,
          0.29489289243174166,
          -0.13331854625193068,
          0.28324083680711415,
          0.8135093981731664,
          -1.7204667905886784,
          1.7214357436272516,
          -0.9389611694550888,
          1.6581627809373773,
          -2.196023651996174,
          1.8929817575433265,
          2.047044136751722,
          -1.5288599706320574,
          1.9079273937591799,
          -0.34739133426081464,
          -3.162351097802547,
          2.8554867984765444,
          0.756742068917576,
          -2.0452602113552776,
          -0.9050750514293839,
          0.7323373906687115,
          -0.04828887067712114,
          1.6124633652174698,
          -1.049873190942784,
          0.4524052230364128,
          2.391698064413268,
          0.14119239187237942,
          -0.384544817560904,
          1.146946735695849,
          0.9330875359314257,
          -0.8280835709505125,
          0.805807333695496,
          1.2104114617494244,
          0.6232751855480003,
          0.06188324351609991,
          -0.6599746463041292,
          -3.104570298083831,
          0.5205680388071962,
          1.9086543606114923,
          0.5265875064101954,
          1.8197427899190073,
          -3.2321171498985852,
          -1.9893603050836397,
          0.08069267498606031,
          -0.5254049751665743,
          2.87669191954877,
          1.2211598495429312,
          -4.311004146648025,
          -4.3853235209796715,
          1.14531973176445,
          -2.466691549078671,
          -2.177018858129721,
          3.353279694113513,
          1.7226077716763242,
          2.445859336879564,
          0.13045891409457525,
          -3.366929986989953,
          1.5586032749396144,
          0.802494084356013,
          1.3375341609557596,
          -0.7775310347587286,
          -0.5000102491523208,
          1.4850349508205607,
          0.028036682604342306,
          0.07221024774283484,
          -0.009354592470471369,
          -2.2937917930728213,
          -1.995285800178919,
          1.2727340867535748,
          -0.5310720351092206,
          2.291510721991679,
          2.3682982698003903,
          2.6152032825086455,
          -0.3819396404467962,
          2.1647526189286985,
          3.5579960866584535,
          -0.497618554680792,
          0.10683374342923148,
          -0.9267506137493675,
          1.0551722871300768,
          2.8836226328485974,
          2.118008836285717,
          0.029513948512577857,
          -1.1958235230214675,
          3.6994868695003866,
          -1.138288038790334,
          2.307245271008754,
          2.702012078481186,
          2.060931147749779,
          -0.11461539830472844,
          -0.8074350236721052,
          -1.0750914294094456,
          0.7436571805479216,
          1.2887427179600264,
          -0.12503342173607856,
          1.1531595633894753,
          0.3199325991716006,
          2.149966251954413,
          -1.1436313525446777,
          1.6756202419317072,
          0.40434875910250817,
          0.5283799111529659,
          0.6306351502224189,
          -1.3194795354960283,
          -0.9396288084820177,
          -3.1065142327484074,
          -0.6740619231434485,
          0.921094332140917,
          2.069798445985245,
          -0.943398639395375,
          2.2538237098256495,
          -1.944579423274104,
          0.4680464611934496,
          -2.0084871242253195,
          -0.2606009765897585,
          2.0666422755242633,
          0.9466536149287913,
          -0.44886655977076967,
          -4.85256714519701,
          -2.174289952838442,
          -3.1876363471706672,
          1.357644604471297,
          1.1039035473867107,
          1.5457801341990653,
          -0.8036873845366567,
          -1.4461298071448,
          1.7130559525503304,
          -0.9533871449224056,
          -0.38321977661742324,
          -3.530556526673665,
          -3.5351494047261305,
          0.2824751205722011,
          -3.111251237548059,
          0.508638298739689,
          0.17782564527991612,
          -2.2374291211478914,
          -2.589397622496496,
          -3.007996720279789,
          -1.2845634114546196,
          0.11629545286421804,
          -0.004862412636775297,
          0.7924199517496531,
          -3.391280956434106,
          1.129275356327819,
          -0.2654938263810513,
          -0.5901221816182229,
          -0.1861045805616767,
          -1.6436928064264942,
          -1.4232906438787118,
          1.1467369892762245,
          -1.847490408179255,
          2.169046550012364,
          0.046559177704271475,
          -0.9180243794178565,
          0.2783396776028965,
          -4.286044919683079,
          1.6518276704775798,
          -0.05485680272139785,
          -4.811406498158263,
          0.18674952328713135,
          -2.409104018720757,
          1.7112128072401633,
          0.64413493918644,
          -0.07095337800372617,
          -3.302367907581849,
          -3.1932063229580767,
          1.282538884636351,
          0.25122169691731017,
          1.1248343671080445,
          -1.142155701974655,
          1.6249222279916795,
          1.42350047544106,
          1.1331889428535442,
          -0.9625504102188701,
          1.5013164023207826,
          0.24874479301558558,
          -0.6741160134091262,
          -2.3739721247787116,
          1.394249120578515,
          0.9927316768334504,
          -3.428773876571634,
          -0.6145776993173426,
          0.5323314688287657,
          -3.9499949983366296,
          0.8743990787570316,
          0.568071599973707,
          -3.090503107857797,
          -0.515645609977132,
          4.47588430001121,
          0.5285521749935702,
          1.5825860382974315,
          -2.2929155001702606,
          0.1062978565291115,
          0.2899522398898201,
          1.598575339587885,
          -0.38412805525195015,
          -0.43259299295057896,
          0.4998965758849979,
          -0.9300119370574264,
          -0.07637742227267424,
          -0.8643887142168172,
          -1.1220966748580434,
          -2.541317649045882,
          1.7796666749917414,
          3.247642042854824,
          1.3702041349672407,
          -2.883290252492258,
          0.14684925025341222,
          0.7194457018061421,
          -1.745298061928359,
          0.21151464125068067,
          0.4907585967412782,
          1.0955790872463447,
          0.47723642241555797,
          0.7501655043333227,
          0.3480425652719368,
          -1.952583065479054,
          0.5739641260885039,
          -1.3551233406682766,
          -0.30994296764161045,
          -2.109869119397016,
          0.006639741449976676,
          0.038874152245030665,
          1.1368963714594331,
          -0.7891825392348519,
          0.7591303819663826,
          0.4823907607202673,
          0.8307928696326341,
          -0.05155751414545646,
          0.6100880643521684,
          1.1189511082244856,
          3.9376138011109147,
          0.7910711971261898,
          -0.1489892228636869,
          -3.6389066032888437,
          2.9422455685942936,
          1.0856730325194306,
          2.015105155815263,
          -1.269213837648946,
          1.0466220679551999,
          0.44896444171128963,
          0.9201640632872802,
          1.120755247547597,
          1.0919369052680843,
          0.416186475989838,
          -2.6827717718022432,
          -1.0395929823847536,
          1.2478723368111309,
          1.2424153256852586,
          -1.92883041018726,
          -3.0414339567705104,
          1.2037584542886655,
          -0.8179265671377732,
          2.333535475888219,
          0.5806179028798049,
          0.49796496151158065,
          -0.5606163365847582,
          1.1997092368439404,
          0.5999581672357324,
          2.120782787844759,
          -0.39439888448337307,
          1.124144132261336,
          0.8711832873253639,
          -5.207032671208035,
          -0.8626825863102888,
          -1.654130072512779,
          -0.4801668480239423,
          0.11815351112237521,
          3.2019897311044145,
          -0.6541691886096731,
          0.18249882913048074,
          1.5431396041697567,
          -0.0009086479744956486,
          -0.44142673233825297,
          -1.031813704100891,
          -0.5401279609989625,
          -4.744115367871043,
          0.3616524547389834,
          2.079387201814501,
          -3.2321171498985852,
          0.586454788651427,
          -1.7996205022613803,
          0.43756961546658535,
          -0.44055456649608565,
          -1.5926973311387327,
          -2.9906427653616388,
          0.9254982239336196,
          3.444863340911068,
          0.3068201832587341,
          1.1998008298634266,
          -1.1703700653510154,
          -1.0194727455879145,
          -0.041181224159531245,
          -4.9817931291247834,
          0.36206727503608893,
          0.8499563422439941,
          -0.18770837526482462,
          -1.584556872335958,
          1.0811576634982822,
          -1.3605359754629431,
          2.0042138802114295,
          1.5924218531609615,
          2.6406268221860434,
          -1.5740460049538647,
          2.1631977032920275,
          2.695883181374438,
          -1.1270553019086114,
          -0.37830720849688076,
          -1.4338164289133124,
          -3.362680180056968,
          1.120505907442945,
          -1.3739886122424438,
          0.5366361928483894,
          -3.050059872478637,
          -1.9296878486022526,
          -0.588631218990138,
          -2.9964918975449826,
          -0.2176324897728653,
          -0.03393873679599533,
          -4.651508661693596,
          -0.8812507269599171,
          -4.627312019240067,
          0.08411656909741541,
          0.8497221265099602,
          0.7117913047738167,
          2.384085318726932,
          0.6771068197382182,
          0.6425416866597825,
          -3.773185837494349,
          0.4258863108071442,
          -0.052741586345998515,
          0.16728439993800925,
          -2.75176328944569,
          -0.26368699728182715,
          -1.977042438889974,
          0.3878786582016772,
          -3.3824532751544667,
          1.0120838575024225,
          -0.028558321464238118,
          0.7170270564613387,
          0.04584280492029185,
          -0.7736489568986251,
          0.2560994643747969,
          -1.3495047567605138,
          0.4838724247034976,
          -0.9961723259371059,
          1.253746625089248,
          -0.2529861896053895,
          0.17317251166960315
         ],
         "y": [
          -1.9565316460318334,
          1.6328787638317297,
          0.6112465490869092,
          -0.04102942060942442,
          -0.09217416334805596,
          0.19614078339575983,
          0.7330792777372424,
          0.33842336215597246,
          1.4603085542639118,
          -2.607828607633689,
          -0.7509980433820426,
          -0.20447956637621223,
          -0.7138065385881387,
          0.18143200736377513,
          -0.539252682893971,
          0.7024925245072842,
          1.0795299575255886,
          -0.672658858524387,
          -0.7264485380282724,
          -1.0000757935049047,
          -0.4428443848809507,
          0.2846738510775946,
          0.7766025641238542,
          -1.4519899030911831,
          0.3363417581309484,
          0.436004495445088,
          -0.7671601332323164,
          -1.1059357270376464,
          0.17018042560606644,
          2.618945164347279,
          0.18069510436039585,
          -0.06396694163730791,
          -0.3542202130434411,
          -0.7063357745597659,
          0.3213491424227741,
          -0.7570538528232812,
          -0.4143892027798927,
          1.0355598201412748,
          0.7907883601787591,
          1.065852947060827,
          -2.089685049152314,
          0.03666531608765564,
          -0.5265363164165076,
          0.5428813106656377,
          1.334732060226352,
          -1.9818204799021066,
          -1.231007580633059,
          5.112088318730164,
          -0.042807790130413734,
          -1.48762154832709,
          -0.6151484862418758,
          -0.01820022569784971,
          0.5541325355831654,
          0.019641849231203972,
          0.09357249465205547,
          0.7212761320121455,
          -1.2268146538967888,
          -1.2368456880808623,
          0.47601073214434997,
          0.14316877844828174,
          0.831814182110298,
          0.028762788018070844,
          -0.9145936158613875,
          -0.4007966397419309,
          1.7022514913809657,
          -1.4750116143701562,
          0.3200403598319612,
          0.43639054694343343,
          -0.05904403178954823,
          -0.5720821756306942,
          0.08413888628265435,
          -0.058690502443958695,
          -0.8808293279114154,
          -0.2639019142415454,
          -0.5810912149060196,
          -0.31741353804968525,
          1.2191108643997384,
          0.3554120915370083,
          -0.8582273568385637,
          2.965000274833807,
          2.0408338458623856,
          -1.0799961186526859,
          -0.070390862693607,
          -0.11998818683694706,
          -0.14783290052816278,
          -1.0211513739448166,
          2.5181758529433798,
          -1.382935322131556,
          0.1420760183475389,
          -1.3911889360584038,
          -1.7280360597655426,
          1.2958708385089743,
          -0.7121284418730038,
          -0.6194037971824314,
          -1.1115344111979746,
          2.2127403251123137,
          0.6403950254029465,
          -0.42700533380189304,
          -1.1310438618108536,
          2.0437853219339863,
          -0.11348915706971609,
          1.5035527388301935,
          -0.34011472146537264,
          0.9205296102136417,
          0.03709572082513288,
          0.5016101257618326,
          1.0037140983965476,
          0.6695940760122033,
          0.3970648707645887,
          1.6783025369554463,
          -2.0971331048080897,
          0.41620598789947344,
          -0.6194330720794085,
          0.642758297990439,
          -0.40537106086218894,
          -0.32069528762782973,
          -1.2448186006715407,
          0.5557398617602869,
          0.6403927697893173,
          1.9868354997813429,
          -0.4533045055233651,
          0.7583646262190789,
          0.4828535181508466,
          0.48949710382160366,
          1.3177257072275945,
          -0.4332597909779513,
          -0.1306585863695354,
          -0.38726357942915735,
          1.2100161967856669,
          -0.5389645616778722,
          0.2251088394345886,
          1.772739426730038,
          -0.1278126290844716,
          0.14293636424534054,
          0.18713251883876436,
          -0.6770480458867258,
          -0.250495557691342,
          -0.8197019739089022,
          0.6024786557892647,
          -1.246595072061914,
          -1.757781652319358,
          -2.2689276884041236,
          -1.2159814793525303,
          -0.6136614537710529,
          -1.6964467846998958,
          6.755420578854968,
          -0.6791233396866666,
          -2.7591250437396444,
          -1.6566788858453376,
          -1.0034884619264477,
          -0.4017851083910287,
          -2.366600058095475,
          -0.4354610469266612,
          -0.20260064835569314,
          1.9115986217498562,
          -0.895706915919024,
          2.1160439168871834,
          -0.9697182080751039,
          -0.07688526341905585,
          -0.08250478687462104,
          -0.6916272614066978,
          -0.3669239814593923,
          1.1138838875514758,
          0.27788429853649765,
          -0.589227273638013,
          -1.2013314112498974,
          -0.1466898877900684,
          0.2306675623522817,
          0.32926485513907416,
          1.1305637458038373,
          -0.16911504514874437,
          0.08909918263443511,
          1.0780191047921786,
          -0.25900119324287624,
          -0.8974457218324734,
          -0.8031035041661748,
          -0.060829076920666775,
          -0.34896097460125464,
          1.560201082224727,
          0.9183516381360538,
          -2.4197259337168533,
          -0.7677966418363475,
          1.484864984102327,
          1.2221267471004662,
          0.5382466715285328,
          -0.31996011810514186,
          -1.6068752334807304,
          -1.867034548356675,
          1.2171307528212765,
          -0.014629914504065056,
          -1.4464609019607302,
          -0.46512088431166765,
          -0.28125617597114205,
          0.6654441393638764,
          0.48082153519800885,
          -0.10233578251847926,
          -0.9931205322812746,
          0.7969972378596838,
          0.5456581256703469,
          -1.047723851008614,
          0.003001429224424837,
          0.963803480485223,
          -1.7552916882116496,
          1.7693799639389065,
          0.7489446613203173,
          -0.6960036852003644,
          -1.044442412980047,
          0.40813788894666997,
          1.4432884236642527,
          -0.9171170720438435,
          1.9918165389623113,
          0.30637443110612655,
          0.3221505935679563,
          -0.7833995985621504,
          0.36266583508290434,
          0.7681591613294156,
          -1.2579358007790842,
          -0.9361663849838981,
          2.3423717946137135,
          0.4432941411629286,
          -0.36530083457185647,
          0.8105973175122007,
          -0.889150573241252,
          -0.4755652633171727,
          -0.13673967377912263,
          -0.13503635774759673,
          0.4063872894921523,
          -0.07545695428982852,
          -1.192548370613366,
          0.8910879193580781,
          -1.2362131695782095,
          -0.8295830959123802,
          0.35125699544117844,
          -0.26405895163812115,
          -0.4757753053148226,
          1.2745926890162895,
          -0.6764697138631172,
          -2.756673368795876,
          0.5644848929252706,
          -1.645786939757546,
          -0.25667731040135555,
          -1.5828355890982366,
          1.188658263299088,
          1.3358956688952768,
          0.7524007327196042,
          0.06513812049644434,
          -0.7074559205491388,
          -5.791480311629898,
          -1.977794317027101,
          0.3510448270264249,
          1.6809889755655132,
          -0.5121505695814513,
          -1.123541638730648,
          0.16833950255867897,
          -0.5755020256761088,
          0.07098826239518585,
          0.49245767862262474,
          1.7274709908254826,
          0.00686128069873061,
          0.17402292683227985,
          -1.177899104822166,
          -1.6342848281331996,
          1.2125603841238035,
          0.2843292493156835,
          -1.5559798276314956,
          2.5823040677444977,
          -1.4095397914978027,
          2.168634502557371,
          -0.637029216814024,
          1.725706236671231,
          -2.0904672274168994,
          0.7159096677841815,
          0.5267090589783496,
          -1.3121953875320214,
          2.7688230286488595,
          0.6299405353139523,
          0.10526295818366196,
          -0.8997329968047324,
          1.8587599100919,
          -1.8350762105987746,
          0.6581350982490685,
          0.4227603390416543,
          0.4525621015770927,
          1.5178884733849418,
          0.13051095433233623,
          0.41789794570123234,
          3.0508113133723804,
          0.07645427788263459,
          -0.3273330880113506,
          -1.2890984102250038,
          1.3058262936310256,
          0.4615218156438226,
          -0.07654387395432695,
          1.8634860158809046,
          0.6466875727904046,
          -0.28058546790590794,
          -0.6373189968101595,
          -0.6910682790279559,
          -0.9417797075317496,
          0.08462332440174623,
          -0.5581386741711489,
          -0.903492920665605,
          0.5782641968600511,
          0.00876427097120548,
          0.5756940386601753,
          -1.0523266619999672,
          1.8647669799005178,
          0.2205485512118841,
          0.3032308190107201,
          3.011197725296642,
          -0.5592521894590201,
          0.39239985574467967,
          -0.5707263550953106,
          -0.0813410862371562,
          0.7330378364643232,
          -0.3936133711657248,
          4.714744018472452,
          -1.3288120701743316,
          -1.2497664649783895,
          -0.4878796960019744,
          -0.9379613597032356,
          0.42268836406638954,
          -2.1061570232182327,
          -0.521940170490914,
          -0.7546677106792578,
          0.9632201501178206,
          2.3539029270730327,
          2.204324064041882,
          -0.378469015340396,
          -0.5668845760756112,
          0.004192309325082195,
          0.46853160680467953,
          3.031773652440304,
          -0.04940392250952473,
          0.28501808532636363,
          -0.026178324726070644,
          2.2086566317516327,
          -0.06594918766275736,
          -1.4147670008663233,
          0.06788031049067866,
          1.4972167346499767,
          0.051882301060807365,
          0.3247744919844505,
          0.04993742106490307,
          -1.2491514523317686,
          -0.5175408722764273,
          0.2144826196534557,
          -0.4007581662141317,
          0.7059889932590426,
          0.519213249961737,
          -0.6179917364631675,
          -0.0009096117487799909,
          0.4022623198786582,
          1.5452825123198437,
          -0.2054863700483399,
          -1.129729049130799,
          -1.5161110442565393,
          1.3835603882333438,
          -0.158115710924606,
          0.2227302707159132,
          0.3570468891755319,
          -0.721967808954209,
          -0.7733615089135594,
          -0.3358248003924872,
          -0.3185677774668906,
          0.2901768696328153,
          -0.5564110077375009,
          -0.058946242399110706,
          0.7189310129075017,
          -0.5892133507770925,
          -2.149282389190839,
          -0.4748209906226966,
          1.2875568186137063,
          0.9760927086212359,
          1.9514114723923215,
          -0.34435675357151363,
          0.6206577615374436,
          0.21839309779226415,
          -0.42244885367945056,
          1.2837144887036742,
          -0.19448952326072358,
          -1.097516558531421,
          -0.958158384104276,
          -0.329554948928112,
          0.6449297079388701,
          2.5059588402942268,
          -1.5593304548910547,
          0.5193838320489923,
          -0.018479980246608407,
          -0.8126929116784196,
          -0.6250385654582761,
          -0.007327644246866202,
          1.583115699110666,
          0.05566421632837417,
          2.0086983690820914,
          -1.5158838752380028,
          -0.3943766955941565,
          0.8002194527625612,
          -1.1612766177705014,
          1.6455538447275866,
          -2.0527127107938132,
          -0.3082044239594083,
          -0.1615950062782423,
          0.9634355847317633,
          0.7973343102782611,
          0.1862761484101069,
          -0.7648875581155026,
          2.0390266026806274,
          0.7450192094384388,
          -0.9130000757227422,
          -0.02605293561446128,
          -2.1508056078341693,
          0.23225320885942605,
          0.49252343437841833,
          -0.655399756149969,
          -0.34896097460125464,
          1.0822736907711181,
          -0.9136261618724749,
          1.084209455474558,
          -0.5449536346140444,
          -2.5991934436708926,
          -0.5205790311207268,
          -1.8832713998515864,
          0.8347161751227412,
          1.0142062449470601,
          2.2888494538826745,
          -1.0027086407587056,
          -1.1645609661478256,
          0.4324558621305683,
          0.8986893555699264,
          -0.03353852893064098,
          -1.6853562864201383,
          0.22047687746676656,
          -1.4331365449468643,
          -1.0096996352742469,
          0.6589634294591116,
          0.1935553084260834,
          -0.5355456590699255,
          -0.2935321357575666,
          -1.1957980771357755,
          0.09794742604266625,
          -0.38849749776356424,
          -0.7239765435744732,
          -0.198810986671344,
          -1.526976151256449,
          -1.2017562444046537,
          -0.9711881011090525,
          1.3208088409591563,
          0.11917328672120617,
          2.0817416084111318,
          2.0053455152884476,
          2.552511984671275,
          0.4192606141545556,
          -0.26257656823149955,
          -1.3917182366141045,
          -0.7950864994955262,
          -2.720283852844793,
          -0.5814927320825838,
          0.24694012022699466,
          -0.6428745557693302,
          0.6135756195155176,
          1.2161591436657953,
          -0.16691830407275451,
          0.16837778703898246,
          -0.7997685081220888,
          -3.698351493489483,
          1.9740839795299767,
          0.017958345442070995,
          -0.43854015760881576,
          2.431116867018804,
          -0.7706538223354834,
          -0.8579304397566309,
          -1.5345155749066133,
          0.011454777977222759,
          -0.23132246099826545,
          -1.890140101723549,
          0.1717563793087336,
          1.4238904166926523,
          0.7441342676220888,
          0.4218482516322259,
          -0.3072008879270871,
          0.5155051321309341,
          -1.5509431893242198,
          2.1720883926220815,
          -0.7253209772559707
         ],
         "z": [
          -0.49925557987968294,
          0.7438709864611196,
          0.5052391163754576,
          -1.3836959448107375,
          0.6886578686410552,
          1.98398434861053,
          -0.9777540154314106,
          0.276818345069741,
          2.4727734225331885,
          1.315747181586929,
          0.0970648971717767,
          4.323969927597382,
          3.45955289998749,
          2.287876189561239,
          -1.1676317682946893,
          -1.323001003279884,
          -0.26585053607115494,
          -0.1520959568325765,
          0.8504946655589998,
          0.5806198121211937,
          -0.6085723765307585,
          1.557335662911041,
          -0.619200957739374,
          -0.6267111089157026,
          -0.30708395692646834,
          0.061867712987815036,
          -1.9695780845502888,
          -0.27905502017450096,
          1.2052105177098462,
          -0.20409716549468448,
          -0.9541512723717318,
          0.11885211490836295,
          0.5472666942757494,
          2.386386170136703,
          1.3869449168352308,
          -0.2522654201151102,
          0.8285011937289117,
          1.2681990272667003,
          1.1282390907518927,
          -0.24171653684752836,
          0.597350082260406,
          -0.2195904389326339,
          -1.190342186051352,
          -0.3816797653423792,
          -0.7385415723731671,
          0.09811633041096193,
          0.29232267918000504,
          0.15703538072446768,
          0.2599829428569577,
          0.9670998650189087,
          1.6525780522533844,
          -0.15988558244562573,
          0.05110674268935091,
          -0.6245160960872148,
          -1.453339029728421,
          -0.46287576065130137,
          0.07425681515065222,
          -0.2441615385715104,
          -1.165528876763525,
          -0.550774449183096,
          0.3393765980325884,
          0.271386795644846,
          2.3881440867895085,
          -0.4573244992432212,
          0.9842760813707521,
          -0.47028343441791426,
          -0.32038710019519007,
          0.2907586811370465,
          0.6548142295610206,
          0.07726673232131713,
          0.31386197513485925,
          -0.41482435898199155,
          -0.9567396168581107,
          -0.0918387057738963,
          -0.8947009654820169,
          2.258578248553356,
          -0.8559785033189129,
          1.3565207511895643,
          0.7774532947336955,
          0.5614174809569101,
          -0.12484282489981911,
          2.583435420798771,
          -1.265782466868169,
          0.8312097268918041,
          0.9435106620663152,
          0.6074682835863062,
          -0.9034143925110286,
          -0.9898093736363609,
          -0.7608111537085717,
          -0.07117313962510909,
          1.0398807703455168,
          -1.2681263748374234,
          -0.7480266100765249,
          -1.0956786042153206,
          0.9585994734178541,
          -0.24056584143508003,
          -0.20559065246918323,
          0.2302190657465893,
          -0.8305861810462919,
          -1.5019738208533129,
          0.1494982022034566,
          -0.925650813022263,
          -0.06554952678446231,
          1.3663052933730133,
          0.0022943553231779238,
          -1.223783828863861,
          -0.49910793127036807,
          -0.8039891845869376,
          -0.25713076445867045,
          1.2592252014750354,
          -4.001857714882365,
          0.3856306622318307,
          -0.09130785979832337,
          -0.9877920262492547,
          0.44037716201012017,
          0.029186699105849527,
          -0.21396722300847804,
          -0.11738995414915689,
          -0.11423903935299017,
          2.3478999023660414,
          0.2862995981361872,
          1.8763583839811326,
          0.390982444693938,
          1.5768522346815617,
          0.4039078217302013,
          -0.31213325432550915,
          -1.541873942050954,
          -0.4731272694981621,
          -0.231454998302711,
          2.5623563552325272,
          -0.4027129520125694,
          1.0637665560512097,
          -1.8866428660186176,
          -0.01631872980078203,
          0.6122681711090946,
          0.11216069629664743,
          1.3563933556474714,
          2.6295537407843415,
          -0.25393250737718526,
          -0.7223835148106149,
          -0.3385235016290716,
          -0.16513847279704597,
          -1.9250891054861354,
          -0.3105972582420941,
          -0.8089322006881963,
          -0.35110798152976924,
          -0.6572477728687723,
          -2.9128814179651172,
          0.9070456677569826,
          0.7944984336556807,
          0.6422594951765561,
          1.3038034279918476,
          2.0583834423903262,
          0.6406197417366165,
          -0.4877656203023627,
          -0.1396443577577333,
          0.5022837862548963,
          -1.0662715177778634,
          -0.30137595047727833,
          0.4384635953373631,
          0.39126217292896553,
          -0.7537984193667976,
          0.24638256976600967,
          -1.5130885986306353,
          -2.535606437265891,
          1.1338862628521584,
          -0.04864736861846159,
          0.4300608860415205,
          -1.1174193128097398,
          -1.3415660121752926,
          0.5309797111990353,
          1.1543424738201122,
          -1.1604930808102012,
          -1.4489990446298358,
          -2.9500791812356897,
          -0.9250394705056866,
          -0.09519526026850693,
          -0.5264298567859618,
          1.373904631638812,
          -0.25823486287501496,
          -1.199609769445268,
          -1.1878001060282222,
          -0.858103398624496,
          -0.5262593184898732,
          -0.258423915554325,
          0.9063994543964261,
          0.020379610844938084,
          -0.2079608824746474,
          -0.12546039064938133,
          -0.7542817509924745,
          -1.8419772232382028,
          -0.6494553032094659,
          0.4602566825241585,
          -1.0445706880669028,
          1.6001208012835815,
          0.2062939993662141,
          -1.0075813020047002,
          -1.0396363217750821,
          0.11545885800606055,
          0.5211196046427913,
          0.059397752075675915,
          0.817837179274064,
          -0.27142760921464687,
          1.0888294363770525,
          2.7039318427371133,
          -0.4440872342980126,
          2.1077282670291537,
          -0.3563686981458014,
          1.4147109004548015,
          -0.8118437378917398,
          0.021687096297892037,
          -1.4293382167593593,
          0.8936241273829593,
          -0.5976580940033728,
          -0.5000402937397261,
          -0.7173593950499716,
          -0.5858907466639235,
          2.1650493575365974,
          -0.1327601318183307,
          -0.6308485313714672,
          1.7287134552972976,
          1.3857966220128812,
          0.38430093441587587,
          0.48673729601766735,
          -0.6856015752184065,
          0.06601904442482448,
          1.96005055246279,
          -0.05722006769457216,
          1.5235706335022468,
          -0.03267442735506501,
          1.2193046815984063,
          -0.4321334023437682,
          1.0783492476122962,
          3.384659473611221,
          -0.5588809358015311,
          -1.2644312557220918,
          -0.9830947098069858,
          -1.280084307440897,
          -0.22692099236653107,
          -0.7092429401457538,
          -0.00896310013621902,
          -0.6162208357192023,
          -0.504292140631166,
          2.4774705746631813,
          -2.0106241674068888,
          0.089336457953772,
          -0.3298411889837541,
          -2.108674495928051,
          -0.39363952553802295,
          0.020916826692220437,
          -0.5343807520219146,
          -1.840893509007891,
          1.0030376677988053,
          0.6550844124588299,
          -0.7914240721633335,
          0.12414062347736736,
          -0.9243730714525482,
          -0.27549040731203517,
          -1.0058970142704644,
          0.3301676306952938,
          -0.8405923736747967,
          -0.08982202724931675,
          0.07416197453294529,
          -0.46313635152815535,
          -0.7852679453684372,
          -0.9773848655918976,
          0.22615062848976328,
          -0.42138610048227015,
          -0.8361732302698783,
          -1.7392134383250286,
          1.8780936066536869,
          1.0239271915533272,
          0.1463103668197226,
          0.9093219795688661,
          2.158138370298137,
          0.7832685211977388,
          -1.914091183305466,
          -1.642655089154445,
          -0.9030960291807243,
          -0.5215811167500386,
          0.29722434202465065,
          -0.9197163913523567,
          -0.973037476525603,
          -1.0060396913672869,
          -0.47870824293537134,
          0.7252646216869016,
          0.27168433500897543,
          1.0281996810631553,
          -0.2157442947940507,
          -0.1972452967262685,
          1.8646177207026289,
          0.015177250658618701,
          0.16476117413390648,
          0.47906440769564884,
          0.4109938855778276,
          -0.9973630299226703,
          0.594955058496768,
          -0.29880459682189325,
          2.912254932484925,
          1.9029010473708616,
          -0.32730932650166356,
          -0.3259944176947155,
          0.23833204779828382,
          -0.31906226800142723,
          -0.3081764118920872,
          -0.04870448048694841,
          3.0469191701169507,
          -1.3152425835273616,
          -0.45730447998892215,
          0.14562729392820295,
          -0.44742037443608684,
          -1.3375578685154337,
          -0.2523377423944441,
          1.3901636188342257,
          -0.13062060560334818,
          0.6334243338769977,
          0.14326694772738324,
          -0.7595403442693529,
          0.5396035659043242,
          -0.7909602441273297,
          0.9147070122661034,
          0.29557314346726005,
          -0.574677180786785,
          -1.2395370754884574,
          -3.3930143858790127,
          -0.42580048491740174,
          -1.3063468627819108,
          -0.04003968714141955,
          1.191711303785811,
          -0.5369079176749793,
          -1.2300731890863827,
          0.1266270945208255,
          -0.17715611517615149,
          0.7062067623793521,
          -1.2521295912658843,
          0.5466250921116268,
          -1.1496618944666819,
          -0.02006545151108456,
          0.5204607474336076,
          -1.4047446667905077,
          -1.0483946291915027,
          -0.4905710206496736,
          -0.6192893834837361,
          -0.7629311385166135,
          1.8729086458795807,
          -0.6832953592908825,
          -0.441120385298376,
          -0.23473673859376118,
          0.8396428725049847,
          -0.9030517258810248,
          -1.316886953597927,
          0.35760836988379263,
          1.8368162162502155,
          -0.02389397010275255,
          -0.8246379379057552,
          -0.18857871694695133,
          0.2182360390733497,
          0.03542394529630295,
          -1.0192201928793825,
          0.017574355874488773,
          -0.427038055520878,
          -0.17411291354055006,
          -1.1912888645344855,
          -1.0860756518747023,
          0.002612765251804298,
          0.0008731119374985894,
          -1.1943354840870006,
          -0.2989250820500347,
          -0.2097261519298829,
          0.8613125862437554,
          0.3078402760975259,
          2.1687017058434717,
          -0.8402370840794756,
          -1.2768263407927944,
          0.47503376704579553,
          0.5090505270243431,
          0.35576755766834595,
          0.6502049147601106,
          0.597545273600708,
          -0.564572632236172,
          0.019819234506474683,
          1.4714359949656133,
          -0.4574680560311414,
          -0.9682020668548427,
          -0.19677208395508633,
          0.6807823133365655,
          1.1878505195488582,
          0.8706050373145182,
          -0.19995399359647922,
          -3.0516582253823827,
          2.007717944268242,
          -0.7729936027116108,
          0.016297405660849938,
          0.4103182897813571,
          -1.191825316987894,
          -1.5565256153023546,
          0.14875606634356167,
          0.6410623606177143,
          -0.7005919901704585,
          0.5330320817487186,
          -1.153481425193555,
          0.03938921985917494,
          -0.46503097974635194,
          0.003091467668207835,
          -1.0670790822077962,
          3.257888857916001,
          -0.6122552570730192,
          -1.8979545105099018,
          -0.19802232976237497,
          -0.835066460379708,
          -0.39400908369612914,
          0.01596528997272666,
          0.05341517257170729,
          -0.8313924429838631,
          -0.11302535612201291,
          -0.5264298567859618,
          -1.028443854278938,
          -0.19637770600601992,
          -1.6607153474111476,
          0.833791753428862,
          0.014424447551470541,
          -1.0257221087974862,
          2.913990621644033,
          0.048375262835270605,
          0.41476035017581536,
          -0.38089863505364163,
          0.4775066260492021,
          0.012346199362513039,
          -0.2830254284035734,
          0.3218570610853351,
          -0.000998932196052262,
          -0.6113559430671932,
          1.2842296025281035,
          -0.03224908772680037,
          2.3935106483985975,
          -1.4895174530151962,
          -1.2196587454415866,
          2.3995148147453067,
          0.61917262535514,
          -0.23926148029295632,
          0.06677753054457344,
          -1.6136456187474388,
          -0.3611824086455317,
          -0.6502017935259738,
          -0.07521125813967547,
          -0.49873839852021645,
          -0.08164404053537103,
          -0.05704688387391325,
          -0.709134269268396,
          -1.590700823851986,
          -0.949033400522944,
          -1.396229972213686,
          0.8974199104900923,
          0.07815823380128739,
          -0.6042885080120143,
          -0.4196650915020108,
          0.7417110681146314,
          1.3970259888836105,
          -0.38737410616539647,
          1.0042343875814774,
          -0.664681027420162,
          1.9380277430047872,
          0.6226731937576284,
          3.454015046591285,
          0.17938674901624815,
          2.9901555965833384,
          -1.4930654854920806,
          -0.8842665706692122,
          -0.3373176314345978,
          1.2939388200331274,
          -0.6436217002590477,
          2.595182735011716,
          0.41097631514933963,
          0.6247885144459713,
          0.8221696316839219,
          0.2153283254224715,
          -0.5889909892389693,
          -0.41385148599784966,
          -1.047544917211365,
          2.394209169433698,
          0.514236810332831,
          -0.3598317823198946,
          -1.1840844383434441,
          0.0734846851653555,
          0.5760222965109263
         ]
        }
       ],
       "layout": {
        "coloraxis": {
         "colorbar": {
          "title": {
           "text": "color"
          }
         },
         "colorscale": [
          [
           0,
           "#0d0887"
          ],
          [
           0.1111111111111111,
           "#46039f"
          ],
          [
           0.2222222222222222,
           "#7201a8"
          ],
          [
           0.3333333333333333,
           "#9c179e"
          ],
          [
           0.4444444444444444,
           "#bd3786"
          ],
          [
           0.5555555555555556,
           "#d8576b"
          ],
          [
           0.6666666666666666,
           "#ed7953"
          ],
          [
           0.7777777777777778,
           "#fb9f3a"
          ],
          [
           0.8888888888888888,
           "#fdca26"
          ],
          [
           1,
           "#f0f921"
          ]
         ]
        },
        "legend": {
         "tracegroupgap": 0
        },
        "margin": {
         "t": 60
        },
        "scene": {
         "domain": {
          "x": [
           0,
           1
          ],
          "y": [
           0,
           1
          ]
         },
         "xaxis": {
          "title": {
           "text": "0"
          }
         },
         "yaxis": {
          "title": {
           "text": "1"
          }
         },
         "zaxis": {
          "title": {
           "text": "2"
          }
         }
        },
        "template": {
         "data": {
          "bar": [
           {
            "error_x": {
             "color": "#2a3f5f"
            },
            "error_y": {
             "color": "#2a3f5f"
            },
            "marker": {
             "line": {
              "color": "#E5ECF6",
              "width": 0.5
             },
             "pattern": {
              "fillmode": "overlay",
              "size": 10,
              "solidity": 0.2
             }
            },
            "type": "bar"
           }
          ],
          "barpolar": [
           {
            "marker": {
             "line": {
              "color": "#E5ECF6",
              "width": 0.5
             },
             "pattern": {
              "fillmode": "overlay",
              "size": 10,
              "solidity": 0.2
             }
            },
            "type": "barpolar"
           }
          ],
          "carpet": [
           {
            "aaxis": {
             "endlinecolor": "#2a3f5f",
             "gridcolor": "white",
             "linecolor": "white",
             "minorgridcolor": "white",
             "startlinecolor": "#2a3f5f"
            },
            "baxis": {
             "endlinecolor": "#2a3f5f",
             "gridcolor": "white",
             "linecolor": "white",
             "minorgridcolor": "white",
             "startlinecolor": "#2a3f5f"
            },
            "type": "carpet"
           }
          ],
          "choropleth": [
           {
            "colorbar": {
             "outlinewidth": 0,
             "ticks": ""
            },
            "type": "choropleth"
           }
          ],
          "contour": [
           {
            "colorbar": {
             "outlinewidth": 0,
             "ticks": ""
            },
            "colorscale": [
             [
              0,
              "#0d0887"
             ],
             [
              0.1111111111111111,
              "#46039f"
             ],
             [
              0.2222222222222222,
              "#7201a8"
             ],
             [
              0.3333333333333333,
              "#9c179e"
             ],
             [
              0.4444444444444444,
              "#bd3786"
             ],
             [
              0.5555555555555556,
              "#d8576b"
             ],
             [
              0.6666666666666666,
              "#ed7953"
             ],
             [
              0.7777777777777778,
              "#fb9f3a"
             ],
             [
              0.8888888888888888,
              "#fdca26"
             ],
             [
              1,
              "#f0f921"
             ]
            ],
            "type": "contour"
           }
          ],
          "contourcarpet": [
           {
            "colorbar": {
             "outlinewidth": 0,
             "ticks": ""
            },
            "type": "contourcarpet"
           }
          ],
          "heatmap": [
           {
            "colorbar": {
             "outlinewidth": 0,
             "ticks": ""
            },
            "colorscale": [
             [
              0,
              "#0d0887"
             ],
             [
              0.1111111111111111,
              "#46039f"
             ],
             [
              0.2222222222222222,
              "#7201a8"
             ],
             [
              0.3333333333333333,
              "#9c179e"
             ],
             [
              0.4444444444444444,
              "#bd3786"
             ],
             [
              0.5555555555555556,
              "#d8576b"
             ],
             [
              0.6666666666666666,
              "#ed7953"
             ],
             [
              0.7777777777777778,
              "#fb9f3a"
             ],
             [
              0.8888888888888888,
              "#fdca26"
             ],
             [
              1,
              "#f0f921"
             ]
            ],
            "type": "heatmap"
           }
          ],
          "heatmapgl": [
           {
            "colorbar": {
             "outlinewidth": 0,
             "ticks": ""
            },
            "colorscale": [
             [
              0,
              "#0d0887"
             ],
             [
              0.1111111111111111,
              "#46039f"
             ],
             [
              0.2222222222222222,
              "#7201a8"
             ],
             [
              0.3333333333333333,
              "#9c179e"
             ],
             [
              0.4444444444444444,
              "#bd3786"
             ],
             [
              0.5555555555555556,
              "#d8576b"
             ],
             [
              0.6666666666666666,
              "#ed7953"
             ],
             [
              0.7777777777777778,
              "#fb9f3a"
             ],
             [
              0.8888888888888888,
              "#fdca26"
             ],
             [
              1,
              "#f0f921"
             ]
            ],
            "type": "heatmapgl"
           }
          ],
          "histogram": [
           {
            "marker": {
             "pattern": {
              "fillmode": "overlay",
              "size": 10,
              "solidity": 0.2
             }
            },
            "type": "histogram"
           }
          ],
          "histogram2d": [
           {
            "colorbar": {
             "outlinewidth": 0,
             "ticks": ""
            },
            "colorscale": [
             [
              0,
              "#0d0887"
             ],
             [
              0.1111111111111111,
              "#46039f"
             ],
             [
              0.2222222222222222,
              "#7201a8"
             ],
             [
              0.3333333333333333,
              "#9c179e"
             ],
             [
              0.4444444444444444,
              "#bd3786"
             ],
             [
              0.5555555555555556,
              "#d8576b"
             ],
             [
              0.6666666666666666,
              "#ed7953"
             ],
             [
              0.7777777777777778,
              "#fb9f3a"
             ],
             [
              0.8888888888888888,
              "#fdca26"
             ],
             [
              1,
              "#f0f921"
             ]
            ],
            "type": "histogram2d"
           }
          ],
          "histogram2dcontour": [
           {
            "colorbar": {
             "outlinewidth": 0,
             "ticks": ""
            },
            "colorscale": [
             [
              0,
              "#0d0887"
             ],
             [
              0.1111111111111111,
              "#46039f"
             ],
             [
              0.2222222222222222,
              "#7201a8"
             ],
             [
              0.3333333333333333,
              "#9c179e"
             ],
             [
              0.4444444444444444,
              "#bd3786"
             ],
             [
              0.5555555555555556,
              "#d8576b"
             ],
             [
              0.6666666666666666,
              "#ed7953"
             ],
             [
              0.7777777777777778,
              "#fb9f3a"
             ],
             [
              0.8888888888888888,
              "#fdca26"
             ],
             [
              1,
              "#f0f921"
             ]
            ],
            "type": "histogram2dcontour"
           }
          ],
          "mesh3d": [
           {
            "colorbar": {
             "outlinewidth": 0,
             "ticks": ""
            },
            "type": "mesh3d"
           }
          ],
          "parcoords": [
           {
            "line": {
             "colorbar": {
              "outlinewidth": 0,
              "ticks": ""
             }
            },
            "type": "parcoords"
           }
          ],
          "pie": [
           {
            "automargin": true,
            "type": "pie"
           }
          ],
          "scatter": [
           {
            "fillpattern": {
             "fillmode": "overlay",
             "size": 10,
             "solidity": 0.2
            },
            "type": "scatter"
           }
          ],
          "scatter3d": [
           {
            "line": {
             "colorbar": {
              "outlinewidth": 0,
              "ticks": ""
             }
            },
            "marker": {
             "colorbar": {
              "outlinewidth": 0,
              "ticks": ""
             }
            },
            "type": "scatter3d"
           }
          ],
          "scattercarpet": [
           {
            "marker": {
             "colorbar": {
              "outlinewidth": 0,
              "ticks": ""
             }
            },
            "type": "scattercarpet"
           }
          ],
          "scattergeo": [
           {
            "marker": {
             "colorbar": {
              "outlinewidth": 0,
              "ticks": ""
             }
            },
            "type": "scattergeo"
           }
          ],
          "scattergl": [
           {
            "marker": {
             "colorbar": {
              "outlinewidth": 0,
              "ticks": ""
             }
            },
            "type": "scattergl"
           }
          ],
          "scattermapbox": [
           {
            "marker": {
             "colorbar": {
              "outlinewidth": 0,
              "ticks": ""
             }
            },
            "type": "scattermapbox"
           }
          ],
          "scatterpolar": [
           {
            "marker": {
             "colorbar": {
              "outlinewidth": 0,
              "ticks": ""
             }
            },
            "type": "scatterpolar"
           }
          ],
          "scatterpolargl": [
           {
            "marker": {
             "colorbar": {
              "outlinewidth": 0,
              "ticks": ""
             }
            },
            "type": "scatterpolargl"
           }
          ],
          "scatterternary": [
           {
            "marker": {
             "colorbar": {
              "outlinewidth": 0,
              "ticks": ""
             }
            },
            "type": "scatterternary"
           }
          ],
          "surface": [
           {
            "colorbar": {
             "outlinewidth": 0,
             "ticks": ""
            },
            "colorscale": [
             [
              0,
              "#0d0887"
             ],
             [
              0.1111111111111111,
              "#46039f"
             ],
             [
              0.2222222222222222,
              "#7201a8"
             ],
             [
              0.3333333333333333,
              "#9c179e"
             ],
             [
              0.4444444444444444,
              "#bd3786"
             ],
             [
              0.5555555555555556,
              "#d8576b"
             ],
             [
              0.6666666666666666,
              "#ed7953"
             ],
             [
              0.7777777777777778,
              "#fb9f3a"
             ],
             [
              0.8888888888888888,
              "#fdca26"
             ],
             [
              1,
              "#f0f921"
             ]
            ],
            "type": "surface"
           }
          ],
          "table": [
           {
            "cells": {
             "fill": {
              "color": "#EBF0F8"
             },
             "line": {
              "color": "white"
             }
            },
            "header": {
             "fill": {
              "color": "#C8D4E3"
             },
             "line": {
              "color": "white"
             }
            },
            "type": "table"
           }
          ]
         },
         "layout": {
          "annotationdefaults": {
           "arrowcolor": "#2a3f5f",
           "arrowhead": 0,
           "arrowwidth": 1
          },
          "autotypenumbers": "strict",
          "coloraxis": {
           "colorbar": {
            "outlinewidth": 0,
            "ticks": ""
           }
          },
          "colorscale": {
           "diverging": [
            [
             0,
             "#8e0152"
            ],
            [
             0.1,
             "#c51b7d"
            ],
            [
             0.2,
             "#de77ae"
            ],
            [
             0.3,
             "#f1b6da"
            ],
            [
             0.4,
             "#fde0ef"
            ],
            [
             0.5,
             "#f7f7f7"
            ],
            [
             0.6,
             "#e6f5d0"
            ],
            [
             0.7,
             "#b8e186"
            ],
            [
             0.8,
             "#7fbc41"
            ],
            [
             0.9,
             "#4d9221"
            ],
            [
             1,
             "#276419"
            ]
           ],
           "sequential": [
            [
             0,
             "#0d0887"
            ],
            [
             0.1111111111111111,
             "#46039f"
            ],
            [
             0.2222222222222222,
             "#7201a8"
            ],
            [
             0.3333333333333333,
             "#9c179e"
            ],
            [
             0.4444444444444444,
             "#bd3786"
            ],
            [
             0.5555555555555556,
             "#d8576b"
            ],
            [
             0.6666666666666666,
             "#ed7953"
            ],
            [
             0.7777777777777778,
             "#fb9f3a"
            ],
            [
             0.8888888888888888,
             "#fdca26"
            ],
            [
             1,
             "#f0f921"
            ]
           ],
           "sequentialminus": [
            [
             0,
             "#0d0887"
            ],
            [
             0.1111111111111111,
             "#46039f"
            ],
            [
             0.2222222222222222,
             "#7201a8"
            ],
            [
             0.3333333333333333,
             "#9c179e"
            ],
            [
             0.4444444444444444,
             "#bd3786"
            ],
            [
             0.5555555555555556,
             "#d8576b"
            ],
            [
             0.6666666666666666,
             "#ed7953"
            ],
            [
             0.7777777777777778,
             "#fb9f3a"
            ],
            [
             0.8888888888888888,
             "#fdca26"
            ],
            [
             1,
             "#f0f921"
            ]
           ]
          },
          "colorway": [
           "#636efa",
           "#EF553B",
           "#00cc96",
           "#ab63fa",
           "#FFA15A",
           "#19d3f3",
           "#FF6692",
           "#B6E880",
           "#FF97FF",
           "#FECB52"
          ],
          "font": {
           "color": "#2a3f5f"
          },
          "geo": {
           "bgcolor": "white",
           "lakecolor": "white",
           "landcolor": "#E5ECF6",
           "showlakes": true,
           "showland": true,
           "subunitcolor": "white"
          },
          "hoverlabel": {
           "align": "left"
          },
          "hovermode": "closest",
          "mapbox": {
           "style": "light"
          },
          "paper_bgcolor": "white",
          "plot_bgcolor": "#E5ECF6",
          "polar": {
           "angularaxis": {
            "gridcolor": "white",
            "linecolor": "white",
            "ticks": ""
           },
           "bgcolor": "#E5ECF6",
           "radialaxis": {
            "gridcolor": "white",
            "linecolor": "white",
            "ticks": ""
           }
          },
          "scene": {
           "xaxis": {
            "backgroundcolor": "#E5ECF6",
            "gridcolor": "white",
            "gridwidth": 2,
            "linecolor": "white",
            "showbackground": true,
            "ticks": "",
            "zerolinecolor": "white"
           },
           "yaxis": {
            "backgroundcolor": "#E5ECF6",
            "gridcolor": "white",
            "gridwidth": 2,
            "linecolor": "white",
            "showbackground": true,
            "ticks": "",
            "zerolinecolor": "white"
           },
           "zaxis": {
            "backgroundcolor": "#E5ECF6",
            "gridcolor": "white",
            "gridwidth": 2,
            "linecolor": "white",
            "showbackground": true,
            "ticks": "",
            "zerolinecolor": "white"
           }
          },
          "shapedefaults": {
           "line": {
            "color": "#2a3f5f"
           }
          },
          "ternary": {
           "aaxis": {
            "gridcolor": "white",
            "linecolor": "white",
            "ticks": ""
           },
           "baxis": {
            "gridcolor": "white",
            "linecolor": "white",
            "ticks": ""
           },
           "bgcolor": "#E5ECF6",
           "caxis": {
            "gridcolor": "white",
            "linecolor": "white",
            "ticks": ""
           }
          },
          "title": {
           "x": 0.05
          },
          "xaxis": {
           "automargin": true,
           "gridcolor": "white",
           "linecolor": "white",
           "ticks": "",
           "title": {
            "standoff": 15
           },
           "zerolinecolor": "white",
           "zerolinewidth": 2
          },
          "yaxis": {
           "automargin": true,
           "gridcolor": "white",
           "linecolor": "white",
           "ticks": "",
           "title": {
            "standoff": 15
           },
           "zerolinecolor": "white",
           "zerolinewidth": 2
          }
         }
        }
       }
      }
     },
     "metadata": {},
     "output_type": "display_data"
    }
   ],
   "source": [
    "all_pc_cluster = KMeans(n_clusters=all_pcs.shape[0] // 10, n_init='auto').fit_predict(all_pcs.drop(columns=['trackName'])) #all_pcs\n",
    "all_pc_plot = all_pcs\n",
    "all_pc_plot['color'] = all_pc_cluster\n",
    "px.scatter_3d(all_pc_plot, x=0, y=1, z=2, hover_data='trackName', color='color')"
   ]
  },
  {
   "cell_type": "code",
   "execution_count": 39,
   "metadata": {},
   "outputs": [],
   "source": [
    "def get_playlist(song):\n",
    "    label = cluster_w_labels[cluster_w_labels['trackName'] == song].color.iloc[0] #.loc[0, 'color']\n",
    "    playlist = cluster_w_labels[cluster_w_labels['color'] == label]\n",
    "    return playlist['trackName']\n",
    "\n",
    "    # # this is using the 3 PCs instead of raw elements, current least favorite bc it's less relevant\n",
    "    # label = tst_plot[tst_plot['trackName'] == song].iloc[0, -1]#.loc['color', 0]\n",
    "    # playlist = tst_plot[tst_plot['color'] == label]\n",
    "    # return playlist['trackName']\n",
    "\n",
    "    # this uses all the PCs instead of raw or 3 PCs\n",
    "    # label = all_pc_plot[all_pc_plot['trackName'] == song].iloc[0, -1]#.loc['color', 0]\n",
    "    # playlist = all_pc_plot[all_pc_plot['color'] == label]\n",
    "    # return playlist['trackName']\n",
    "    "
   ]
  },
  {
   "cell_type": "code",
   "execution_count": 42,
   "metadata": {},
   "outputs": [
    {
     "data": {
      "text/plain": [
       "10                           the author\n",
       "17        Letting Go for a Little While\n",
       "20     Crazier Things (with Noah Kahan)\n",
       "63                         Better Place\n",
       "73                               broken\n",
       "74               Safe Places (Acoustic)\n",
       "127                   Hey There Delilah\n",
       "139                           Soul Mate\n",
       "157                               Crave\n",
       "158                              I Knew\n",
       "175                           Seventeen\n",
       "195                               Paint\n",
       "213                  A Little Bit Yours\n",
       "231          Where's My Love - Acoustic\n",
       "245                           Haunt You\n",
       "258                                  OK\n",
       "292                           Same Boat\n",
       "295                    Begging for More\n",
       "304                      In Your Circle\n",
       "308                                Bees\n",
       "329         Vanilla (Stairwell Version)\n",
       "347                To Love Someone Else\n",
       "358                           Turns Out\n",
       "364                 Bloom - Bonus Track\n",
       "383                     Pictures of You\n",
       "482                               Yours\n",
       "Name: trackName, dtype: object"
      ]
     },
     "execution_count": 42,
     "metadata": {},
     "output_type": "execute_result"
    }
   ],
   "source": [
    "# get_playlist('By Your Side')\n",
    "# get_playlist('I Lived')\n",
    "# get_playlist('Hey It\\'s Delilah')\n",
    "get_playlist('Hey There Delilah')"
   ]
  },
  {
   "cell_type": "code",
   "execution_count": null,
   "metadata": {},
   "outputs": [],
   "source": []
  },
  {
   "cell_type": "markdown",
   "metadata": {},
   "source": [
    "### Part 3: Loading in a playlist and comparing it to other songs in the playlist\n",
    "#### Read in, PCA, plot with colors"
   ]
  },
  {
   "cell_type": "code",
   "execution_count": null,
   "metadata": {},
   "outputs": [],
   "source": []
  },
  {
   "cell_type": "markdown",
   "metadata": {},
   "source": [
    "### Part 4: Selecting additional relevant songs for playlist\n",
    "#### Find most similar ones to playlist songs"
   ]
  },
  {
   "cell_type": "code",
   "execution_count": null,
   "metadata": {},
   "outputs": [],
   "source": []
  }
 ],
 "metadata": {
  "kernelspec": {
   "display_name": "Python 3",
   "language": "python",
   "name": "python3"
  },
  "language_info": {
   "codemirror_mode": {
    "name": "ipython",
    "version": 3
   },
   "file_extension": ".py",
   "mimetype": "text/x-python",
   "name": "python",
   "nbconvert_exporter": "python",
   "pygments_lexer": "ipython3",
   "version": "3.10.11"
  },
  "orig_nbformat": 4
 },
 "nbformat": 4,
 "nbformat_minor": 2
}
